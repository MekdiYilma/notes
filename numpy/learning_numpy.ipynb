{
 "cells": [
  {
   "cell_type": "code",
   "execution_count": null,
   "metadata": {},
   "outputs": [],
   "source": [
    "import numpy as np\n",
    "\n",
    "np.random.randint()"
   ]
  },
  {
   "cell_type": "code",
   "execution_count": 16,
   "metadata": {},
   "outputs": [
    {
     "data": {
      "text/plain": [
       "array([[4, 4, 4],\n",
       "       [4, 4, 4],\n",
       "       [4, 4, 4]])"
      ]
     },
     "execution_count": 16,
     "metadata": {},
     "output_type": "execute_result"
    }
   ],
   "source": [
    "import numpy as np\n",
    "\n",
    "e = np.full((3,3),4)\n",
    "e"
   ]
  },
  {
   "cell_type": "code",
   "execution_count": 6,
   "metadata": {},
   "outputs": [
    {
     "data": {
      "text/plain": [
       "array([[1., 0., 0., 0.],\n",
       "       [0., 1., 0., 0.],\n",
       "       [0., 0., 1., 0.],\n",
       "       [0., 0., 0., 1.]])"
      ]
     },
     "execution_count": 6,
     "metadata": {},
     "output_type": "execute_result"
    }
   ],
   "source": [
    "f = np.identity(4)\n",
    "g = np.eye(4)\n",
    "g"
   ]
  },
  {
   "cell_type": "code",
   "execution_count": 8,
   "metadata": {},
   "outputs": [
    {
     "data": {
      "text/plain": [
       "array([[4, 4],\n",
       "       [5, 4]])"
      ]
     },
     "execution_count": 8,
     "metadata": {},
     "output_type": "execute_result"
    }
   ],
   "source": [
    "np.random.randint(low=4,  high= 6, size = (2,2) )"
   ]
  },
  {
   "cell_type": "code",
   "execution_count": 11,
   "metadata": {},
   "outputs": [
    {
     "data": {
      "text/plain": [
       "array([[0., 0., 0.],\n",
       "       [0., 0., 0.],\n",
       "       [0., 0., 0.]])"
      ]
     },
     "execution_count": 11,
     "metadata": {},
     "output_type": "execute_result"
    }
   ],
   "source": [
    "np.empty((3,2)) \n",
    "np.zeros((3,3))"
   ]
  },
  {
   "cell_type": "code",
   "execution_count": 17,
   "metadata": {},
   "outputs": [
    {
     "data": {
      "text/plain": [
       "2"
      ]
     },
     "execution_count": 17,
     "metadata": {},
     "output_type": "execute_result"
    }
   ],
   "source": [
    "e.ndim"
   ]
  },
  {
   "cell_type": "code",
   "execution_count": 18,
   "metadata": {},
   "outputs": [
    {
     "data": {
      "text/plain": [
       "array([4, 4, 4])"
      ]
     },
     "execution_count": 18,
     "metadata": {},
     "output_type": "execute_result"
    }
   ],
   "source": [
    "e[1,...]"
   ]
  },
  {
   "cell_type": "code",
   "execution_count": 20,
   "metadata": {},
   "outputs": [
    {
     "data": {
      "text/plain": [
       "array([[1.5, 2. , 3. ],\n",
       "       [4. , 5. , 6. ]])"
      ]
     },
     "execution_count": 20,
     "metadata": {},
     "output_type": "execute_result"
    }
   ],
   "source": [
    "b = np.array([(1.5,2,3), (4,5,6)], dtype = float)\n",
    "b"
   ]
  },
  {
   "cell_type": "code",
   "execution_count": 21,
   "metadata": {},
   "outputs": [
    {
     "data": {
      "text/plain": [
       "array([4. , 2. , 6. , 1.5])"
      ]
     },
     "execution_count": 21,
     "metadata": {},
     "output_type": "execute_result"
    }
   ],
   "source": [
    "b[[1, 0, 1, 0],[0, 1, 2, 0]]"
   ]
  },
  {
   "cell_type": "code",
   "execution_count": 22,
   "metadata": {},
   "outputs": [
    {
     "data": {
      "text/plain": [
       "array([1.5, 2. , 3. , 4. , 5. , 6. ])"
      ]
     },
     "execution_count": 22,
     "metadata": {},
     "output_type": "execute_result"
    }
   ],
   "source": [
    "b.ravel()"
   ]
  },
  {
   "cell_type": "code",
   "execution_count": 27,
   "metadata": {},
   "outputs": [
    {
     "data": {
      "text/plain": [
       "array([[1.5, 2. ],\n",
       "       [3. , 4. ],\n",
       "       [5. , 6. ]])"
      ]
     },
     "execution_count": 27,
     "metadata": {},
     "output_type": "execute_result"
    }
   ],
   "source": [
    "b.resize(3,2)\n",
    "b"
   ]
  },
  {
   "cell_type": "code",
   "execution_count": 30,
   "metadata": {},
   "outputs": [
    {
     "name": "stdout",
     "output_type": "stream",
     "text": [
      "(5,)\n",
      "[1 2 3 4 5]\n"
     ]
    }
   ],
   "source": [
    "my_lst_ndarry = np.array([1,2,3,4,5])\n",
    "my_tuple_ndarry = np.array((1,2,3,4,5), np.int32)\n",
    "print(my_lst_ndarry.shape)\n",
    "print(my_tuple_ndarry)"
   ]
  },
  {
   "cell_type": "code",
   "execution_count": 32,
   "metadata": {},
   "outputs": [
    {
     "name": "stdout",
     "output_type": "stream",
     "text": [
      "int64\n",
      "int32\n"
     ]
    }
   ],
   "source": [
    "print(my_lst_ndarry.dtype)\n",
    "print(my_tuple_ndarry.dtype)"
   ]
  },
  {
   "cell_type": "code",
   "execution_count": 33,
   "metadata": {},
   "outputs": [
    {
     "data": {
      "text/plain": [
       "array([[0., 0., 0., 0.],\n",
       "       [0., 0., 0., 0.],\n",
       "       [0., 0., 0., 0.]])"
      ]
     },
     "execution_count": 33,
     "metadata": {},
     "output_type": "execute_result"
    }
   ],
   "source": [
    "np.zeros((3,4))"
   ]
  },
  {
   "cell_type": "code",
   "execution_count": 35,
   "metadata": {},
   "outputs": [
    {
     "data": {
      "text/plain": [
       "array([[1., 1.]])"
      ]
     },
     "execution_count": 35,
     "metadata": {},
     "output_type": "execute_result"
    }
   ],
   "source": [
    "np.ones((1,2))"
   ]
  },
  {
   "cell_type": "code",
   "execution_count": 36,
   "metadata": {},
   "outputs": [
    {
     "data": {
      "text/plain": [
       "array([[1., 0.],\n",
       "       [0., 1.]])"
      ]
     },
     "execution_count": 36,
     "metadata": {},
     "output_type": "execute_result"
    }
   ],
   "source": [
    "np.identity(2)"
   ]
  },
  {
   "cell_type": "code",
   "execution_count": 37,
   "metadata": {},
   "outputs": [
    {
     "data": {
      "text/plain": [
       "array([[0.34939842, 0.99373531],\n",
       "       [0.07460227, 0.2205296 ]])"
      ]
     },
     "execution_count": 37,
     "metadata": {},
     "output_type": "execute_result"
    }
   ],
   "source": [
    "np.random.rand(2,2)"
   ]
  },
  {
   "cell_type": "code",
   "execution_count": 40,
   "metadata": {},
   "outputs": [
    {
     "data": {
      "text/plain": [
       "array([[0. , 0.5, 1. , 1.5, 2. ],\n",
       "       [2.5, 3. , 3.5, 4. , 4.5],\n",
       "       [5. , 5.5, 6. , 6.5, 7. ],\n",
       "       [7.5, 8. , 8.5, 9. , 9.5]])"
      ]
     },
     "execution_count": 40,
     "metadata": {},
     "output_type": "execute_result"
    }
   ],
   "source": [
    "np.arange(0,10,0.5).reshape(4,-1)"
   ]
  },
  {
   "cell_type": "code",
   "execution_count": 46,
   "metadata": {},
   "outputs": [
    {
     "name": "stdout",
     "output_type": "stream",
     "text": [
      "[1 2 3 4]\n",
      "[5 6 7 8]\n",
      "[ 4  8 12 16]\n"
     ]
    }
   ],
   "source": [
    "first_arr = np.array([1, 2, 3, 4])\n",
    "second_arr = np.array([5, 6, 7, 8])\n",
    "a = 4 \n",
    "\n",
    "print(first_arr % second_arr)\n",
    "print(first_arr + a)\n",
    "print(first_arr * a)\n"
   ]
  },
  {
   "cell_type": "code",
   "execution_count": 48,
   "metadata": {},
   "outputs": [
    {
     "data": {
      "text/plain": [
       "array([[20, 80],\n",
       "       [30, 60]])"
      ]
     },
     "execution_count": 48,
     "metadata": {},
     "output_type": "execute_result"
    }
   ],
   "source": [
    "arr = np.array([[1, 2],\n",
    "               [3, 4]])\n",
    "arr2 = np.array([[20, 40],\n",
    "                [10, 15]])\n",
    "arr * arr2"
   ]
  },
  {
   "cell_type": "code",
   "execution_count": 49,
   "metadata": {},
   "outputs": [
    {
     "data": {
      "text/plain": [
       "array([[ 0,  1,  2,  3],\n",
       "       [ 4,  5,  6,  7],\n",
       "       [ 8,  9, 10, 11],\n",
       "       [12, 13, 14, 15],\n",
       "       [16, 17, 18, 19]])"
      ]
     },
     "execution_count": 49,
     "metadata": {},
     "output_type": "execute_result"
    }
   ],
   "source": [
    "range_arr = np.arange(0, 20, 1).reshape(5, 4)\n",
    "range_arr"
   ]
  },
  {
   "cell_type": "code",
   "execution_count": 52,
   "metadata": {},
   "outputs": [
    {
     "data": {
      "text/plain": [
       "array([[1, 2],\n",
       "       [5, 6]])"
      ]
     },
     "execution_count": 52,
     "metadata": {},
     "output_type": "execute_result"
    }
   ],
   "source": [
    "range_arr[0:2, 1:3]"
   ]
  },
  {
   "cell_type": "code",
   "execution_count": 54,
   "metadata": {},
   "outputs": [
    {
     "data": {
      "text/plain": [
       "array([40, 45, 50, 55])"
      ]
     },
     "execution_count": 54,
     "metadata": {},
     "output_type": "execute_result"
    }
   ],
   "source": [
    "range_arr.sum(axis = 0)"
   ]
  },
  {
   "cell_type": "code",
   "execution_count": 55,
   "metadata": {},
   "outputs": [
    {
     "data": {
      "text/plain": [
       "array([ 6, 22, 38, 54, 70])"
      ]
     },
     "execution_count": 55,
     "metadata": {},
     "output_type": "execute_result"
    }
   ],
   "source": [
    "range_arr.sum(axis = 1)"
   ]
  },
  {
   "cell_type": "code",
   "execution_count": 56,
   "metadata": {},
   "outputs": [
    {
     "data": {
      "text/plain": [
       "array([ 8.,  9., 10., 11.])"
      ]
     },
     "execution_count": 56,
     "metadata": {},
     "output_type": "execute_result"
    }
   ],
   "source": [
    "range_arr.mean(axis=0)"
   ]
  },
  {
   "cell_type": "code",
   "execution_count": 59,
   "metadata": {},
   "outputs": [
    {
     "data": {
      "text/plain": [
       "(array([ 6,  7,  8,  9, 10, 11, 12, 13, 14, 15, 16, 17, 18, 19]),)"
      ]
     },
     "execution_count": 59,
     "metadata": {},
     "output_type": "execute_result"
    }
   ],
   "source": [
    "np.where(range_arr.flatten() > 5)"
   ]
  },
  {
   "cell_type": "code",
   "execution_count": 61,
   "metadata": {},
   "outputs": [
    {
     "data": {
      "text/plain": [
       "array([7, 8])"
      ]
     },
     "execution_count": 61,
     "metadata": {},
     "output_type": "execute_result"
    }
   ],
   "source": [
    "arr = np.array([5, 7, 2, 3, 8])\n",
    "arr[arr > 5]"
   ]
  },
  {
   "cell_type": "code",
   "execution_count": null,
   "metadata": {},
   "outputs": [],
   "source": []
  },
  {
   "cell_type": "code",
   "execution_count": null,
   "metadata": {},
   "outputs": [],
   "source": []
  },
  {
   "cell_type": "code",
   "execution_count": null,
   "metadata": {},
   "outputs": [],
   "source": []
  },
  {
   "cell_type": "code",
   "execution_count": null,
   "metadata": {},
   "outputs": [],
   "source": []
  },
  {
   "cell_type": "code",
   "execution_count": null,
   "metadata": {},
   "outputs": [],
   "source": []
  },
  {
   "cell_type": "code",
   "execution_count": null,
   "metadata": {},
   "outputs": [],
   "source": []
  },
  {
   "cell_type": "code",
   "execution_count": null,
   "metadata": {},
   "outputs": [],
   "source": []
  },
  {
   "cell_type": "code",
   "execution_count": null,
   "metadata": {},
   "outputs": [],
   "source": []
  },
  {
   "cell_type": "markdown",
   "metadata": {},
   "source": [
    "# Numpy (Numeric Python)\n",
    "\n",
    "Pandas, another library we will learn about next week, is built on numpy, and honestly, you should try to as well.\n",
    "\n",
    "Numpy will be used consistently throughout the course, start practicing now so you should always start with importing it. "
   ]
  },
  {
   "cell_type": "markdown",
   "metadata": {},
   "source": [
    "## Success Criteria\n",
    "\n",
    "You will be successful today if you can...\n",
    "* Create a one and two dimensional numpy array\n",
    "* Find and explain what the shape of a numpy array means\n",
    "* Index into a 2-dimensional numpy array grabbing a specific value\n",
    "* Use “axis” parameter to find the mean of all rows in a 2-dim array\n",
    "* Use reshape and -1 to make a one dimensional array into a multidimensional array\n",
    "* Create an array to specifications using np.ones and np.arange. \n",
    "\n"
   ]
  },
  {
   "cell_type": "code",
   "execution_count": 2,
   "metadata": {},
   "outputs": [],
   "source": [
    "# Start with importing numpy ALWAYS\n",
    "import numpy as np"
   ]
  },
  {
   "cell_type": "markdown",
   "metadata": {},
   "source": [
    "## Arrays\n",
    "\n",
    "The main object you will interact with is a numpy array. \n",
    "\n",
    "Arrays are multi-dimensional, ordered, organized groups of (usually) numbers\n",
    "\n",
    "![picture](images/array_dims.png)\n",
    "\n",
    "Often seen as 2D arrays (spreadsheets), but can be 1D vectors, or many dimensions. \n",
    "\n",
    "Numpy arrays look alot like python's lists or even pytho's nested lists:"
   ]
  },
  {
   "cell_type": "code",
   "execution_count": 63,
   "metadata": {},
   "outputs": [
    {
     "name": "stdout",
     "output_type": "stream",
     "text": [
      "[0 1 2 3 4 5 6 7 8 9]\n"
     ]
    }
   ],
   "source": [
    "X = np.array([0,1,2,3,4,5,6,7,8,9])\n",
    "print(X)"
   ]
  },
  {
   "cell_type": "markdown",
   "metadata": {},
   "source": [
    "You can work with numpy arrays similarly to lists using indexing and slicing. "
   ]
  },
  {
   "cell_type": "code",
   "execution_count": 4,
   "metadata": {},
   "outputs": [
    {
     "data": {
      "text/plain": [
       "2"
      ]
     },
     "execution_count": 4,
     "metadata": {},
     "output_type": "execute_result"
    }
   ],
   "source": [
    "X[2]"
   ]
  },
  {
   "cell_type": "code",
   "execution_count": 5,
   "metadata": {},
   "outputs": [
    {
     "data": {
      "text/plain": [
       "array([0, 1, 2, 3])"
      ]
     },
     "execution_count": 5,
     "metadata": {},
     "output_type": "execute_result"
    }
   ],
   "source": [
    "X[:4]"
   ]
  },
  {
   "cell_type": "code",
   "execution_count": 6,
   "metadata": {},
   "outputs": [
    {
     "data": {
      "text/plain": [
       "array([1, 3, 5, 7])"
      ]
     },
     "execution_count": 6,
     "metadata": {},
     "output_type": "execute_result"
    }
   ],
   "source": [
    "X[1:8:2]"
   ]
  },
  {
   "cell_type": "code",
   "execution_count": 7,
   "metadata": {},
   "outputs": [
    {
     "data": {
      "text/plain": [
       "array([ 0,  1,  2,  3,  4,  5,  6,  7,  8, 90])"
      ]
     },
     "execution_count": 7,
     "metadata": {},
     "output_type": "execute_result"
    }
   ],
   "source": [
    "X[9] = 90\n",
    "X"
   ]
  },
  {
   "cell_type": "markdown",
   "metadata": {},
   "source": [
    "However, under the hood, there are some very differnt things going on with arrays when compared to python lists. \n",
    "\n",
    "* Numpy arrays can hold one and only one type of data.\n",
    "* Numpy arrays are super efficient both in terms of memory footprint and computational efficiency.\n",
    "* Numpy arrays have a size, and the size cannot be changed.\n",
    "* Numpy arrays have a shape, which allows them to be multi-dimensional (examples forthcoming).\n"
   ]
  },
  {
   "cell_type": "markdown",
   "metadata": {},
   "source": [
    "## Constraints on Arrays\n",
    "\n",
    "One major difference between arrays and lists is that arrays cannot be extended.\n"
   ]
  },
  {
   "cell_type": "code",
   "execution_count": 64,
   "metadata": {},
   "outputs": [
    {
     "data": {
      "text/plain": [
       "array([ 0,  1,  2,  3,  4,  5,  6,  7,  8,  9, 91])"
      ]
     },
     "execution_count": 64,
     "metadata": {},
     "output_type": "execute_result"
    }
   ],
   "source": [
    "np.append(X,91)"
   ]
  },
  {
   "cell_type": "code",
   "execution_count": 65,
   "metadata": {},
   "outputs": [
    {
     "data": {
      "text/plain": [
       "10"
      ]
     },
     "execution_count": 65,
     "metadata": {},
     "output_type": "execute_result"
    }
   ],
   "source": [
    "X.size\n"
   ]
  },
  {
   "cell_type": "markdown",
   "metadata": {},
   "source": [
    "So as a consequence, if you want to create a numpy array to hold some data, you **need to know how much array you need at the time the array is created.**"
   ]
  },
  {
   "cell_type": "markdown",
   "metadata": {},
   "source": [
    "## Reshaping Arrays\n",
    "\n",
    "Although the total size of an array cannot be changed, the **shape** of the array can be changed, **as long as this change of shape does not create or destroy elements** (i.e., as long as the reshaping does not change the size of the array)."
   ]
  },
  {
   "cell_type": "code",
   "execution_count": 66,
   "metadata": {},
   "outputs": [
    {
     "data": {
      "text/plain": [
       "array([0, 1, 2, 3, 4, 5, 6, 7, 8, 9])"
      ]
     },
     "execution_count": 66,
     "metadata": {},
     "output_type": "execute_result"
    }
   ],
   "source": [
    "x = np.array([0, 1, 2, 3, 4, 5, 6, 7, 8, 9])\n",
    "x"
   ]
  },
  {
   "cell_type": "code",
   "execution_count": 67,
   "metadata": {},
   "outputs": [
    {
     "data": {
      "text/plain": [
       "(10,)"
      ]
     },
     "execution_count": 67,
     "metadata": {},
     "output_type": "execute_result"
    }
   ],
   "source": [
    "x.shape"
   ]
  },
  {
   "cell_type": "code",
   "execution_count": 68,
   "metadata": {},
   "outputs": [
    {
     "data": {
      "text/plain": [
       "array([[0, 1, 2, 3, 4],\n",
       "       [5, 6, 7, 8, 9]])"
      ]
     },
     "execution_count": 68,
     "metadata": {},
     "output_type": "execute_result"
    }
   ],
   "source": [
    "#Changing the shape of an array is quick and easiy with reshape\n",
    "x.reshape(2,5)\n",
    "#2 rows, 5 columns"
   ]
  },
  {
   "cell_type": "code",
   "execution_count": 69,
   "metadata": {},
   "outputs": [
    {
     "data": {
      "text/plain": [
       "array([[0, 1],\n",
       "       [2, 3],\n",
       "       [4, 5],\n",
       "       [6, 7],\n",
       "       [8, 9]])"
      ]
     },
     "execution_count": 69,
     "metadata": {},
     "output_type": "execute_result"
    }
   ],
   "source": [
    "x.reshape(5,2)\n",
    "#OR 5 rows, 2 columns"
   ]
  },
  {
   "cell_type": "code",
   "execution_count": 70,
   "metadata": {},
   "outputs": [
    {
     "data": {
      "text/plain": [
       "array([[0],\n",
       "       [1],\n",
       "       [2],\n",
       "       [3],\n",
       "       [4],\n",
       "       [5],\n",
       "       [6],\n",
       "       [7],\n",
       "       [8],\n",
       "       [9]])"
      ]
     },
     "execution_count": 70,
     "metadata": {},
     "output_type": "execute_result"
    }
   ],
   "source": [
    "x.reshape(10, 1)\n",
    "#OR 10 rows, 1 column"
   ]
  },
  {
   "cell_type": "code",
   "execution_count": 71,
   "metadata": {},
   "outputs": [
    {
     "data": {
      "text/plain": [
       "array([[0, 1, 2, 3, 4, 5, 6, 7, 8, 9]])"
      ]
     },
     "execution_count": 71,
     "metadata": {},
     "output_type": "execute_result"
    }
   ],
   "source": [
    "x.reshape(1, 10)\n",
    "#OR 1 row, 10 columns"
   ]
  },
  {
   "cell_type": "code",
   "execution_count": 96,
   "metadata": {},
   "outputs": [
    {
     "ename": "ValueError",
     "evalue": "cannot reshape array of size 10 into shape (3,5)",
     "output_type": "error",
     "traceback": [
      "\u001b[0;31m---------------------------------------------------------------------------\u001b[0m",
      "\u001b[0;31mValueError\u001b[0m                                Traceback (most recent call last)",
      "\u001b[0;32m<ipython-input-96-2639ad73868a>\u001b[0m in \u001b[0;36m<module>\u001b[0;34m\u001b[0m\n\u001b[1;32m      1\u001b[0m \u001b[0;31m#BUT NOT 3 rows 5 columns\u001b[0m\u001b[0;34m\u001b[0m\u001b[0;34m\u001b[0m\u001b[0;34m\u001b[0m\u001b[0m\n\u001b[0;32m----> 2\u001b[0;31m \u001b[0mx\u001b[0m\u001b[0;34m.\u001b[0m\u001b[0mreshape\u001b[0m\u001b[0;34m(\u001b[0m\u001b[0;36m3\u001b[0m\u001b[0;34m,\u001b[0m\u001b[0;36m5\u001b[0m\u001b[0;34m)\u001b[0m\u001b[0;34m\u001b[0m\u001b[0;34m\u001b[0m\u001b[0m\n\u001b[0m",
      "\u001b[0;31mValueError\u001b[0m: cannot reshape array of size 10 into shape (3,5)"
     ]
    }
   ],
   "source": [
    "#BUT NOT 3 rows 5 columns\n",
    "x.reshape(3,5)"
   ]
  },
  {
   "cell_type": "markdown",
   "metadata": {},
   "source": [
    "### Instead of casting the specific shape you want, you can ask numpy to figure it out for you using -1\n",
    "\n",
    "This is super useful when you need to reshape your data array to fit various criteria or very helpuful within functions as well"
   ]
  },
  {
   "cell_type": "code",
   "execution_count": 73,
   "metadata": {},
   "outputs": [
    {
     "data": {
      "text/plain": [
       "array([[ 1,  2],\n",
       "       [ 3,  4],\n",
       "       [ 5,  6],\n",
       "       [ 7,  8],\n",
       "       [ 9, 10],\n",
       "       [11, 12]])"
      ]
     },
     "execution_count": 73,
     "metadata": {},
     "output_type": "execute_result"
    }
   ],
   "source": [
    "w = np.array([1,2,3,4,5,6,7,8,9,10,11,12])\n",
    "# however many rows with 2 columns\n",
    "w.reshape(-1, 2)"
   ]
  },
  {
   "cell_type": "code",
   "execution_count": 74,
   "metadata": {},
   "outputs": [
    {
     "data": {
      "text/plain": [
       "array([[ 1,  2,  3],\n",
       "       [ 4,  5,  6],\n",
       "       [ 7,  8,  9],\n",
       "       [10, 11, 12]])"
      ]
     },
     "execution_count": 74,
     "metadata": {},
     "output_type": "execute_result"
    }
   ],
   "source": [
    "# however many rows with 3 columns\n",
    "w.reshape(-1, 3)"
   ]
  },
  {
   "cell_type": "code",
   "execution_count": 75,
   "metadata": {},
   "outputs": [
    {
     "data": {
      "text/plain": [
       "array([[ 1,  2,  3],\n",
       "       [ 4,  5,  6],\n",
       "       [ 7,  8,  9],\n",
       "       [10, 11, 12]])"
      ]
     },
     "execution_count": 75,
     "metadata": {},
     "output_type": "execute_result"
    }
   ],
   "source": [
    "# 4 rows with however many columns\n",
    "\n",
    "w.reshape(4, -1)"
   ]
  },
  {
   "cell_type": "code",
   "execution_count": 76,
   "metadata": {},
   "outputs": [
    {
     "data": {
      "text/plain": [
       "array([[[ 1,  2,  3],\n",
       "        [ 4,  5,  6]],\n",
       "\n",
       "       [[ 7,  8,  9],\n",
       "        [10, 11, 12]]])"
      ]
     },
     "execution_count": 76,
     "metadata": {},
     "output_type": "execute_result"
    }
   ],
   "source": [
    "#however many depths with 2 rows and 3 columns\n",
    "\n",
    "w.reshape(-1, 2, 3)"
   ]
  },
  {
   "cell_type": "code",
   "execution_count": 77,
   "metadata": {},
   "outputs": [
    {
     "ename": "ValueError",
     "evalue": "cannot reshape array of size 12 into shape (5,newaxis)",
     "output_type": "error",
     "traceback": [
      "\u001b[0;31m---------------------------------------------------------------------------\u001b[0m",
      "\u001b[0;31mValueError\u001b[0m                                Traceback (most recent call last)",
      "\u001b[0;32m<ipython-input-77-818e3f900509>\u001b[0m in \u001b[0;36m<module>\u001b[0;34m\u001b[0m\n\u001b[1;32m      1\u001b[0m \u001b[0;31m#what will happen here?\u001b[0m\u001b[0;34m\u001b[0m\u001b[0;34m\u001b[0m\u001b[0;34m\u001b[0m\u001b[0m\n\u001b[0;32m----> 2\u001b[0;31m \u001b[0mw\u001b[0m\u001b[0;34m.\u001b[0m\u001b[0mreshape\u001b[0m\u001b[0;34m(\u001b[0m\u001b[0;36m5\u001b[0m\u001b[0;34m,\u001b[0m\u001b[0;34m-\u001b[0m\u001b[0;36m1\u001b[0m\u001b[0;34m)\u001b[0m\u001b[0;34m\u001b[0m\u001b[0;34m\u001b[0m\u001b[0m\n\u001b[0m",
      "\u001b[0;31mValueError\u001b[0m: cannot reshape array of size 12 into shape (5,newaxis)"
     ]
    }
   ],
   "source": [
    "#what will happen here?\n",
    "w.reshape(5,-1)"
   ]
  },
  {
   "cell_type": "markdown",
   "metadata": {},
   "source": [
    "#### Can I use a couple of -1s when I only know I need 3 columns?"
   ]
  },
  {
   "cell_type": "code",
   "execution_count": 78,
   "metadata": {},
   "outputs": [
    {
     "ename": "ValueError",
     "evalue": "can only specify one unknown dimension",
     "output_type": "error",
     "traceback": [
      "\u001b[0;31m---------------------------------------------------------------------------\u001b[0m",
      "\u001b[0;31mValueError\u001b[0m                                Traceback (most recent call last)",
      "\u001b[0;32m<ipython-input-78-c3b4e5cb8f5a>\u001b[0m in \u001b[0;36m<module>\u001b[0;34m\u001b[0m\n\u001b[0;32m----> 1\u001b[0;31m \u001b[0mw\u001b[0m\u001b[0;34m.\u001b[0m\u001b[0mreshape\u001b[0m\u001b[0;34m(\u001b[0m\u001b[0;34m-\u001b[0m\u001b[0;36m1\u001b[0m\u001b[0;34m,\u001b[0m \u001b[0;34m-\u001b[0m\u001b[0;36m1\u001b[0m\u001b[0;34m,\u001b[0m \u001b[0;36m3\u001b[0m\u001b[0;34m)\u001b[0m\u001b[0;34m\u001b[0m\u001b[0;34m\u001b[0m\u001b[0m\n\u001b[0m",
      "\u001b[0;31mValueError\u001b[0m: can only specify one unknown dimension"
     ]
    }
   ],
   "source": [
    "w.reshape(-1, -1, 3)"
   ]
  },
  {
   "cell_type": "markdown",
   "metadata": {},
   "source": [
    "\n",
    "\n",
    "Reshaping is very efficient, but it does not make a copy of the array!\n"
   ]
  },
  {
   "cell_type": "code",
   "execution_count": 79,
   "metadata": {},
   "outputs": [
    {
     "data": {
      "text/plain": [
       "array([ 1,  2,  3,  4,  5,  6,  7,  8,  9, 10, 11, 12])"
      ]
     },
     "execution_count": 79,
     "metadata": {},
     "output_type": "execute_result"
    }
   ],
   "source": [
    "#w is still the original 1 - 12 values\n",
    "\n",
    "w"
   ]
  },
  {
   "cell_type": "code",
   "execution_count": 83,
   "metadata": {},
   "outputs": [
    {
     "data": {
      "text/plain": [
       "array([[ 1,  2,  3,  4,  5,  6],\n",
       "       [ 7,  8,  9, 10, 11, 12]])"
      ]
     },
     "execution_count": 83,
     "metadata": {},
     "output_type": "execute_result"
    }
   ],
   "source": [
    "# store the new reshapped array into another variable if you want to use it\n",
    "y = w.reshape(2,-1)\n",
    "\n",
    "y"
   ]
  },
  {
   "cell_type": "code",
   "execution_count": 84,
   "metadata": {},
   "outputs": [
    {
     "data": {
      "text/plain": [
       "array([[ 1, 99,  3,  4,  5,  6],\n",
       "       [ 7,  8,  9, 10, 11, 12]])"
      ]
     },
     "execution_count": 84,
     "metadata": {},
     "output_type": "execute_result"
    }
   ],
   "source": [
    "#We can reset values to new values in our array...\n",
    "#be careful here, you will not be able to access your original array any more\n",
    "y[0,1] = 99\n",
    "y\n"
   ]
  },
  {
   "cell_type": "code",
   "execution_count": 85,
   "metadata": {},
   "outputs": [
    {
     "data": {
      "text/plain": [
       "array([ 1, 99,  3,  4,  5,  6,  7,  8,  9, 10, 11, 12])"
      ]
     },
     "execution_count": 85,
     "metadata": {},
     "output_type": "execute_result"
    }
   ],
   "source": [
    "# Note, the original \"w\" array is also modified \n",
    "w"
   ]
  },
  {
   "cell_type": "code",
   "execution_count": 88,
   "metadata": {},
   "outputs": [
    {
     "name": "stdout",
     "output_type": "stream",
     "text": [
      "w: [ 1  2  3  4  5  6  7  8  9 10 11 12]\n",
      "y: [ 1 99  3  4  5  6  7  8  9 10 11 12]\n",
      "z: [[ 1 99  3  4  5  6]\n",
      " [ 7  8  9 10 11 12]]\n"
     ]
    }
   ],
   "source": [
    "# To avoid this issue, before reassigning a value, \n",
    "#it is a good idea to make a copy of your original array first\n",
    "w = np.array([1,2,3,4,5,6,7,8,9,10,11,12])\n",
    "y = w.copy()\n",
    "z = y.reshape(2,-1)\n",
    "z[0,1] = 99\n",
    "z\n",
    "\n",
    "print(f'w: {w}')\n",
    "print(f'y: {y}')\n",
    "print(f'z: {z}')\n"
   ]
  },
  {
   "cell_type": "code",
   "execution_count": null,
   "metadata": {},
   "outputs": [],
   "source": [
    "y"
   ]
  },
  {
   "cell_type": "code",
   "execution_count": null,
   "metadata": {},
   "outputs": [],
   "source": [
    "w"
   ]
  },
  {
   "cell_type": "markdown",
   "metadata": {},
   "source": [
    "###  Now you try"
   ]
  },
  {
   "cell_type": "code",
   "execution_count": 89,
   "metadata": {},
   "outputs": [
    {
     "data": {
      "text/plain": [
       "array([ 1,  2,  3,  4,  5,  6,  7,  8,  9, 10, 11, 12, 13, 14, 15, 16])"
      ]
     },
     "execution_count": 89,
     "metadata": {},
     "output_type": "execute_result"
    }
   ],
   "source": [
    "arr = np.array([1,2,3,4,5,6,7,8,9,10,11,12,13,14,15,16])\n",
    "arr"
   ]
  },
  {
   "cell_type": "code",
   "execution_count": 90,
   "metadata": {},
   "outputs": [
    {
     "data": {
      "text/plain": [
       "array([[ 1,  2,  3,  4,  5,  6,  7,  8],\n",
       "       [ 9, 10, 11, 12, 13, 14, 15, 16]])"
      ]
     },
     "execution_count": 90,
     "metadata": {},
     "output_type": "execute_result"
    }
   ],
   "source": [
    "# reshape this array to make it two dimensional\n",
    "arr.reshape(2,-1)"
   ]
  },
  {
   "cell_type": "code",
   "execution_count": 93,
   "metadata": {},
   "outputs": [
    {
     "data": {
      "text/plain": [
       "array([[[ 1,  2,  3,  4],\n",
       "        [ 5,  6,  7,  8]],\n",
       "\n",
       "       [[ 9, 10, 11, 12],\n",
       "        [13, 14, 15, 16]]])"
      ]
     },
     "execution_count": 93,
     "metadata": {},
     "output_type": "execute_result"
    }
   ],
   "source": [
    "# reshape this array to make it tree dimensional\n",
    "len(arr)\n",
    "arr.reshape(2, 2, -1)"
   ]
  },
  {
   "cell_type": "code",
   "execution_count": 99,
   "metadata": {},
   "outputs": [
    {
     "data": {
      "text/plain": [
       "array([ 1,  2,  3,  4,  5,  6,  7,  8,  9, 10, 99, 12, 13, 14, 15, 16])"
      ]
     },
     "execution_count": 99,
     "metadata": {},
     "output_type": "execute_result"
    }
   ],
   "source": [
    "# change the value of 11 to 99 without changing the original array's values\n",
    "arr_copy = arr.copy()\n",
    "arr_copy[10] = 99\n",
    "arr_copy"
   ]
  },
  {
   "cell_type": "markdown",
   "metadata": {},
   "source": [
    "## Creating Numpy Arrays\n",
    "\n",
    "You don't always need to start with a long array, you can create arrays in various ways using numpy. \n",
    "\n",
    "for example: you can use **np.array** to create a 2 or 3 dimensional array from the start\n"
   ]
  },
  {
   "cell_type": "code",
   "execution_count": 100,
   "metadata": {},
   "outputs": [
    {
     "data": {
      "text/plain": [
       "array([[1, 2, 3],\n",
       "       [4, 5, 6]])"
      ]
     },
     "execution_count": 100,
     "metadata": {},
     "output_type": "execute_result"
    }
   ],
   "source": [
    "#notice it looks like a nested list\n",
    "two_dim_arr = np.array([[1,2,3], [4,5,6]])\n",
    "two_dim_arr"
   ]
  },
  {
   "cell_type": "code",
   "execution_count": 101,
   "metadata": {},
   "outputs": [
    {
     "data": {
      "text/plain": [
       "(2, 3)"
      ]
     },
     "execution_count": 101,
     "metadata": {},
     "output_type": "execute_result"
    }
   ],
   "source": [
    "two_dim_arr.shape"
   ]
  },
  {
   "cell_type": "markdown",
   "metadata": {},
   "source": [
    "Or you could use **np.zeros** to create a new array of a given size and it fills it with zeros. \n",
    "\n",
    "*very useful in the future"
   ]
  },
  {
   "cell_type": "code",
   "execution_count": 102,
   "metadata": {},
   "outputs": [
    {
     "data": {
      "text/plain": [
       "array([0., 0., 0., 0., 0., 0., 0., 0., 0., 0.])"
      ]
     },
     "execution_count": 102,
     "metadata": {},
     "output_type": "execute_result"
    }
   ],
   "source": [
    "np.zeros(10)"
   ]
  },
  {
   "cell_type": "markdown",
   "metadata": {},
   "source": [
    "\n",
    "You can also create a **multi-dimensional** array by passing a tuple as the shape:\n"
   ]
  },
  {
   "cell_type": "code",
   "execution_count": 103,
   "metadata": {},
   "outputs": [
    {
     "data": {
      "text/plain": [
       "array([[0., 0., 0.],\n",
       "       [0., 0., 0.],\n",
       "       [0., 0., 0.],\n",
       "       [0., 0., 0.],\n",
       "       [0., 0., 0.]])"
      ]
     },
     "execution_count": 103,
     "metadata": {},
     "output_type": "execute_result"
    }
   ],
   "source": [
    "np.zeros((5, 3))"
   ]
  },
  {
   "cell_type": "markdown",
   "metadata": {},
   "source": [
    "#### And there's no limit on the number of dimensions:\n"
   ]
  },
  {
   "cell_type": "code",
   "execution_count": 104,
   "metadata": {},
   "outputs": [
    {
     "data": {
      "text/plain": [
       "array([[[[[[[0., 0.],\n",
       "            [0., 0.],\n",
       "            [0., 0.]],\n",
       "\n",
       "           [[0., 0.],\n",
       "            [0., 0.],\n",
       "            [0., 0.]],\n",
       "\n",
       "           [[0., 0.],\n",
       "            [0., 0.],\n",
       "            [0., 0.]],\n",
       "\n",
       "           [[0., 0.],\n",
       "            [0., 0.],\n",
       "            [0., 0.]]],\n",
       "\n",
       "\n",
       "          [[[0., 0.],\n",
       "            [0., 0.],\n",
       "            [0., 0.]],\n",
       "\n",
       "           [[0., 0.],\n",
       "            [0., 0.],\n",
       "            [0., 0.]],\n",
       "\n",
       "           [[0., 0.],\n",
       "            [0., 0.],\n",
       "            [0., 0.]],\n",
       "\n",
       "           [[0., 0.],\n",
       "            [0., 0.],\n",
       "            [0., 0.]]],\n",
       "\n",
       "\n",
       "          [[[0., 0.],\n",
       "            [0., 0.],\n",
       "            [0., 0.]],\n",
       "\n",
       "           [[0., 0.],\n",
       "            [0., 0.],\n",
       "            [0., 0.]],\n",
       "\n",
       "           [[0., 0.],\n",
       "            [0., 0.],\n",
       "            [0., 0.]],\n",
       "\n",
       "           [[0., 0.],\n",
       "            [0., 0.],\n",
       "            [0., 0.]]],\n",
       "\n",
       "\n",
       "          [[[0., 0.],\n",
       "            [0., 0.],\n",
       "            [0., 0.]],\n",
       "\n",
       "           [[0., 0.],\n",
       "            [0., 0.],\n",
       "            [0., 0.]],\n",
       "\n",
       "           [[0., 0.],\n",
       "            [0., 0.],\n",
       "            [0., 0.]],\n",
       "\n",
       "           [[0., 0.],\n",
       "            [0., 0.],\n",
       "            [0., 0.]]],\n",
       "\n",
       "\n",
       "          [[[0., 0.],\n",
       "            [0., 0.],\n",
       "            [0., 0.]],\n",
       "\n",
       "           [[0., 0.],\n",
       "            [0., 0.],\n",
       "            [0., 0.]],\n",
       "\n",
       "           [[0., 0.],\n",
       "            [0., 0.],\n",
       "            [0., 0.]],\n",
       "\n",
       "           [[0., 0.],\n",
       "            [0., 0.],\n",
       "            [0., 0.]]]],\n",
       "\n",
       "\n",
       "\n",
       "         [[[[0., 0.],\n",
       "            [0., 0.],\n",
       "            [0., 0.]],\n",
       "\n",
       "           [[0., 0.],\n",
       "            [0., 0.],\n",
       "            [0., 0.]],\n",
       "\n",
       "           [[0., 0.],\n",
       "            [0., 0.],\n",
       "            [0., 0.]],\n",
       "\n",
       "           [[0., 0.],\n",
       "            [0., 0.],\n",
       "            [0., 0.]]],\n",
       "\n",
       "\n",
       "          [[[0., 0.],\n",
       "            [0., 0.],\n",
       "            [0., 0.]],\n",
       "\n",
       "           [[0., 0.],\n",
       "            [0., 0.],\n",
       "            [0., 0.]],\n",
       "\n",
       "           [[0., 0.],\n",
       "            [0., 0.],\n",
       "            [0., 0.]],\n",
       "\n",
       "           [[0., 0.],\n",
       "            [0., 0.],\n",
       "            [0., 0.]]],\n",
       "\n",
       "\n",
       "          [[[0., 0.],\n",
       "            [0., 0.],\n",
       "            [0., 0.]],\n",
       "\n",
       "           [[0., 0.],\n",
       "            [0., 0.],\n",
       "            [0., 0.]],\n",
       "\n",
       "           [[0., 0.],\n",
       "            [0., 0.],\n",
       "            [0., 0.]],\n",
       "\n",
       "           [[0., 0.],\n",
       "            [0., 0.],\n",
       "            [0., 0.]]],\n",
       "\n",
       "\n",
       "          [[[0., 0.],\n",
       "            [0., 0.],\n",
       "            [0., 0.]],\n",
       "\n",
       "           [[0., 0.],\n",
       "            [0., 0.],\n",
       "            [0., 0.]],\n",
       "\n",
       "           [[0., 0.],\n",
       "            [0., 0.],\n",
       "            [0., 0.]],\n",
       "\n",
       "           [[0., 0.],\n",
       "            [0., 0.],\n",
       "            [0., 0.]]],\n",
       "\n",
       "\n",
       "          [[[0., 0.],\n",
       "            [0., 0.],\n",
       "            [0., 0.]],\n",
       "\n",
       "           [[0., 0.],\n",
       "            [0., 0.],\n",
       "            [0., 0.]],\n",
       "\n",
       "           [[0., 0.],\n",
       "            [0., 0.],\n",
       "            [0., 0.]],\n",
       "\n",
       "           [[0., 0.],\n",
       "            [0., 0.],\n",
       "            [0., 0.]]]],\n",
       "\n",
       "\n",
       "\n",
       "         [[[[0., 0.],\n",
       "            [0., 0.],\n",
       "            [0., 0.]],\n",
       "\n",
       "           [[0., 0.],\n",
       "            [0., 0.],\n",
       "            [0., 0.]],\n",
       "\n",
       "           [[0., 0.],\n",
       "            [0., 0.],\n",
       "            [0., 0.]],\n",
       "\n",
       "           [[0., 0.],\n",
       "            [0., 0.],\n",
       "            [0., 0.]]],\n",
       "\n",
       "\n",
       "          [[[0., 0.],\n",
       "            [0., 0.],\n",
       "            [0., 0.]],\n",
       "\n",
       "           [[0., 0.],\n",
       "            [0., 0.],\n",
       "            [0., 0.]],\n",
       "\n",
       "           [[0., 0.],\n",
       "            [0., 0.],\n",
       "            [0., 0.]],\n",
       "\n",
       "           [[0., 0.],\n",
       "            [0., 0.],\n",
       "            [0., 0.]]],\n",
       "\n",
       "\n",
       "          [[[0., 0.],\n",
       "            [0., 0.],\n",
       "            [0., 0.]],\n",
       "\n",
       "           [[0., 0.],\n",
       "            [0., 0.],\n",
       "            [0., 0.]],\n",
       "\n",
       "           [[0., 0.],\n",
       "            [0., 0.],\n",
       "            [0., 0.]],\n",
       "\n",
       "           [[0., 0.],\n",
       "            [0., 0.],\n",
       "            [0., 0.]]],\n",
       "\n",
       "\n",
       "          [[[0., 0.],\n",
       "            [0., 0.],\n",
       "            [0., 0.]],\n",
       "\n",
       "           [[0., 0.],\n",
       "            [0., 0.],\n",
       "            [0., 0.]],\n",
       "\n",
       "           [[0., 0.],\n",
       "            [0., 0.],\n",
       "            [0., 0.]],\n",
       "\n",
       "           [[0., 0.],\n",
       "            [0., 0.],\n",
       "            [0., 0.]]],\n",
       "\n",
       "\n",
       "          [[[0., 0.],\n",
       "            [0., 0.],\n",
       "            [0., 0.]],\n",
       "\n",
       "           [[0., 0.],\n",
       "            [0., 0.],\n",
       "            [0., 0.]],\n",
       "\n",
       "           [[0., 0.],\n",
       "            [0., 0.],\n",
       "            [0., 0.]],\n",
       "\n",
       "           [[0., 0.],\n",
       "            [0., 0.],\n",
       "            [0., 0.]]]],\n",
       "\n",
       "\n",
       "\n",
       "         [[[[0., 0.],\n",
       "            [0., 0.],\n",
       "            [0., 0.]],\n",
       "\n",
       "           [[0., 0.],\n",
       "            [0., 0.],\n",
       "            [0., 0.]],\n",
       "\n",
       "           [[0., 0.],\n",
       "            [0., 0.],\n",
       "            [0., 0.]],\n",
       "\n",
       "           [[0., 0.],\n",
       "            [0., 0.],\n",
       "            [0., 0.]]],\n",
       "\n",
       "\n",
       "          [[[0., 0.],\n",
       "            [0., 0.],\n",
       "            [0., 0.]],\n",
       "\n",
       "           [[0., 0.],\n",
       "            [0., 0.],\n",
       "            [0., 0.]],\n",
       "\n",
       "           [[0., 0.],\n",
       "            [0., 0.],\n",
       "            [0., 0.]],\n",
       "\n",
       "           [[0., 0.],\n",
       "            [0., 0.],\n",
       "            [0., 0.]]],\n",
       "\n",
       "\n",
       "          [[[0., 0.],\n",
       "            [0., 0.],\n",
       "            [0., 0.]],\n",
       "\n",
       "           [[0., 0.],\n",
       "            [0., 0.],\n",
       "            [0., 0.]],\n",
       "\n",
       "           [[0., 0.],\n",
       "            [0., 0.],\n",
       "            [0., 0.]],\n",
       "\n",
       "           [[0., 0.],\n",
       "            [0., 0.],\n",
       "            [0., 0.]]],\n",
       "\n",
       "\n",
       "          [[[0., 0.],\n",
       "            [0., 0.],\n",
       "            [0., 0.]],\n",
       "\n",
       "           [[0., 0.],\n",
       "            [0., 0.],\n",
       "            [0., 0.]],\n",
       "\n",
       "           [[0., 0.],\n",
       "            [0., 0.],\n",
       "            [0., 0.]],\n",
       "\n",
       "           [[0., 0.],\n",
       "            [0., 0.],\n",
       "            [0., 0.]]],\n",
       "\n",
       "\n",
       "          [[[0., 0.],\n",
       "            [0., 0.],\n",
       "            [0., 0.]],\n",
       "\n",
       "           [[0., 0.],\n",
       "            [0., 0.],\n",
       "            [0., 0.]],\n",
       "\n",
       "           [[0., 0.],\n",
       "            [0., 0.],\n",
       "            [0., 0.]],\n",
       "\n",
       "           [[0., 0.],\n",
       "            [0., 0.],\n",
       "            [0., 0.]]]]],\n",
       "\n",
       "\n",
       "\n",
       "\n",
       "        [[[[[0., 0.],\n",
       "            [0., 0.],\n",
       "            [0., 0.]],\n",
       "\n",
       "           [[0., 0.],\n",
       "            [0., 0.],\n",
       "            [0., 0.]],\n",
       "\n",
       "           [[0., 0.],\n",
       "            [0., 0.],\n",
       "            [0., 0.]],\n",
       "\n",
       "           [[0., 0.],\n",
       "            [0., 0.],\n",
       "            [0., 0.]]],\n",
       "\n",
       "\n",
       "          [[[0., 0.],\n",
       "            [0., 0.],\n",
       "            [0., 0.]],\n",
       "\n",
       "           [[0., 0.],\n",
       "            [0., 0.],\n",
       "            [0., 0.]],\n",
       "\n",
       "           [[0., 0.],\n",
       "            [0., 0.],\n",
       "            [0., 0.]],\n",
       "\n",
       "           [[0., 0.],\n",
       "            [0., 0.],\n",
       "            [0., 0.]]],\n",
       "\n",
       "\n",
       "          [[[0., 0.],\n",
       "            [0., 0.],\n",
       "            [0., 0.]],\n",
       "\n",
       "           [[0., 0.],\n",
       "            [0., 0.],\n",
       "            [0., 0.]],\n",
       "\n",
       "           [[0., 0.],\n",
       "            [0., 0.],\n",
       "            [0., 0.]],\n",
       "\n",
       "           [[0., 0.],\n",
       "            [0., 0.],\n",
       "            [0., 0.]]],\n",
       "\n",
       "\n",
       "          [[[0., 0.],\n",
       "            [0., 0.],\n",
       "            [0., 0.]],\n",
       "\n",
       "           [[0., 0.],\n",
       "            [0., 0.],\n",
       "            [0., 0.]],\n",
       "\n",
       "           [[0., 0.],\n",
       "            [0., 0.],\n",
       "            [0., 0.]],\n",
       "\n",
       "           [[0., 0.],\n",
       "            [0., 0.],\n",
       "            [0., 0.]]],\n",
       "\n",
       "\n",
       "          [[[0., 0.],\n",
       "            [0., 0.],\n",
       "            [0., 0.]],\n",
       "\n",
       "           [[0., 0.],\n",
       "            [0., 0.],\n",
       "            [0., 0.]],\n",
       "\n",
       "           [[0., 0.],\n",
       "            [0., 0.],\n",
       "            [0., 0.]],\n",
       "\n",
       "           [[0., 0.],\n",
       "            [0., 0.],\n",
       "            [0., 0.]]]],\n",
       "\n",
       "\n",
       "\n",
       "         [[[[0., 0.],\n",
       "            [0., 0.],\n",
       "            [0., 0.]],\n",
       "\n",
       "           [[0., 0.],\n",
       "            [0., 0.],\n",
       "            [0., 0.]],\n",
       "\n",
       "           [[0., 0.],\n",
       "            [0., 0.],\n",
       "            [0., 0.]],\n",
       "\n",
       "           [[0., 0.],\n",
       "            [0., 0.],\n",
       "            [0., 0.]]],\n",
       "\n",
       "\n",
       "          [[[0., 0.],\n",
       "            [0., 0.],\n",
       "            [0., 0.]],\n",
       "\n",
       "           [[0., 0.],\n",
       "            [0., 0.],\n",
       "            [0., 0.]],\n",
       "\n",
       "           [[0., 0.],\n",
       "            [0., 0.],\n",
       "            [0., 0.]],\n",
       "\n",
       "           [[0., 0.],\n",
       "            [0., 0.],\n",
       "            [0., 0.]]],\n",
       "\n",
       "\n",
       "          [[[0., 0.],\n",
       "            [0., 0.],\n",
       "            [0., 0.]],\n",
       "\n",
       "           [[0., 0.],\n",
       "            [0., 0.],\n",
       "            [0., 0.]],\n",
       "\n",
       "           [[0., 0.],\n",
       "            [0., 0.],\n",
       "            [0., 0.]],\n",
       "\n",
       "           [[0., 0.],\n",
       "            [0., 0.],\n",
       "            [0., 0.]]],\n",
       "\n",
       "\n",
       "          [[[0., 0.],\n",
       "            [0., 0.],\n",
       "            [0., 0.]],\n",
       "\n",
       "           [[0., 0.],\n",
       "            [0., 0.],\n",
       "            [0., 0.]],\n",
       "\n",
       "           [[0., 0.],\n",
       "            [0., 0.],\n",
       "            [0., 0.]],\n",
       "\n",
       "           [[0., 0.],\n",
       "            [0., 0.],\n",
       "            [0., 0.]]],\n",
       "\n",
       "\n",
       "          [[[0., 0.],\n",
       "            [0., 0.],\n",
       "            [0., 0.]],\n",
       "\n",
       "           [[0., 0.],\n",
       "            [0., 0.],\n",
       "            [0., 0.]],\n",
       "\n",
       "           [[0., 0.],\n",
       "            [0., 0.],\n",
       "            [0., 0.]],\n",
       "\n",
       "           [[0., 0.],\n",
       "            [0., 0.],\n",
       "            [0., 0.]]]],\n",
       "\n",
       "\n",
       "\n",
       "         [[[[0., 0.],\n",
       "            [0., 0.],\n",
       "            [0., 0.]],\n",
       "\n",
       "           [[0., 0.],\n",
       "            [0., 0.],\n",
       "            [0., 0.]],\n",
       "\n",
       "           [[0., 0.],\n",
       "            [0., 0.],\n",
       "            [0., 0.]],\n",
       "\n",
       "           [[0., 0.],\n",
       "            [0., 0.],\n",
       "            [0., 0.]]],\n",
       "\n",
       "\n",
       "          [[[0., 0.],\n",
       "            [0., 0.],\n",
       "            [0., 0.]],\n",
       "\n",
       "           [[0., 0.],\n",
       "            [0., 0.],\n",
       "            [0., 0.]],\n",
       "\n",
       "           [[0., 0.],\n",
       "            [0., 0.],\n",
       "            [0., 0.]],\n",
       "\n",
       "           [[0., 0.],\n",
       "            [0., 0.],\n",
       "            [0., 0.]]],\n",
       "\n",
       "\n",
       "          [[[0., 0.],\n",
       "            [0., 0.],\n",
       "            [0., 0.]],\n",
       "\n",
       "           [[0., 0.],\n",
       "            [0., 0.],\n",
       "            [0., 0.]],\n",
       "\n",
       "           [[0., 0.],\n",
       "            [0., 0.],\n",
       "            [0., 0.]],\n",
       "\n",
       "           [[0., 0.],\n",
       "            [0., 0.],\n",
       "            [0., 0.]]],\n",
       "\n",
       "\n",
       "          [[[0., 0.],\n",
       "            [0., 0.],\n",
       "            [0., 0.]],\n",
       "\n",
       "           [[0., 0.],\n",
       "            [0., 0.],\n",
       "            [0., 0.]],\n",
       "\n",
       "           [[0., 0.],\n",
       "            [0., 0.],\n",
       "            [0., 0.]],\n",
       "\n",
       "           [[0., 0.],\n",
       "            [0., 0.],\n",
       "            [0., 0.]]],\n",
       "\n",
       "\n",
       "          [[[0., 0.],\n",
       "            [0., 0.],\n",
       "            [0., 0.]],\n",
       "\n",
       "           [[0., 0.],\n",
       "            [0., 0.],\n",
       "            [0., 0.]],\n",
       "\n",
       "           [[0., 0.],\n",
       "            [0., 0.],\n",
       "            [0., 0.]],\n",
       "\n",
       "           [[0., 0.],\n",
       "            [0., 0.],\n",
       "            [0., 0.]]]],\n",
       "\n",
       "\n",
       "\n",
       "         [[[[0., 0.],\n",
       "            [0., 0.],\n",
       "            [0., 0.]],\n",
       "\n",
       "           [[0., 0.],\n",
       "            [0., 0.],\n",
       "            [0., 0.]],\n",
       "\n",
       "           [[0., 0.],\n",
       "            [0., 0.],\n",
       "            [0., 0.]],\n",
       "\n",
       "           [[0., 0.],\n",
       "            [0., 0.],\n",
       "            [0., 0.]]],\n",
       "\n",
       "\n",
       "          [[[0., 0.],\n",
       "            [0., 0.],\n",
       "            [0., 0.]],\n",
       "\n",
       "           [[0., 0.],\n",
       "            [0., 0.],\n",
       "            [0., 0.]],\n",
       "\n",
       "           [[0., 0.],\n",
       "            [0., 0.],\n",
       "            [0., 0.]],\n",
       "\n",
       "           [[0., 0.],\n",
       "            [0., 0.],\n",
       "            [0., 0.]]],\n",
       "\n",
       "\n",
       "          [[[0., 0.],\n",
       "            [0., 0.],\n",
       "            [0., 0.]],\n",
       "\n",
       "           [[0., 0.],\n",
       "            [0., 0.],\n",
       "            [0., 0.]],\n",
       "\n",
       "           [[0., 0.],\n",
       "            [0., 0.],\n",
       "            [0., 0.]],\n",
       "\n",
       "           [[0., 0.],\n",
       "            [0., 0.],\n",
       "            [0., 0.]]],\n",
       "\n",
       "\n",
       "          [[[0., 0.],\n",
       "            [0., 0.],\n",
       "            [0., 0.]],\n",
       "\n",
       "           [[0., 0.],\n",
       "            [0., 0.],\n",
       "            [0., 0.]],\n",
       "\n",
       "           [[0., 0.],\n",
       "            [0., 0.],\n",
       "            [0., 0.]],\n",
       "\n",
       "           [[0., 0.],\n",
       "            [0., 0.],\n",
       "            [0., 0.]]],\n",
       "\n",
       "\n",
       "          [[[0., 0.],\n",
       "            [0., 0.],\n",
       "            [0., 0.]],\n",
       "\n",
       "           [[0., 0.],\n",
       "            [0., 0.],\n",
       "            [0., 0.]],\n",
       "\n",
       "           [[0., 0.],\n",
       "            [0., 0.],\n",
       "            [0., 0.]],\n",
       "\n",
       "           [[0., 0.],\n",
       "            [0., 0.],\n",
       "            [0., 0.]]]]],\n",
       "\n",
       "\n",
       "\n",
       "\n",
       "        [[[[[0., 0.],\n",
       "            [0., 0.],\n",
       "            [0., 0.]],\n",
       "\n",
       "           [[0., 0.],\n",
       "            [0., 0.],\n",
       "            [0., 0.]],\n",
       "\n",
       "           [[0., 0.],\n",
       "            [0., 0.],\n",
       "            [0., 0.]],\n",
       "\n",
       "           [[0., 0.],\n",
       "            [0., 0.],\n",
       "            [0., 0.]]],\n",
       "\n",
       "\n",
       "          [[[0., 0.],\n",
       "            [0., 0.],\n",
       "            [0., 0.]],\n",
       "\n",
       "           [[0., 0.],\n",
       "            [0., 0.],\n",
       "            [0., 0.]],\n",
       "\n",
       "           [[0., 0.],\n",
       "            [0., 0.],\n",
       "            [0., 0.]],\n",
       "\n",
       "           [[0., 0.],\n",
       "            [0., 0.],\n",
       "            [0., 0.]]],\n",
       "\n",
       "\n",
       "          [[[0., 0.],\n",
       "            [0., 0.],\n",
       "            [0., 0.]],\n",
       "\n",
       "           [[0., 0.],\n",
       "            [0., 0.],\n",
       "            [0., 0.]],\n",
       "\n",
       "           [[0., 0.],\n",
       "            [0., 0.],\n",
       "            [0., 0.]],\n",
       "\n",
       "           [[0., 0.],\n",
       "            [0., 0.],\n",
       "            [0., 0.]]],\n",
       "\n",
       "\n",
       "          [[[0., 0.],\n",
       "            [0., 0.],\n",
       "            [0., 0.]],\n",
       "\n",
       "           [[0., 0.],\n",
       "            [0., 0.],\n",
       "            [0., 0.]],\n",
       "\n",
       "           [[0., 0.],\n",
       "            [0., 0.],\n",
       "            [0., 0.]],\n",
       "\n",
       "           [[0., 0.],\n",
       "            [0., 0.],\n",
       "            [0., 0.]]],\n",
       "\n",
       "\n",
       "          [[[0., 0.],\n",
       "            [0., 0.],\n",
       "            [0., 0.]],\n",
       "\n",
       "           [[0., 0.],\n",
       "            [0., 0.],\n",
       "            [0., 0.]],\n",
       "\n",
       "           [[0., 0.],\n",
       "            [0., 0.],\n",
       "            [0., 0.]],\n",
       "\n",
       "           [[0., 0.],\n",
       "            [0., 0.],\n",
       "            [0., 0.]]]],\n",
       "\n",
       "\n",
       "\n",
       "         [[[[0., 0.],\n",
       "            [0., 0.],\n",
       "            [0., 0.]],\n",
       "\n",
       "           [[0., 0.],\n",
       "            [0., 0.],\n",
       "            [0., 0.]],\n",
       "\n",
       "           [[0., 0.],\n",
       "            [0., 0.],\n",
       "            [0., 0.]],\n",
       "\n",
       "           [[0., 0.],\n",
       "            [0., 0.],\n",
       "            [0., 0.]]],\n",
       "\n",
       "\n",
       "          [[[0., 0.],\n",
       "            [0., 0.],\n",
       "            [0., 0.]],\n",
       "\n",
       "           [[0., 0.],\n",
       "            [0., 0.],\n",
       "            [0., 0.]],\n",
       "\n",
       "           [[0., 0.],\n",
       "            [0., 0.],\n",
       "            [0., 0.]],\n",
       "\n",
       "           [[0., 0.],\n",
       "            [0., 0.],\n",
       "            [0., 0.]]],\n",
       "\n",
       "\n",
       "          [[[0., 0.],\n",
       "            [0., 0.],\n",
       "            [0., 0.]],\n",
       "\n",
       "           [[0., 0.],\n",
       "            [0., 0.],\n",
       "            [0., 0.]],\n",
       "\n",
       "           [[0., 0.],\n",
       "            [0., 0.],\n",
       "            [0., 0.]],\n",
       "\n",
       "           [[0., 0.],\n",
       "            [0., 0.],\n",
       "            [0., 0.]]],\n",
       "\n",
       "\n",
       "          [[[0., 0.],\n",
       "            [0., 0.],\n",
       "            [0., 0.]],\n",
       "\n",
       "           [[0., 0.],\n",
       "            [0., 0.],\n",
       "            [0., 0.]],\n",
       "\n",
       "           [[0., 0.],\n",
       "            [0., 0.],\n",
       "            [0., 0.]],\n",
       "\n",
       "           [[0., 0.],\n",
       "            [0., 0.],\n",
       "            [0., 0.]]],\n",
       "\n",
       "\n",
       "          [[[0., 0.],\n",
       "            [0., 0.],\n",
       "            [0., 0.]],\n",
       "\n",
       "           [[0., 0.],\n",
       "            [0., 0.],\n",
       "            [0., 0.]],\n",
       "\n",
       "           [[0., 0.],\n",
       "            [0., 0.],\n",
       "            [0., 0.]],\n",
       "\n",
       "           [[0., 0.],\n",
       "            [0., 0.],\n",
       "            [0., 0.]]]],\n",
       "\n",
       "\n",
       "\n",
       "         [[[[0., 0.],\n",
       "            [0., 0.],\n",
       "            [0., 0.]],\n",
       "\n",
       "           [[0., 0.],\n",
       "            [0., 0.],\n",
       "            [0., 0.]],\n",
       "\n",
       "           [[0., 0.],\n",
       "            [0., 0.],\n",
       "            [0., 0.]],\n",
       "\n",
       "           [[0., 0.],\n",
       "            [0., 0.],\n",
       "            [0., 0.]]],\n",
       "\n",
       "\n",
       "          [[[0., 0.],\n",
       "            [0., 0.],\n",
       "            [0., 0.]],\n",
       "\n",
       "           [[0., 0.],\n",
       "            [0., 0.],\n",
       "            [0., 0.]],\n",
       "\n",
       "           [[0., 0.],\n",
       "            [0., 0.],\n",
       "            [0., 0.]],\n",
       "\n",
       "           [[0., 0.],\n",
       "            [0., 0.],\n",
       "            [0., 0.]]],\n",
       "\n",
       "\n",
       "          [[[0., 0.],\n",
       "            [0., 0.],\n",
       "            [0., 0.]],\n",
       "\n",
       "           [[0., 0.],\n",
       "            [0., 0.],\n",
       "            [0., 0.]],\n",
       "\n",
       "           [[0., 0.],\n",
       "            [0., 0.],\n",
       "            [0., 0.]],\n",
       "\n",
       "           [[0., 0.],\n",
       "            [0., 0.],\n",
       "            [0., 0.]]],\n",
       "\n",
       "\n",
       "          [[[0., 0.],\n",
       "            [0., 0.],\n",
       "            [0., 0.]],\n",
       "\n",
       "           [[0., 0.],\n",
       "            [0., 0.],\n",
       "            [0., 0.]],\n",
       "\n",
       "           [[0., 0.],\n",
       "            [0., 0.],\n",
       "            [0., 0.]],\n",
       "\n",
       "           [[0., 0.],\n",
       "            [0., 0.],\n",
       "            [0., 0.]]],\n",
       "\n",
       "\n",
       "          [[[0., 0.],\n",
       "            [0., 0.],\n",
       "            [0., 0.]],\n",
       "\n",
       "           [[0., 0.],\n",
       "            [0., 0.],\n",
       "            [0., 0.]],\n",
       "\n",
       "           [[0., 0.],\n",
       "            [0., 0.],\n",
       "            [0., 0.]],\n",
       "\n",
       "           [[0., 0.],\n",
       "            [0., 0.],\n",
       "            [0., 0.]]]],\n",
       "\n",
       "\n",
       "\n",
       "         [[[[0., 0.],\n",
       "            [0., 0.],\n",
       "            [0., 0.]],\n",
       "\n",
       "           [[0., 0.],\n",
       "            [0., 0.],\n",
       "            [0., 0.]],\n",
       "\n",
       "           [[0., 0.],\n",
       "            [0., 0.],\n",
       "            [0., 0.]],\n",
       "\n",
       "           [[0., 0.],\n",
       "            [0., 0.],\n",
       "            [0., 0.]]],\n",
       "\n",
       "\n",
       "          [[[0., 0.],\n",
       "            [0., 0.],\n",
       "            [0., 0.]],\n",
       "\n",
       "           [[0., 0.],\n",
       "            [0., 0.],\n",
       "            [0., 0.]],\n",
       "\n",
       "           [[0., 0.],\n",
       "            [0., 0.],\n",
       "            [0., 0.]],\n",
       "\n",
       "           [[0., 0.],\n",
       "            [0., 0.],\n",
       "            [0., 0.]]],\n",
       "\n",
       "\n",
       "          [[[0., 0.],\n",
       "            [0., 0.],\n",
       "            [0., 0.]],\n",
       "\n",
       "           [[0., 0.],\n",
       "            [0., 0.],\n",
       "            [0., 0.]],\n",
       "\n",
       "           [[0., 0.],\n",
       "            [0., 0.],\n",
       "            [0., 0.]],\n",
       "\n",
       "           [[0., 0.],\n",
       "            [0., 0.],\n",
       "            [0., 0.]]],\n",
       "\n",
       "\n",
       "          [[[0., 0.],\n",
       "            [0., 0.],\n",
       "            [0., 0.]],\n",
       "\n",
       "           [[0., 0.],\n",
       "            [0., 0.],\n",
       "            [0., 0.]],\n",
       "\n",
       "           [[0., 0.],\n",
       "            [0., 0.],\n",
       "            [0., 0.]],\n",
       "\n",
       "           [[0., 0.],\n",
       "            [0., 0.],\n",
       "            [0., 0.]]],\n",
       "\n",
       "\n",
       "          [[[0., 0.],\n",
       "            [0., 0.],\n",
       "            [0., 0.]],\n",
       "\n",
       "           [[0., 0.],\n",
       "            [0., 0.],\n",
       "            [0., 0.]],\n",
       "\n",
       "           [[0., 0.],\n",
       "            [0., 0.],\n",
       "            [0., 0.]],\n",
       "\n",
       "           [[0., 0.],\n",
       "            [0., 0.],\n",
       "            [0., 0.]]]]]],\n",
       "\n",
       "\n",
       "\n",
       "\n",
       "\n",
       "       [[[[[[0., 0.],\n",
       "            [0., 0.],\n",
       "            [0., 0.]],\n",
       "\n",
       "           [[0., 0.],\n",
       "            [0., 0.],\n",
       "            [0., 0.]],\n",
       "\n",
       "           [[0., 0.],\n",
       "            [0., 0.],\n",
       "            [0., 0.]],\n",
       "\n",
       "           [[0., 0.],\n",
       "            [0., 0.],\n",
       "            [0., 0.]]],\n",
       "\n",
       "\n",
       "          [[[0., 0.],\n",
       "            [0., 0.],\n",
       "            [0., 0.]],\n",
       "\n",
       "           [[0., 0.],\n",
       "            [0., 0.],\n",
       "            [0., 0.]],\n",
       "\n",
       "           [[0., 0.],\n",
       "            [0., 0.],\n",
       "            [0., 0.]],\n",
       "\n",
       "           [[0., 0.],\n",
       "            [0., 0.],\n",
       "            [0., 0.]]],\n",
       "\n",
       "\n",
       "          [[[0., 0.],\n",
       "            [0., 0.],\n",
       "            [0., 0.]],\n",
       "\n",
       "           [[0., 0.],\n",
       "            [0., 0.],\n",
       "            [0., 0.]],\n",
       "\n",
       "           [[0., 0.],\n",
       "            [0., 0.],\n",
       "            [0., 0.]],\n",
       "\n",
       "           [[0., 0.],\n",
       "            [0., 0.],\n",
       "            [0., 0.]]],\n",
       "\n",
       "\n",
       "          [[[0., 0.],\n",
       "            [0., 0.],\n",
       "            [0., 0.]],\n",
       "\n",
       "           [[0., 0.],\n",
       "            [0., 0.],\n",
       "            [0., 0.]],\n",
       "\n",
       "           [[0., 0.],\n",
       "            [0., 0.],\n",
       "            [0., 0.]],\n",
       "\n",
       "           [[0., 0.],\n",
       "            [0., 0.],\n",
       "            [0., 0.]]],\n",
       "\n",
       "\n",
       "          [[[0., 0.],\n",
       "            [0., 0.],\n",
       "            [0., 0.]],\n",
       "\n",
       "           [[0., 0.],\n",
       "            [0., 0.],\n",
       "            [0., 0.]],\n",
       "\n",
       "           [[0., 0.],\n",
       "            [0., 0.],\n",
       "            [0., 0.]],\n",
       "\n",
       "           [[0., 0.],\n",
       "            [0., 0.],\n",
       "            [0., 0.]]]],\n",
       "\n",
       "\n",
       "\n",
       "         [[[[0., 0.],\n",
       "            [0., 0.],\n",
       "            [0., 0.]],\n",
       "\n",
       "           [[0., 0.],\n",
       "            [0., 0.],\n",
       "            [0., 0.]],\n",
       "\n",
       "           [[0., 0.],\n",
       "            [0., 0.],\n",
       "            [0., 0.]],\n",
       "\n",
       "           [[0., 0.],\n",
       "            [0., 0.],\n",
       "            [0., 0.]]],\n",
       "\n",
       "\n",
       "          [[[0., 0.],\n",
       "            [0., 0.],\n",
       "            [0., 0.]],\n",
       "\n",
       "           [[0., 0.],\n",
       "            [0., 0.],\n",
       "            [0., 0.]],\n",
       "\n",
       "           [[0., 0.],\n",
       "            [0., 0.],\n",
       "            [0., 0.]],\n",
       "\n",
       "           [[0., 0.],\n",
       "            [0., 0.],\n",
       "            [0., 0.]]],\n",
       "\n",
       "\n",
       "          [[[0., 0.],\n",
       "            [0., 0.],\n",
       "            [0., 0.]],\n",
       "\n",
       "           [[0., 0.],\n",
       "            [0., 0.],\n",
       "            [0., 0.]],\n",
       "\n",
       "           [[0., 0.],\n",
       "            [0., 0.],\n",
       "            [0., 0.]],\n",
       "\n",
       "           [[0., 0.],\n",
       "            [0., 0.],\n",
       "            [0., 0.]]],\n",
       "\n",
       "\n",
       "          [[[0., 0.],\n",
       "            [0., 0.],\n",
       "            [0., 0.]],\n",
       "\n",
       "           [[0., 0.],\n",
       "            [0., 0.],\n",
       "            [0., 0.]],\n",
       "\n",
       "           [[0., 0.],\n",
       "            [0., 0.],\n",
       "            [0., 0.]],\n",
       "\n",
       "           [[0., 0.],\n",
       "            [0., 0.],\n",
       "            [0., 0.]]],\n",
       "\n",
       "\n",
       "          [[[0., 0.],\n",
       "            [0., 0.],\n",
       "            [0., 0.]],\n",
       "\n",
       "           [[0., 0.],\n",
       "            [0., 0.],\n",
       "            [0., 0.]],\n",
       "\n",
       "           [[0., 0.],\n",
       "            [0., 0.],\n",
       "            [0., 0.]],\n",
       "\n",
       "           [[0., 0.],\n",
       "            [0., 0.],\n",
       "            [0., 0.]]]],\n",
       "\n",
       "\n",
       "\n",
       "         [[[[0., 0.],\n",
       "            [0., 0.],\n",
       "            [0., 0.]],\n",
       "\n",
       "           [[0., 0.],\n",
       "            [0., 0.],\n",
       "            [0., 0.]],\n",
       "\n",
       "           [[0., 0.],\n",
       "            [0., 0.],\n",
       "            [0., 0.]],\n",
       "\n",
       "           [[0., 0.],\n",
       "            [0., 0.],\n",
       "            [0., 0.]]],\n",
       "\n",
       "\n",
       "          [[[0., 0.],\n",
       "            [0., 0.],\n",
       "            [0., 0.]],\n",
       "\n",
       "           [[0., 0.],\n",
       "            [0., 0.],\n",
       "            [0., 0.]],\n",
       "\n",
       "           [[0., 0.],\n",
       "            [0., 0.],\n",
       "            [0., 0.]],\n",
       "\n",
       "           [[0., 0.],\n",
       "            [0., 0.],\n",
       "            [0., 0.]]],\n",
       "\n",
       "\n",
       "          [[[0., 0.],\n",
       "            [0., 0.],\n",
       "            [0., 0.]],\n",
       "\n",
       "           [[0., 0.],\n",
       "            [0., 0.],\n",
       "            [0., 0.]],\n",
       "\n",
       "           [[0., 0.],\n",
       "            [0., 0.],\n",
       "            [0., 0.]],\n",
       "\n",
       "           [[0., 0.],\n",
       "            [0., 0.],\n",
       "            [0., 0.]]],\n",
       "\n",
       "\n",
       "          [[[0., 0.],\n",
       "            [0., 0.],\n",
       "            [0., 0.]],\n",
       "\n",
       "           [[0., 0.],\n",
       "            [0., 0.],\n",
       "            [0., 0.]],\n",
       "\n",
       "           [[0., 0.],\n",
       "            [0., 0.],\n",
       "            [0., 0.]],\n",
       "\n",
       "           [[0., 0.],\n",
       "            [0., 0.],\n",
       "            [0., 0.]]],\n",
       "\n",
       "\n",
       "          [[[0., 0.],\n",
       "            [0., 0.],\n",
       "            [0., 0.]],\n",
       "\n",
       "           [[0., 0.],\n",
       "            [0., 0.],\n",
       "            [0., 0.]],\n",
       "\n",
       "           [[0., 0.],\n",
       "            [0., 0.],\n",
       "            [0., 0.]],\n",
       "\n",
       "           [[0., 0.],\n",
       "            [0., 0.],\n",
       "            [0., 0.]]]],\n",
       "\n",
       "\n",
       "\n",
       "         [[[[0., 0.],\n",
       "            [0., 0.],\n",
       "            [0., 0.]],\n",
       "\n",
       "           [[0., 0.],\n",
       "            [0., 0.],\n",
       "            [0., 0.]],\n",
       "\n",
       "           [[0., 0.],\n",
       "            [0., 0.],\n",
       "            [0., 0.]],\n",
       "\n",
       "           [[0., 0.],\n",
       "            [0., 0.],\n",
       "            [0., 0.]]],\n",
       "\n",
       "\n",
       "          [[[0., 0.],\n",
       "            [0., 0.],\n",
       "            [0., 0.]],\n",
       "\n",
       "           [[0., 0.],\n",
       "            [0., 0.],\n",
       "            [0., 0.]],\n",
       "\n",
       "           [[0., 0.],\n",
       "            [0., 0.],\n",
       "            [0., 0.]],\n",
       "\n",
       "           [[0., 0.],\n",
       "            [0., 0.],\n",
       "            [0., 0.]]],\n",
       "\n",
       "\n",
       "          [[[0., 0.],\n",
       "            [0., 0.],\n",
       "            [0., 0.]],\n",
       "\n",
       "           [[0., 0.],\n",
       "            [0., 0.],\n",
       "            [0., 0.]],\n",
       "\n",
       "           [[0., 0.],\n",
       "            [0., 0.],\n",
       "            [0., 0.]],\n",
       "\n",
       "           [[0., 0.],\n",
       "            [0., 0.],\n",
       "            [0., 0.]]],\n",
       "\n",
       "\n",
       "          [[[0., 0.],\n",
       "            [0., 0.],\n",
       "            [0., 0.]],\n",
       "\n",
       "           [[0., 0.],\n",
       "            [0., 0.],\n",
       "            [0., 0.]],\n",
       "\n",
       "           [[0., 0.],\n",
       "            [0., 0.],\n",
       "            [0., 0.]],\n",
       "\n",
       "           [[0., 0.],\n",
       "            [0., 0.],\n",
       "            [0., 0.]]],\n",
       "\n",
       "\n",
       "          [[[0., 0.],\n",
       "            [0., 0.],\n",
       "            [0., 0.]],\n",
       "\n",
       "           [[0., 0.],\n",
       "            [0., 0.],\n",
       "            [0., 0.]],\n",
       "\n",
       "           [[0., 0.],\n",
       "            [0., 0.],\n",
       "            [0., 0.]],\n",
       "\n",
       "           [[0., 0.],\n",
       "            [0., 0.],\n",
       "            [0., 0.]]]]],\n",
       "\n",
       "\n",
       "\n",
       "\n",
       "        [[[[[0., 0.],\n",
       "            [0., 0.],\n",
       "            [0., 0.]],\n",
       "\n",
       "           [[0., 0.],\n",
       "            [0., 0.],\n",
       "            [0., 0.]],\n",
       "\n",
       "           [[0., 0.],\n",
       "            [0., 0.],\n",
       "            [0., 0.]],\n",
       "\n",
       "           [[0., 0.],\n",
       "            [0., 0.],\n",
       "            [0., 0.]]],\n",
       "\n",
       "\n",
       "          [[[0., 0.],\n",
       "            [0., 0.],\n",
       "            [0., 0.]],\n",
       "\n",
       "           [[0., 0.],\n",
       "            [0., 0.],\n",
       "            [0., 0.]],\n",
       "\n",
       "           [[0., 0.],\n",
       "            [0., 0.],\n",
       "            [0., 0.]],\n",
       "\n",
       "           [[0., 0.],\n",
       "            [0., 0.],\n",
       "            [0., 0.]]],\n",
       "\n",
       "\n",
       "          [[[0., 0.],\n",
       "            [0., 0.],\n",
       "            [0., 0.]],\n",
       "\n",
       "           [[0., 0.],\n",
       "            [0., 0.],\n",
       "            [0., 0.]],\n",
       "\n",
       "           [[0., 0.],\n",
       "            [0., 0.],\n",
       "            [0., 0.]],\n",
       "\n",
       "           [[0., 0.],\n",
       "            [0., 0.],\n",
       "            [0., 0.]]],\n",
       "\n",
       "\n",
       "          [[[0., 0.],\n",
       "            [0., 0.],\n",
       "            [0., 0.]],\n",
       "\n",
       "           [[0., 0.],\n",
       "            [0., 0.],\n",
       "            [0., 0.]],\n",
       "\n",
       "           [[0., 0.],\n",
       "            [0., 0.],\n",
       "            [0., 0.]],\n",
       "\n",
       "           [[0., 0.],\n",
       "            [0., 0.],\n",
       "            [0., 0.]]],\n",
       "\n",
       "\n",
       "          [[[0., 0.],\n",
       "            [0., 0.],\n",
       "            [0., 0.]],\n",
       "\n",
       "           [[0., 0.],\n",
       "            [0., 0.],\n",
       "            [0., 0.]],\n",
       "\n",
       "           [[0., 0.],\n",
       "            [0., 0.],\n",
       "            [0., 0.]],\n",
       "\n",
       "           [[0., 0.],\n",
       "            [0., 0.],\n",
       "            [0., 0.]]]],\n",
       "\n",
       "\n",
       "\n",
       "         [[[[0., 0.],\n",
       "            [0., 0.],\n",
       "            [0., 0.]],\n",
       "\n",
       "           [[0., 0.],\n",
       "            [0., 0.],\n",
       "            [0., 0.]],\n",
       "\n",
       "           [[0., 0.],\n",
       "            [0., 0.],\n",
       "            [0., 0.]],\n",
       "\n",
       "           [[0., 0.],\n",
       "            [0., 0.],\n",
       "            [0., 0.]]],\n",
       "\n",
       "\n",
       "          [[[0., 0.],\n",
       "            [0., 0.],\n",
       "            [0., 0.]],\n",
       "\n",
       "           [[0., 0.],\n",
       "            [0., 0.],\n",
       "            [0., 0.]],\n",
       "\n",
       "           [[0., 0.],\n",
       "            [0., 0.],\n",
       "            [0., 0.]],\n",
       "\n",
       "           [[0., 0.],\n",
       "            [0., 0.],\n",
       "            [0., 0.]]],\n",
       "\n",
       "\n",
       "          [[[0., 0.],\n",
       "            [0., 0.],\n",
       "            [0., 0.]],\n",
       "\n",
       "           [[0., 0.],\n",
       "            [0., 0.],\n",
       "            [0., 0.]],\n",
       "\n",
       "           [[0., 0.],\n",
       "            [0., 0.],\n",
       "            [0., 0.]],\n",
       "\n",
       "           [[0., 0.],\n",
       "            [0., 0.],\n",
       "            [0., 0.]]],\n",
       "\n",
       "\n",
       "          [[[0., 0.],\n",
       "            [0., 0.],\n",
       "            [0., 0.]],\n",
       "\n",
       "           [[0., 0.],\n",
       "            [0., 0.],\n",
       "            [0., 0.]],\n",
       "\n",
       "           [[0., 0.],\n",
       "            [0., 0.],\n",
       "            [0., 0.]],\n",
       "\n",
       "           [[0., 0.],\n",
       "            [0., 0.],\n",
       "            [0., 0.]]],\n",
       "\n",
       "\n",
       "          [[[0., 0.],\n",
       "            [0., 0.],\n",
       "            [0., 0.]],\n",
       "\n",
       "           [[0., 0.],\n",
       "            [0., 0.],\n",
       "            [0., 0.]],\n",
       "\n",
       "           [[0., 0.],\n",
       "            [0., 0.],\n",
       "            [0., 0.]],\n",
       "\n",
       "           [[0., 0.],\n",
       "            [0., 0.],\n",
       "            [0., 0.]]]],\n",
       "\n",
       "\n",
       "\n",
       "         [[[[0., 0.],\n",
       "            [0., 0.],\n",
       "            [0., 0.]],\n",
       "\n",
       "           [[0., 0.],\n",
       "            [0., 0.],\n",
       "            [0., 0.]],\n",
       "\n",
       "           [[0., 0.],\n",
       "            [0., 0.],\n",
       "            [0., 0.]],\n",
       "\n",
       "           [[0., 0.],\n",
       "            [0., 0.],\n",
       "            [0., 0.]]],\n",
       "\n",
       "\n",
       "          [[[0., 0.],\n",
       "            [0., 0.],\n",
       "            [0., 0.]],\n",
       "\n",
       "           [[0., 0.],\n",
       "            [0., 0.],\n",
       "            [0., 0.]],\n",
       "\n",
       "           [[0., 0.],\n",
       "            [0., 0.],\n",
       "            [0., 0.]],\n",
       "\n",
       "           [[0., 0.],\n",
       "            [0., 0.],\n",
       "            [0., 0.]]],\n",
       "\n",
       "\n",
       "          [[[0., 0.],\n",
       "            [0., 0.],\n",
       "            [0., 0.]],\n",
       "\n",
       "           [[0., 0.],\n",
       "            [0., 0.],\n",
       "            [0., 0.]],\n",
       "\n",
       "           [[0., 0.],\n",
       "            [0., 0.],\n",
       "            [0., 0.]],\n",
       "\n",
       "           [[0., 0.],\n",
       "            [0., 0.],\n",
       "            [0., 0.]]],\n",
       "\n",
       "\n",
       "          [[[0., 0.],\n",
       "            [0., 0.],\n",
       "            [0., 0.]],\n",
       "\n",
       "           [[0., 0.],\n",
       "            [0., 0.],\n",
       "            [0., 0.]],\n",
       "\n",
       "           [[0., 0.],\n",
       "            [0., 0.],\n",
       "            [0., 0.]],\n",
       "\n",
       "           [[0., 0.],\n",
       "            [0., 0.],\n",
       "            [0., 0.]]],\n",
       "\n",
       "\n",
       "          [[[0., 0.],\n",
       "            [0., 0.],\n",
       "            [0., 0.]],\n",
       "\n",
       "           [[0., 0.],\n",
       "            [0., 0.],\n",
       "            [0., 0.]],\n",
       "\n",
       "           [[0., 0.],\n",
       "            [0., 0.],\n",
       "            [0., 0.]],\n",
       "\n",
       "           [[0., 0.],\n",
       "            [0., 0.],\n",
       "            [0., 0.]]]],\n",
       "\n",
       "\n",
       "\n",
       "         [[[[0., 0.],\n",
       "            [0., 0.],\n",
       "            [0., 0.]],\n",
       "\n",
       "           [[0., 0.],\n",
       "            [0., 0.],\n",
       "            [0., 0.]],\n",
       "\n",
       "           [[0., 0.],\n",
       "            [0., 0.],\n",
       "            [0., 0.]],\n",
       "\n",
       "           [[0., 0.],\n",
       "            [0., 0.],\n",
       "            [0., 0.]]],\n",
       "\n",
       "\n",
       "          [[[0., 0.],\n",
       "            [0., 0.],\n",
       "            [0., 0.]],\n",
       "\n",
       "           [[0., 0.],\n",
       "            [0., 0.],\n",
       "            [0., 0.]],\n",
       "\n",
       "           [[0., 0.],\n",
       "            [0., 0.],\n",
       "            [0., 0.]],\n",
       "\n",
       "           [[0., 0.],\n",
       "            [0., 0.],\n",
       "            [0., 0.]]],\n",
       "\n",
       "\n",
       "          [[[0., 0.],\n",
       "            [0., 0.],\n",
       "            [0., 0.]],\n",
       "\n",
       "           [[0., 0.],\n",
       "            [0., 0.],\n",
       "            [0., 0.]],\n",
       "\n",
       "           [[0., 0.],\n",
       "            [0., 0.],\n",
       "            [0., 0.]],\n",
       "\n",
       "           [[0., 0.],\n",
       "            [0., 0.],\n",
       "            [0., 0.]]],\n",
       "\n",
       "\n",
       "          [[[0., 0.],\n",
       "            [0., 0.],\n",
       "            [0., 0.]],\n",
       "\n",
       "           [[0., 0.],\n",
       "            [0., 0.],\n",
       "            [0., 0.]],\n",
       "\n",
       "           [[0., 0.],\n",
       "            [0., 0.],\n",
       "            [0., 0.]],\n",
       "\n",
       "           [[0., 0.],\n",
       "            [0., 0.],\n",
       "            [0., 0.]]],\n",
       "\n",
       "\n",
       "          [[[0., 0.],\n",
       "            [0., 0.],\n",
       "            [0., 0.]],\n",
       "\n",
       "           [[0., 0.],\n",
       "            [0., 0.],\n",
       "            [0., 0.]],\n",
       "\n",
       "           [[0., 0.],\n",
       "            [0., 0.],\n",
       "            [0., 0.]],\n",
       "\n",
       "           [[0., 0.],\n",
       "            [0., 0.],\n",
       "            [0., 0.]]]]],\n",
       "\n",
       "\n",
       "\n",
       "\n",
       "        [[[[[0., 0.],\n",
       "            [0., 0.],\n",
       "            [0., 0.]],\n",
       "\n",
       "           [[0., 0.],\n",
       "            [0., 0.],\n",
       "            [0., 0.]],\n",
       "\n",
       "           [[0., 0.],\n",
       "            [0., 0.],\n",
       "            [0., 0.]],\n",
       "\n",
       "           [[0., 0.],\n",
       "            [0., 0.],\n",
       "            [0., 0.]]],\n",
       "\n",
       "\n",
       "          [[[0., 0.],\n",
       "            [0., 0.],\n",
       "            [0., 0.]],\n",
       "\n",
       "           [[0., 0.],\n",
       "            [0., 0.],\n",
       "            [0., 0.]],\n",
       "\n",
       "           [[0., 0.],\n",
       "            [0., 0.],\n",
       "            [0., 0.]],\n",
       "\n",
       "           [[0., 0.],\n",
       "            [0., 0.],\n",
       "            [0., 0.]]],\n",
       "\n",
       "\n",
       "          [[[0., 0.],\n",
       "            [0., 0.],\n",
       "            [0., 0.]],\n",
       "\n",
       "           [[0., 0.],\n",
       "            [0., 0.],\n",
       "            [0., 0.]],\n",
       "\n",
       "           [[0., 0.],\n",
       "            [0., 0.],\n",
       "            [0., 0.]],\n",
       "\n",
       "           [[0., 0.],\n",
       "            [0., 0.],\n",
       "            [0., 0.]]],\n",
       "\n",
       "\n",
       "          [[[0., 0.],\n",
       "            [0., 0.],\n",
       "            [0., 0.]],\n",
       "\n",
       "           [[0., 0.],\n",
       "            [0., 0.],\n",
       "            [0., 0.]],\n",
       "\n",
       "           [[0., 0.],\n",
       "            [0., 0.],\n",
       "            [0., 0.]],\n",
       "\n",
       "           [[0., 0.],\n",
       "            [0., 0.],\n",
       "            [0., 0.]]],\n",
       "\n",
       "\n",
       "          [[[0., 0.],\n",
       "            [0., 0.],\n",
       "            [0., 0.]],\n",
       "\n",
       "           [[0., 0.],\n",
       "            [0., 0.],\n",
       "            [0., 0.]],\n",
       "\n",
       "           [[0., 0.],\n",
       "            [0., 0.],\n",
       "            [0., 0.]],\n",
       "\n",
       "           [[0., 0.],\n",
       "            [0., 0.],\n",
       "            [0., 0.]]]],\n",
       "\n",
       "\n",
       "\n",
       "         [[[[0., 0.],\n",
       "            [0., 0.],\n",
       "            [0., 0.]],\n",
       "\n",
       "           [[0., 0.],\n",
       "            [0., 0.],\n",
       "            [0., 0.]],\n",
       "\n",
       "           [[0., 0.],\n",
       "            [0., 0.],\n",
       "            [0., 0.]],\n",
       "\n",
       "           [[0., 0.],\n",
       "            [0., 0.],\n",
       "            [0., 0.]]],\n",
       "\n",
       "\n",
       "          [[[0., 0.],\n",
       "            [0., 0.],\n",
       "            [0., 0.]],\n",
       "\n",
       "           [[0., 0.],\n",
       "            [0., 0.],\n",
       "            [0., 0.]],\n",
       "\n",
       "           [[0., 0.],\n",
       "            [0., 0.],\n",
       "            [0., 0.]],\n",
       "\n",
       "           [[0., 0.],\n",
       "            [0., 0.],\n",
       "            [0., 0.]]],\n",
       "\n",
       "\n",
       "          [[[0., 0.],\n",
       "            [0., 0.],\n",
       "            [0., 0.]],\n",
       "\n",
       "           [[0., 0.],\n",
       "            [0., 0.],\n",
       "            [0., 0.]],\n",
       "\n",
       "           [[0., 0.],\n",
       "            [0., 0.],\n",
       "            [0., 0.]],\n",
       "\n",
       "           [[0., 0.],\n",
       "            [0., 0.],\n",
       "            [0., 0.]]],\n",
       "\n",
       "\n",
       "          [[[0., 0.],\n",
       "            [0., 0.],\n",
       "            [0., 0.]],\n",
       "\n",
       "           [[0., 0.],\n",
       "            [0., 0.],\n",
       "            [0., 0.]],\n",
       "\n",
       "           [[0., 0.],\n",
       "            [0., 0.],\n",
       "            [0., 0.]],\n",
       "\n",
       "           [[0., 0.],\n",
       "            [0., 0.],\n",
       "            [0., 0.]]],\n",
       "\n",
       "\n",
       "          [[[0., 0.],\n",
       "            [0., 0.],\n",
       "            [0., 0.]],\n",
       "\n",
       "           [[0., 0.],\n",
       "            [0., 0.],\n",
       "            [0., 0.]],\n",
       "\n",
       "           [[0., 0.],\n",
       "            [0., 0.],\n",
       "            [0., 0.]],\n",
       "\n",
       "           [[0., 0.],\n",
       "            [0., 0.],\n",
       "            [0., 0.]]]],\n",
       "\n",
       "\n",
       "\n",
       "         [[[[0., 0.],\n",
       "            [0., 0.],\n",
       "            [0., 0.]],\n",
       "\n",
       "           [[0., 0.],\n",
       "            [0., 0.],\n",
       "            [0., 0.]],\n",
       "\n",
       "           [[0., 0.],\n",
       "            [0., 0.],\n",
       "            [0., 0.]],\n",
       "\n",
       "           [[0., 0.],\n",
       "            [0., 0.],\n",
       "            [0., 0.]]],\n",
       "\n",
       "\n",
       "          [[[0., 0.],\n",
       "            [0., 0.],\n",
       "            [0., 0.]],\n",
       "\n",
       "           [[0., 0.],\n",
       "            [0., 0.],\n",
       "            [0., 0.]],\n",
       "\n",
       "           [[0., 0.],\n",
       "            [0., 0.],\n",
       "            [0., 0.]],\n",
       "\n",
       "           [[0., 0.],\n",
       "            [0., 0.],\n",
       "            [0., 0.]]],\n",
       "\n",
       "\n",
       "          [[[0., 0.],\n",
       "            [0., 0.],\n",
       "            [0., 0.]],\n",
       "\n",
       "           [[0., 0.],\n",
       "            [0., 0.],\n",
       "            [0., 0.]],\n",
       "\n",
       "           [[0., 0.],\n",
       "            [0., 0.],\n",
       "            [0., 0.]],\n",
       "\n",
       "           [[0., 0.],\n",
       "            [0., 0.],\n",
       "            [0., 0.]]],\n",
       "\n",
       "\n",
       "          [[[0., 0.],\n",
       "            [0., 0.],\n",
       "            [0., 0.]],\n",
       "\n",
       "           [[0., 0.],\n",
       "            [0., 0.],\n",
       "            [0., 0.]],\n",
       "\n",
       "           [[0., 0.],\n",
       "            [0., 0.],\n",
       "            [0., 0.]],\n",
       "\n",
       "           [[0., 0.],\n",
       "            [0., 0.],\n",
       "            [0., 0.]]],\n",
       "\n",
       "\n",
       "          [[[0., 0.],\n",
       "            [0., 0.],\n",
       "            [0., 0.]],\n",
       "\n",
       "           [[0., 0.],\n",
       "            [0., 0.],\n",
       "            [0., 0.]],\n",
       "\n",
       "           [[0., 0.],\n",
       "            [0., 0.],\n",
       "            [0., 0.]],\n",
       "\n",
       "           [[0., 0.],\n",
       "            [0., 0.],\n",
       "            [0., 0.]]]],\n",
       "\n",
       "\n",
       "\n",
       "         [[[[0., 0.],\n",
       "            [0., 0.],\n",
       "            [0., 0.]],\n",
       "\n",
       "           [[0., 0.],\n",
       "            [0., 0.],\n",
       "            [0., 0.]],\n",
       "\n",
       "           [[0., 0.],\n",
       "            [0., 0.],\n",
       "            [0., 0.]],\n",
       "\n",
       "           [[0., 0.],\n",
       "            [0., 0.],\n",
       "            [0., 0.]]],\n",
       "\n",
       "\n",
       "          [[[0., 0.],\n",
       "            [0., 0.],\n",
       "            [0., 0.]],\n",
       "\n",
       "           [[0., 0.],\n",
       "            [0., 0.],\n",
       "            [0., 0.]],\n",
       "\n",
       "           [[0., 0.],\n",
       "            [0., 0.],\n",
       "            [0., 0.]],\n",
       "\n",
       "           [[0., 0.],\n",
       "            [0., 0.],\n",
       "            [0., 0.]]],\n",
       "\n",
       "\n",
       "          [[[0., 0.],\n",
       "            [0., 0.],\n",
       "            [0., 0.]],\n",
       "\n",
       "           [[0., 0.],\n",
       "            [0., 0.],\n",
       "            [0., 0.]],\n",
       "\n",
       "           [[0., 0.],\n",
       "            [0., 0.],\n",
       "            [0., 0.]],\n",
       "\n",
       "           [[0., 0.],\n",
       "            [0., 0.],\n",
       "            [0., 0.]]],\n",
       "\n",
       "\n",
       "          [[[0., 0.],\n",
       "            [0., 0.],\n",
       "            [0., 0.]],\n",
       "\n",
       "           [[0., 0.],\n",
       "            [0., 0.],\n",
       "            [0., 0.]],\n",
       "\n",
       "           [[0., 0.],\n",
       "            [0., 0.],\n",
       "            [0., 0.]],\n",
       "\n",
       "           [[0., 0.],\n",
       "            [0., 0.],\n",
       "            [0., 0.]]],\n",
       "\n",
       "\n",
       "          [[[0., 0.],\n",
       "            [0., 0.],\n",
       "            [0., 0.]],\n",
       "\n",
       "           [[0., 0.],\n",
       "            [0., 0.],\n",
       "            [0., 0.]],\n",
       "\n",
       "           [[0., 0.],\n",
       "            [0., 0.],\n",
       "            [0., 0.]],\n",
       "\n",
       "           [[0., 0.],\n",
       "            [0., 0.],\n",
       "            [0., 0.]]]]]]])"
      ]
     },
     "execution_count": 104,
     "metadata": {},
     "output_type": "execute_result"
    }
   ],
   "source": [
    "np.zeros((2,3,4,5,4,3,2))\n",
    "#although this becomes less and less interpretable as we increase the dims "
   ]
  },
  {
   "cell_type": "markdown",
   "metadata": {},
   "source": [
    "Instead of passing in zeros, **np.ones** works the same way but fills the array with ones. "
   ]
  },
  {
   "cell_type": "code",
   "execution_count": 105,
   "metadata": {},
   "outputs": [
    {
     "data": {
      "text/plain": [
       "array([1., 1., 1., 1., 1., 1., 1., 1., 1., 1.])"
      ]
     },
     "execution_count": 105,
     "metadata": {},
     "output_type": "execute_result"
    }
   ],
   "source": [
    "np.ones(10)"
   ]
  },
  {
   "cell_type": "markdown",
   "metadata": {},
   "source": [
    "If you want another constant in your array, use **np.full**.\n"
   ]
  },
  {
   "cell_type": "code",
   "execution_count": 106,
   "metadata": {},
   "outputs": [
    {
     "data": {
      "text/plain": [
       "array([[9, 9, 9, 9],\n",
       "       [9, 9, 9, 9],\n",
       "       [9, 9, 9, 9]])"
      ]
     },
     "execution_count": 106,
     "metadata": {},
     "output_type": "execute_result"
    }
   ],
   "source": [
    "np.full((3,4), fill_value = 9)"
   ]
  },
  {
   "cell_type": "code",
   "execution_count": 107,
   "metadata": {},
   "outputs": [
    {
     "data": {
      "text/plain": [
       "array([[3.14159265, 3.14159265, 3.14159265, 3.14159265, 3.14159265],\n",
       "       [3.14159265, 3.14159265, 3.14159265, 3.14159265, 3.14159265]])"
      ]
     },
     "execution_count": 107,
     "metadata": {},
     "output_type": "execute_result"
    }
   ],
   "source": [
    "np.full((2,5), np.pi)"
   ]
  },
  {
   "cell_type": "markdown",
   "metadata": {},
   "source": [
    "OR use np.ones and **multiply by a scalar value** instead of using np.full"
   ]
  },
  {
   "cell_type": "code",
   "execution_count": 108,
   "metadata": {},
   "outputs": [
    {
     "data": {
      "text/plain": [
       "array([[5., 5., 5., 5., 5.],\n",
       "       [5., 5., 5., 5., 5.]])"
      ]
     },
     "execution_count": 108,
     "metadata": {},
     "output_type": "execute_result"
    }
   ],
   "source": [
    "np.ones((2,5))*5"
   ]
  },
  {
   "cell_type": "markdown",
   "metadata": {},
   "source": [
    "\n",
    "**np.linspace** creates an equally spaced grid of numbers between two endpoints.\n",
    "\n",
    "(Usually works well to have an odd number of points)\n"
   ]
  },
  {
   "cell_type": "code",
   "execution_count": 112,
   "metadata": {},
   "outputs": [
    {
     "data": {
      "text/plain": [
       "array([0.  , 0.25, 0.5 , 0.75, 1.  ])"
      ]
     },
     "execution_count": 112,
     "metadata": {},
     "output_type": "execute_result"
    }
   ],
   "source": [
    "#if you dont pass in the num argument, linspace defaults to 50\n",
    "np.linspace(0, 1, num=5)"
   ]
  },
  {
   "cell_type": "code",
   "execution_count": 110,
   "metadata": {},
   "outputs": [
    {
     "data": {
      "text/plain": [
       "array([ 0.,  1.,  2.,  3.,  4.,  5.,  6.,  7.,  8.,  9., 10.])"
      ]
     },
     "execution_count": 110,
     "metadata": {},
     "output_type": "execute_result"
    }
   ],
   "source": [
    "np.linspace(0, 10, num=11)"
   ]
  },
  {
   "cell_type": "code",
   "execution_count": 113,
   "metadata": {},
   "outputs": [
    {
     "data": {
      "text/plain": [
       "array([0.  , 0.05, 0.1 , 0.15, 0.2 , 0.25, 0.3 , 0.35, 0.4 , 0.45, 0.5 ,\n",
       "       0.55, 0.6 , 0.65, 0.7 , 0.75, 0.8 , 0.85, 0.9 , 0.95, 1.  ])"
      ]
     },
     "execution_count": 113,
     "metadata": {},
     "output_type": "execute_result"
    }
   ],
   "source": [
    "np.linspace(0, 1, num=21)"
   ]
  },
  {
   "cell_type": "code",
   "execution_count": 114,
   "metadata": {},
   "outputs": [
    {
     "data": {
      "text/plain": [
       "array([10., 11., 12., 13., 14., 15., 16., 17., 18., 19., 20.])"
      ]
     },
     "execution_count": 114,
     "metadata": {},
     "output_type": "execute_result"
    }
   ],
   "source": [
    "# use np.linspace to create values 10 through and including 20\n",
    "# only integeger values should be returned\n",
    "np.linspace(10,20, num=11)"
   ]
  },
  {
   "cell_type": "code",
   "execution_count": 115,
   "metadata": {},
   "outputs": [
    {
     "data": {
      "text/plain": [
       "array([10., 11., 12., 13., 14., 15., 16., 17., 18., 19., 20.])"
      ]
     },
     "execution_count": 115,
     "metadata": {},
     "output_type": "execute_result"
    }
   ],
   "source": [
    "np.linspace(10,20, num =11)"
   ]
  },
  {
   "cell_type": "markdown",
   "metadata": {},
   "source": [
    "\n",
    "\n",
    "**np.logspace** Creates a set of points (including start and end) on logarithmic space\n"
   ]
  },
  {
   "cell_type": "code",
   "execution_count": 116,
   "metadata": {},
   "outputs": [
    {
     "data": {
      "text/plain": [
       "array([1.e+00, 1.e+01, 1.e+02, 1.e+03, 1.e+04, 1.e+05, 1.e+06, 1.e+07])"
      ]
     },
     "execution_count": 116,
     "metadata": {},
     "output_type": "execute_result"
    }
   ],
   "source": [
    "np.logspace(0,7,num = 8)\n",
    "# 10**start\n",
    "# 10**stop\n",
    "# number of steps"
   ]
  },
  {
   "cell_type": "markdown",
   "metadata": {},
   "source": [
    "**np.arange** is just like the python range function but it makes an array"
   ]
  },
  {
   "cell_type": "code",
   "execution_count": 117,
   "metadata": {},
   "outputs": [
    {
     "data": {
      "text/plain": [
       "array([0, 1, 2, 3, 4, 5, 6, 7, 8, 9])"
      ]
     },
     "execution_count": 117,
     "metadata": {},
     "output_type": "execute_result"
    }
   ],
   "source": [
    "np.arange(10)"
   ]
  },
  {
   "cell_type": "code",
   "execution_count": 118,
   "metadata": {},
   "outputs": [
    {
     "data": {
      "text/plain": [
       "array([2, 3, 4, 5, 6, 7, 8, 9])"
      ]
     },
     "execution_count": 118,
     "metadata": {},
     "output_type": "execute_result"
    }
   ],
   "source": [
    "np.arange(2, 10)"
   ]
  },
  {
   "cell_type": "code",
   "execution_count": 119,
   "metadata": {},
   "outputs": [
    {
     "data": {
      "text/plain": [
       "array([ 2,  4,  6,  8, 10, 12, 14, 16, 18])"
      ]
     },
     "execution_count": 119,
     "metadata": {},
     "output_type": "execute_result"
    }
   ],
   "source": [
    "np.arange(2, 20, 2)"
   ]
  },
  {
   "cell_type": "markdown",
   "metadata": {},
   "source": [
    "\n",
    "**np.random.uniform & np.random.normal**\n",
    "\n",
    "The **np.random** subpackage contains some functions for creating arrays of random numbers. These two are the most useful, but there are more!\n"
   ]
  },
  {
   "cell_type": "code",
   "execution_count": 120,
   "metadata": {},
   "outputs": [
    {
     "data": {
      "text/plain": [
       "array([7.6396102 , 9.40567759, 9.58367298, 6.7028066 , 1.39981593,\n",
       "       2.03273764, 2.39729384, 0.08215544, 9.17271936, 5.49993496])"
      ]
     },
     "execution_count": 120,
     "metadata": {},
     "output_type": "execute_result"
    }
   ],
   "source": [
    "# draws samples from uniform distribution \n",
    "#every continuous value between low and high has an equal chance of being \"chosen\"\n",
    "import numpy as np\n",
    "np.random.uniform(low=0.0, high=10.0, size=10)"
   ]
  },
  {
   "cell_type": "code",
   "execution_count": 124,
   "metadata": {},
   "outputs": [
    {
     "data": {
      "image/png": "[encoded data removed]",
      "text/plain": [
       "<Figure size 720x288 with 1 Axes>"
      ]
     },
     "metadata": {
      "needs_background": "light"
     },
     "output_type": "display_data"
    }
   ],
   "source": [
    "unif = np.random.uniform(low=0.0, high=10.0, size=10**5)\n",
    "\n",
    "# If we draw enough samples, we can get a visual of what the uniform distribution looks like...\n",
    "\n",
    "import matplotlib.pyplot as plt\n",
    "fig, ax = plt.subplots(figsize=(10, 4))\n",
    "ax.hist(unif, bins=200, color=\"orange\");"
   ]
  },
  {
   "cell_type": "code",
   "execution_count": 4,
   "metadata": {},
   "outputs": [
    {
     "data": {
      "text/plain": [
       "array([-0.84170738, -0.59467322, -0.58520963, -1.44888115, -0.87472271,\n",
       "       -0.47074555,  0.17484575, -0.86014716,  0.0672372 , -0.46866307])"
      ]
     },
     "execution_count": 4,
     "metadata": {},
     "output_type": "execute_result"
    }
   ],
   "source": [
    "#Lets draw random values from the normal distribution\n",
    "#loc represents the mean of the normal dist and scale is our standard deviation (or width of our distribution)\n",
    "# The function has its peak at the mean, and its “spread” increases with the standard deviation \n",
    "#This implies that normal is more likely to return samples lying close to the mean, rather than those far away.\n",
    "\n",
    "np.random.normal(loc=0.0, scale=1, size=10)\n"
   ]
  },
  {
   "cell_type": "code",
   "execution_count": 126,
   "metadata": {},
   "outputs": [
    {
     "data": {
      "image/png": "[encoded data removed]",
      "text/plain": [
       "<Figure size 720x288 with 1 Axes>"
      ]
     },
     "metadata": {
      "needs_background": "light"
     },
     "output_type": "display_data"
    }
   ],
   "source": [
    "#lets take a look at the random returns of our np.random.normal\n",
    "\n",
    "unif = np.random.normal(loc=0.0, scale=1.0, size=10**7)\n",
    "\n",
    "fig, ax = plt.subplots(figsize=(10, 4))\n",
    "_ = ax.hist(unif, bins=100, color=\"brown\")"
   ]
  },
  {
   "cell_type": "markdown",
   "metadata": {},
   "source": [
    "\n",
    "## Broadcasting\n",
    "\n",
    "### Boradcasting: Equal Length Arrays\n",
    "\n",
    "One of the most useful features of arrays is called **broadcasting**. At its most basic, boradcasting means that any arithmetic operation applied to an array is interpreted as being applied **element by element**.\n"
   ]
  },
  {
   "cell_type": "code",
   "execution_count": 127,
   "metadata": {},
   "outputs": [],
   "source": [
    "x = np.array([1, 2, 3, 4, 5,  6])\n",
    "y = np.array([2, 4, 6, 8, 10, 12])"
   ]
  },
  {
   "cell_type": "code",
   "execution_count": 128,
   "metadata": {},
   "outputs": [
    {
     "data": {
      "text/plain": [
       "array([ 3,  6,  9, 12, 15, 18])"
      ]
     },
     "execution_count": 128,
     "metadata": {},
     "output_type": "execute_result"
    }
   ],
   "source": [
    "#note how addition of arrays adds each element in x to the corresponding element in y\n",
    "x+y\n"
   ]
  },
  {
   "cell_type": "code",
   "execution_count": 129,
   "metadata": {},
   "outputs": [
    {
     "data": {
      "text/plain": [
       "array([-1, -2, -3, -4, -5, -6])"
      ]
     },
     "execution_count": 129,
     "metadata": {},
     "output_type": "execute_result"
    }
   ],
   "source": [
    "#same with subtration.\n",
    "x - y"
   ]
  },
  {
   "cell_type": "code",
   "execution_count": 130,
   "metadata": {},
   "outputs": [
    {
     "data": {
      "text/plain": [
       "array([ 2,  8, 18, 32, 50, 72])"
      ]
     },
     "execution_count": 130,
     "metadata": {},
     "output_type": "execute_result"
    }
   ],
   "source": [
    "#lets guess what happens here\n",
    "x*y"
   ]
  },
  {
   "cell_type": "code",
   "execution_count": 131,
   "metadata": {},
   "outputs": [
    {
     "data": {
      "text/plain": [
       "array([0.5, 0.5, 0.5, 0.5, 0.5, 0.5])"
      ]
     },
     "execution_count": 131,
     "metadata": {},
     "output_type": "execute_result"
    }
   ],
   "source": [
    "x/y"
   ]
  },
  {
   "cell_type": "code",
   "execution_count": 132,
   "metadata": {},
   "outputs": [
    {
     "data": {
      "text/plain": [
       "array([1, 2, 3, 4, 5, 6])"
      ]
     },
     "execution_count": 132,
     "metadata": {},
     "output_type": "execute_result"
    }
   ],
   "source": [
    "#wait... what about with modulo? \n",
    "x%y"
   ]
  },
  {
   "cell_type": "markdown",
   "metadata": {},
   "source": [
    "### Broadcasting With a Constant\n",
    "\n",
    "This is all pretty clear cut when the arrays have the **same shape**, but it's more powerful that that.\n",
    "\n",
    "You can replace one of the arrays with a **constant** and that constant will be treated as if it were an entire array:\n"
   ]
  },
  {
   "cell_type": "code",
   "execution_count": 133,
   "metadata": {},
   "outputs": [
    {
     "data": {
      "text/plain": [
       "array([ 3,  6,  9, 12, 15, 18])"
      ]
     },
     "execution_count": 133,
     "metadata": {},
     "output_type": "execute_result"
    }
   ],
   "source": [
    "3 * x"
   ]
  },
  {
   "cell_type": "code",
   "execution_count": 134,
   "metadata": {},
   "outputs": [
    {
     "data": {
      "text/plain": [
       "array([1., 2., 3., 4., 5., 6.])"
      ]
     },
     "execution_count": 134,
     "metadata": {},
     "output_type": "execute_result"
    }
   ],
   "source": [
    "y / 2"
   ]
  },
  {
   "cell_type": "code",
   "execution_count": 135,
   "metadata": {},
   "outputs": [
    {
     "data": {
      "text/plain": [
       "array([1, 0, 1, 0, 1, 0])"
      ]
     },
     "execution_count": 135,
     "metadata": {},
     "output_type": "execute_result"
    }
   ],
   "source": [
    "x % 2"
   ]
  },
  {
   "cell_type": "markdown",
   "metadata": {},
   "source": [
    "You can also broadcast with **comparison operators**, this is very useful when combined with something we'll talk about later:"
   ]
  },
  {
   "cell_type": "code",
   "execution_count": null,
   "metadata": {},
   "outputs": [],
   "source": [
    "x <= 3"
   ]
  },
  {
   "cell_type": "code",
   "execution_count": 136,
   "metadata": {},
   "outputs": [
    {
     "data": {
      "text/plain": [
       "array([1, 2, 3])"
      ]
     },
     "execution_count": 136,
     "metadata": {},
     "output_type": "execute_result"
    }
   ],
   "source": [
    "# okay so I know the indexes of where x is less than or equal to 3\n",
    "# lets return those values where indexes are true\n",
    "# here we throw in the boolean arrays as an indexing parameter to return what we want to see\n",
    "\n",
    "#this will only show us valeus of x where \"True\" is indexed\n",
    "x[x<=3]"
   ]
  },
  {
   "cell_type": "markdown",
   "metadata": {},
   "source": [
    "\n",
    "\n",
    "If you need to combine boolean arrays with logical operators, broadcasting also applys to the & (and) and | (or) operators:\n"
   ]
  },
  {
   "cell_type": "code",
   "execution_count": 137,
   "metadata": {},
   "outputs": [
    {
     "data": {
      "text/plain": [
       "array([1, 2, 3, 4, 5, 6])"
      ]
     },
     "execution_count": 137,
     "metadata": {},
     "output_type": "execute_result"
    }
   ],
   "source": [
    "x"
   ]
  },
  {
   "cell_type": "code",
   "execution_count": 138,
   "metadata": {},
   "outputs": [
    {
     "data": {
      "text/plain": [
       "array([ True,  True, False, False,  True,  True])"
      ]
     },
     "execution_count": 138,
     "metadata": {},
     "output_type": "execute_result"
    }
   ],
   "source": [
    "# Lets see all of the values that are <= 2 OR >= 5\n",
    "(x <= 2) | (x >= 5)"
   ]
  },
  {
   "cell_type": "code",
   "execution_count": 139,
   "metadata": {},
   "outputs": [
    {
     "data": {
      "text/plain": [
       "array([1, 2, 5, 6])"
      ]
     },
     "execution_count": 139,
     "metadata": {},
     "output_type": "execute_result"
    }
   ],
   "source": [
    "#again, use that boolean array to index aka using a mask\n",
    "x[(x <= 2) | (x >= 5)]"
   ]
  },
  {
   "cell_type": "code",
   "execution_count": 140,
   "metadata": {},
   "outputs": [
    {
     "data": {
      "text/plain": [
       "array([False,  True,  True,  True,  True, False])"
      ]
     },
     "execution_count": 140,
     "metadata": {},
     "output_type": "execute_result"
    }
   ],
   "source": [
    "# Lets grab all of the values that are now >= 2 AND <= 5\n",
    "(x >= 2) & (x <= 5)"
   ]
  },
  {
   "cell_type": "code",
   "execution_count": 141,
   "metadata": {},
   "outputs": [
    {
     "data": {
      "text/plain": [
       "array([2, 3, 4, 5])"
      ]
     },
     "execution_count": 141,
     "metadata": {},
     "output_type": "execute_result"
    }
   ],
   "source": [
    "x[(x >= 2) & (x <= 5)]"
   ]
  },
  {
   "cell_type": "markdown",
   "metadata": {},
   "source": [
    "\n",
    "### Broadcasting Multi-dimensional Arrays\n",
    "\n",
    "Broadcasting also works for multi-dimensional arrays, but it takes some practice and getting used to.\n",
    "\n",
    "**Restrictions**\n",
    "\n",
    "Broadcasting can only be performed when the shape of each dimension in the arrays are equal and/or one has the dimension size of 1.\n"
   ]
  },
  {
   "cell_type": "code",
   "execution_count": 142,
   "metadata": {},
   "outputs": [
    {
     "data": {
      "text/plain": [
       "array([[1., 1., 1., 1.],\n",
       "       [1., 1., 1., 1.],\n",
       "       [1., 1., 1., 1.],\n",
       "       [1., 1., 1., 1.],\n",
       "       [1., 1., 1., 1.]])"
      ]
     },
     "execution_count": 142,
     "metadata": {},
     "output_type": "execute_result"
    }
   ],
   "source": [
    "x = np.ones((5, 4))\n",
    "x"
   ]
  },
  {
   "cell_type": "markdown",
   "metadata": {},
   "source": [
    "\n",
    "\n",
    "The constant (scalar) case is the same as it ever was and doesn't cause much issue.\n"
   ]
  },
  {
   "cell_type": "code",
   "execution_count": 143,
   "metadata": {},
   "outputs": [
    {
     "data": {
      "text/plain": [
       "array([[2., 2., 2., 2.],\n",
       "       [2., 2., 2., 2.],\n",
       "       [2., 2., 2., 2.],\n",
       "       [2., 2., 2., 2.],\n",
       "       [2., 2., 2., 2.]])"
      ]
     },
     "execution_count": 143,
     "metadata": {},
     "output_type": "execute_result"
    }
   ],
   "source": [
    "x * 2"
   ]
  },
  {
   "cell_type": "markdown",
   "metadata": {},
   "source": [
    "\n",
    "\n",
    "But now things get pretty intersting. If you broadcast with a one dimensional array, cool stuff happens:\n"
   ]
  },
  {
   "cell_type": "code",
   "execution_count": 144,
   "metadata": {},
   "outputs": [
    {
     "data": {
      "text/plain": [
       "((4,), (5, 4))"
      ]
     },
     "execution_count": 144,
     "metadata": {},
     "output_type": "execute_result"
    }
   ],
   "source": [
    "#new array\n",
    "b = np.array([1, 2, 3, 4])\n",
    "b.shape, x.shape"
   ]
  },
  {
   "cell_type": "code",
   "execution_count": 146,
   "metadata": {},
   "outputs": [
    {
     "name": "stdout",
     "output_type": "stream",
     "text": [
      "[[1. 1. 1. 1.]\n",
      " [1. 1. 1. 1.]\n",
      " [1. 1. 1. 1.]\n",
      " [1. 1. 1. 1.]\n",
      " [1. 1. 1. 1.]]\n",
      "[1 2 3 4]\n",
      "\n",
      "[[2. 3. 4. 5.]\n",
      " [2. 3. 4. 5.]\n",
      " [2. 3. 4. 5.]\n",
      " [2. 3. 4. 5.]\n",
      " [2. 3. 4. 5.]]\n"
     ]
    }
   ],
   "source": [
    "print(x)\n",
    "print(b)\n",
    "print()\n",
    "print(x+b)\n",
    "\n"
   ]
  },
  {
   "cell_type": "markdown",
   "metadata": {},
   "source": [
    "Note that b must have the correct shape for this to happen; refer to the restrictions"
   ]
  },
  {
   "cell_type": "code",
   "execution_count": 147,
   "metadata": {},
   "outputs": [
    {
     "name": "stdout",
     "output_type": "stream",
     "text": [
      "Shape of x: (5, 4)\n",
      "Shape of b: (5,)\n"
     ]
    }
   ],
   "source": [
    "# Lets add another value to b and try again\n",
    "b = np.array([1, 2, 3, 4, 5])\n",
    "print(\"Shape of x:\", x.shape)\n",
    "print(\"Shape of b:\", b.shape)\n",
    "#note b is one dimimentional and x is two dimensions"
   ]
  },
  {
   "cell_type": "code",
   "execution_count": 148,
   "metadata": {},
   "outputs": [
    {
     "name": "stdout",
     "output_type": "stream",
     "text": [
      "[[1. 1. 1. 1.]\n",
      " [1. 1. 1. 1.]\n",
      " [1. 1. 1. 1.]\n",
      " [1. 1. 1. 1.]\n",
      " [1. 1. 1. 1.]]\n",
      "[1 2 3 4 5]\n",
      "\n"
     ]
    },
    {
     "ename": "ValueError",
     "evalue": "operands could not be broadcast together with shapes (5,4) (5,) ",
     "output_type": "error",
     "traceback": [
      "\u001b[0;31m---------------------------------------------------------------------------\u001b[0m",
      "\u001b[0;31mValueError\u001b[0m                                Traceback (most recent call last)",
      "\u001b[0;32m<ipython-input-148-20d051cf8639>\u001b[0m in \u001b[0;36m<module>\u001b[0;34m\u001b[0m\n\u001b[1;32m      2\u001b[0m \u001b[0mprint\u001b[0m\u001b[0;34m(\u001b[0m\u001b[0mb\u001b[0m\u001b[0;34m)\u001b[0m\u001b[0;34m\u001b[0m\u001b[0;34m\u001b[0m\u001b[0m\n\u001b[1;32m      3\u001b[0m \u001b[0mprint\u001b[0m\u001b[0;34m(\u001b[0m\u001b[0;34m)\u001b[0m\u001b[0;34m\u001b[0m\u001b[0;34m\u001b[0m\u001b[0m\n\u001b[0;32m----> 4\u001b[0;31m \u001b[0mprint\u001b[0m\u001b[0;34m(\u001b[0m\u001b[0mx\u001b[0m\u001b[0;34m*\u001b[0m\u001b[0mb\u001b[0m\u001b[0;34m)\u001b[0m\u001b[0;34m\u001b[0m\u001b[0;34m\u001b[0m\u001b[0m\n\u001b[0m",
      "\u001b[0;31mValueError\u001b[0m: operands could not be broadcast together with shapes (5,4) (5,) "
     ]
    }
   ],
   "source": [
    "print(x)\n",
    "print(b)\n",
    "print()\n",
    "print(x*b)"
   ]
  },
  {
   "cell_type": "markdown",
   "metadata": {},
   "source": [
    "\n",
    "\n",
    "To get this to work, we need to rehsape b.\n"
   ]
  },
  {
   "cell_type": "code",
   "execution_count": 158,
   "metadata": {},
   "outputs": [
    {
     "name": "stdout",
     "output_type": "stream",
     "text": [
      "[1 2 3 4]\n",
      "[[1]\n",
      " [2]\n",
      " [3]\n",
      " [4]]\n"
     ]
    }
   ],
   "source": [
    "b_reshaped = b.reshape(-1,1)\n",
    "print(b)\n",
    "print(b_reshaped)"
   ]
  },
  {
   "cell_type": "code",
   "execution_count": 152,
   "metadata": {},
   "outputs": [
    {
     "name": "stdout",
     "output_type": "stream",
     "text": [
      "[[1 2 3 4 5]]\n"
     ]
    }
   ],
   "source": [
    "#now we have a column vector (many rows, one column)\n",
    "b_reshaped = b.reshape(1,-1)\n",
    "print(b_reshaped)"
   ]
  },
  {
   "cell_type": "code",
   "execution_count": 160,
   "metadata": {},
   "outputs": [
    {
     "name": "stdout",
     "output_type": "stream",
     "text": [
      "Shape of x         : (5, 4)\n",
      "Shape of b_reshaped: (4, 1)\n",
      "[[1. 1. 1. 1.]\n",
      " [1. 1. 1. 1.]\n",
      " [1. 1. 1. 1.]\n",
      " [1. 1. 1. 1.]\n",
      " [1. 1. 1. 1.]]\n",
      "[[1]\n",
      " [2]\n",
      " [3]\n",
      " [4]]\n"
     ]
    }
   ],
   "source": [
    "#Note how the both first dimensions, and the number of dimensions of the arrays match now:\n",
    "\n",
    "print(\"Shape of x         :\", x.shape)\n",
    "print(\"Shape of b_reshaped:\", b_reshaped.shape)\n",
    "\n",
    "print(x)\n",
    "\n",
    "print(b_reshaped)"
   ]
  },
  {
   "cell_type": "markdown",
   "metadata": {},
   "source": [
    "In case the two arrays have the same number of dimensions, as long as the dimensions **either** match, or one of them is **exactly one**, the arrays will broadcast:"
   ]
  },
  {
   "cell_type": "code",
   "execution_count": 161,
   "metadata": {},
   "outputs": [
    {
     "ename": "ValueError",
     "evalue": "operands could not be broadcast together with shapes (5,4) (4,1) ",
     "output_type": "error",
     "traceback": [
      "\u001b[0;31m---------------------------------------------------------------------------\u001b[0m",
      "\u001b[0;31mValueError\u001b[0m                                Traceback (most recent call last)",
      "\u001b[0;32m<ipython-input-161-8b89b69ba2df>\u001b[0m in \u001b[0;36m<module>\u001b[0;34m\u001b[0m\n\u001b[0;32m----> 1\u001b[0;31m \u001b[0mx\u001b[0m \u001b[0;34m*\u001b[0m \u001b[0mb_reshaped\u001b[0m\u001b[0;34m\u001b[0m\u001b[0;34m\u001b[0m\u001b[0m\n\u001b[0m",
      "\u001b[0;31mValueError\u001b[0m: operands could not be broadcast together with shapes (5,4) (4,1) "
     ]
    }
   ],
   "source": [
    "x * b_reshaped"
   ]
  },
  {
   "cell_type": "markdown",
   "metadata": {},
   "source": [
    "The unit length dimensions are stretched to until the arrays have the same shape, then they are broadcast.\n",
    "\n",
    "Note: We could also accomplish the first example with the same reshape principle.\n"
   ]
  },
  {
   "cell_type": "code",
   "execution_count": 166,
   "metadata": {},
   "outputs": [
    {
     "data": {
      "text/plain": [
       "array([[1],\n",
       "       [2],\n",
       "       [3],\n",
       "       [4],\n",
       "       [5]])"
      ]
     },
     "execution_count": 166,
     "metadata": {},
     "output_type": "execute_result"
    }
   ],
   "source": [
    "b = np.array([1, 2, 3, 4,5])\n",
    "#now we have a row vector with 4 values\n",
    "b_reshaped = b.reshape((5, 1))\n",
    "b_reshaped"
   ]
  },
  {
   "cell_type": "code",
   "execution_count": 164,
   "metadata": {},
   "outputs": [
    {
     "name": "stdout",
     "output_type": "stream",
     "text": [
      "Shape of x         : (5, 4)\n",
      "Shape of b_reshaped: (1, 4)\n"
     ]
    }
   ],
   "source": [
    "#Note how all non-unit dimensions match:\n",
    "print(\"Shape of x         :\", x.shape)\n",
    "print(\"Shape of b_reshaped:\", b_reshaped.shape)"
   ]
  },
  {
   "cell_type": "code",
   "execution_count": 167,
   "metadata": {},
   "outputs": [
    {
     "name": "stdout",
     "output_type": "stream",
     "text": [
      "[[1. 1. 1. 1.]\n",
      " [1. 1. 1. 1.]\n",
      " [1. 1. 1. 1.]\n",
      " [1. 1. 1. 1.]\n",
      " [1. 1. 1. 1.]]\n",
      "[[1]\n",
      " [2]\n",
      " [3]\n",
      " [4]\n",
      " [5]]\n"
     ]
    },
    {
     "data": {
      "text/plain": [
       "array([[1., 1., 1., 1.],\n",
       "       [2., 2., 2., 2.],\n",
       "       [3., 3., 3., 3.],\n",
       "       [4., 4., 4., 4.],\n",
       "       [5., 5., 5., 5.]])"
      ]
     },
     "execution_count": 167,
     "metadata": {},
     "output_type": "execute_result"
    }
   ],
   "source": [
    "#now we can broadcast to get columns to be multiplied elementwise\n",
    "print(x)\n",
    "print(b_reshaped)\n",
    "\n",
    "x* b_reshaped"
   ]
  },
  {
   "cell_type": "markdown",
   "metadata": {},
   "source": [
    "\n",
    "## Indexing Numpy Arrays\n",
    "\n",
    "Numpy arrays support all the usual indexing shenanigans that lists do, so we won't comment on those any more.\n",
    "\n",
    "### Indexing Multi-dimensional Arrays\n",
    "\n",
    "The usual list style indexing extends to multi-dimensional arrays:\n"
   ]
  },
  {
   "cell_type": "code",
   "execution_count": 168,
   "metadata": {},
   "outputs": [
    {
     "data": {
      "text/plain": [
       "array([[ 0,  1,  2,  3],\n",
       "       [ 4,  5,  6,  7],\n",
       "       [ 8,  9, 10, 11],\n",
       "       [12, 13, 14, 15],\n",
       "       [16, 17, 18, 19]])"
      ]
     },
     "execution_count": 168,
     "metadata": {},
     "output_type": "execute_result"
    }
   ],
   "source": [
    "x = np.arange(20).reshape((5, 4))\n",
    "x"
   ]
  },
  {
   "cell_type": "code",
   "execution_count": 169,
   "metadata": {},
   "outputs": [
    {
     "data": {
      "text/plain": [
       "array([[0, 1, 2, 3],\n",
       "       [4, 5, 6, 7]])"
      ]
     },
     "execution_count": 169,
     "metadata": {},
     "output_type": "execute_result"
    }
   ],
   "source": [
    "#Lets grab the first two rows\n",
    "# index first into the rows you want... so here 0 up to 2 gives us two rows\n",
    "# the comma separates the dimensions\n",
    "# If we want all columns, we just leave the : alone (we could also leave that out since it is positional)\n",
    "x[:2,:]"
   ]
  },
  {
   "cell_type": "code",
   "execution_count": 170,
   "metadata": {},
   "outputs": [
    {
     "data": {
      "text/plain": [
       "array([[ 0,  1],\n",
       "       [ 4,  5],\n",
       "       [ 8,  9],\n",
       "       [12, 13],\n",
       "       [16, 17]])"
      ]
     },
     "execution_count": 170,
     "metadata": {},
     "output_type": "execute_result"
    }
   ],
   "source": [
    "#Lets grab the first two columns\n",
    "# We want all rows so we use the : all alone\n",
    "# the comma is still necessary to tell us now we are asking for columns\n",
    "# now lets grab the 0 - 2nd columns\n",
    "\n",
    "x[:, :2]"
   ]
  },
  {
   "cell_type": "code",
   "execution_count": null,
   "metadata": {},
   "outputs": [],
   "source": [
    "# NOW YOU\n",
    "# Lets grab the first two rows and first two columns"
   ]
  },
  {
   "cell_type": "code",
   "execution_count": 171,
   "metadata": {},
   "outputs": [
    {
     "data": {
      "text/plain": [
       "array([[ 0,  2],\n",
       "       [ 8, 10],\n",
       "       [16, 18]])"
      ]
     },
     "execution_count": 171,
     "metadata": {},
     "output_type": "execute_result"
    }
   ],
   "source": [
    "# Even numbered rows and columns \n",
    "#(just like list indexing, the third part of start,stop is \"STEP\")\n",
    "x[::2, ::2]"
   ]
  },
  {
   "cell_type": "markdown",
   "metadata": {},
   "source": [
    "\n",
    "\n",
    "You can combine this with assignment to surgically alter arrays:\n"
   ]
  },
  {
   "cell_type": "code",
   "execution_count": 172,
   "metadata": {},
   "outputs": [
    {
     "name": "stdout",
     "output_type": "stream",
     "text": [
      "[[ 0  2]\n",
      " [ 8 10]\n",
      " [16 18]]\n",
      "[[9 9]\n",
      " [9 9]\n",
      " [9 9]]\n"
     ]
    }
   ],
   "source": [
    "print(x[::2, ::2])\n",
    "x[::2, ::2] = np.mean(x)\n",
    "print(x[::2, ::2])"
   ]
  },
  {
   "cell_type": "code",
   "execution_count": null,
   "metadata": {},
   "outputs": [],
   "source": [
    "# Now every value that was indexed at an even row and even column is now the average of the overall matrix (9)\n",
    "x"
   ]
  },
  {
   "cell_type": "markdown",
   "metadata": {},
   "source": [
    "\n",
    "### Fancy Indexing\n",
    "\n",
    "You can index an array with **another array** (or a list), and this is often referred to as **fancy indexing**.\n"
   ]
  },
  {
   "cell_type": "code",
   "execution_count": 173,
   "metadata": {},
   "outputs": [
    {
     "data": {
      "text/plain": [
       "array([ 0,  2,  4,  6,  8, 10, 12, 14, 16, 18])"
      ]
     },
     "execution_count": 173,
     "metadata": {},
     "output_type": "execute_result"
    }
   ],
   "source": [
    "x = np.arange(0,20,2)\n",
    "x"
   ]
  },
  {
   "cell_type": "code",
   "execution_count": 174,
   "metadata": {},
   "outputs": [
    {
     "data": {
      "text/plain": [
       "array([ 0, 16,  8,  8,  4,  4])"
      ]
     },
     "execution_count": 174,
     "metadata": {},
     "output_type": "execute_result"
    }
   ],
   "source": [
    "lst = [0,8,4,4,2,2]\n",
    "x[lst]"
   ]
  },
  {
   "cell_type": "code",
   "execution_count": 175,
   "metadata": {},
   "outputs": [
    {
     "data": {
      "text/plain": [
       "array(['red', 'red', 'blue', 'blue', 'red', 'red', 'blue', 'blue'],\n",
       "      dtype='<U4')"
      ]
     },
     "execution_count": 175,
     "metadata": {},
     "output_type": "execute_result"
    }
   ],
   "source": [
    "colors = np.array([\"red\", \"blue\"])\n",
    "idx = np.array([0, 0, 1, 1, 0, 0, 1, 1])\n",
    "colors[idx]"
   ]
  },
  {
   "cell_type": "markdown",
   "metadata": {},
   "source": [
    "This also works for multi-dimensional arrays, but the results can be confusing."
   ]
  },
  {
   "cell_type": "code",
   "execution_count": 176,
   "metadata": {},
   "outputs": [
    {
     "data": {
      "text/plain": [
       "array([[ 0,  1,  2,  3],\n",
       "       [ 4,  5,  6,  7],\n",
       "       [ 8,  9, 10, 11],\n",
       "       [12, 13, 14, 15],\n",
       "       [16, 17, 18, 19]])"
      ]
     },
     "execution_count": 176,
     "metadata": {},
     "output_type": "execute_result"
    }
   ],
   "source": [
    "x = np.arange(20).reshape((5, 4))\n",
    "x\n"
   ]
  },
  {
   "cell_type": "code",
   "execution_count": 177,
   "metadata": {},
   "outputs": [
    {
     "data": {
      "text/plain": [
       "array([ 0,  5, 10, 15])"
      ]
     },
     "execution_count": 177,
     "metadata": {},
     "output_type": "execute_result"
    }
   ],
   "source": [
    "x[[0, 1, 2, 3], [0,1,2,3]]"
   ]
  },
  {
   "cell_type": "code",
   "execution_count": 178,
   "metadata": {},
   "outputs": [
    {
     "data": {
      "text/plain": [
       "array([[999,   1,   2,   3],\n",
       "       [  4, 999,   6,   7],\n",
       "       [  8,   9, 999,  11],\n",
       "       [ 12,  13,  14, 999],\n",
       "       [ 16,  17,  18,  19]])"
      ]
     },
     "execution_count": 178,
     "metadata": {},
     "output_type": "execute_result"
    }
   ],
   "source": [
    "#Using this you can also reasign the values\n",
    "\n",
    "x[[0, 1, 2, 3], [0, 1, 2, 3]] = 999\n",
    "x\n",
    "\n"
   ]
  },
  {
   "cell_type": "markdown",
   "metadata": {},
   "source": [
    "\n",
    "### Boolean Indexing\n",
    "\n",
    "If you have an array of booleans (i.e.,True's and False's), you can use these as indexes too. You'll get a new array containing only those elements that line up with a True in your index array.\n"
   ]
  },
  {
   "cell_type": "code",
   "execution_count": 179,
   "metadata": {},
   "outputs": [
    {
     "data": {
      "text/plain": [
       "array([0, 1, 2, 3, 4, 5, 6, 7, 8, 9])"
      ]
     },
     "execution_count": 179,
     "metadata": {},
     "output_type": "execute_result"
    }
   ],
   "source": [
    "x = np.arange(10)\n",
    "x\n",
    "\n"
   ]
  },
  {
   "cell_type": "code",
   "execution_count": 180,
   "metadata": {},
   "outputs": [
    {
     "data": {
      "text/plain": [
       "array([ True, False,  True, False, False, False,  True, False,  True,\n",
       "        True])"
      ]
     },
     "execution_count": 180,
     "metadata": {},
     "output_type": "execute_result"
    }
   ],
   "source": [
    "tf = [True,False]\n",
    "lst = np.random.choice(tf, size = 10)\n",
    "lst"
   ]
  },
  {
   "cell_type": "code",
   "execution_count": 181,
   "metadata": {},
   "outputs": [
    {
     "data": {
      "text/plain": [
       "array([0, 2, 6, 8, 9])"
      ]
     },
     "execution_count": 181,
     "metadata": {},
     "output_type": "execute_result"
    }
   ],
   "source": [
    "x[lst]"
   ]
  },
  {
   "cell_type": "markdown",
   "metadata": {},
   "source": [
    "\n",
    "\n",
    "This is very useful when combined with broadcasting to create boolean index arrays.\n"
   ]
  },
  {
   "cell_type": "code",
   "execution_count": 182,
   "metadata": {},
   "outputs": [
    {
     "data": {
      "text/plain": [
       "array([ True, False,  True, False,  True, False,  True, False,  True,\n",
       "       False])"
      ]
     },
     "execution_count": 182,
     "metadata": {},
     "output_type": "execute_result"
    }
   ],
   "source": [
    "x % 2 == 0"
   ]
  },
  {
   "cell_type": "code",
   "execution_count": 183,
   "metadata": {},
   "outputs": [
    {
     "data": {
      "text/plain": [
       "array([0, 2, 4, 6, 8])"
      ]
     },
     "execution_count": 183,
     "metadata": {},
     "output_type": "execute_result"
    }
   ],
   "source": [
    "#Again we see the use of the mask\n",
    "x[x % 2 == 0]"
   ]
  },
  {
   "cell_type": "code",
   "execution_count": 184,
   "metadata": {},
   "outputs": [
    {
     "data": {
      "text/plain": [
       "array([0, 1, 0, 1, 0, 1, 0, 1, 0, 1])"
      ]
     },
     "execution_count": 184,
     "metadata": {},
     "output_type": "execute_result"
    }
   ],
   "source": [
    "#Note that it's easy to do the wrong thing here!\n",
    "x[x%2]\n",
    "#what is this returning and why?"
   ]
  },
  {
   "cell_type": "markdown",
   "metadata": {},
   "source": [
    "\n",
    "## Array Methods and Axies\n",
    "\n",
    "Array's have many, many useful methods, and some of then have an argument called axis that increases thier utility.\n",
    "\n",
    "### Math Stuff.\n",
    "\n",
    "Most of the day-to-day mathematical functions have representatives in numpy.\n"
   ]
  },
  {
   "cell_type": "code",
   "execution_count": 194,
   "metadata": {},
   "outputs": [
    {
     "data": {
      "text/plain": [
       "array([0. , 0.1, 0.2, 0.3, 0.4, 0.5, 0.6, 0.7, 0.8, 0.9, 1. ])"
      ]
     },
     "execution_count": 194,
     "metadata": {},
     "output_type": "execute_result"
    }
   ],
   "source": [
    "x = np.linspace(0,1,11)\n",
    "x"
   ]
  },
  {
   "cell_type": "code",
   "execution_count": 195,
   "metadata": {},
   "outputs": [
    {
     "data": {
      "text/plain": [
       "array([1.        , 1.10517092, 1.22140276, 1.34985881, 1.4918247 ,\n",
       "       1.64872127, 1.8221188 , 2.01375271, 2.22554093, 2.45960311,\n",
       "       2.71828183])"
      ]
     },
     "execution_count": 195,
     "metadata": {},
     "output_type": "execute_result"
    }
   ],
   "source": [
    "np.exp(x)"
   ]
  },
  {
   "cell_type": "code",
   "execution_count": 196,
   "metadata": {
    "scrolled": true
   },
   "outputs": [
    {
     "name": "stderr",
     "output_type": "stream",
     "text": [
      "/opt/anaconda3/lib/python3.7/site-packages/ipykernel_launcher.py:1: RuntimeWarning: divide by zero encountered in log\n",
      "  \"\"\"Entry point for launching an IPython kernel.\n"
     ]
    },
    {
     "data": {
      "text/plain": [
       "array([       -inf, -2.30258509, -1.60943791, -1.2039728 , -0.91629073,\n",
       "       -0.69314718, -0.51082562, -0.35667494, -0.22314355, -0.10536052,\n",
       "        0.        ])"
      ]
     },
     "execution_count": 196,
     "metadata": {},
     "output_type": "execute_result"
    }
   ],
   "source": [
    "np.log(x)"
   ]
  },
  {
   "cell_type": "code",
   "execution_count": 197,
   "metadata": {},
   "outputs": [
    {
     "data": {
      "text/plain": [
       "array([ 0.00000000e+00,  5.87785252e-01,  9.51056516e-01,  9.51056516e-01,\n",
       "        5.87785252e-01,  1.22464680e-16, -5.87785252e-01, -9.51056516e-01,\n",
       "       -9.51056516e-01, -5.87785252e-01, -2.44929360e-16])"
      ]
     },
     "execution_count": 197,
     "metadata": {},
     "output_type": "execute_result"
    }
   ],
   "source": [
    "np.sin(2 * np.pi * x)"
   ]
  },
  {
   "cell_type": "code",
   "execution_count": 198,
   "metadata": {},
   "outputs": [
    {
     "data": {
      "text/plain": [
       "array([ 1.        ,  0.80901699,  0.30901699, -0.30901699, -0.80901699,\n",
       "       -1.        , -0.80901699, -0.30901699,  0.30901699,  0.80901699,\n",
       "        1.        ])"
      ]
     },
     "execution_count": 198,
     "metadata": {},
     "output_type": "execute_result"
    }
   ],
   "source": [
    "np.cos(2 * np.pi * x)"
   ]
  },
  {
   "cell_type": "code",
   "execution_count": 199,
   "metadata": {},
   "outputs": [
    {
     "data": {
      "text/plain": [
       "array([0.        , 0.31622777, 0.4472136 , 0.54772256, 0.63245553,\n",
       "       0.70710678, 0.77459667, 0.83666003, 0.89442719, 0.9486833 ,\n",
       "       1.        ])"
      ]
     },
     "execution_count": 199,
     "metadata": {},
     "output_type": "execute_result"
    }
   ],
   "source": [
    "np.sqrt(x)"
   ]
  },
  {
   "cell_type": "markdown",
   "metadata": {},
   "source": [
    "\n",
    "### Sums and Averages\n",
    "\n",
    "It's easy and efficient to take the sum or average (arithmatic mean) of an array:\n"
   ]
  },
  {
   "cell_type": "code",
   "execution_count": 200,
   "metadata": {},
   "outputs": [
    {
     "data": {
      "text/plain": [
       "array([0, 1, 2, 3, 4, 5, 6, 7, 8, 9])"
      ]
     },
     "execution_count": 200,
     "metadata": {},
     "output_type": "execute_result"
    }
   ],
   "source": [
    "x = np.arange(10)\n",
    "x"
   ]
  },
  {
   "cell_type": "code",
   "execution_count": 201,
   "metadata": {},
   "outputs": [
    {
     "data": {
      "text/plain": [
       "45"
      ]
     },
     "execution_count": 201,
     "metadata": {},
     "output_type": "execute_result"
    }
   ],
   "source": [
    "np.sum(x)"
   ]
  },
  {
   "cell_type": "code",
   "execution_count": 202,
   "metadata": {},
   "outputs": [
    {
     "data": {
      "text/plain": [
       "4.5"
      ]
     },
     "execution_count": 202,
     "metadata": {},
     "output_type": "execute_result"
    }
   ],
   "source": [
    "np.mean(x)"
   ]
  },
  {
   "cell_type": "markdown",
   "metadata": {},
   "source": [
    "\n",
    "\n",
    "When dealing with a multi-dimensional array, the default behaviour is to consume the entire thing:\n"
   ]
  },
  {
   "cell_type": "code",
   "execution_count": 203,
   "metadata": {},
   "outputs": [
    {
     "data": {
      "text/plain": [
       "array([[ 0,  1,  2,  3],\n",
       "       [ 4,  5,  6,  7],\n",
       "       [ 8,  9, 10, 11],\n",
       "       [12, 13, 14, 15]])"
      ]
     },
     "execution_count": 203,
     "metadata": {},
     "output_type": "execute_result"
    }
   ],
   "source": [
    "x = np.arange(16).reshape((4, 4))\n",
    "x"
   ]
  },
  {
   "cell_type": "code",
   "execution_count": 204,
   "metadata": {},
   "outputs": [
    {
     "data": {
      "text/plain": [
       "(120, 120)"
      ]
     },
     "execution_count": 204,
     "metadata": {},
     "output_type": "execute_result"
    }
   ],
   "source": [
    "np.sum(x), np.sum(np.arange(16))"
   ]
  },
  {
   "cell_type": "markdown",
   "metadata": {},
   "source": [
    "But you can also do **row sums** and **column sums** by supplying an **axis** argument.\n"
   ]
  },
  {
   "attachments": {
    "image.png": {
     "image/png": "[encoded data removed]"
    }
   },
   "cell_type": "markdown",
   "metadata": {},
   "source": [
    "![image.png](attachment:image.png)"
   ]
  },
  {
   "cell_type": "code",
   "execution_count": 205,
   "metadata": {},
   "outputs": [
    {
     "name": "stdout",
     "output_type": "stream",
     "text": [
      "24 28 32 36\n"
     ]
    },
    {
     "data": {
      "text/plain": [
       "array([24, 28, 32, 36])"
      ]
     },
     "execution_count": 205,
     "metadata": {},
     "output_type": "execute_result"
    }
   ],
   "source": [
    "# Sum of each column (consider it like it is collapsing all of axis zero....)\n",
    "print(x[:,0].sum(), x[:,1].sum(), x[:,2].sum(), x[:,3].sum())\n",
    "\n",
    "np.sum(x, axis=0)"
   ]
  },
  {
   "cell_type": "code",
   "execution_count": 206,
   "metadata": {},
   "outputs": [
    {
     "name": "stdout",
     "output_type": "stream",
     "text": [
      "6 22 38 54\n"
     ]
    },
    {
     "data": {
      "text/plain": [
       "array([ 6, 22, 38, 54])"
      ]
     },
     "execution_count": 206,
     "metadata": {},
     "output_type": "execute_result"
    }
   ],
   "source": [
    "#Row Sums\n",
    "print(x[0].sum(), x[1].sum(), x[2].sum(), x[3].sum())\n",
    "np.sum(x, axis=1)"
   ]
  },
  {
   "cell_type": "markdown",
   "metadata": {},
   "source": [
    "\n",
    "### Maxmiums and Minimums\n",
    "\n",
    "Maximums and minimums work pretty much the same way as sums and averages.\n"
   ]
  },
  {
   "cell_type": "code",
   "execution_count": 207,
   "metadata": {},
   "outputs": [
    {
     "data": {
      "text/plain": [
       "array([66, 92, 98, 17, 83, 57, 86, 97, 96, 47])"
      ]
     },
     "execution_count": 207,
     "metadata": {},
     "output_type": "execute_result"
    }
   ],
   "source": [
    "np.random.seed(123)\n",
    "x = np.random.randint(0, 100, size=10)\n",
    "x"
   ]
  },
  {
   "cell_type": "code",
   "execution_count": 208,
   "metadata": {},
   "outputs": [
    {
     "data": {
      "text/plain": [
       "(98, 17)"
      ]
     },
     "execution_count": 208,
     "metadata": {},
     "output_type": "execute_result"
    }
   ],
   "source": [
    "np.max(x), np.min(x)"
   ]
  },
  {
   "cell_type": "markdown",
   "metadata": {},
   "source": [
    "\n",
    "\n",
    "The behaviour for multi dimensional arrays is the same as before:\n"
   ]
  },
  {
   "cell_type": "code",
   "execution_count": 209,
   "metadata": {},
   "outputs": [
    {
     "data": {
      "text/plain": [
       "array([[47, 83, 38, 53],\n",
       "       [76, 24, 15, 49],\n",
       "       [23, 26, 30, 43],\n",
       "       [30, 26, 58, 92]])"
      ]
     },
     "execution_count": 209,
     "metadata": {},
     "output_type": "execute_result"
    }
   ],
   "source": [
    "np.random.seed(1234)\n",
    "\n",
    "x = np.random.randint(0, 100, size=16).reshape((4, 4))\n",
    "x"
   ]
  },
  {
   "cell_type": "code",
   "execution_count": 210,
   "metadata": {},
   "outputs": [
    {
     "data": {
      "text/plain": [
       "array([76, 83, 58, 92])"
      ]
     },
     "execution_count": 210,
     "metadata": {},
     "output_type": "execute_result"
    }
   ],
   "source": [
    "# Column maximums\n",
    "np.max(x, axis=0)"
   ]
  },
  {
   "cell_type": "code",
   "execution_count": 211,
   "metadata": {},
   "outputs": [
    {
     "data": {
      "text/plain": [
       "array([83, 76, 43, 92])"
      ]
     },
     "execution_count": 211,
     "metadata": {},
     "output_type": "execute_result"
    }
   ],
   "source": [
    "# Row minimums\n",
    "np.max(x, axis=1)"
   ]
  },
  {
   "cell_type": "markdown",
   "metadata": {},
   "source": [
    "\n",
    "### Argument Maximums and Minimums\n",
    "\n",
    "Sometimes you don't need to know the maximum (or minimum), but **where the maxmium occurs**. This operation is called **argument maximum**.\n"
   ]
  },
  {
   "cell_type": "code",
   "execution_count": 212,
   "metadata": {},
   "outputs": [
    {
     "data": {
      "text/plain": [
       "array([[47, 83, 38, 53],\n",
       "       [76, 24, 15, 49],\n",
       "       [23, 26, 30, 43],\n",
       "       [30, 26, 58, 92]])"
      ]
     },
     "execution_count": 212,
     "metadata": {},
     "output_type": "execute_result"
    }
   ],
   "source": [
    "x"
   ]
  },
  {
   "cell_type": "code",
   "execution_count": 213,
   "metadata": {},
   "outputs": [
    {
     "data": {
      "text/plain": [
       "array([1, 0, 3, 3])"
      ]
     },
     "execution_count": 213,
     "metadata": {},
     "output_type": "execute_result"
    }
   ],
   "source": [
    "# the row index (axis=0) of the column maximum\n",
    "np.argmax(x, axis = 0)"
   ]
  },
  {
   "cell_type": "code",
   "execution_count": 214,
   "metadata": {},
   "outputs": [
    {
     "data": {
      "text/plain": [
       "array([2, 2, 0, 1])"
      ]
     },
     "execution_count": 214,
     "metadata": {},
     "output_type": "execute_result"
    }
   ],
   "source": [
    "#column index (axis = 1) of row minimum\n",
    "np.argmin(x, axis=1)"
   ]
  },
  {
   "cell_type": "markdown",
   "metadata": {},
   "source": [
    "\n",
    "\n",
    "This can be very useful. For example, if we want to find the maximum of a graph and then plot where it occurs:\n"
   ]
  },
  {
   "cell_type": "code",
   "execution_count": 215,
   "metadata": {},
   "outputs": [
    {
     "data": {
      "image/png": "[encoded data removed]",
      "text/plain": [
       "<Figure size 432x288 with 1 Axes>"
      ]
     },
     "metadata": {
      "needs_background": "light"
     },
     "output_type": "display_data"
    }
   ],
   "source": [
    "f = lambda x: x**4 + 2*x**3 - 12*x**2 - 2*x + 6\n",
    "x = np.linspace(-5, 4, num=250)\n",
    "\n",
    "fig, ax = plt.subplots()\n",
    "ax.plot(x, f(x))\n",
    "_ = ax.set_ylim(-100, 100)"
   ]
  },
  {
   "cell_type": "code",
   "execution_count": 216,
   "metadata": {},
   "outputs": [
    {
     "data": {
      "image/png": "[encoded data removed]",
      "text/plain": [
       "<Figure size 432x288 with 1 Axes>"
      ]
     },
     "metadata": {
      "needs_background": "light"
     },
     "output_type": "display_data"
    }
   ],
   "source": [
    "xmn, mn = x[np.argmin(f(x))], np.min(f(x))\n",
    "\n",
    "fig, ax = plt.subplots()\n",
    "ax.plot(x, f(x))\n",
    "ax.scatter(xmn, mn, s=100)\n",
    "_ = ax.set_ylim(-100, 100)"
   ]
  },
  {
   "cell_type": "markdown",
   "metadata": {},
   "source": [
    "## Success Criteria Recap\n",
    "\n",
    "You will be successful today if you can...\n",
    "* Create a one and two dimensional numpy array\n",
    "* Find and explain what the shape of a numpy array means\n",
    "* Index into a 2-dimensional numpy array grabbing a specific value\n",
    "* Use “axis” parameter to find the mean of all rows in a 2-dim array\n",
    "* Use reshape and -1 to make a one dimensional array into a multidimensional array\n",
    "* Create an array to specifications using np.ones and np.arange. \n",
    "\n",
    "\n",
    "Lets see if you can do the following exercises. "
   ]
  },
  {
   "cell_type": "markdown",
   "metadata": {},
   "source": [
    "1. Create a one dimensional with values ranging from 10 to 49"
   ]
  },
  {
   "cell_type": "code",
   "execution_count": 218,
   "metadata": {},
   "outputs": [
    {
     "data": {
      "text/plain": [
       "array([10, 11, 12, 13, 14, 15, 16, 17, 18, 19, 20, 21, 22, 23, 24, 25, 26,\n",
       "       27, 28, 29, 30, 31, 32, 33, 34, 35, 36, 37, 38, 39, 40, 41, 42, 43,\n",
       "       44, 45, 46, 47, 48, 49])"
      ]
     },
     "execution_count": 218,
     "metadata": {},
     "output_type": "execute_result"
    }
   ],
   "source": [
    "x = np.arange(10,50)\n",
    "x"
   ]
  },
  {
   "cell_type": "markdown",
   "metadata": {},
   "source": [
    "Solution\n",
    "\n",
    "<script>\n",
    "x = np.arange(10,50) OR x = np.linspace(10,49, 40)\n",
    "</script>"
   ]
  },
  {
   "cell_type": "markdown",
   "metadata": {},
   "source": [
    "2. Reverse the array you created for question 1 (first element becomes last) "
   ]
  },
  {
   "cell_type": "code",
   "execution_count": 221,
   "metadata": {},
   "outputs": [
    {
     "data": {
      "text/plain": [
       "array([49, 48, 47, 46, 45, 44, 43, 42, 41, 40, 39, 38, 37, 36, 35, 34, 33,\n",
       "       32, 31, 30, 29, 28, 27, 26, 25, 24, 23, 22, 21, 20, 19, 18, 17, 16,\n",
       "       15, 14, 13, 12, 11, 10])"
      ]
     },
     "execution_count": 221,
     "metadata": {},
     "output_type": "execute_result"
    }
   ],
   "source": [
    "x[::-1]"
   ]
  },
  {
   "cell_type": "markdown",
   "metadata": {},
   "source": [
    "Solution\n",
    "\n",
    "<script\n",
    "        \n",
    "x[::-1\n",
    "</script>"
   ]
  },
  {
   "cell_type": "markdown",
   "metadata": {},
   "source": [
    "3. Create a 4x4 matrix with values ranging from 0 to 16.\n",
    "\n",
    "*If you use reshape, make sure to utilize -1 in the parameters*"
   ]
  },
  {
   "cell_type": "code",
   "execution_count": 224,
   "metadata": {},
   "outputs": [
    {
     "data": {
      "text/plain": [
       "array([[ 0,  1,  2,  3],\n",
       "       [ 4,  5,  6,  7],\n",
       "       [ 8,  9, 10, 11],\n",
       "       [12, 13, 14, 15]])"
      ]
     },
     "execution_count": 224,
     "metadata": {},
     "output_type": "execute_result"
    }
   ],
   "source": [
    "M = np.arange(0,16).reshape(4,-1)\n",
    "M"
   ]
  },
  {
   "cell_type": "markdown",
   "metadata": {},
   "source": [
    "Solution\n",
    "<script>\n",
    "mtx = np.arange(0,16).reshape(4,-1)\n",
    "</script>\n"
   ]
  },
  {
   "cell_type": "markdown",
   "metadata": {},
   "source": [
    "4. Index into the 4x4 matrix grabbing the value 12."
   ]
  },
  {
   "cell_type": "code",
   "execution_count": 226,
   "metadata": {},
   "outputs": [
    {
     "data": {
      "text/plain": [
       "12"
      ]
     },
     "execution_count": 226,
     "metadata": {},
     "output_type": "execute_result"
    }
   ],
   "source": [
    "M[3,0]"
   ]
  },
  {
   "cell_type": "markdown",
   "metadata": {},
   "source": [
    "Solution\n",
    "\n",
    "<script>\n",
    "mtx[3,0]\n",
    "</script>"
   ]
  },
  {
   "cell_type": "markdown",
   "metadata": {},
   "source": [
    "\n",
    "5. In a sentence, find and explain what the shape of the following array means."
   ]
  },
  {
   "cell_type": "code",
   "execution_count": 229,
   "metadata": {},
   "outputs": [
    {
     "data": {
      "text/plain": [
       "array([[ 1,  2],\n",
       "       [ 3,  4],\n",
       "       [ 5,  6],\n",
       "       [ 7,  8],\n",
       "       [ 9, 10],\n",
       "       [11, 12]])"
      ]
     },
     "execution_count": 229,
     "metadata": {},
     "output_type": "execute_result"
    }
   ],
   "source": [
    "#6x2, depth 1"
   ]
  },
  {
   "cell_type": "code",
   "execution_count": 228,
   "metadata": {},
   "outputs": [],
   "source": [
    "w = np.array([[1,2],[3,4],[5,6],[7,8],[9,10],[11,12]])"
   ]
  },
  {
   "cell_type": "markdown",
   "metadata": {},
   "source": [
    "\n",
    "\n",
    "Solution\n",
    "\n",
    "<script>\n",
    "w.shape\n",
    "This array has 6 rows and 2 columns \n",
    "</script>"
   ]
  },
  {
   "cell_type": "markdown",
   "metadata": {},
   "source": [
    "6. Find the mean of each row in the 2-dimensional array above."
   ]
  },
  {
   "cell_type": "code",
   "execution_count": 230,
   "metadata": {},
   "outputs": [
    {
     "data": {
      "text/plain": [
       "array([ 1.5,  3.5,  5.5,  7.5,  9.5, 11.5])"
      ]
     },
     "execution_count": 230,
     "metadata": {},
     "output_type": "execute_result"
    }
   ],
   "source": [
    "w.mean(axis = 1)"
   ]
  },
  {
   "cell_type": "markdown",
   "metadata": {},
   "source": [
    "Solution\n",
    "\n",
    "<script>\n",
    "np.mean(w, axis = 1)\n",
    "</script>"
   ]
  },
  {
   "cell_type": "markdown",
   "metadata": {},
   "source": [
    "7. Create a multidimensional array all filled with the value of 9. "
   ]
  },
  {
   "cell_type": "code",
   "execution_count": 232,
   "metadata": {},
   "outputs": [
    {
     "data": {
      "text/plain": [
       "array([[[9, 9],\n",
       "        [9, 9],\n",
       "        [9, 9],\n",
       "        [9, 9],\n",
       "        [9, 9]],\n",
       "\n",
       "       [[9, 9],\n",
       "        [9, 9],\n",
       "        [9, 9],\n",
       "        [9, 9],\n",
       "        [9, 9]],\n",
       "\n",
       "       [[9, 9],\n",
       "        [9, 9],\n",
       "        [9, 9],\n",
       "        [9, 9],\n",
       "        [9, 9]],\n",
       "\n",
       "       [[9, 9],\n",
       "        [9, 9],\n",
       "        [9, 9],\n",
       "        [9, 9],\n",
       "        [9, 9]],\n",
       "\n",
       "       [[9, 9],\n",
       "        [9, 9],\n",
       "        [9, 9],\n",
       "        [9, 9],\n",
       "        [9, 9]]])"
      ]
     },
     "execution_count": 232,
     "metadata": {},
     "output_type": "execute_result"
    }
   ],
   "source": [
    "np.full((5,5,2),9)"
   ]
  },
  {
   "cell_type": "markdown",
   "metadata": {},
   "source": [
    "Solution\n",
    "\n",
    "<script>\n",
    "np.ones(shape=(3,4,2))*9   OR    np.full(shape=(3,4,2), fill_value=9)\n",
    "\n",
    "</script>\n"
   ]
  },
  {
   "cell_type": "markdown",
   "metadata": {},
   "source": [
    "\n",
    "## Assignment\n",
    "\n",
    "* visit numpy learn block to get Assignment link to repo\n",
    "* fork the repo (always fork assignments)\n",
    "* clone the repo onto your own computer\n",
    "* work on assignment \n",
    "* Push changes periodically to github to save your work\n",
    "\n"
   ]
  },
  {
   "cell_type": "code",
   "execution_count": null,
   "metadata": {},
   "outputs": [],
   "source": []
  }
 ],
 "metadata": {
  "kernelspec": {
   "display_name": "Python 3",
   "language": "python",
   "name": "python3"
  },
  "language_info": {
   "codemirror_mode": {
    "name": "ipython",
    "version": 3
   },
   "file_extension": ".py",
   "mimetype": "text/x-python",
   "name": "python",
   "nbconvert_exporter": "python",
   "pygments_lexer": "ipython3",
   "version": "3.7.7"
  }
 },
 "nbformat": 4,
 "nbformat_minor": 4
}
