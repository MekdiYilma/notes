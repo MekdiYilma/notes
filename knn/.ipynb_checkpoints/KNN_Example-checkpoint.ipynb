{
 "cells": [
  {
   "cell_type": "markdown",
   "metadata": {},
   "source": [
    "# k-Nearest-Neighbors\n",
    "\n",
    "## Success Criteria\n",
    "\n",
    " * Explain in a sentence what is the purpose of supervised machine learning?\n",
    " * Identify a few key assumptions that should be made before using machine learning. \n",
    " * Give an example of features and a target for a given dataset. \n",
    " * Describe the KNN model\n",
    " * Explain what happens to our KNN model as K increases/decreases\n",
    " * ID the distance metrics available for KNN\n",
    " * Explain the curse of dimensionality"
   ]
  },
  {
   "cell_type": "code",
   "execution_count": null,
   "metadata": {},
   "outputs": [],
   "source": [
    "import pandas as pd\n",
    "import numpy as np\n",
    "import matplotlib.pyplot as plt\n",
    "from sklearn.neighbors import KNeighborsClassifier\n",
    "from sklearn.preprocessing import StandardScaler as SS\n",
    "from sklearn.preprocessing import MinMaxScaler as MMS"
   ]
  },
  {
   "cell_type": "code",
   "execution_count": null,
   "metadata": {},
   "outputs": [],
   "source": [
    "n = 200\n",
    "weights = np.random.uniform(high = 10, size = (n))\n",
    "species = np.random.uniform(high = 10, size = (n))>5\n",
    "df = pd.DataFrame({'weight':weights, 'species':species })"
   ]
  },
  {
   "cell_type": "code",
   "execution_count": null,
   "metadata": {},
   "outputs": [],
   "source": [
    "def height(row):\n",
    "    return row.species*(30 + 3*row.weight) + (1-row.species)*(10 + 12*row.weight) + 7* np.random.random()\n",
    "\n",
    "\n",
    "df['height'] = df.apply(height, axis=1)"
   ]
  },
  {
   "cell_type": "code",
   "execution_count": null,
   "metadata": {},
   "outputs": [],
   "source": [
    "df.head()"
   ]
  },
  {
   "cell_type": "markdown",
   "metadata": {},
   "source": [
    "## Plot unstandardized data"
   ]
  },
  {
   "cell_type": "code",
   "execution_count": null,
   "metadata": {},
   "outputs": [],
   "source": [
    "fig, ax = plt.subplots(1)\n",
    "ax.scatter(df['height'][df['species']], df['weight'][df['species']])\n",
    "ax.scatter(df['height'][~df['species']], df['weight'][~df['species']])\n",
    "ax.set_xlabel('Height')\n",
    "ax.set_ylabel('Weight')\n",
    "ax.set_title('Our Two Species');"
   ]
  },
  {
   "cell_type": "markdown",
   "metadata": {},
   "source": [
    "## Standardize axes and Plot"
   ]
  },
  {
   "cell_type": "code",
   "execution_count": null,
   "metadata": {},
   "outputs": [],
   "source": [
    "#normalization and standardization is extremely important when dealing with any distance metric \n",
    "#Especially if we are dealing with different units. Like inches and pounds. \n",
    "X = SS().fit_transform(df[['height','weight']])\n",
    "\n",
    "fig, ax = plt.subplots(1)\n",
    "plt.scatter(*X[df['species']].T)\n",
    "plt.scatter(*X[~df['species']].T)\n",
    "ax.set_xlabel('Height')\n",
    "ax.set_ylabel('Weight')\n",
    "ax.set_title('Our Two Species Standardized');"
   ]
  },
  {
   "cell_type": "markdown",
   "metadata": {},
   "source": [
    "## Build a KNN Model on standardized data"
   ]
  },
  {
   "cell_type": "code",
   "execution_count": null,
   "metadata": {},
   "outputs": [],
   "source": [
    "#basic build of model\n",
    "model = KNeighborsClassifier(1)\n",
    "\n",
    "#fit your KNN (this just stores the data, ready to compare distances to each point stored)\n",
    "model.fit(X,df['species'])"
   ]
  },
  {
   "cell_type": "markdown",
   "metadata": {},
   "source": [
    "## Predict over a grid of data"
   ]
  },
  {
   "cell_type": "code",
   "execution_count": null,
   "metadata": {},
   "outputs": [],
   "source": [
    "#create 100 x_axis points and y_axis points to predict (for each xx, predict all yy to get a filled in graph)\n",
    "xx = np.linspace(X[:,0].min(),X[:,0].max(), 100)\n",
    "yy = np.linspace(X[:,1].min(),X[:,1].max(), 100)\n",
    "predictions = []\n",
    "xs, ys = [],[]\n",
    "for x in xx:\n",
    "    for y in yy:\n",
    "        predictions.append(model.predict([[x,y]])[0])\n",
    "        xs.append(x)\n",
    "        ys.append(y)\n",
    "predictions = np.array(predictions)"
   ]
  },
  {
   "cell_type": "code",
   "execution_count": null,
   "metadata": {},
   "outputs": [],
   "source": [
    "plt.scatter(np.array(xs)[predictions], np.array(ys)[predictions])\n",
    "plt.scatter(np.array(xs)[~predictions], np.array(ys)[~predictions])\n",
    "plt.scatter(*X[df['species']].T)\n",
    "plt.scatter(*X[~df['species']].T);"
   ]
  },
  {
   "cell_type": "code",
   "execution_count": null,
   "metadata": {},
   "outputs": [],
   "source": []
  },
  {
   "cell_type": "markdown",
   "metadata": {},
   "source": [
    "### More Typical Example without the visual\n",
    "\n",
    "The above example is a clear and created KNN model mixed with a visual to aid in the understanding of the topic. However, this is not a typical use of the KNN model. Usually we have more than two features with which to predict. Here is another KNN classification example using the Iris Dataset that is built in with Sklearn. "
   ]
  },
  {
   "cell_type": "code",
   "execution_count": null,
   "metadata": {},
   "outputs": [],
   "source": [
    "#load Iris Data\n",
    "from sklearn.datasets import load_iris\n",
    "iris = load_iris()\n",
    "df = pd.DataFrame(data= np.c_[iris['data'], iris['target']],\n",
    "                     columns= iris['feature_names'] + ['class'])\n",
    "iris_df = df.copy().sample(frac = 1)\n",
    "iris_df.head()"
   ]
  },
  {
   "cell_type": "code",
   "execution_count": null,
   "metadata": {},
   "outputs": [],
   "source": [
    "known_data = iris_df.iloc[:120, :]\n",
    "unknown_data = iris_df.iloc[120:, :]"
   ]
  },
  {
   "cell_type": "code",
   "execution_count": null,
   "metadata": {},
   "outputs": [],
   "source": [
    "target = known_data.pop('class')\n",
    "features = known_data.values"
   ]
  },
  {
   "cell_type": "code",
   "execution_count": null,
   "metadata": {},
   "outputs": [],
   "source": [
    "#create your model with all hyper parameters\n",
    "model = KNeighborsClassifier(3)\n",
    "\n",
    "#fit model to your specific data\n",
    "model.fit(features, target)"
   ]
  },
  {
   "cell_type": "code",
   "execution_count": null,
   "metadata": {},
   "outputs": [],
   "source": [
    "#predict from your model on unseen data... More about this soon\n",
    "predictions = model.predict(unknown_data.iloc[:, :-1].values)"
   ]
  },
  {
   "cell_type": "code",
   "execution_count": null,
   "metadata": {},
   "outputs": [],
   "source": [
    "#take a look at the predicted classes\n",
    "predictions"
   ]
  },
  {
   "cell_type": "code",
   "execution_count": null,
   "metadata": {},
   "outputs": [],
   "source": [
    "#Actual classes they should have been... now we can compare and see how good our model is\n",
    "unknown_data.iloc[:, -1].values"
   ]
  },
  {
   "cell_type": "code",
   "execution_count": null,
   "metadata": {},
   "outputs": [],
   "source": []
  }
 ],
 "metadata": {
  "kernelspec": {
   "display_name": "Python 3",
   "language": "python",
   "name": "python3"
  },
  "language_info": {
   "codemirror_mode": {
    "name": "ipython",
    "version": 3
   },
   "file_extension": ".py",
   "mimetype": "text/x-python",
   "name": "python",
   "nbconvert_exporter": "python",
   "pygments_lexer": "ipython3",
   "version": "3.7.7"
  }
 },
 "nbformat": 4,
 "nbformat_minor": 4
}
