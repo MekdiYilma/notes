{
 "cells": [
  {
   "cell_type": "markdown",
   "metadata": {},
   "source": [
    "# Lets first flip a coin\n"
   ]
  },
  {
   "cell_type": "markdown",
   "metadata": {},
   "source": [
    "What is the probability that we flip it once, and we get a heads (H)?"
   ]
  },
  {
   "cell_type": "code",
   "execution_count": 1,
   "metadata": {},
   "outputs": [],
   "source": [
    "#H T \n",
    "#0.5 0.5\n",
    "p_H= 0.5"
   ]
  },
  {
   "cell_type": "markdown",
   "metadata": {},
   "source": [
    "What is the probability that we flip two heads in a row (H H)?"
   ]
  },
  {
   "cell_type": "code",
   "execution_count": 2,
   "metadata": {},
   "outputs": [
    {
     "data": {
      "text/plain": [
       "0.25"
      ]
     },
     "execution_count": 2,
     "metadata": {},
     "output_type": "execute_result"
    }
   ],
   "source": [
    "# HH\n",
    "# HT\n",
    "# TH\n",
    "# TT\n",
    "0.5 * 0.5 "
   ]
  },
  {
   "cell_type": "markdown",
   "metadata": {},
   "source": [
    "What is the probability that we flip (H T)?"
   ]
  },
  {
   "cell_type": "code",
   "execution_count": 3,
   "metadata": {},
   "outputs": [
    {
     "data": {
      "text/plain": [
       "0.25"
      ]
     },
     "execution_count": 3,
     "metadata": {},
     "output_type": "execute_result"
    }
   ],
   "source": [
    "0.25"
   ]
  },
  {
   "cell_type": "markdown",
   "metadata": {},
   "source": [
    "What is the probability that we flip (T H)?"
   ]
  },
  {
   "cell_type": "code",
   "execution_count": 4,
   "metadata": {},
   "outputs": [
    {
     "data": {
      "text/plain": [
       "0.25"
      ]
     },
     "execution_count": 4,
     "metadata": {},
     "output_type": "execute_result"
    }
   ],
   "source": [
    "0.25"
   ]
  },
  {
   "cell_type": "markdown",
   "metadata": {},
   "source": [
    "What is the probability that we flip one head and one tails on two tosses?"
   ]
  },
  {
   "cell_type": "code",
   "execution_count": 5,
   "metadata": {},
   "outputs": [
    {
     "data": {
      "text/plain": [
       "0.5"
      ]
     },
     "execution_count": 5,
     "metadata": {},
     "output_type": "execute_result"
    }
   ],
   "source": [
    "0.5"
   ]
  },
  {
   "cell_type": "markdown",
   "metadata": {},
   "source": [
    "How many flips would have to come up heads in a row for you to think it's not a fair coin? "
   ]
  },
  {
   "cell_type": "code",
   "execution_count": 23,
   "metadata": {},
   "outputs": [],
   "source": [
    "#95% of the time we get all the same results for n 10"
   ]
  },
  {
   "cell_type": "markdown",
   "metadata": {},
   "source": [
    "What is the probability of getting 2 heads on 3 coin flips?"
   ]
  },
  {
   "cell_type": "code",
   "execution_count": 14,
   "metadata": {},
   "outputs": [
    {
     "data": {
      "text/plain": [
       "0.375"
      ]
     },
     "execution_count": 14,
     "metadata": {},
     "output_type": "execute_result"
    }
   ],
   "source": [
    "# HHH\n",
    "# HHT\n",
    "# HTH\n",
    "# HTT\n",
    "# THH\n",
    "# THT\n",
    "# TTH\n",
    "# TTT\n",
    "3/8\n",
    "\n",
    "\n",
    "import scipy.stats as stats\n",
    "stats.binom.pmf(p=0.5, n=3, k=2)"
   ]
  },
  {
   "cell_type": "markdown",
   "metadata": {},
   "source": [
    "$_2 C_3 / 2^3$"
   ]
  },
  {
   "cell_type": "markdown",
   "metadata": {},
   "source": [
    "# Binomial Tests of Hypothesies"
   ]
  },
  {
   "cell_type": "code",
   "execution_count": 11,
   "metadata": {},
   "outputs": [],
   "source": [
    "import numpy as np\n",
    "import matplotlib.pyplot as plt\n",
    "import scipy.stats as stats\n",
    "\n",
    "plt.style.use('ggplot')"
   ]
  },
  {
   "cell_type": "markdown",
   "metadata": {},
   "source": [
    "## Success Criteria\n",
    "\n",
    "By the end of lecture, I will be able to...\n",
    "\n",
    "1. Identify if a scenario is binomially distributed or not.\n",
    "2. Confidently identiy the parameters of a binomial distribution\n",
    "2. Recite the standard definition of a p_value\n",
    "3. Calculate a p_value for a binomial test\n"
   ]
  },
  {
   "cell_type": "markdown",
   "metadata": {},
   "source": [
    "----------------\n"
   ]
  },
  {
   "cell_type": "markdown",
   "metadata": {},
   "source": [
    "## Probability vs. Statistics"
   ]
  },
  {
   "cell_type": "markdown",
   "metadata": {},
   "source": [
    "Probability and Statistics are closely related subjects, but there is a fundamental difference."
   ]
  },
  {
   "cell_type": "markdown",
   "metadata": {},
   "source": [
    "### Probability"
   ]
  },
  {
   "cell_type": "markdown",
   "metadata": {},
   "source": [
    "In **probability** we *know* the parameters of a distribution (associated with some random variable), and we would like to study properties of data generated from that distribution."
   ]
  },
  {
   "cell_type": "markdown",
   "metadata": {},
   "source": [
    "Example properties of random varaibles are:\n",
    "\n",
    "The **mean, expected value, or expectation** of a random varaible $X$ is written as $E(X)$ or $\\mu X$. If we observe N random values of $X$, then the mean of the $N$ values will be approximately equal to $E(X)$ for large $N$. \n",
    "\n",
    "\n",
    "The **variance** of a random variable X is a measure of how spread out it is. and the **variance** is defined by\n",
    "\n",
    "$$ V[X] = E \\left[ (X - E[X])^2 \\right] $$\n",
    "\n",
    "\n",
    "If you *know* the parameters of the distribution, then you can *compute* the mean and variance.\n"
   ]
  },
  {
   "cell_type": "markdown",
   "metadata": {},
   "source": [
    "### Statistics"
   ]
  },
  {
   "cell_type": "markdown",
   "metadata": {},
   "source": [
    "In **statistics** we have data generated from a random variable, and we would like to *infer* properties of its distribution.\n",
    "\n",
    "A few points are evident:\n",
    "\n",
    "  - Independent and identically distributed data are important, as they allow us to pool information using data all generated from *indistinguishable* random variables.\n",
    "  - We can never know *exactly* the distribution that generated the data, we can only hope to approximate it.\n",
    "  - We *may* be able to quantify the uncertainty in our approximation (this is what much of classical statistics is about)."
   ]
  },
  {
   "cell_type": "markdown",
   "metadata": {},
   "source": [
    "**Question**: Statistics, in its early days, was called **inverse probability**.  Can you see why?"
   ]
  },
  {
   "cell_type": "markdown",
   "metadata": {},
   "source": [
    "----------------\n"
   ]
  },
  {
   "cell_type": "markdown",
   "metadata": {},
   "source": [
    "## Example: Fisher's Tea Experiment"
   ]
  },
  {
   "cell_type": "markdown",
   "metadata": {},
   "source": [
    "[Ronald Fisher](https://en.wikipedia.org/wiki/Ronald_Fisher)'s friend [Muriel Bristol](https://en.wikipedia.org/wiki/Muriel_Bristol) claims that she can tell, by actually drinking the beverage, whether milk was poured in first or second into a cup of tea.  I.e. tea into the milk, or milk into the tea.\n",
    "\n",
    "Fisher, being an upstanding skeptic, is skeptical, so devises an experiment to test her claim."
   ]
  },
  {
   "cell_type": "markdown",
   "metadata": {},
   "source": [
    "**Discussion:** How could we determine whether Muriel is telling the truth."
   ]
  },
  {
   "cell_type": "markdown",
   "metadata": {},
   "source": [
    "Fisher's solution is as follows.  He preapares six cups of tea, three with tea first and three with milk first. These cups are then given to Muriel arranged in a random order.\n",
    "\n",
    "**Note:** For simplicity, I'll assume in my version that Muriel does *not know* that there are three of each.\n",
    "\n",
    "He has Muriel drink each beverage, and attempt to guess if tea or milk were poured first.  Her results are as follows\n",
    "\n",
    "| Cup | Result    |\n",
    "|----:|----------:|\n",
    "| 1   | Correct   |\n",
    "| 2   | Correct   |\n",
    "| 3   | Correct   |\n",
    "| 4   | Incorrect |\n",
    "| 5   | Correct   |\n",
    "| 6   | Correct   |"
   ]
  },
  {
   "cell_type": "markdown",
   "metadata": {},
   "source": [
    "Fisher, remember, is a skeptic.  He is predisposed to **not** believe Muriel.  So he makes the skeptical hypothesis:\n",
    "\n",
    "> Fisher's Hypotheis: Muriel has *no* ability to tell milk into tea from tea into milk.  Therefore, each of her answers is completely random.\n",
    "\n",
    "Fisher now asks himself an important question:\n",
    "\n",
    "> Given that my hypothesis is correct, **how suprising is this data?**"
   ]
  },
  {
   "cell_type": "markdown",
   "metadata": {},
   "source": [
    "Let's take Fisher's hypothesis seriously.  If he is correct, what should we expect the data we observe to look like?\n",
    "\n",
    "Well, under this hypothesis, the chances of Muriel getting any sigle cup correctly is $0.5$.   That is, if Fisher is correct, the data we observed woudl be generated by a siimple sequence of coin flips."
   ]
  },
  {
   "cell_type": "code",
   "execution_count": 21,
   "metadata": {},
   "outputs": [
    {
     "data": {
      "text/plain": [
       "array([3, 4, 3, 5, 3, 3])"
      ]
     },
     "execution_count": 21,
     "metadata": {},
     "output_type": "execute_result"
    }
   ],
   "source": [
    "stats.bernoulli(p=0.5).rvs(6)\n",
    "stats.binom(n=6, p=0.5).rvs(6)"
   ]
  },
  {
   "cell_type": "code",
   "execution_count": 18,
   "metadata": {},
   "outputs": [
    {
     "data": {
      "image/png": "[encoded data removed]",
      "text/plain": [
       "<Figure size 1152x288 with 4 Axes>"
      ]
     },
     "metadata": {},
     "output_type": "display_data"
    }
   ],
   "source": [
    "bernoulli = stats.bernoulli(p=0.5)\n",
    "\n",
    "fig, axs = plt.subplots(4, 1, figsize=(16, 4))\n",
    "for i, ax in enumerate(axs.flatten()):\n",
    "    results = bernoulli.rvs(6)\n",
    "    ax.scatter(range(1, 7), results, s=45)\n",
    "    ax.set_yticks([-0.1, 1.1])\n",
    "    ax.set_yticklabels([\"Correct\", \"Incorrect\"])\n",
    "    ax.set_xticks(())\n",
    "    "
   ]
  },
  {
   "cell_type": "markdown",
   "metadata": {},
   "source": [
    "Instead of considering the specific sequence of correct or incorrect answers, it seems more natural to consider the **number** of correct and incorrect answers.\n",
    "\n",
    "**Question:** What is the distribution of the number of correct answers by Muriel under Fisher's hypothesis?"
   ]
  },
  {
   "cell_type": "markdown",
   "metadata": {},
   "source": [
    "If Fisher is correct, and Muriels answers are totally random, then the distribution of the number of cups Muriel gets correct is a Binomial distribution\n",
    "\n",
    "$$\\text{# of cups guessed correctly} \\sim \\text{Binomial} (n=6, p=0.5)$$"
   ]
  },
  {
   "cell_type": "code",
   "execution_count": 22,
   "metadata": {
    "scrolled": true
   },
   "outputs": [
    {
     "data": {
      "image/png": "[encoded data removed]",
      "text/plain": [
       "<Figure size 720x288 with 1 Axes>"
      ]
     },
     "metadata": {},
     "output_type": "display_data"
    }
   ],
   "source": [
    "binomial = stats.binom(n=6, p=0.5)\n",
    "\n",
    "fig, ax = plt.subplots(1, figsize=(10, 4))\n",
    "_ = ax.bar(range(7), [binomial.pmf(i) for i in range(7)], color=\"grey\")"
   ]
  },
  {
   "cell_type": "markdown",
   "metadata": {},
   "source": [
    "Muriel guessing all but one correctly seems like an extremely suprising event given this assumption.  We can charecterize our **degree of suprise in the data given our assumption** by calculating the following proability:\n",
    "\n",
    "$$ P(\\text{Observing this Data} \\mid \\text{Fisher's Assumption})$$"
   ]
  },
  {
   "cell_type": "markdown",
   "metadata": {},
   "source": [
    "In our example, we can actually calculate this probability exactly from the binomial distribution."
   ]
  },
  {
   "cell_type": "markdown",
   "metadata": {},
   "source": [
    "$$ P(\\text{Observing this Data} \\mid \\text{Fisher's Assumption}) = {{6}\\choose{5}} 0.5^6 $$"
   ]
  },
  {
   "cell_type": "code",
   "execution_count": 24,
   "metadata": {},
   "outputs": [
    {
     "data": {
      "image/png": "[encoded data removed]",
      "text/plain": [
       "<Figure size 720x288 with 1 Axes>"
      ]
     },
     "metadata": {},
     "output_type": "display_data"
    }
   ],
   "source": [
    "bernoulli = stats.binom(n=6, p=0.5)\n",
    "\n",
    "fig, ax = plt.subplots(1, figsize=(10, 4))\n",
    "bars = ax.bar(range(7), [bernoulli.pmf(i) for i in range(7)], align=\"center\", color=\"grey\")\n",
    "bars[5].set_color('red')"
   ]
  },
  {
   "cell_type": "markdown",
   "metadata": {},
   "source": [
    "Fisher observed that, in fact, he would have been suprized if he had observed this data **or any data even more extreme than this**, so a more corrct measure of suprise would be\n",
    "\n",
    "$$ P(\\text{Data As Or More Extreme} \\mid \\text{Fisher's Assumption}) = {{6}\\choose{5}} 0.5^5 0.5^1 +{{6}\\choose{6}} 0.5^6  $$"
   ]
  },
  {
   "cell_type": "code",
   "execution_count": 25,
   "metadata": {
    "scrolled": true
   },
   "outputs": [
    {
     "data": {
      "text/plain": [
       "Text(0, 0.5, 'Probability')"
      ]
     },
     "execution_count": 25,
     "metadata": {},
     "output_type": "execute_result"
    },
    {
     "data": {
      "image/png": "[encoded data removed]",
      "text/plain": [
       "<Figure size 720x288 with 1 Axes>"
      ]
     },
     "metadata": {},
     "output_type": "display_data"
    }
   ],
   "source": [
    "bernoulli = stats.binom(n=6, p=0.5)\n",
    "\n",
    "fig, ax = plt.subplots(1, figsize=(10, 4))\n",
    "bars = ax.bar(range(7), [bernoulli.pmf(i) for i in range(7)], align=\"center\", color=\"grey\")\n",
    "bars[5].set_color('red')\n",
    "bars[6].set_color('red')\n",
    "ax.set_xlabel('Outcome')\n",
    "ax.set_ylabel('Probability')"
   ]
  },
  {
   "cell_type": "markdown",
   "metadata": {},
   "source": [
    "We can calculate this number easily in python."
   ]
  },
  {
   "cell_type": "code",
   "execution_count": 26,
   "metadata": {},
   "outputs": [
    {
     "name": "stdout",
     "output_type": "stream",
     "text": [
      "Probability of Observing Data More Equal or More Extreme than Actual: 0.11\n"
     ]
    }
   ],
   "source": [
    "binomial = stats.binom(n=6, p=0.5)\n",
    "\n",
    "# CDF gives P(draw <= value)\n",
    "prob_equal_or_more_extreme = 1 - binomial.cdf(4)\n",
    "print(\"Probability of Observing Data More Equal or More Extreme than Actual: {:2.2}\".format(\n",
    "    prob_equal_or_more_extreme))"
   ]
  },
  {
   "cell_type": "markdown",
   "metadata": {},
   "source": [
    "We now have a different sort of problem, how do we *interpret* this level of suprise?  Are we suprised of not?"
   ]
  },
  {
   "cell_type": "markdown",
   "metadata": {},
   "source": [
    "**Vote:** Do you believe Muriel given this evidence?"
   ]
  },
  {
   "cell_type": "code",
   "execution_count": 32,
   "metadata": {},
   "outputs": [
    {
     "data": {
      "text/plain": [
       "0.003848960788934845"
      ]
     },
     "execution_count": 32,
     "metadata": {},
     "output_type": "execute_result"
    }
   ],
   "source": [
    "(.99)**95/100"
   ]
  },
  {
   "cell_type": "markdown",
   "metadata": {},
   "source": [
    "## Hypothesis Testing: The Big Picture"
   ]
  },
  {
   "cell_type": "markdown",
   "metadata": {},
   "source": [
    "The tea example was reported in Fisher's classic text *The Design of Experiments*, and it is a prototypical example of the logic behind Hypothesis testing.\n",
    "\n",
    "\n",
    "\n"
   ]
  },
  {
   "cell_type": "markdown",
   "metadata": {},
   "source": [
    "#### State a Scientific Question.\n",
    "\n",
    "State a scientific question (a yes/no question) of interest that can be answered with data that you have collected or intend to collect.\n",
    "\n",
    "In Fisher's tea experiment the scientific question is \n",
    "\n",
    "> Can Muriel identify milk into tea from tea into milk?"
   ]
  },
  {
   "cell_type": "markdown",
   "metadata": {},
   "source": [
    "#### Take a Skeptical Stance, and Clearly State This Hypothesis.\n",
    "\n",
    "The skeptics stance is called the **Null Hypothesis**.\n",
    "\n",
    "In Fisher's experiment, the Null Hypothesis is \n",
    "\n",
    "> Muriel cannot tell the difference, and hence is guessing at random."
   ]
  },
  {
   "cell_type": "markdown",
   "metadata": {},
   "source": [
    "#### State the Opposite of Your Skeptical Hypothesis.\n",
    "\n",
    "The opposite of the Null Hypothesis is called the **Alternate Hypothesis**.  It **must** be the exact opposite of the Null, so that the Null and the Alternate cover *all* possibilities.\n",
    "\n",
    "Our alternative hypothesis in the Tea case is:\n",
    "\n",
    "> Muriel is not guessing randomly.\n",
    "\n",
    "**Note:** This covers two cases!  On one hand, Muriel *could* be better than chance, but Muriel could also be worse!  We will discuss how to deal with this possible issue shortly."
   ]
  },
  {
   "cell_type": "markdown",
   "metadata": {},
   "source": [
    "#### Create a Probablistic Model of the Stiuation Assuming the Null Hypothesis is True"
   ]
  },
  {
   "cell_type": "markdown",
   "metadata": {},
   "source": [
    "The Null Hypothesis generally states that some process is governed by only chance, so conceptualize exactly how the data is being generated probabalistically.\n",
    "\n",
    "In Fisher's example, our probabalistic model is\n",
    "\n",
    "$$\\text{# of cups guessed correctly} \\mid \\text{Muriel is guessing randomly}\\sim \\text{Binomial}(n=6, p=0.5)$$"
   ]
  },
  {
   "cell_type": "markdown",
   "metadata": {},
   "source": [
    "#### Decide how Suprised You Need to Be to Reject Your Skeptical Assumption"
   ]
  },
  {
   "cell_type": "markdown",
   "metadata": {},
   "source": [
    "Before looking at any data, set a threshold for you skepticism, which is traditionally labeled $\\alpha$.  This threshold can be based on many considerations.\n",
    "\n",
    "We neglected to do this in our tea example.\n",
    "\n",
    "**Note:** It is a common pracitice to set a threshold of $\\alpha = 0.05$ with no thought of reflection.  This is a source of much consternation in statistical circles, and you should not do so without reflection."
   ]
  },
  {
   "cell_type": "markdown",
   "metadata": {},
   "source": [
    "#### Collect Your Data."
   ]
  },
  {
   "cell_type": "markdown",
   "metadata": {},
   "source": [
    "![Big Data](images/bigdata.jpg)"
   ]
  },
  {
   "cell_type": "markdown",
   "metadata": {},
   "source": [
    "#### Calculate the Probability of Finding a Result Equally or More Extreme than Actually Observed Assuming the Null Hypothesis is True."
   ]
  },
  {
   "cell_type": "markdown",
   "metadata": {},
   "source": [
    "This calculated conditional probability is called the **p-value**.\n",
    "\n",
    "In Fisher's example, the calculated p-value is:\n",
    "\n",
    "$$ P(\\text{Observing Data As Or More Extreme} \\mid \\text{Null Hypothesis}) = {{6}\\choose{5}} 0.5^6 + {{6}\\choose{6}} 0.5^6  $$"
   ]
  },
  {
   "cell_type": "markdown",
   "metadata": {},
   "source": [
    "#### Compare the p-value to Your Stated Rejection Threshold."
   ]
  },
  {
   "cell_type": "markdown",
   "metadata": {},
   "source": [
    "If the p-value is smaller than your rejection threashold, you must reject your Null Hypothesis as **inconsistent with the data you collected**.\n",
    "\n",
    "That is, you have demonstrated, to your stated tolerance, that your skeptical stance is unlikely to be true.\n",
    "\n",
    "A useful way to think of this is:\n",
    "\n",
    "  - **Skptical Stance**: I will act as if my skeptics stance is true.\n",
    "  - **Alternate Stance**: I will act as if my skeptics stance is not true.\n",
    "  \n",
    "In the case that your computed p-value is smaller than your stated threshold, you must act as if the skeptic's hyptothesis is **not true** (though, of course, it may very well be and you just got unlucky)."
   ]
  },
  {
   "cell_type": "markdown",
   "metadata": {},
   "source": [
    "#### Publish Your Data and Code Online With Explicit Instructions for Replicating Your Result."
   ]
  },
  {
   "cell_type": "markdown",
   "metadata": {},
   "source": [
    "![Github Cats](images/github-cats.jpg)"
   ]
  },
  {
   "cell_type": "markdown",
   "metadata": {},
   "source": [
    "### Comments"
   ]
  },
  {
   "cell_type": "markdown",
   "metadata": {},
   "source": [
    "If you happen to *not* find sufficient evidence to reject your null hypothesis, **you have not proven that your null hypothesis is true**.\n",
    "\n",
    "Indeed, the entire procedure was predicated on **assuming** the null was true **until sufficient evidence is found to make this stance untenable**.  If you do not reject the null, you simply continue to hold this skeptic's stance until more evidence comes along and you need to re-evaluate."
   ]
  },
  {
   "cell_type": "markdown",
   "metadata": {},
   "source": [
    "### One Sample Exact Test of Population Proportion"
   ]
  },
  {
   "cell_type": "markdown",
   "metadata": {},
   "source": [
    "This kind of test, where we are studying how many times something happens and the null distribution is binomial, is called a **one sample exact test of a population proportion**.\n",
    "\n",
    "Let's do another example to get reps on the idea."
   ]
  },
  {
   "cell_type": "markdown",
   "metadata": {},
   "source": [
    "#### Setup\n",
    "\n",
    "Matt is all about cosistency in skateboarding, and is learning to Kickflip.  He does not want to move onto another trick until he can cleanly land a Kickflip $80\\%$ of the time.\n",
    "\n",
    "Being a scientist, he is skeptical of himself, and assumes the following hypothesis until he can prove otherwise:\n",
    "\n",
    "> Null Hypothesis: $P(\\text{I Land a Kickflip}) <= 0.8$\n",
    "\n",
    "On a particularly uneventful saturday, Matt keeps track of $100$ kickflip attempts (after properly warming up and stretching of course, Matt is 36).  He does quite well, and lands $84$ of them.\n",
    "\n",
    "**Question:** Should Matt move on to another trick?"
   ]
  },
  {
   "cell_type": "markdown",
   "metadata": {},
   "source": [
    "#### Create a Probablistic Model of the Stiuation Assuming the Null Hypothesis is True"
   ]
  },
  {
   "cell_type": "markdown",
   "metadata": {},
   "source": [
    "We would like to create a probabilstic model of my Kickflip ability under the null hypothesis that\n",
    "\n",
    "> Null Hypothesis: $P(\\text{I Land a Kickflip}) \\leq 0.8$\n",
    "\n",
    "But this is kind of hard, because I don't have a single probability to rely on.  But consider my intent, to **be as skeptical as possible**.  If I base my model on, say, a probability of $0.5$, then it is **easier to collect data that is inconsistent with this probability**.  So, given my setup, I should use the probability that allows me to be **most skeptical**.  \n",
    "\n",
    "If I asssume that:\n",
    "\n",
    "> Null Hypothesis': $P(\\text{I Land a Kickflip}) = 0.8$\n",
    "\n",
    "This allows me to be **maximally skeptical**.  It is **most difficult** to reject the null if I use a probability of $0.8$."
   ]
  },
  {
   "cell_type": "markdown",
   "metadata": {},
   "source": [
    "What I really want now is to know the probability I land $k$ out of $100$ kickflips.  To get there, I need to make one additional assumption: that each kickflip is independent of the rest.  This allows me to come up with a full probabilistic model under the Null:\n",
    "\n",
    "$$ \\text{# of kickflips landed } \\mid \\text{ Null Hypothesis} \\sim \\text{Binomial}(n=100, p=0.8) $$"
   ]
  },
  {
   "cell_type": "code",
   "execution_count": 33,
   "metadata": {},
   "outputs": [
    {
     "data": {
      "text/plain": [
       "Text(0.5, 1.0, '# of Kickflips Landed Under The Null Hypothesis')"
      ]
     },
     "execution_count": 33,
     "metadata": {},
     "output_type": "execute_result"
    },
    {
     "data": {
      "image/png": "[encoded data removed]",
      "text/plain": [
       "<Figure size 1152x288 with 1 Axes>"
      ]
     },
     "metadata": {},
     "output_type": "display_data"
    }
   ],
   "source": [
    "binomial = stats.binom(100, 0.8)\n",
    "\n",
    "fig, ax = plt.subplots(1, figsize=(16, 4))\n",
    "bars = ax.bar(range(101), [binomial.pmf(i) for i in range(101)], align=\"center\", color=\"grey\")\n",
    "ax.set_xlim(0, 101)\n",
    "ax.set_title(\"# of Kickflips Landed Under The Null Hypothesis\")"
   ]
  },
  {
   "cell_type": "code",
   "execution_count": null,
   "metadata": {},
   "outputs": [],
   "source": []
  },
  {
   "cell_type": "code",
   "execution_count": 47,
   "metadata": {},
   "outputs": [
    {
     "data": {
      "image/png": "[encoded data removed]",
      "text/plain": [
       "<Figure size 1080x360 with 1 Axes>"
      ]
     },
     "metadata": {},
     "output_type": "display_data"
    }
   ],
   "source": [
    "n=100\n",
    "p=0.8\n",
    "k = 84\n",
    "kick_flip = stats.binom(n,p)\n",
    "\n",
    "fig, ax = plt.subplots(figsize=(15,5))\n",
    "bars = ax.bar(range(n+1), [binomial.pmf(i) for i in range(n+1)], align='center', color='grey')\n",
    "ax.set_xlim(0,n+1)\n",
    "\n",
    "for k in range(k,n+1):\n",
    "    bars[k].set_color('blue');"
   ]
  },
  {
   "cell_type": "code",
   "execution_count": 51,
   "metadata": {},
   "outputs": [
    {
     "data": {
      "text/plain": [
       "0.19233758459760086"
      ]
     },
     "execution_count": 51,
     "metadata": {},
     "output_type": "execute_result"
    }
   ],
   "source": [
    "k = 84\n",
    "1 - kick_flip.cdf(k-1)"
   ]
  },
  {
   "cell_type": "markdown",
   "metadata": {},
   "source": [
    "#### Decide how Suprised You Need to Be to Reject Your Skeptical Assumption\n",
    "\n",
    "Rejecting the null hypothesis here incorrectly is not particularly harmful, as it just means I get to start working on another trick without being super confident in my kickflips.  So I'll set my rejection threshold rather high, let's take \n",
    "\n",
    "$$ \\alpha = 0.2 $$"
   ]
  },
  {
   "cell_type": "markdown",
   "metadata": {},
   "source": [
    "#### Collect Your Data."
   ]
  },
  {
   "cell_type": "markdown",
   "metadata": {},
   "source": [
    "![Kickflip](images/kickflip.jpg)"
   ]
  },
  {
   "cell_type": "markdown",
   "metadata": {},
   "source": [
    "Matt landed 84 of 100 kickflips."
   ]
  },
  {
   "cell_type": "markdown",
   "metadata": {},
   "source": [
    "#### Calculate the Probability of Finding a Result Equally or More Extreme than Actually Observed Assuming the Probabilistic Model You Created."
   ]
  },
  {
   "cell_type": "markdown",
   "metadata": {},
   "source": [
    "This is almost the same calculation as the tea example."
   ]
  },
  {
   "cell_type": "code",
   "execution_count": 52,
   "metadata": {},
   "outputs": [
    {
     "data": {
      "image/png": "[encoded data removed]",
      "text/plain": [
       "<Figure size 1152x288 with 1 Axes>"
      ]
     },
     "metadata": {},
     "output_type": "display_data"
    }
   ],
   "source": [
    "fig, ax = plt.subplots(1, figsize=(16, 4))\n",
    "bars = ax.bar(range(101), [binomial.pmf(i) for i in range(101)], color=\"grey\", align=\"center\")\n",
    "ax.set_xlim(0, 101)\n",
    "\n",
    "for i in range(84, 101):\n",
    "    bars[i].set_color('red')\n",
    "    \n",
    "_ = ax.set_title(\"P-value Reigon\")"
   ]
  },
  {
   "cell_type": "code",
   "execution_count": 53,
   "metadata": {},
   "outputs": [
    {
     "name": "stdout",
     "output_type": "stream",
     "text": [
      "Probability of Observing Data More Equal or More Extreme than Actual: 0.19\n"
     ]
    }
   ],
   "source": [
    "prob_equal_or_more_extreme = 1 - binomial.cdf(83)\n",
    "print(\"Probability of Observing Data More Equal or More Extreme than Actual: {:2.2}\".format(\n",
    "    prob_equal_or_more_extreme))"
   ]
  },
  {
   "cell_type": "markdown",
   "metadata": {},
   "source": [
    "#### Compare the p-value to Your Stated Rejection Threashold.\n",
    "\n",
    "We decided to reject at a threshold of $\\alpha = 0.2$.  Since our p-value is less than this threshold, I can now work on some new tricks!"
   ]
  },
  {
   "cell_type": "markdown",
   "metadata": {},
   "source": [
    "**Exercise**: Redo the example with a sample size of 250 kickflips, whith 210 of them landed (this is the same *proportion* of lands).  How does the p-value change?"
   ]
  },
  {
   "cell_type": "code",
   "execution_count": 55,
   "metadata": {},
   "outputs": [
    {
     "data": {
      "image/png": "[encoded data removed]",
      "text/plain": [
       "<Figure size 1080x360 with 1 Axes>"
      ]
     },
     "metadata": {},
     "output_type": "display_data"
    }
   ],
   "source": [
    "n=250\n",
    "p=0.8\n",
    "k = 210\n",
    "kick_flip = stats.binom(n,p)\n",
    "\n",
    "fig, ax = plt.subplots(figsize=(15,5))\n",
    "bars = ax.bar(range(n+1), [kick_flip.pmf(i) for i in range(n+1)], align='center', color='grey')\n",
    "ax.set_xlim(0,n+1)\n",
    "\n",
    "for k in range(k,n+1):\n",
    "    bars[k].set_color('blue');"
   ]
  },
  {
   "cell_type": "code",
   "execution_count": 57,
   "metadata": {},
   "outputs": [
    {
     "data": {
      "text/plain": [
       "0.06368363842355484"
      ]
     },
     "execution_count": 57,
     "metadata": {},
     "output_type": "execute_result"
    }
   ],
   "source": [
    "k  = 210\n",
    "1- kick_flip.cdf(k-1)"
   ]
  },
  {
   "cell_type": "code",
   "execution_count": null,
   "metadata": {},
   "outputs": [],
   "source": [
    "# 6% is highly unlikley given the null is true with 20% threshold \n",
    "# therefore, reject the null hypothesis a"
   ]
  }
 ],
 "metadata": {
  "kernelspec": {
   "display_name": "Python 3",
   "language": "python",
   "name": "python3"
  },
  "language_info": {
   "codemirror_mode": {
    "name": "ipython",
    "version": 3
   },
   "file_extension": ".py",
   "mimetype": "text/x-python",
   "name": "python",
   "nbconvert_exporter": "python",
   "pygments_lexer": "ipython3",
   "version": "3.7.7"
  }
 },
 "nbformat": 4,
 "nbformat_minor": 4
}
