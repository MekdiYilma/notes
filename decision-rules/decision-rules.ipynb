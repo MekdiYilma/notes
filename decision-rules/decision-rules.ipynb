{
 "cells": [
  {
   "cell_type": "markdown",
   "metadata": {},
   "source": [
    "# Profit Curves\n",
    "\n",
    "### Jack Bennetto\n",
    "#### February 7, 2019"
   ]
  },
  {
   "cell_type": "code",
   "execution_count": 2,
   "metadata": {},
   "outputs": [
    {
     "name": "stdout",
     "output_type": "stream",
     "text": [
      "                     precision    recall  f1-score   support\n",
      "\n",
      "  retained customer       0.80      0.80      0.80         5\n",
      "unretained customer       0.75      0.60      0.67         5\n",
      "   on hold customer       0.33      0.50      0.40         2\n",
      "\n",
      "           accuracy                           0.67        12\n",
      "          macro avg       0.63      0.63      0.62        12\n",
      "       weighted avg       0.70      0.67      0.68        12\n",
      "\n"
     ]
    }
   ],
   "source": [
    "from sklearn.metrics import classification_report\n",
    "\n",
    "y_true = [0,1,0,2,1,0,0,2,1,1,0,1]\n",
    "y_pred = [0,0,0,2,1,0,2,1,2,1,0,1]\n",
    "target_names = ['retained customer', 'unretained customer', 'on hold customer']\n",
    "\n",
    "print(classification_report(y_true, y_pred, target_names=target_names))"
   ]
  },
  {
   "cell_type": "code",
   "execution_count": 3,
   "metadata": {},
   "outputs": [
    {
     "name": "stdout",
     "output_type": "stream",
     "text": [
      "[[4 0 1]\n",
      " [1 3 1]\n",
      " [0 1 1]]\n"
     ]
    }
   ],
   "source": [
    "from sklearn.metrics import confusion_matrix\n",
    "\n",
    "cm = confusion_matrix(y_true, y_pred)\n",
    "print(cm)"
   ]
  },
  {
   "cell_type": "code",
   "execution_count": 4,
   "metadata": {},
   "outputs": [
    {
     "data": {
      "text/plain": [
       "array([4, 0, 1, 1, 3, 1, 0, 1, 1])"
      ]
     },
     "execution_count": 4,
     "metadata": {},
     "output_type": "execute_result"
    }
   ],
   "source": [
    "cm.ravel()"
   ]
  },
  {
   "cell_type": "code",
   "execution_count": 5,
   "metadata": {},
   "outputs": [],
   "source": [
    "import pandas as pd\n",
    "import numpy as np\n",
    "from sklearn.preprocessing import StandardScaler\n",
    "from sklearn.model_selection import train_test_split, KFold, StratifiedKFold, cross_val_score\n",
    "from sklearn.datasets import make_classification\n",
    "from sklearn.naive_bayes import GaussianNB\n",
    "from sklearn.neighbors import KNeighborsClassifier\n",
    "from sklearn.linear_model import LogisticRegression\n",
    "from sklearn import metrics\n",
    "from sklearn.metrics import precision_recall_curve, roc_curve, confusion_matrix, classification_report\n",
    "from sklearn.utils import resample\n",
    "from sklearn.utils.class_weight import compute_class_weight\n",
    "\n",
    "import matplotlib.pyplot as plt"
   ]
  },
  {
   "cell_type": "code",
   "execution_count": 6,
   "metadata": {},
   "outputs": [],
   "source": [
    "X, y= make_classification(n_classes=2,\n",
    "                          weights=[.95, .05], # majority are non-fraud, minority are fraud\n",
    "                          n_features=20,\n",
    "                          n_samples=1000,\n",
    "                          random_state=23\n",
    "                         )"
   ]
  },
  {
   "cell_type": "code",
   "execution_count": 8,
   "metadata": {},
   "outputs": [
    {
     "data": {
      "text/plain": [
       "((1000, 20), (1000,))"
      ]
     },
     "execution_count": 8,
     "metadata": {},
     "output_type": "execute_result"
    }
   ],
   "source": [
    "X.shape, y.shape"
   ]
  },
  {
   "cell_type": "code",
   "execution_count": 14,
   "metadata": {},
   "outputs": [
    {
     "data": {
      "text/plain": [
       "(array([ 0.13232492,  0.33301267,  0.48136971,  2.47307051, -0.96672539,\n",
       "         0.49387975, -0.24730936,  0.67947579, -0.27055728,  1.50638123,\n",
       "         1.42532579, -1.27970581,  1.82584129, -0.76420481, -0.10480415,\n",
       "        -0.49503917,  2.30078898, -0.0372263 , -0.55258414, -0.67295166]),\n",
       " 0)"
      ]
     },
     "execution_count": 14,
     "metadata": {},
     "output_type": "execute_result"
    }
   ],
   "source": [
    "X[0], y[0]"
   ]
  },
  {
   "cell_type": "code",
   "execution_count": 15,
   "metadata": {},
   "outputs": [
    {
     "data": {
      "text/plain": [
       "0    949\n",
       "1     51\n",
       "dtype: int64"
      ]
     },
     "execution_count": 15,
     "metadata": {},
     "output_type": "execute_result"
    }
   ],
   "source": [
    "pd.Series(y).value_counts()"
   ]
  },
  {
   "cell_type": "code",
   "execution_count": 17,
   "metadata": {},
   "outputs": [],
   "source": [
    "X_train, X_test, y_train, y_test = train_test_split(X, y, test_size=.25, stratify=y, random_state=123)\n",
    "\n",
    "# normalize the data after the splitting\n",
    "scaler = StandardScaler()\n",
    "X_train = scaler.fit_transform(X_train)\n",
    "X_test = scaler.transform(X_test)"
   ]
  },
  {
   "cell_type": "code",
   "execution_count": 18,
   "metadata": {},
   "outputs": [
    {
     "data": {
      "text/plain": [
       "array([ 0.13057799, -1.44163723,  0.39391845, -1.05036798,  0.30731766,\n",
       "       -1.54613167, -0.11639262,  0.57642192,  0.22359336,  1.31344395,\n",
       "       -0.15424698, -0.34821844,  0.23396433, -2.02718874, -0.95260065,\n",
       "       -0.42807677,  0.48912087, -0.84397508, -1.30579262, -0.21209102])"
      ]
     },
     "execution_count": 18,
     "metadata": {},
     "output_type": "execute_result"
    }
   ],
   "source": [
    "X_train[0]"
   ]
  },
  {
   "cell_type": "code",
   "execution_count": 20,
   "metadata": {},
   "outputs": [
    {
     "name": "stdout",
     "output_type": "stream",
     "text": [
      "0.050666666666666665\n"
     ]
    },
    {
     "data": {
      "text/plain": [
       "0    712\n",
       "1     38\n",
       "dtype: int64"
      ]
     },
     "execution_count": 20,
     "metadata": {},
     "output_type": "execute_result"
    }
   ],
   "source": [
    "tmp = pd.Series(y_train).value_counts()\n",
    "\n",
    "#portion of minority in train\n",
    "print(tmp[1]/sum(tmp))\n",
    "tmp"
   ]
  },
  {
   "cell_type": "code",
   "execution_count": 21,
   "metadata": {},
   "outputs": [
    {
     "name": "stdout",
     "output_type": "stream",
     "text": [
      "0.052\n"
     ]
    },
    {
     "data": {
      "text/plain": [
       "0    237\n",
       "1     13\n",
       "dtype: int64"
      ]
     },
     "execution_count": 21,
     "metadata": {},
     "output_type": "execute_result"
    }
   ],
   "source": [
    "tmp = pd.Series(y_test).value_counts()\n",
    "\n",
    "#portion of minority in test\n",
    "print(tmp[1]/sum(tmp))\n",
    "tmp"
   ]
  },
  {
   "cell_type": "code",
   "execution_count": 22,
   "metadata": {},
   "outputs": [
    {
     "data": {
      "text/plain": [
       "LogisticRegression()"
      ]
     },
     "execution_count": 22,
     "metadata": {},
     "output_type": "execute_result"
    }
   ],
   "source": [
    "model = LogisticRegression()\n",
    "model.fit(X_train, y_train)"
   ]
  },
  {
   "cell_type": "markdown",
   "metadata": {},
   "source": [
    "  LogisticRegression(C=1.0, class\\_weight=None, dual=False,\n",
    "  fit\\_intercept=True,  \n",
    "  intercept\\_scaling=1, l1\\_ratio=None, max\\_iter=100,\n",
    "  multi\\_class='auto', n\\_jobs=None, penalty='l2', random\\_state=None,\n",
    "  solver='lbfgs', tol=0.0001, verbose=0, warm\\_start=False)"
   ]
  },
  {
   "cell_type": "code",
   "execution_count": 25,
   "metadata": {},
   "outputs": [
    {
     "data": {
      "text/html": [
       "<div>\n",
       "<style scoped>\n",
       "    .dataframe tbody tr th:only-of-type {\n",
       "        vertical-align: middle;\n",
       "    }\n",
       "\n",
       "    .dataframe tbody tr th {\n",
       "        vertical-align: top;\n",
       "    }\n",
       "\n",
       "    .dataframe thead th {\n",
       "        text-align: right;\n",
       "    }\n",
       "</style>\n",
       "<table border=\"1\" class=\"dataframe\">\n",
       "  <thead>\n",
       "    <tr style=\"text-align: right;\">\n",
       "      <th></th>\n",
       "      <th>pred_label</th>\n",
       "      <th>prob(y=0)</th>\n",
       "    </tr>\n",
       "  </thead>\n",
       "  <tbody>\n",
       "    <tr>\n",
       "      <th>0</th>\n",
       "      <td>0</td>\n",
       "      <td>0.015959</td>\n",
       "    </tr>\n",
       "    <tr>\n",
       "      <th>1</th>\n",
       "      <td>0</td>\n",
       "      <td>0.000086</td>\n",
       "    </tr>\n",
       "    <tr>\n",
       "      <th>2</th>\n",
       "      <td>0</td>\n",
       "      <td>0.000157</td>\n",
       "    </tr>\n",
       "    <tr>\n",
       "      <th>3</th>\n",
       "      <td>0</td>\n",
       "      <td>0.000038</td>\n",
       "    </tr>\n",
       "    <tr>\n",
       "      <th>4</th>\n",
       "      <td>0</td>\n",
       "      <td>0.007308</td>\n",
       "    </tr>\n",
       "    <tr>\n",
       "      <th>5</th>\n",
       "      <td>0</td>\n",
       "      <td>0.000673</td>\n",
       "    </tr>\n",
       "    <tr>\n",
       "      <th>6</th>\n",
       "      <td>0</td>\n",
       "      <td>0.000306</td>\n",
       "    </tr>\n",
       "    <tr>\n",
       "      <th>7</th>\n",
       "      <td>0</td>\n",
       "      <td>0.000043</td>\n",
       "    </tr>\n",
       "    <tr>\n",
       "      <th>8</th>\n",
       "      <td>0</td>\n",
       "      <td>0.000307</td>\n",
       "    </tr>\n",
       "    <tr>\n",
       "      <th>9</th>\n",
       "      <td>0</td>\n",
       "      <td>0.000184</td>\n",
       "    </tr>\n",
       "    <tr>\n",
       "      <th>10</th>\n",
       "      <td>1</td>\n",
       "      <td>0.744753</td>\n",
       "    </tr>\n",
       "    <tr>\n",
       "      <th>11</th>\n",
       "      <td>0</td>\n",
       "      <td>0.000679</td>\n",
       "    </tr>\n",
       "    <tr>\n",
       "      <th>12</th>\n",
       "      <td>0</td>\n",
       "      <td>0.021966</td>\n",
       "    </tr>\n",
       "    <tr>\n",
       "      <th>13</th>\n",
       "      <td>0</td>\n",
       "      <td>0.060752</td>\n",
       "    </tr>\n",
       "    <tr>\n",
       "      <th>14</th>\n",
       "      <td>0</td>\n",
       "      <td>0.008082</td>\n",
       "    </tr>\n",
       "    <tr>\n",
       "      <th>15</th>\n",
       "      <td>0</td>\n",
       "      <td>0.004602</td>\n",
       "    </tr>\n",
       "    <tr>\n",
       "      <th>16</th>\n",
       "      <td>0</td>\n",
       "      <td>0.004157</td>\n",
       "    </tr>\n",
       "    <tr>\n",
       "      <th>17</th>\n",
       "      <td>0</td>\n",
       "      <td>0.000882</td>\n",
       "    </tr>\n",
       "    <tr>\n",
       "      <th>18</th>\n",
       "      <td>0</td>\n",
       "      <td>0.003219</td>\n",
       "    </tr>\n",
       "    <tr>\n",
       "      <th>19</th>\n",
       "      <td>0</td>\n",
       "      <td>0.000129</td>\n",
       "    </tr>\n",
       "  </tbody>\n",
       "</table>\n",
       "</div>"
      ],
      "text/plain": [
       "    pred_label  prob(y=0)\n",
       "0            0   0.015959\n",
       "1            0   0.000086\n",
       "2            0   0.000157\n",
       "3            0   0.000038\n",
       "4            0   0.007308\n",
       "5            0   0.000673\n",
       "6            0   0.000306\n",
       "7            0   0.000043\n",
       "8            0   0.000307\n",
       "9            0   0.000184\n",
       "10           1   0.744753\n",
       "11           0   0.000679\n",
       "12           0   0.021966\n",
       "13           0   0.060752\n",
       "14           0   0.008082\n",
       "15           0   0.004602\n",
       "16           0   0.004157\n",
       "17           0   0.000882\n",
       "18           0   0.003219\n",
       "19           0   0.000129"
      ]
     },
     "execution_count": 25,
     "metadata": {},
     "output_type": "execute_result"
    }
   ],
   "source": [
    "y_pred = model.predict(X_test) # classification default threshold is set to be 0.5\n",
    "y_prob = model.predict_proba(X_test)\n",
    "\n",
    "#show how y_pred is related to y_prob\n",
    "pd.DataFrame({'pred_label':y_pred[:20] ,'prob(y=0)': y_prob[:20, 1]})"
   ]
  },
  {
   "cell_type": "code",
   "execution_count": 26,
   "metadata": {},
   "outputs": [
    {
     "data": {
      "text/plain": [
       "array([ True,  True,  True,  True,  True,  True,  True,  True,  True,\n",
       "        True,  True,  True,  True,  True,  True,  True,  True,  True,\n",
       "        True,  True,  True,  True,  True,  True,  True,  True,  True,\n",
       "        True,  True,  True,  True,  True,  True,  True,  True,  True,\n",
       "        True,  True,  True,  True,  True,  True,  True,  True,  True,\n",
       "        True,  True,  True,  True,  True,  True,  True,  True,  True,\n",
       "        True,  True,  True,  True,  True,  True,  True,  True,  True,\n",
       "        True,  True,  True,  True,  True,  True,  True,  True,  True,\n",
       "        True,  True,  True,  True,  True,  True,  True,  True,  True,\n",
       "        True,  True,  True,  True,  True,  True,  True,  True,  True,\n",
       "        True,  True,  True,  True,  True,  True,  True,  True,  True,\n",
       "        True,  True,  True,  True,  True,  True,  True,  True,  True,\n",
       "        True,  True,  True,  True,  True,  True,  True,  True,  True,\n",
       "        True,  True,  True,  True,  True,  True,  True,  True,  True,\n",
       "        True,  True,  True,  True,  True,  True,  True,  True,  True,\n",
       "        True,  True,  True,  True,  True,  True,  True,  True,  True,\n",
       "        True,  True,  True,  True,  True,  True,  True,  True,  True,\n",
       "        True,  True,  True,  True,  True,  True,  True,  True,  True,\n",
       "        True,  True,  True,  True,  True,  True,  True,  True,  True,\n",
       "        True,  True,  True,  True,  True,  True,  True,  True,  True,\n",
       "        True,  True,  True,  True,  True,  True,  True,  True,  True,\n",
       "        True,  True,  True,  True,  True,  True,  True,  True,  True,\n",
       "        True,  True,  True,  True,  True,  True,  True,  True,  True,\n",
       "        True,  True,  True,  True,  True,  True,  True,  True,  True,\n",
       "        True,  True,  True,  True,  True,  True,  True,  True,  True,\n",
       "        True,  True,  True,  True,  True,  True,  True,  True,  True,\n",
       "        True,  True,  True,  True,  True,  True,  True,  True,  True,\n",
       "        True,  True,  True,  True,  True,  True,  True])"
      ]
     },
     "execution_count": 26,
     "metadata": {},
     "output_type": "execute_result"
    }
   ],
   "source": [
    "a = y_prob[:,1]>0.5\n",
    "b = y_pred \n",
    "\n",
    "a==b"
   ]
  },
  {
   "cell_type": "code",
   "execution_count": 30,
   "metadata": {},
   "outputs": [
    {
     "data": {
      "text/plain": [
       "array([[235,   2],\n",
       "       [  7,   6]])"
      ]
     },
     "execution_count": 30,
     "metadata": {},
     "output_type": "execute_result"
    }
   ],
   "source": [
    "confusion_matrix(y_test, y_pred)"
   ]
  },
  {
   "cell_type": "code",
   "execution_count": 31,
   "metadata": {},
   "outputs": [
    {
     "data": {
      "text/plain": [
       "array([[235,   2],\n",
       "       [  7,   6]])"
      ]
     },
     "execution_count": 31,
     "metadata": {},
     "output_type": "execute_result"
    }
   ],
   "source": [
    "confusion_matrix(y_test, y_prob[:,1] > 0.5)"
   ]
  },
  {
   "cell_type": "code",
   "execution_count": 32,
   "metadata": {},
   "outputs": [
    {
     "data": {
      "text/plain": [
       "array([[223,  14],\n",
       "       [  3,  10]])"
      ]
     },
     "execution_count": 32,
     "metadata": {},
     "output_type": "execute_result"
    }
   ],
   "source": [
    "confusion_matrix(y_test, y_prob[:,1] > 0.1)"
   ]
  },
  {
   "cell_type": "code",
   "execution_count": 33,
   "metadata": {},
   "outputs": [
    {
     "data": {
      "text/plain": [
       "array([[237,   0],\n",
       "       [ 10,   3]])"
      ]
     },
     "execution_count": 33,
     "metadata": {},
     "output_type": "execute_result"
    }
   ],
   "source": [
    "confusion_matrix(y_test, y_prob[:,1] > 0.9)"
   ]
  },
  {
   "cell_type": "code",
   "execution_count": 34,
   "metadata": {},
   "outputs": [
    {
     "name": "stdout",
     "output_type": "stream",
     "text": [
      "              precision    recall  f1-score   support\n",
      "\n",
      "           0       0.97      0.99      0.98       237\n",
      "           1       0.75      0.46      0.57        13\n",
      "\n",
      "    accuracy                           0.96       250\n",
      "   macro avg       0.86      0.73      0.78       250\n",
      "weighted avg       0.96      0.96      0.96       250\n",
      "\n"
     ]
    }
   ],
   "source": [
    "print(classification_report(y_test, y_prob[:,1] > 0.5))"
   ]
  },
  {
   "cell_type": "code",
   "execution_count": 35,
   "metadata": {},
   "outputs": [
    {
     "name": "stdout",
     "output_type": "stream",
     "text": [
      "              precision    recall  f1-score   support\n",
      "\n",
      "           0       0.99      0.94      0.96       237\n",
      "           1       0.42      0.77      0.54        13\n",
      "\n",
      "    accuracy                           0.93       250\n",
      "   macro avg       0.70      0.86      0.75       250\n",
      "weighted avg       0.96      0.93      0.94       250\n",
      "\n"
     ]
    }
   ],
   "source": [
    "print(classification_report(y_test, y_prob[:,1] > 0.1))"
   ]
  },
  {
   "cell_type": "code",
   "execution_count": 54,
   "metadata": {},
   "outputs": [
    {
     "data": {
      "text/plain": [
       "array([[  0, -50],\n",
       "       [  0, 200]])"
      ]
     },
     "execution_count": 54,
     "metadata": {},
     "output_type": "execute_result"
    }
   ],
   "source": [
    "# cost_benefit_matrix = np.array([[250-50, -50],[0, 0]])\n",
    "cost_benefit_matrix = np.array([[0, -50],[0, 250-50]])\n",
    "cost_benefit_matrix"
   ]
  },
  {
   "cell_type": "code",
   "execution_count": 55,
   "metadata": {},
   "outputs": [],
   "source": [
    "def profit_curve(cost_benefit_matrix, y_prob, y_test):\n",
    "    \"\"\" To calculate list of profits based on supplied cost-benefit\n",
    "    matrix and predicted probabilities of data points and their true labels.\n",
    "\n",
    "    Parameters\n",
    "    ----------\n",
    "    cost_benefit_matrix    : ndarray - 2D, with profit values corresponding to:\n",
    "                                          -----------\n",
    "                                          | TP | FP |\n",
    "                                          -----------\n",
    "                                          | FN | TN |\n",
    "                                          -----------\n",
    "    y_prob : ndarray - 1D, predicted probability for each data point\n",
    "                                    in labels, in range [0, 1]\n",
    "    y_test : ndarray - 1D, true label of data points, 0 or 1\n",
    "\n",
    "    Returns\n",
    "    -------\n",
    "    profits    : ndarray - 1D\n",
    "    thresholds : ndarray - 1D\n",
    "    \"\"\"\n",
    "    n_obs = float(len(y_test))\n",
    "\n",
    "    #making sure 1 is one of our threshold\n",
    "    maybe_one = [] if 1 in y_prob else [1]\n",
    "    thresholds = maybe_one + sorted(y_prob, reverse=True)\n",
    "\n",
    "    profits = []\n",
    "    for threshold in thresholds:\n",
    "        y_pred = y_prob >= threshold\n",
    "        standard_confusion_matrix = confusion_matrix(y_test, y_pred)\n",
    "        profit = np.sum(cost_benefit_matrix*standard_confusion_matrix)/n_obs\n",
    "        profits.append(profit)\n",
    "    return np.array(profits), np.array(thresholds)"
   ]
  },
  {
   "cell_type": "code",
   "execution_count": 56,
   "metadata": {},
   "outputs": [],
   "source": [
    "profits, thresholds = profit_curve(cost_benefit_matrix=cost_benefit_matrix, \n",
    "                                   y_prob=y_prob[:,1],\n",
    "                                   y_test=y_test)"
   ]
  },
  {
   "cell_type": "code",
   "execution_count": 57,
   "metadata": {},
   "outputs": [],
   "source": [
    "def plot_profit_curve(model_name, cost_benefit_matrix, y_prob, y_test):\n",
    "    '''\n",
    "    Plot profit curve with \n",
    "    - x-axis: the percent of test instance being predicted as positive.\n",
    "    - y-axis: the profits\n",
    "\n",
    "    INPUTS:\n",
    "    - model_name: model name string\n",
    "    - cost_benefit_matrix: cost benefit matrix in the same format as the confusion matrix above\n",
    "    - y_prob: predicted probabilities of the instances being positive\n",
    "    - y_test: actual labels (positive being 1 and negative being 0)\n",
    "    '''\n",
    "\n",
    "    profits, thresholds = profit_curve(cost_benefit_matrix=cost_benefit_matrix, \n",
    "                                       y_prob=y_prob,\n",
    "                                       y_test=y_test)\n",
    "\n",
    "    # Profit curve plot\n",
    "    #In case of using 'pipeline' instead of 'model_name' as this function's input: model_name = pipeline.named_steps['classifier'].__class__.__name__\n",
    "    max_profit = max(profits)\n",
    "    profit_threshold_percent_max = [(round(profit,3), round(threshold,3), round(percent,2)) for profit, threshold, percent in zip(profits, thresholds, np.linspace(0, 100, len(profits))) if profit == max_profit][0]\n",
    "    plt.figure(figsize=(15,10))\n",
    "    plt.plot(np.linspace(0, 100, len(profits)), profits, label = f'{model_name}: max profit ${profit_threshold_percent_max[0]} per user at threshold {profit_threshold_percent_max[1]} with {profit_threshold_percent_max[2]} percent positive instances')\n",
    "    plt.legend()\n",
    "    plt.xlabel('Percentage of test instances predicted as positive')\n",
    "    plt.ylabel('Profit (in Dollar)')\n",
    "    plt.show()\n"
   ]
  },
  {
   "cell_type": "code",
   "execution_count": 58,
   "metadata": {},
   "outputs": [
    {
     "data": {
      "image/png": "[encoded data removed]",
      "text/plain": [
       "<Figure size 1080x720 with 1 Axes>"
      ]
     },
     "metadata": {
      "needs_background": "light"
     },
     "output_type": "display_data"
    }
   ],
   "source": [
    "plot_profit_curve('LogisticRegression', cost_benefit_matrix, y_prob[:,1], y_test)"
   ]
  },
  {
   "cell_type": "code",
   "execution_count": 50,
   "metadata": {},
   "outputs": [
    {
     "data": {
      "text/plain": [
       "array([[  0, -50],\n",
       "       [  0, 200]])"
      ]
     },
     "execution_count": 50,
     "metadata": {},
     "output_type": "execute_result"
    }
   ],
   "source": [
    "cost_benefit_matrix = np.array([[0, -50],[0, 250-50]])\n",
    "cost_benefit_matrix"
   ]
  },
  {
   "cell_type": "code",
   "execution_count": 51,
   "metadata": {},
   "outputs": [
    {
     "data": {
      "text/plain": [
       "array([[235,   2],\n",
       "       [  7,   6]])"
      ]
     },
     "execution_count": 51,
     "metadata": {},
     "output_type": "execute_result"
    }
   ],
   "source": [
    "confusion_matrix(y_test, y_pred)"
   ]
  },
  {
   "cell_type": "code",
   "execution_count": 52,
   "metadata": {},
   "outputs": [
    {
     "data": {
      "text/plain": [
       "array([[  0, -50],\n",
       "       [  0, 200]])"
      ]
     },
     "execution_count": 52,
     "metadata": {},
     "output_type": "execute_result"
    }
   ],
   "source": [
    "cost_benefit_matrix"
   ]
  },
  {
   "cell_type": "code",
   "execution_count": 53,
   "metadata": {},
   "outputs": [
    {
     "data": {
      "text/plain": [
       "array([[   0, -100],\n",
       "       [   0, 1200]])"
      ]
     },
     "execution_count": 53,
     "metadata": {},
     "output_type": "execute_result"
    }
   ],
   "source": [
    "cost_benefit_matrix*confusion_matrix(y_test, y_pred)"
   ]
  },
  {
   "cell_type": "code",
   "execution_count": null,
   "metadata": {},
   "outputs": [],
   "source": []
  },
  {
   "cell_type": "code",
   "execution_count": null,
   "metadata": {},
   "outputs": [],
   "source": []
  },
  {
   "cell_type": "code",
   "execution_count": null,
   "metadata": {},
   "outputs": [],
   "source": []
  },
  {
   "cell_type": "code",
   "execution_count": null,
   "metadata": {},
   "outputs": [],
   "source": []
  },
  {
   "cell_type": "code",
   "execution_count": null,
   "metadata": {},
   "outputs": [],
   "source": []
  },
  {
   "cell_type": "code",
   "execution_count": null,
   "metadata": {},
   "outputs": [],
   "source": []
  },
  {
   "cell_type": "markdown",
   "metadata": {},
   "source": [
    "### Objectives\n",
    "\n",
    " * Explain why you would use a cost-benefit matrix and profit curve\n",
    " * Generate a profit curve and use it to make decisions"
   ]
  },
  {
   "cell_type": "code",
   "execution_count": null,
   "metadata": {},
   "outputs": [],
   "source": []
  },
  {
   "cell_type": "code",
   "execution_count": null,
   "metadata": {},
   "outputs": [],
   "source": [
    "import numpy as np\n",
    "import pandas as pd\n",
    "from scipy import stats\n",
    "import matplotlib.pyplot as plt\n",
    "%matplotlib inline\n",
    "from sklearn.model_selection import train_test_split\n",
    "from sklearn.linear_model import LogisticRegression\n",
    "from sklearn.neighbors import KNeighborsClassifier\n",
    "import IPython"
   ]
  },
  {
   "cell_type": "markdown",
   "metadata": {},
   "source": [
    "Let's start with some (fake) data, with two continuous features and a binary label."
   ]
  },
  {
   "cell_type": "code",
   "execution_count": null,
   "metadata": {},
   "outputs": [],
   "source": [
    "npts = 10000\n",
    "y = stats.bernoulli(0.2).rvs(npts)\n",
    "X = pd.DataFrame({'a':stats.norm(0, 1).rvs(npts) + 0.3*y,\n",
    "                  'b':stats.gamma(3, 2*y).rvs(npts)})"
   ]
  },
  {
   "cell_type": "markdown",
   "metadata": {},
   "source": [
    "Let's make a graph!"
   ]
  },
  {
   "cell_type": "code",
   "execution_count": null,
   "metadata": {},
   "outputs": [],
   "source": [
    "fig, ax = plt.subplots(figsize=(10,8))\n",
    "ax.scatter(X.a, X.b, marker='x', color=np.array(['b', 'r'])[y], alpha=0.15, s=100)\n",
    "ax.set_xlabel('feature a')\n",
    "ax.set_ylabel('feature b')"
   ]
  },
  {
   "cell_type": "markdown",
   "metadata": {},
   "source": [
    "## Example: Fraud\n",
    "\n",
    "To make this a little more realistic, let's imagine that you have a website to which people can sign up, and some small fraction of the signups are fraud. You're building a system to detect whether the account is fraudulent."
   ]
  },
  {
   "cell_type": "code",
   "execution_count": null,
   "metadata": {},
   "outputs": [],
   "source": [
    "y = np.array(['Not', 'Fraud'])[y]"
   ]
  },
  {
   "cell_type": "markdown",
   "metadata": {},
   "source": [
    "Now let's do a train-test split and fit a model. We'll do logistic regression, that's the best classifier we know right now."
   ]
  },
  {
   "cell_type": "code",
   "execution_count": null,
   "metadata": {},
   "outputs": [],
   "source": [
    "Xtrain, Xtest, ytrain, ytest = train_test_split(X, y)\n",
    "model = LogisticRegression()\n",
    "#model = KNeighborsClassifier(50)\n",
    "model.fit(Xtrain, ytrain)"
   ]
  },
  {
   "cell_type": "markdown",
   "metadata": {},
   "source": [
    "Now we predict the results on the test set and see how often we are correct. For the moment we'll use the `predict` method, i.e., assume a 0.5 threshold, not because it's a good choice but just as a starting point."
   ]
  },
  {
   "cell_type": "code",
   "execution_count": null,
   "metadata": {},
   "outputs": [],
   "source": [
    "model.predict(Xtest) == ytest"
   ]
  },
  {
   "cell_type": "code",
   "execution_count": null,
   "metadata": {},
   "outputs": [],
   "source": [
    "(model.predict(Xtest) == ytest).mean()"
   ]
  },
  {
   "cell_type": "markdown",
   "metadata": {},
   "source": [
    "That's the accuracy.\n",
    "\n",
    "**Question:** did we do a good job?"
   ]
  },
  {
   "cell_type": "markdown",
   "metadata": {},
   "source": [
    "## An aside on class balance\n",
    "\n",
    "We talked briefly about imbalanced classes earlier, situations where there are far more of one class than the other. Ordinarily this isn't an issue, but there are points that do require special consideration.\n",
    "\n",
    "1. Hard classifiers are particularly problematic with imbalanced classes. They're a problem in general, but if you use a hard classifier it may predict everything to be in the majority class.\n",
    "2. You should never use accuracy with imbalanced classes. You generally shouldn't use accuracy anyway, but again, it's easy to get a deceptively high accuracy by predicting everything is in the majority class.\n",
    "3. You should be aware of situations when the class balance of the training data is different than that for which the model will be used in the real world.\n",
    "4. The ability to predict or infer from your data is more a function of the size of the minority class than the size of all the data.\n",
    "4. Some people believe other things, and some of them will be interviewing you. They may want you to talk about some of the ways to deal with them. There are a few techniques used to \"balance\" classes, including **undersampling**, **oversampling**, and **SMOTE**.\n",
    "\n",
    "Oversampling my be appropriate when the training data doesn't match the actual data, but a class weight is generally better.\n",
    "\n",
    "Undersampling may be appropriate in cases when you have more data than you can process; in these cases data in the majority class is less important to the result.\n",
    "\n",
    "End of the aside.\n",
    "\n",
    "We could look at log loss instead, though it's not all that interpretable either."
   ]
  },
  {
   "cell_type": "markdown",
   "metadata": {},
   "source": [
    "\n",
    "Let's consider the full matrix of predicted and actual values."
   ]
  },
  {
   "cell_type": "code",
   "execution_count": null,
   "metadata": {},
   "outputs": [],
   "source": [
    "model.predict(Xtest), ytest"
   ]
  },
  {
   "cell_type": "code",
   "execution_count": null,
   "metadata": {},
   "outputs": [],
   "source": [
    "predicted = model.predict(Xtest)\n",
    "actual = ytest"
   ]
  },
  {
   "cell_type": "code",
   "execution_count": null,
   "metadata": {},
   "outputs": [],
   "source": [
    "pd.crosstab(ytest, model.predict(Xtest), rownames=['actual'], colnames=['predicted'])"
   ]
  },
  {
   "cell_type": "markdown",
   "metadata": {},
   "source": [
    "This is interesting, except I want to be able to look at different thresholds. Here are a couple helper functions."
   ]
  },
  {
   "cell_type": "code",
   "execution_count": null,
   "metadata": {},
   "outputs": [],
   "source": [
    "def predict(model, X, threshold=0.5):\n",
    "    '''Return prediction of the fitted binary-classifier model model on X using\n",
    "    the specifed `threshold`. NB: class 0 is the positive class'''\n",
    "    return np.where(model.predict_proba(X)[:, 0] > threshold,\n",
    "                    model.classes_[0],\n",
    "                    model.classes_[1])\n",
    "\n",
    "def confusion_matrix(model, X, threshold=0.5):\n",
    "    cf = pd.crosstab(ytest, predict(model, Xtest, threshold))\n",
    "    cf = cf.add(pd.DataFrame([[0,0],[0,0]], columns=['Fraud', 'Not'], index=['Fraud', 'Not']), fill_value=0)\n",
    "    cf.index.name = 'actual'\n",
    "    cf.columns.name = 'predicted'\n",
    "    return cf"
   ]
  },
  {
   "cell_type": "code",
   "execution_count": null,
   "metadata": {},
   "outputs": [],
   "source": [
    "confusion_matrix(model, X, 0.5)"
   ]
  },
  {
   "cell_type": "markdown",
   "metadata": {},
   "source": [
    "Is that good?\n",
    "\n",
    "Let's try a couple other thresholds. Which is best?\n",
    "\n",
    "How do we decide the best value for a threshold?"
   ]
  },
  {
   "cell_type": "code",
   "execution_count": null,
   "metadata": {},
   "outputs": [],
   "source": [
    "confusion_matrix(model, X, 0.3)"
   ]
  },
  {
   "cell_type": "code",
   "execution_count": null,
   "metadata": {},
   "outputs": [],
   "source": [
    "confusion_matrix(model, X, 0.4)"
   ]
  },
  {
   "cell_type": "code",
   "execution_count": null,
   "metadata": {},
   "outputs": [],
   "source": [
    "confusion_matrix(model, X, 0.6)"
   ]
  },
  {
   "cell_type": "code",
   "execution_count": null,
   "metadata": {},
   "outputs": [],
   "source": [
    "confusion_matrix(model, X, 0.7)"
   ]
  },
  {
   "cell_type": "code",
   "execution_count": null,
   "metadata": {},
   "outputs": [],
   "source": []
  },
  {
   "cell_type": "markdown",
   "metadata": {},
   "source": [
    "## Making hard decisions"
   ]
  },
  {
   "cell_type": "markdown",
   "metadata": {},
   "source": [
    "In the real world, bad predictions have actual costs, often in money but sometimes in some other metrics (e.g., years of life).\n",
    "\n",
    "In this case, let's assume that we might want to have a human investigate every account, but that's expensive so we're going to use our model. If the fitted model thinks it's fraud, we have a human investigate; if not we just approve it.\n",
    "\n",
    "So there are four possibilities:\n",
    "\n",
    " * True positive: the account is fraudulent and we flag it for review.\n",
    " * True negative: the account is good and we create it automatically.\n",
    " * False positive: the account is good but we flag it, so a human has to do some unnecessary work checking the account.\n",
    " * False negative: the account is fraud but we let it through. Oops.\n",
    "\n",
    "We then assign each of these a value, in dollars or whatever. Let's assume that it costs \\\\$5 to review an account, a good account is worth \\\\$10 to us, a fraudulent account costs us \\\\$20, and reviews always catch fraudulent accounts. So we can display all this in a cost-benefit matrix.\n",
    "\n",
    "**Question:** **This is a big oversimplification.** What assumptions did we make?\n",
    "\n",
    "**Questions:** what are the values for the various cases?"
   ]
  },
  {
   "cell_type": "markdown",
   "metadata": {},
   "source": [
    "First, we'll set the default pandas float format so it looks like money."
   ]
  },
  {
   "cell_type": "code",
   "execution_count": null,
   "metadata": {},
   "outputs": [],
   "source": [
    "def currency_format(num):\n",
    "    if num < 0:\n",
    "        return f'-${abs(num):,.0f}'\n",
    "    else:\n",
    "        return f'${num:,.0f}'\n",
    "    \n",
    "pd.options.display.float_format = currency_format"
   ]
  },
  {
   "cell_type": "code",
   "execution_count": null,
   "metadata": {},
   "outputs": [],
   "source": [
    "cb_matrix = pd.DataFrame([[-5., -20.], [5., 10.]], columns=[\"Fraud\", \"Not\"], index=[\"Fraud\", \"Not\"])\n",
    "cb_matrix.index.name = 'actual'\n",
    "cb_matrix.columns.name = 'predicted'"
   ]
  },
  {
   "cell_type": "code",
   "execution_count": null,
   "metadata": {},
   "outputs": [],
   "source": [
    "cb_matrix"
   ]
  },
  {
   "cell_type": "markdown",
   "metadata": {},
   "source": [
    "Remember, the *actual* represents what the user would have done if we hadn't intervened. The *predicted* is what our model predicted the user would do; we use that to decide our action (investigate or not). Those two things together give us an outcome."
   ]
  },
  {
   "cell_type": "markdown",
   "metadata": {},
   "source": [
    "Our confusion matrix tells us how many users fit in each category, so to get the overall payout we just multiply things. For example, the total payout from the true positives is the number of true positives times the payout of each one."
   ]
  },
  {
   "cell_type": "code",
   "execution_count": null,
   "metadata": {},
   "outputs": [],
   "source": [
    "confusion_matrix(model, X, 0.3) "
   ]
  },
  {
   "cell_type": "code",
   "execution_count": null,
   "metadata": {},
   "outputs": [],
   "source": [
    "confusion_matrix(model, X, 0.3) * cb_matrix"
   ]
  },
  {
   "cell_type": "markdown",
   "metadata": {},
   "source": [
    "And the total payout is the sum of that."
   ]
  },
  {
   "cell_type": "code",
   "execution_count": null,
   "metadata": {},
   "outputs": [],
   "source": [
    "(confusion_matrix(model, X, 0.3) * cb_matrix).values.sum()"
   ]
  },
  {
   "cell_type": "markdown",
   "metadata": {},
   "source": [
    "Let's look at that for a bunch of different values."
   ]
  },
  {
   "cell_type": "code",
   "execution_count": null,
   "metadata": {},
   "outputs": [],
   "source": [
    "for threshold in np.arange(0.0, 1.01, 0.05):\n",
    "    print(\"The payout for a threshold of {:3.2f} is ${:>5.0f}\".\n",
    "            format(threshold,\n",
    "            (confusion_matrix(model, X, threshold) * cb_matrix).values.sum()))"
   ]
  },
  {
   "cell_type": "markdown",
   "metadata": {},
   "source": [
    "Question: what should we choose for a threshold?"
   ]
  },
  {
   "cell_type": "markdown",
   "metadata": {},
   "source": [
    "## The profit curve\n",
    "\n",
    "We have a bunch of numbers so we'll make a graph.\n",
    "\n"
   ]
  },
  {
   "cell_type": "code",
   "execution_count": null,
   "metadata": {},
   "outputs": [],
   "source": [
    "def calculate_payout(cb_matrix, model, X, threshold):\n",
    "    return (confusion_matrix(model, X, threshold) * cb_matrix).values.sum()"
   ]
  },
  {
   "cell_type": "code",
   "execution_count": null,
   "metadata": {},
   "outputs": [],
   "source": [
    "thresholds = np.arange(0.0, 1.0, 0.01)\n",
    "profits = []\n",
    "for threshold in thresholds:\n",
    "    profits.append(calculate_payout(cb_matrix, model, X, threshold))\n",
    "\n",
    "fig, ax = plt.subplots()\n",
    "ax.plot(thresholds, profits)\n",
    "ax.set_xlabel('thresholds')\n",
    "ax.set_ylabel('profits')\n",
    "ax.set_title('Profit Curve')"
   ]
  },
  {
   "cell_type": "markdown",
   "metadata": {},
   "source": [
    "**Question:** What's going on at a threshold of 0?\n",
    "\n",
    "**Question:** What's going on at a threshold of 1?\n",
    "\n",
    "**Question:** Why is this jagged?"
   ]
  },
  {
   "cell_type": "markdown",
   "metadata": {},
   "source": [
    "## Choosing a baseline\n",
    "\n",
    "It is very common to get confused on cost or benefit of the different boxes. The important thing is to be consistent with the what counts as zero for each of the actual options.\n",
    "\n",
    "Although there are four degrees of freedom in the cost-benefit matrix, really only two of them affect the shape of the profit curve, as we don't have control of the counts of the actual classes. Suppose, for example, in the old days every single account used to be checked. We want to implement this model to check the accounts first, and only have humans review accounts that it flags. So we want to present to our boss how much money this will save per user, **compared to the old approach.**\n",
    "\n",
    "In some cases it helps to think of the baseline as a budget, that we have some amount of money we had originally expected to make, and our profit curve is the amount of profit or loss we will make relative to that budget."
   ]
  },
  {
   "cell_type": "code",
   "execution_count": null,
   "metadata": {},
   "outputs": [],
   "source": [
    "cb_matrix2 = cb_matrix + 5\n",
    "cb_matrix2.iloc[1] -= 10\n",
    "cb_matrix2"
   ]
  },
  {
   "cell_type": "markdown",
   "metadata": {},
   "source": [
    "**Question:** explain these values."
   ]
  },
  {
   "cell_type": "markdown",
   "metadata": {},
   "source": [
    "Let's go back to the original cost-benefit matrix.\n",
    "\n",
    "**Question:** what's the baseline in the case of Fraud? (i.e., what does \\\\$0 mean?) What's the baseline in the case of Not-Fraud?"
   ]
  },
  {
   "cell_type": "code",
   "execution_count": null,
   "metadata": {},
   "outputs": [],
   "source": [
    "cb_matrix"
   ]
  },
  {
   "cell_type": "code",
   "execution_count": null,
   "metadata": {},
   "outputs": [],
   "source": [
    "thresholds = np.arange(0.0, 0.9, 0.01)\n",
    "\n",
    "fig, axes = plt.subplots(1, 2, figsize=(10, 4))\n",
    "\n",
    "for ax, matrix in zip(axes, [cb_matrix, cb_matrix2]):\n",
    "    profits = []\n",
    "    for threshold in thresholds:\n",
    "        profits.append(calculate_payout(matrix, model, X, threshold))\n",
    "    ax.plot(thresholds, profits)\n",
    "    ax.set_xlabel('thresholds')\n",
    "    ax.set_ylabel('profits')\n",
    "    ax.set_title('Profit Curve')\n",
    "fig.tight_layout()"
   ]
  },
  {
   "cell_type": "markdown",
   "metadata": {},
   "source": [
    "**Question:** what's the difference between these?\n",
    "\n",
    "Or maybe we want to make a presentation showing how much fraud is costing the company. We'll see both fraudulent account and investigation as a cost, and we want to create a model to minimize that cost. Then the cost-benefit matrix looks like this."
   ]
  },
  {
   "cell_type": "code",
   "execution_count": null,
   "metadata": {},
   "outputs": [],
   "source": [
    "cb_matrix3 = cb_matrix.copy()\n",
    "cb_matrix3.iloc[1] -= 10\n",
    "cb_matrix3"
   ]
  },
  {
   "cell_type": "markdown",
   "metadata": {},
   "source": [
    "**Question:** explain these values.\n",
    "\n",
    "Then our profit curves look like this."
   ]
  },
  {
   "cell_type": "code",
   "execution_count": null,
   "metadata": {},
   "outputs": [],
   "source": [
    "fig, axes = plt.subplots(1, 3, figsize=(12, 4))\n",
    "\n",
    "for ax, matrix in zip(axes, [cb_matrix, cb_matrix2, cb_matrix3]):\n",
    "    profits = []\n",
    "    for threshold in thresholds:\n",
    "        profits.append(calculate_payout(matrix, model, X, threshold))\n",
    "    ax.plot(thresholds, profits)\n",
    "    ax.set_xlabel('thresholds')\n",
    "    ax.set_ylabel('profits')\n",
    "    ax.set_title('Profit Curve')\n",
    "fig.tight_layout()"
   ]
  },
  {
   "cell_type": "markdown",
   "metadata": {
    "collapsed": true
   },
   "source": [
    "These three graphs have the same overall shape. What do these cost benefit matrices have in common?\n",
    "\n",
    "**Exercise:** Create another cost-benefit matrix for which the profit curve will have the same shape. "
   ]
  },
  {
   "cell_type": "code",
   "execution_count": null,
   "metadata": {},
   "outputs": [],
   "source": [
    "IPython.display.display(cb_matrix)\n",
    "IPython.display.display(cb_matrix2)\n",
    "IPython.display.display(cb_matrix3)"
   ]
  }
 ],
 "metadata": {
  "kernelspec": {
   "display_name": "Python 3",
   "language": "python",
   "name": "python3"
  },
  "language_info": {
   "codemirror_mode": {
    "name": "ipython",
    "version": 3
   },
   "file_extension": ".py",
   "mimetype": "text/x-python",
   "name": "python",
   "nbconvert_exporter": "python",
   "pygments_lexer": "ipython3",
   "version": "3.7.7"
  }
 },
 "nbformat": 4,
 "nbformat_minor": 2
}
