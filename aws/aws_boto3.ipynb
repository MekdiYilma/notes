{
 "cells": [
  {
   "cell_type": "markdown",
   "id": "improved-weather",
   "metadata": {},
   "source": [
    "# Step 1: Create a Connection to S3"
   ]
  },
  {
   "cell_type": "code",
   "execution_count": 1,
   "id": "acting-malpractice",
   "metadata": {},
   "outputs": [],
   "source": [
    "import boto3"
   ]
  },
  {
   "cell_type": "code",
   "execution_count": 2,
   "id": "reflected-barrier",
   "metadata": {},
   "outputs": [],
   "source": [
    "boto3_connection = boto3.resource('s3')"
   ]
  },
  {
   "cell_type": "code",
   "execution_count": 3,
   "id": "negative-weapon",
   "metadata": {},
   "outputs": [],
   "source": [
    "def print_s3_contents_boto3(connection):\n",
    "    for bucket in connection.buckets.all():\n",
    "        for key in bucket.objects.all():\n",
    "            print(key.key)\n"
   ]
  },
  {
   "cell_type": "code",
   "execution_count": 4,
   "id": "passing-composer",
   "metadata": {},
   "outputs": [],
   "source": [
    "print_s3_contents_boto3(boto3_connection)"
   ]
  },
  {
   "cell_type": "markdown",
   "id": "unlimited-airplane",
   "metadata": {},
   "source": [
    "# Step 2: Create a Bucket"
   ]
  },
  {
   "cell_type": "code",
   "execution_count": 5,
   "id": "radical-buffalo",
   "metadata": {},
   "outputs": [
    {
     "data": {
      "text/plain": [
       "s3.Bucket(name='mekdiyilma-terminal-from-boto3')"
      ]
     },
     "execution_count": 5,
     "metadata": {},
     "output_type": "execute_result"
    }
   ],
   "source": [
    "import os\n",
    "username = os.environ['USER']\n",
    "bucket_name = username + \"-terminal-from-boto3\"\n",
    "boto3_connection.create_bucket(Bucket=bucket_name)"
   ]
  },
  {
   "cell_type": "markdown",
   "id": "direct-occasions",
   "metadata": {},
   "source": [
    "# Step 3: Make a file"
   ]
  },
  {
   "cell_type": "code",
   "execution_count": 6,
   "id": "public-neutral",
   "metadata": {},
   "outputs": [],
   "source": [
    "# make a file (could use an existing file, but make one quick from the command line)\n",
    "!echo 'Hello world from boto3!' > hello-boto.txt"
   ]
  },
  {
   "cell_type": "code",
   "execution_count": null,
   "id": "designing-andorra",
   "metadata": {},
   "outputs": [],
   "source": []
  },
  {
   "cell_type": "markdown",
   "id": "solar-arrest",
   "metadata": {},
   "source": [
    "# Step 4: Upload the file to s3\n"
   ]
  },
  {
   "cell_type": "code",
   "execution_count": 7,
   "id": "economic-bryan",
   "metadata": {},
   "outputs": [],
   "source": [
    "s3_client = boto3.client('s3')\n",
    "s3_client.upload_file('hello-boto.txt', bucket_name, 'hello-remote.txt')"
   ]
  },
  {
   "cell_type": "code",
   "execution_count": 8,
   "id": "vietnamese-tooth",
   "metadata": {},
   "outputs": [
    {
     "name": "stdout",
     "output_type": "stream",
     "text": [
      "hello-remote.txt\n"
     ]
    }
   ],
   "source": [
    "print_s3_contents_boto3(boto3_connection)"
   ]
  },
  {
   "cell_type": "code",
   "execution_count": null,
   "id": "tribal-respondent",
   "metadata": {},
   "outputs": [],
   "source": []
  },
  {
   "cell_type": "markdown",
   "id": "unlike-accreditation",
   "metadata": {},
   "source": [
    "# Step 5: Download a file from s3"
   ]
  },
  {
   "cell_type": "code",
   "execution_count": 9,
   "id": "innovative-strike",
   "metadata": {},
   "outputs": [
    {
     "name": "stdout",
     "output_type": "stream",
     "text": [
      "Hello world from boto3!\n",
      "\n"
     ]
    }
   ],
   "source": [
    "s3_client.download_file(bucket_name, 'hello-remote.txt', 'hello-back-again.txt')\n",
    "print(open('hello-back-again.txt').read())"
   ]
  },
  {
   "cell_type": "code",
   "execution_count": null,
   "id": "commercial-thriller",
   "metadata": {},
   "outputs": [],
   "source": []
  }
 ],
 "metadata": {
  "kernelspec": {
   "display_name": "Python 3",
   "language": "python",
   "name": "python3"
  },
  "language_info": {
   "codemirror_mode": {
    "name": "ipython",
    "version": 3
   },
   "file_extension": ".py",
   "mimetype": "text/x-python",
   "name": "python",
   "nbconvert_exporter": "python",
   "pygments_lexer": "ipython3",
   "version": "3.7.7"
  }
 },
 "nbformat": 4,
 "nbformat_minor": 5
}
