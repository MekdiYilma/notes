{
 "cells": [
  {
   "cell_type": "markdown",
   "metadata": {},
   "source": [
    "## Class vs Instance\n",
    "\n",
    "A class is like the blueprint for an object. An instance is a concrete example of that object. \"Instantiation\" is creating an instance of a class.\n",
    "\n",
    "This workbook will mostly focus on the distinction between instance and class. I will push the final class version to github after class.\n"
   ]
  },
  {
   "cell_type": "code",
   "execution_count": null,
   "metadata": {},
   "outputs": [],
   "source": [
    "# class defines an object\n",
    "class example_class:\n",
    "    # a class variable is defined when you create the class\n",
    "    class_var = \"a class variable\"\n",
    "    \n",
    "    # class methods always have 'self' as the first argument.\n",
    "    # __init__ is a 'magic' method that is always run when you create an instance of the class\n",
    "    def __init__(self, value_for_instance_var): \n",
    "        # an instance variable is defined when you instantiate the class. instance variables are referenced as \n",
    "        # self.variable_name\n",
    "        self.instance_var = value_for_instance_var\n",
    "        \n",
    "    # you can also define class methods.     \n",
    "    def instance_method(self):\n",
    "        return(\"This is an instance method\")    "
   ]
  },
  {
   "cell_type": "code",
   "execution_count": null,
   "metadata": {},
   "outputs": [],
   "source": [
    "instance_of_example_class = example_class(\"This is an instance variable that we supplied\")"
   ]
  },
  {
   "cell_type": "code",
   "execution_count": null,
   "metadata": {},
   "outputs": [],
   "source": [
    "instance_of_example_class.instance_var"
   ]
  },
  {
   "cell_type": "code",
   "execution_count": null,
   "metadata": {},
   "outputs": [],
   "source": [
    "instance_of_example_class.instance_method()"
   ]
  },
  {
   "cell_type": "code",
   "execution_count": null,
   "metadata": {},
   "outputs": [],
   "source": [
    "# This will give an error. Because we're trying to run the instance method from the class \n",
    "# instead of an instance of the class, 'self' does not exist.\n",
    "\n",
    "example_class.instance_method()"
   ]
  },
  {
   "cell_type": "code",
   "execution_count": null,
   "metadata": {},
   "outputs": [],
   "source": [
    "instance_of_example_class.class_var"
   ]
  },
  {
   "cell_type": "code",
   "execution_count": null,
   "metadata": {},
   "outputs": [],
   "source": [
    "example_class.class_var = 'changed class variable'\n",
    "example_class.instance_var = 'changed instance variable'"
   ]
  },
  {
   "cell_type": "code",
   "execution_count": null,
   "metadata": {},
   "outputs": [],
   "source": [
    "print(instance_of_example_class.class_var)\n",
    "print(instance_of_example_class.instance_var)"
   ]
  },
  {
   "cell_type": "markdown",
   "metadata": {},
   "source": [
    "### Magic Methods\n",
    "Classes come with a number of built-in methods, which you can redefine. You can see all the attributes of a class using the `dir()` method."
   ]
  },
  {
   "cell_type": "code",
   "execution_count": null,
   "metadata": {},
   "outputs": [],
   "source": [
    "dir(list)"
   ]
  },
  {
   "cell_type": "code",
   "execution_count": null,
   "metadata": {},
   "outputs": [],
   "source": [
    "# class defines an object\n",
    "class example_class:\n",
    "    # a class variable is defined when you create the class\n",
    "    class_var = \"a class variable\"\n",
    "    \n",
    "    # class methods always have 'self' as the first argument.\n",
    "    # __init__ is a 'magic' method that is always run when you create an instance of the class\n",
    "    def __init__(self): \n",
    "        # an instance variable is defined when you instantiate the class. instance variables are referenced as \n",
    "        # self.variable_name\n",
    "        self.instance_var = \"an instance variable\"\n",
    "        \n",
    "    # you can also define class methods.     \n",
    "    def instance_method(self):\n",
    "        return(\"This is an instance method\")    \n",
    "\n",
    "    # If you define some magic functions, that will allow you to use the class in new ways.\n",
    "    def __len__(self):\n",
    "        return(1)\n",
    "    \n",
    "instance_of_example_class = example_class()\n",
    "len(instance_of_example_class)"
   ]
  },
  {
   "cell_type": "markdown",
   "metadata": {},
   "source": [
    "### Let's build a class together"
   ]
  },
  {
   "cell_type": "code",
   "execution_count": null,
   "metadata": {},
   "outputs": [],
   "source": [
    "class Food:\n",
    "    def __init__(self, color=\"brown\", spicy=False, sweetness = 0.5):\n",
    "        self.color = color\n",
    "        self.spicy = spicy\n",
    "        self.sweetness = sweetness\n",
    "\n",
    "    def add_sweetness(self, level=0.0):\n",
    "        self.sweetness += level\n",
    "        return self.get_sweetness()\n",
    "\n",
    "            \n",
    "    def get_sweetness(self):\n",
    "        return self.sweetness\n",
    "    \n",
    "    def print_sweetness(self):\n",
    "        print(self.sweetness)\n",
    "    \n",
    "        \n",
    "    \n",
    "    "
   ]
  },
  {
   "cell_type": "code",
   "execution_count": null,
   "metadata": {},
   "outputs": [],
   "source": [
    "pizza = Food()"
   ]
  },
  {
   "cell_type": "code",
   "execution_count": null,
   "metadata": {},
   "outputs": [],
   "source": [
    "pizza.color"
   ]
  },
  {
   "cell_type": "code",
   "execution_count": null,
   "metadata": {},
   "outputs": [],
   "source": [
    "pizza.sweetness"
   ]
  },
  {
   "cell_type": "code",
   "execution_count": null,
   "metadata": {},
   "outputs": [],
   "source": [
    "pizza.sweetness += -0.5"
   ]
  },
  {
   "cell_type": "code",
   "execution_count": null,
   "metadata": {},
   "outputs": [],
   "source": [
    "current_sweetness = pizza.get_sweetness()\n",
    "current_sweetness"
   ]
  },
  {
   "cell_type": "code",
   "execution_count": null,
   "metadata": {},
   "outputs": [],
   "source": [
    "current_sweetness = pizza.print_sweetness()\n"
   ]
  },
  {
   "cell_type": "code",
   "execution_count": null,
   "metadata": {},
   "outputs": [],
   "source": [
    "current_sweetness"
   ]
  },
  {
   "cell_type": "markdown",
   "metadata": {},
   "source": [
    "### Inheritance\n",
    "\n",
    "You can create a 'subclass' of another class. This subclass will inherit all the attributes and methods of the original class, and you can add new ones."
   ]
  },
  {
   "cell_type": "code",
   "execution_count": null,
   "metadata": {},
   "outputs": [],
   "source": [
    "# You specify inheritance by putting the base class in paraentheses\n",
    "class example_subclass(example_class):\n",
    "    subclass_var = \"subclass variable\""
   ]
  },
  {
   "cell_type": "code",
   "execution_count": null,
   "metadata": {},
   "outputs": [],
   "source": [
    "instance_of_example_subclass = example_subclass()"
   ]
  },
  {
   "cell_type": "code",
   "execution_count": null,
   "metadata": {},
   "outputs": [],
   "source": [
    "instance_of_example_subclass.subclass_var"
   ]
  },
  {
   "cell_type": "code",
   "execution_count": null,
   "metadata": {},
   "outputs": [],
   "source": [
    "instance_of_example_subclass.class_var"
   ]
  },
  {
   "cell_type": "code",
   "execution_count": null,
   "metadata": {},
   "outputs": [],
   "source": [
    "instance_of_example_subclass.instance_var"
   ]
  },
  {
   "cell_type": "code",
   "execution_count": null,
   "metadata": {},
   "outputs": [],
   "source": []
  },
  {
   "cell_type": "markdown",
   "metadata": {},
   "source": [
    "### Let's build a subclass together"
   ]
  },
  {
   "cell_type": "code",
   "execution_count": null,
   "metadata": {},
   "outputs": [],
   "source": [
    "class Cake(Food):\n",
    "    density = 1.0\n",
    "    \n",
    "    def __init__(self, color=\"brown\", spicy=False, sweetness = 0.5, icing='white'):\n",
    "        self.color = color\n",
    "        self.spicy = spicy\n",
    "        self.sweetness = sweetness    \n",
    "        self.icing = icing\n"
   ]
  },
  {
   "cell_type": "code",
   "execution_count": null,
   "metadata": {},
   "outputs": [],
   "source": [
    "red_velvet = Cake(color = 'red', sweetness = 1.0, icing = 'white')"
   ]
  },
  {
   "cell_type": "code",
   "execution_count": null,
   "metadata": {},
   "outputs": [],
   "source": [
    "red_velvet.add_sweetness(0.2)"
   ]
  },
  {
   "cell_type": "code",
   "execution_count": null,
   "metadata": {},
   "outputs": [],
   "source": [
    "red_velvet.icing"
   ]
  },
  {
   "cell_type": "code",
   "execution_count": null,
   "metadata": {},
   "outputs": [],
   "source": [
    "pizza = Food()"
   ]
  },
  {
   "cell_type": "code",
   "execution_count": null,
   "metadata": {},
   "outputs": [],
   "source": [
    "pizza.density"
   ]
  },
  {
   "cell_type": "code",
   "execution_count": null,
   "metadata": {},
   "outputs": [],
   "source": [
    "red_velvet.density"
   ]
  },
  {
   "cell_type": "code",
   "execution_count": null,
   "metadata": {},
   "outputs": [],
   "source": [
    "carrot_cake = Cake()"
   ]
  },
  {
   "cell_type": "code",
   "execution_count": null,
   "metadata": {},
   "outputs": [],
   "source": [
    "carrot_cake.density += 0.1"
   ]
  },
  {
   "cell_type": "code",
   "execution_count": null,
   "metadata": {},
   "outputs": [],
   "source": [
    "carrot_cake.density"
   ]
  },
  {
   "cell_type": "code",
   "execution_count": null,
   "metadata": {},
   "outputs": [],
   "source": [
    "Cake.density = 0"
   ]
  },
  {
   "cell_type": "code",
   "execution_count": null,
   "metadata": {},
   "outputs": [],
   "source": []
  }
 ],
 "metadata": {
  "kernelspec": {
   "display_name": "Python 3",
   "language": "python",
   "name": "python3"
  },
  "language_info": {
   "codemirror_mode": {
    "name": "ipython",
    "version": 3
   },
   "file_extension": ".py",
   "mimetype": "text/x-python",
   "name": "python",
   "nbconvert_exporter": "python",
   "pygments_lexer": "ipython3",
   "version": "3.7.7"
  }
 },
 "nbformat": 4,
 "nbformat_minor": 4
}
