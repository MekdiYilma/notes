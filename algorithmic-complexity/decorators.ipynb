{
 "cells": [
  {
   "cell_type": "markdown",
   "metadata": {},
   "source": [
    "### Decorators\n",
    "\n",
    "A decorator is a function that takes another function and extends the behavior of that function without modifying it.\n",
    "\n",
    "Let's build up to this concept.  Example taken from the [Real Python](https://realpython.com/primer-on-python-decorators/) blog."
   ]
  },
  {
   "cell_type": "code",
   "execution_count": 6,
   "metadata": {},
   "outputs": [],
   "source": [
    "def my_decorator(func):\n",
    "    def wrapper():\n",
    "        print(\"Something is happening before the function is called.\")\n",
    "        func()\n",
    "        print(\"Something is happening after the function is called.\")\n",
    "    return wrapper"
   ]
  },
  {
   "cell_type": "markdown",
   "metadata": {},
   "source": [
    "Now define a function..."
   ]
  },
  {
   "cell_type": "code",
   "execution_count": 7,
   "metadata": {},
   "outputs": [],
   "source": [
    "def say_whee():\n",
    "    print(\"Whee!\")"
   ]
  },
  {
   "cell_type": "code",
   "execution_count": 10,
   "metadata": {},
   "outputs": [],
   "source": [
    "# my_decorator(say_whee())"
   ]
  },
  {
   "cell_type": "code",
   "execution_count": 11,
   "metadata": {},
   "outputs": [
    {
     "name": "stdout",
     "output_type": "stream",
     "text": [
      "Whee!\n"
     ]
    }
   ],
   "source": [
    "# test it out\n",
    "say_whee()"
   ]
  },
  {
   "cell_type": "markdown",
   "metadata": {},
   "source": [
    "Now wrap it (the hard way) with the decorator to extend its functionality"
   ]
  },
  {
   "cell_type": "code",
   "execution_count": 12,
   "metadata": {},
   "outputs": [],
   "source": [
    "say_whee = my_decorator(say_whee) # brute force way to assign a \"decorator\""
   ]
  },
  {
   "cell_type": "code",
   "execution_count": 13,
   "metadata": {},
   "outputs": [
    {
     "name": "stdout",
     "output_type": "stream",
     "text": [
      "Something is happening before the function is called.\n",
      "Whee!\n",
      "Something is happening after the function is called.\n"
     ]
    }
   ],
   "source": [
    "say_whee()"
   ]
  },
  {
   "cell_type": "markdown",
   "metadata": {},
   "source": [
    "Now let's show people that we know what we are doing.  This does the exact same thing."
   ]
  },
  {
   "cell_type": "code",
   "execution_count": 25,
   "metadata": {},
   "outputs": [],
   "source": [
    "@my_decorator\n",
    "def say_whee():\n",
    "    print(\"Whee!\")"
   ]
  },
  {
   "cell_type": "code",
   "execution_count": 26,
   "metadata": {},
   "outputs": [
    {
     "name": "stdout",
     "output_type": "stream",
     "text": [
      "Something is happening before the function is called.\n",
      "Whee!\n",
      "Something is happening after the function is called.\n"
     ]
    }
   ],
   "source": [
    "say_whee()"
   ]
  },
  {
   "cell_type": "markdown",
   "metadata": {},
   "source": [
    "Why do this?  Timing functions, for one.  [Example adapted from Medium](https://medium.com/pythonhive/python-decorator-to-measure-the-execution-time-of-methods-fa04cb6bb36d)"
   ]
  },
  {
   "cell_type": "code",
   "execution_count": 16,
   "metadata": {},
   "outputs": [],
   "source": [
    "import numpy as np\n",
    "\n",
    "def numpy_sort(nparray):\n",
    "    return(nparray.sort())"
   ]
  },
  {
   "cell_type": "code",
   "execution_count": 17,
   "metadata": {},
   "outputs": [
    {
     "name": "stdout",
     "output_type": "stream",
     "text": [
      "Unsorted:\n",
      " [905525 465411 427101 764304 840007 757595  99057 142170 207616  86049\n",
      "  67520 413424 219175 225631 711338 719642 194659 911284 878062 134709]\n",
      "Sorted:\n",
      " [ 67520  86049  99057 134709 142170 194659 207616 219175 225631 413424\n",
      " 427101 465411 711338 719642 757595 764304 840007 878062 905525 911284]\n"
     ]
    }
   ],
   "source": [
    "arr = np.random.randint(1,1000000, size=20)\n",
    "print(\"Unsorted:\\n {}\".format(arr))\n",
    "numpy_sort(arr)\n",
    "print(\"Sorted:\\n {}\".format(arr))"
   ]
  },
  {
   "cell_type": "markdown",
   "metadata": {},
   "source": [
    "Add a decorator to time the function."
   ]
  },
  {
   "cell_type": "code",
   "execution_count": 48,
   "metadata": {},
   "outputs": [],
   "source": [
    "from time import time\n",
    "\n",
    "def timeit(method):\n",
    "    def timed(*args, **kw):\n",
    "        ts = time()\n",
    "        result = method(*args, **kw)\n",
    "        te = time()\n",
    "        result = te-ts\n",
    "        return result \n",
    "    return timed"
   ]
  },
  {
   "cell_type": "code",
   "execution_count": 49,
   "metadata": {},
   "outputs": [
    {
     "data": {
      "text/plain": [
       "9.5367431640625e-07"
      ]
     },
     "execution_count": 49,
     "metadata": {},
     "output_type": "execute_result"
    }
   ],
   "source": [
    "@timeit\n",
    "def numpy_sort(nparray):\n",
    "    return(nparray.sort())\n",
    "\n",
    "arr1 = [1,4,2]\n",
    "np.sort(arr1)\n",
    "numpy_sort(arr1)"
   ]
  },
  {
   "cell_type": "code",
   "execution_count": 50,
   "metadata": {},
   "outputs": [
    {
     "name": "stdout",
     "output_type": "stream",
     "text": [
      "Unsorted:\n",
      " [345093 904931  60063 929164 228714  60104 912321  51481 761430 653310\n",
      " 189301 238239 865584  80274 182426 405921 360194 750825 828568  72579]\n",
      "Sorted:\n",
      " [ 51481  60063  60104  72579  80274 182426 189301 228714 238239 345093\n",
      " 360194 405921 653310 750825 761430 828568 865584 904931 912321 929164]\n",
      "\n",
      "Execution time: 6.9141e-06 seconds.\n"
     ]
    }
   ],
   "source": [
    "arr = np.random.randint(1,1000000, size=20)\n",
    "print(\"Unsorted:\\n {}\".format(arr))\n",
    "time_to_sort = numpy_sort(arr)\n",
    "print(\"Sorted:\\n {}\".format(arr))\n",
    "print(\"\\nExecution time: {0:0.4e} seconds.\".format(time_to_sort))"
   ]
  },
  {
   "cell_type": "code",
   "execution_count": 22,
   "metadata": {},
   "outputs": [
    {
     "data": {
      "text/plain": [
       "array([   529, 146980, 232533, 367861, 387946, 453306, 500574, 517141,\n",
       "       588694, 604616, 636419, 757662, 765911, 772863, 777524, 792356,\n",
       "       802735, 890929, 936251, 972415])"
      ]
     },
     "execution_count": 22,
     "metadata": {},
     "output_type": "execute_result"
    }
   ],
   "source": [
    "numpy_sort(arr)\n",
    "arr"
   ]
  },
  {
   "cell_type": "markdown",
   "metadata": {},
   "source": [
    "### Now the @classmethod and @staticmethod decorators\n",
    "Example taken from [here](https://stackabuse.com/pythons-classmethod-and-staticmethod-explained/)\n",
    "\n",
    "@classmethod - create methods that are passed the class object within the method call (similar to the idea of self) and instantiates an object\n",
    "\n",
    "@staticmethod - provides functionality associated with the class but does not instantiate an object"
   ]
  },
  {
   "cell_type": "code",
   "execution_count": 87,
   "metadata": {},
   "outputs": [
    {
     "name": "stdout",
     "output_type": "stream",
     "text": [
      "Got grades: [90, 80, 85, 94, 70]\n",
      "Invalid!\n"
     ]
    }
   ],
   "source": [
    "class ClassGrades:\n",
    "\n",
    "    def __init__(self, grades):\n",
    "        self.grades = grades\n",
    "\n",
    "    @classmethod\n",
    "    def from_csv(cls, grade_csv_str):\n",
    "        grades = list(map(int, grade_csv_str.split(', ')))\n",
    "        cls.validate(grades)\n",
    "        return cls(grades)\n",
    "\n",
    "\n",
    "    @staticmethod\n",
    "    def validate(grades):\n",
    "        for g in grades:\n",
    "            if g < 0 or g > 100:\n",
    "                raise Exception()\n",
    "                \n",
    "    def test(self):\n",
    "        print(self.grades)\n",
    "\n",
    "try:  \n",
    "    # Try out some valid grades\n",
    "    class_grades_valid = ClassGrades.from_csv('90, 80, 85, 94, 70')\n",
    "    print('Got grades:', class_grades_valid.grades)\n",
    "\n",
    "    # Should fail with invalid grades\n",
    "    class_grades_invalid = ClassGrades.from_csv('92, -15, 99, 101, 77, 65, 100')\n",
    "    print(class_grades_invalid.grades)\n",
    "except:  \n",
    "    print('Invalid!')"
   ]
  },
  {
   "cell_type": "code",
   "execution_count": 86,
   "metadata": {},
   "outputs": [
    {
     "name": "stdout",
     "output_type": "stream",
     "text": [
      "90, 80, 85\n"
     ]
    }
   ],
   "source": [
    "class_inst_test = ClassGrades('90, 80, 85')\n",
    "ClassGrades.validate([90,80])\n",
    "class_csv = class_inst_test.from_csv('90, 80')\n",
    "class_csv.grades\n",
    "ClassGrades.test(class_inst_test)"
   ]
  },
  {
   "cell_type": "markdown",
   "metadata": {},
   "source": [
    "# First Class Functions"
   ]
  },
  {
   "cell_type": "code",
   "execution_count": 10,
   "metadata": {},
   "outputs": [
    {
     "data": {
      "text/plain": [
       "25"
      ]
     },
     "execution_count": 10,
     "metadata": {},
     "output_type": "execute_result"
    }
   ],
   "source": [
    "def square(x):\n",
    "    return x * x\n",
    "\n",
    "def cube(x):\n",
    "    return x * x * x\n",
    "f = square\n",
    "f(5)"
   ]
  },
  {
   "cell_type": "code",
   "execution_count": 7,
   "metadata": {},
   "outputs": [],
   "source": [
    "def my_map(func, arg_list):\n",
    "    result = []\n",
    "    for i in arg_list:\n",
    "        result.append(func(i))\n",
    "    return result"
   ]
  },
  {
   "cell_type": "code",
   "execution_count": 11,
   "metadata": {},
   "outputs": [
    {
     "data": {
      "text/plain": [
       "[1, 8, 27, 64]"
      ]
     },
     "execution_count": 11,
     "metadata": {},
     "output_type": "execute_result"
    }
   ],
   "source": [
    "squares = my_map(cube, [1,2,3,4])\n",
    "squares"
   ]
  },
  {
   "cell_type": "code",
   "execution_count": 19,
   "metadata": {},
   "outputs": [
    {
     "name": "stdout",
     "output_type": "stream",
     "text": [
      "log: Hi!\n"
     ]
    }
   ],
   "source": [
    "def logger(msg):\n",
    "    \n",
    "    def log_message():\n",
    "        print('log:', msg)\n",
    "    \n",
    "    return log_message\n",
    "\n",
    "log_hi = logger('Hi!')\n",
    "log_hi()"
   ]
  },
  {
   "cell_type": "code",
   "execution_count": 20,
   "metadata": {},
   "outputs": [],
   "source": [
    "def html_tag(tag):\n",
    "    \n",
    "    def wrap_text(msg):\n",
    "        print(f'<{tag}>{msg}</{tag}>')\n",
    "    \n",
    "    return wrap_text"
   ]
  },
  {
   "cell_type": "code",
   "execution_count": 29,
   "metadata": {},
   "outputs": [
    {
     "name": "stdout",
     "output_type": "stream",
     "text": [
      "<h1>Test Headline</h1>\n",
      "<h1>Another Headline</h1>\n"
     ]
    }
   ],
   "source": [
    "print_h1 = html_tag('h1')\n",
    "\n",
    "print_h1('Test Headline')\n",
    "print_h1('Another Headline')"
   ]
  },
  {
   "cell_type": "markdown",
   "metadata": {},
   "source": [
    "# Closures"
   ]
  },
  {
   "cell_type": "code",
   "execution_count": 40,
   "metadata": {},
   "outputs": [
    {
     "name": "stdout",
     "output_type": "stream",
     "text": [
      "Hi\n",
      "Hello\n"
     ]
    }
   ],
   "source": [
    "def outer_func(msg):\n",
    "    message = msg\n",
    "    \n",
    "    def inner_func():\n",
    "        print(message)\n",
    "    return inner_func\n",
    "\n",
    "hi_func = outer_func('Hi')\n",
    "hello_func = outer_func('Hello')\n",
    "hi_func()\n",
    "hello_func()"
   ]
  },
  {
   "cell_type": "markdown",
   "metadata": {},
   "source": [
    "# Decorators"
   ]
  },
  {
   "cell_type": "code",
   "execution_count": 64,
   "metadata": {},
   "outputs": [
    {
     "name": "stdout",
     "output_type": "stream",
     "text": [
      "wrapper executed this before display\n",
      "display function ran\n"
     ]
    }
   ],
   "source": [
    "def decorator_function(original_function):\n",
    "    def wrapper_function(*args, **kwargs):\n",
    "        print(f'wrapper executed this before {original_function.__name__}')\n",
    "        return original_function(*args, **kwargs)\n",
    "    return wrapper_function\n",
    "\n",
    "@decorator_function\n",
    "def display():\n",
    "    print('display function ran')\n",
    "    \n",
    "# decorated_display = decorator_function(display)\n",
    "# display = decorator_function(display) -- same as @decorator function\n",
    "\n",
    "\n",
    "# decorated_display()\n",
    "display()"
   ]
  },
  {
   "cell_type": "code",
   "execution_count": 66,
   "metadata": {},
   "outputs": [
    {
     "name": "stdout",
     "output_type": "stream",
     "text": [
      "wrapper executed this before display_info\n",
      "dsplay_unfo ran with Mekdi 26\n"
     ]
    }
   ],
   "source": [
    "@decorator_function\n",
    "def display_info(name, age):\n",
    "    print(f'dsplay_unfo ran with {name} {age}')\n",
    "\n",
    "display_info('Mekdi', 26)"
   ]
  },
  {
   "cell_type": "code",
   "execution_count": 70,
   "metadata": {},
   "outputs": [],
   "source": [
    "class DecoratorClass:\n",
    "    def __init__(self, original_function):\n",
    "        self.original_function = original_function\n",
    "    \n",
    "    def __call__(self, *args, **kwargs):\n",
    "        print(f'the call method executed this before {self.original_function.__name__}')\n",
    "        return self.original_function(*args, **kwargs)\n",
    "        "
   ]
  },
  {
   "cell_type": "code",
   "execution_count": 71,
   "metadata": {},
   "outputs": [
    {
     "name": "stdout",
     "output_type": "stream",
     "text": [
      "wrapper executed this before display_info\n",
      "display_info ran with Mekdi 26\n"
     ]
    }
   ],
   "source": [
    "@decorator_function\n",
    "def display_info(name, age):\n",
    "    print(f'display_info ran with {name} {age}')\n",
    "    \n",
    "display_info('Mekdi', 26)"
   ]
  },
  {
   "cell_type": "code",
   "execution_count": 78,
   "metadata": {},
   "outputs": [
    {
     "name": "stdout",
     "output_type": "stream",
     "text": [
      "wrapper executed this before display\n",
      "display function ran\n"
     ]
    },
    {
     "data": {
      "text/plain": [
       "<__main__.DecoratorClass at 0x7fea509c8f50>"
      ]
     },
     "execution_count": 78,
     "metadata": {},
     "output_type": "execute_result"
    }
   ],
   "source": [
    "DecoratorClass(display())"
   ]
  },
  {
   "cell_type": "code",
   "execution_count": null,
   "metadata": {},
   "outputs": [],
   "source": []
  }
 ],
 "metadata": {
  "kernelspec": {
   "display_name": "Python 3",
   "language": "python",
   "name": "python3"
  },
  "language_info": {
   "codemirror_mode": {
    "name": "ipython",
    "version": 3
   },
   "file_extension": ".py",
   "mimetype": "text/x-python",
   "name": "python",
   "nbconvert_exporter": "python",
   "pygments_lexer": "ipython3",
   "version": "3.7.7"
  }
 },
 "nbformat": 4,
 "nbformat_minor": 2
}
