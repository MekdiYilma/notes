{
 "cells": [
  {
   "cell_type": "markdown",
   "metadata": {},
   "source": [
    "# Selenium \n",
    "\n",
    "Selenium is used to scrape pages that have lazy loaders and heavy javascript.  (Things like endless scrolling)\n",
    "\n",
    "Different from Beautiful Soup which just requests and parses the raw HTML, Selenium you simulate using a explorer by selecting objects to interact with (clicking, typing, scrolling).  This is done through a web driver (I will use Firefox).  Code is used to 'interact' with the driver, the scraper is debugged by watching the actions of the browser but can be run in headless mode (There are some issues with endless scrolling headless so look into that first [here](https://stackoverflow.com/questions/48257870/headless-chrome-with-selenium-can-only-find-ways-to-scroll-non-headless), also looking for newer info as updates may have fixed issue)"
   ]
  },
  {
   "cell_type": "code",
   "execution_count": null,
   "metadata": {},
   "outputs": [],
   "source": [
    "from selenium import webdriver\n",
    "import selenium\n",
    "import time"
   ]
  },
  {
   "cell_type": "markdown",
   "metadata": {},
   "source": [
    "Create instance of the browser object. This will be used to interact with firefox"
   ]
  },
  {
   "cell_type": "code",
   "execution_count": null,
   "metadata": {},
   "outputs": [],
   "source": [
    "browser = webdriver.Firefox()"
   ]
  },
  {
   "cell_type": "markdown",
   "metadata": {},
   "source": [
    "Navigate to amazon"
   ]
  },
  {
   "cell_type": "code",
   "execution_count": null,
   "metadata": {},
   "outputs": [],
   "source": [
    "browser.get(\"http://www.amazon.com/\")"
   ]
  },
  {
   "cell_type": "markdown",
   "metadata": {},
   "source": [
    "With Selenium the buttons and boxes on the webpage are treated as objects so we can search for the element and interact with it.  In this case the search box is found and selected (by clicking) then keys are sent to it (simulating typing on the keyboard).  The search button is found and clicked."
   ]
  },
  {
   "cell_type": "code",
   "execution_count": null,
   "metadata": {},
   "outputs": [],
   "source": [
    "search_box = browser.find_element_by_css_selector(\"input#twotabsearchtextbox\")"
   ]
  },
  {
   "cell_type": "code",
   "execution_count": null,
   "metadata": {},
   "outputs": [],
   "source": [
    "search_box.click()"
   ]
  },
  {
   "cell_type": "code",
   "execution_count": null,
   "metadata": {},
   "outputs": [],
   "source": [
    "search_box.send_keys(\"alexa\")"
   ]
  },
  {
   "cell_type": "code",
   "execution_count": null,
   "metadata": {},
   "outputs": [],
   "source": [
    "search_button = browser.find_element_by_css_selector(\"div.nav-search-submit input\")"
   ]
  },
  {
   "cell_type": "code",
   "execution_count": null,
   "metadata": {},
   "outputs": [],
   "source": [
    "search_button.click()\n",
    "time.sleep(3)"
   ]
  },
  {
   "cell_type": "markdown",
   "metadata": {},
   "source": [
    "The `browser` now contains the new webpage so the objects we want are found using uniqe class name.  This now is a list of web element objects that can be looped through."
   ]
  },
  {
   "cell_type": "code",
   "execution_count": null,
   "metadata": {},
   "outputs": [],
   "source": [
    "products = browser.find_elements_by_css_selector(\"div.a-section.a-spacing-medium\")"
   ]
  },
  {
   "cell_type": "code",
   "execution_count": null,
   "metadata": {},
   "outputs": [],
   "source": [
    "products"
   ]
  },
  {
   "cell_type": "markdown",
   "metadata": {},
   "source": [
    "Simple version of getting data out of the objects.  This code can be modified to at the end scroll down to get the next returned items if this was a endless scroll page"
   ]
  },
  {
   "cell_type": "code",
   "execution_count": null,
   "metadata": {},
   "outputs": [],
   "source": [
    "titles_prices = []\n",
    "for p in products:\n",
    "    try:\n",
    "        title_element = p.find_element_by_css_selector(\"span.a-size-medium.a-color-base.a-text-normal\")\n",
    "        title = title_element.text\n",
    "\n",
    "        price_whole_element = p.find_element_by_css_selector(\"span.a-price-whole\")\n",
    "        price = price_whole_element.text\n",
    "\n",
    "        price_fractional_element = p.find_element_by_css_selector(\n",
    "            \"span.a-price-fraction\")\n",
    "        price += (\".\" + price_fractional_element.text)\n",
    "    except selenium.common.exceptions.NoSuchElementException:\n",
    "        continue\n",
    "    titles_prices.append((title, price))"
   ]
  },
  {
   "cell_type": "code",
   "execution_count": null,
   "metadata": {},
   "outputs": [],
   "source": [
    "titles_prices"
   ]
  },
  {
   "cell_type": "markdown",
   "metadata": {},
   "source": [
    "Here is a example of opening tabs to look at sub pages.  In this method a new tab is opened, the focus of the driver is switched to that tab (we select the new tab) and the data is fetched.  Then any scraping of data can be done, the new tab is closed and focus is switched back to the first tab."
   ]
  },
  {
   "cell_type": "code",
   "execution_count": null,
   "metadata": {},
   "outputs": [],
   "source": [
    "titles_prices = []\n",
    "for p in products:\n",
    "    try:\n",
    "        title_element = p.find_element_by_css_selector(\"span.a-size-medium.a-color-base.a-text-normal\")\n",
    "        title = title_element.text\n",
    "        \n",
    "        link = p.find_element_by_css_selector('a.a-link-normal').get_attribute('href')\n",
    "        \n",
    "        # Open new tab\n",
    "        browser.execute_script(\"window.open('');\")\n",
    "        time.sleep(3)\n",
    "\n",
    "        # Switch to the new window\n",
    "        browser.switch_to.window(browser.window_handles[1])\n",
    "        browser.get(link)\n",
    "        time.sleep(3)\n",
    "        \n",
    "        #Here is where you would get info off this page and store it\n",
    "        \n",
    "        \n",
    "        # close the active tab\n",
    "        browser.close()\n",
    "\n",
    "        # Switch focus back to main tab\n",
    "        browser.switch_to.window(browser.window_handles[0])\n",
    "        \n",
    "        \n",
    "    except selenium.common.exceptions.NoSuchElementException:\n",
    "        continue\n",
    "    titles_prices.append((title, price))"
   ]
  }
 ],
 "metadata": {
  "kernelspec": {
   "display_name": "Python 3",
   "language": "python",
   "name": "python3"
  },
  "language_info": {
   "codemirror_mode": {
    "name": "ipython",
    "version": 3
   },
   "file_extension": ".py",
   "mimetype": "text/x-python",
   "name": "python",
   "nbconvert_exporter": "python",
   "pygments_lexer": "ipython3",
   "version": "3.7.7"
  }
 },
 "nbformat": 4,
 "nbformat_minor": 1
}
