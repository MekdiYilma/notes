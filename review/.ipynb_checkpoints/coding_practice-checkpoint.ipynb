{
 "cells": [
  {
   "cell_type": "code",
   "execution_count": 1,
   "metadata": {},
   "outputs": [],
   "source": [
    "import numpy as np\n",
    "import pandas as pd\n",
    "\n",
    "# Try to use pandas or numpy for every challenge"
   ]
  },
  {
   "cell_type": "code",
   "execution_count": null,
   "metadata": {},
   "outputs": [],
   "source": [
    "country, beer_servings, spirit_servings, wine_servings, total_litres_of_pure_alcohol, continent\n"
   ]
  },
  {
   "cell_type": "code",
   "execution_count": 2,
   "metadata": {},
   "outputs": [],
   "source": [
    "def return_mean_alcohol_consumption(df):\n",
    "    '''\n",
    "    input: dataframe\n",
    "    output: dataframe\n",
    "    \n",
    "    given a dataframe containing alcohol consumption data with these columns:\n",
    "        country, beer_servings, spirit_servings, wine_servings, total_litres_of_pure_alcohol, continent\n",
    "    return the dataframe containing the average alcohol consumption per continent for every column.\n",
    "    '''\n",
    "    pass\n"
   ]
  },
  {
   "cell_type": "code",
   "execution_count": 18,
   "metadata": {},
   "outputs": [],
   "source": [
    "def largest_sum(df):\n",
    "    '''\n",
    "    input: dataframe\n",
    "    output: column name (str)\n",
    "    \n",
    "    given a dataframe with various columns filled with real numbers, \n",
    "    Return column's label where the sum is largest. \n",
    "    \n",
    "    E.g. df = pd.DataFrame(np.array([[2.3,4.5,6.6], [4.5,6.7,8], [4.2, 2.1, 6.3]]), columns=list('abc'))\n",
    "        -> 'c'\n",
    "    '''\n",
    "    pass\n"
   ]
  },
  {
   "cell_type": "code",
   "execution_count": null,
   "metadata": {},
   "outputs": [],
   "source": [
    "def column_of_zeros(arr):\n",
    "    '''\n",
    "    INPUT: 2 dimensional numpy array\n",
    "    OUTPUT: 2 dimensional numpy array, column index 1 dimensional numpy array\n",
    "    \n",
    "    Return a numpy array containing only the columns from array where all \n",
    "    the values in that row are zero. If there are none, return an empty array\n",
    "    \n",
    "    E.g.  np.array([[1, 0, 0.2], \n",
    "                    [9, 0, 3], \n",
    "                    [0, 0, 0]])\n",
    "                    \n",
    "              ->  array([[0],\n",
    "                         [0],\n",
    "                         [0]]), array([[1]])\n",
    "              \n",
    "    Try this without any for loops\n",
    "    '''\n",
    "    pass\n",
    "    "
   ]
  },
  {
   "cell_type": "code",
   "execution_count": null,
   "metadata": {},
   "outputs": [],
   "source": []
  },
  {
   "cell_type": "code",
   "execution_count": null,
   "metadata": {},
   "outputs": [],
   "source": []
  }
 ],
 "metadata": {
  "kernelspec": {
   "display_name": "Python 3",
   "language": "python",
   "name": "python3"
  },
  "language_info": {
   "codemirror_mode": {
    "name": "ipython",
    "version": 3
   },
   "file_extension": ".py",
   "mimetype": "text/x-python",
   "name": "python",
   "nbconvert_exporter": "python",
   "pygments_lexer": "ipython3",
   "version": "3.7.7"
  }
 },
 "nbformat": 4,
 "nbformat_minor": 5
}
