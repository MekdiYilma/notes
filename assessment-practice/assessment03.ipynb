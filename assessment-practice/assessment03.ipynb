{
 "cells": [
  {
   "cell_type": "code",
   "execution_count": 35,
   "id": "subjective-reporter",
   "metadata": {},
   "outputs": [],
   "source": [
    "import numpy as np\n",
    "import pandas as pd\n",
    "from scipy import stats"
   ]
  },
  {
   "cell_type": "code",
   "execution_count": 2,
   "id": "noble-welsh",
   "metadata": {},
   "outputs": [],
   "source": [
    "sample_ages = [32, 34, 29, 29, 22, 39, 38, 37, 38, 36, 30, 26, 22, 22]"
   ]
  },
  {
   "cell_type": "markdown",
   "id": "bearing-decade",
   "metadata": {},
   "source": [
    "Ho: mu = 30\n",
    "\n",
    "ha: mu > 30"
   ]
  },
  {
   "cell_type": "code",
   "execution_count": 14,
   "id": "wooden-defeat",
   "metadata": {},
   "outputs": [],
   "source": [
    "mu = 30\n",
    "mean = np.mean(sample_ages)\n",
    "var = np.var(sample_ages)\n",
    "n = len(sample_ages)\n",
    "se = np.sqrt(var/n)"
   ]
  },
  {
   "cell_type": "code",
   "execution_count": 12,
   "id": "insured-michigan",
   "metadata": {},
   "outputs": [],
   "source": [
    "alpha = 0.05"
   ]
  },
  {
   "cell_type": "code",
   "execution_count": 13,
   "id": "generic-indie",
   "metadata": {},
   "outputs": [],
   "source": [
    "norm = stats.norm(mu, se)"
   ]
  },
  {
   "cell_type": "code",
   "execution_count": 15,
   "id": "systematic-jenny",
   "metadata": {},
   "outputs": [
    {
     "data": {
      "text/plain": [
       "0.26765179862315036"
      ]
     },
     "execution_count": 15,
     "metadata": {},
     "output_type": "execute_result"
    }
   ],
   "source": [
    "1 - norm.cdf(mean)"
   ]
  },
  {
   "cell_type": "markdown",
   "id": "imported-impression",
   "metadata": {},
   "source": [
    "Fail to reject Null"
   ]
  },
  {
   "cell_type": "code",
   "execution_count": 19,
   "id": "systematic-visiting",
   "metadata": {},
   "outputs": [
    {
     "data": {
      "text/plain": [
       "0.6199304198780666"
      ]
     },
     "execution_count": 19,
     "metadata": {},
     "output_type": "execute_result"
    }
   ],
   "source": [
    "z = (mean - mu) / se\n",
    "z"
   ]
  },
  {
   "cell_type": "code",
   "execution_count": 25,
   "id": "double-snowboard",
   "metadata": {},
   "outputs": [
    {
     "data": {
      "text/plain": [
       "0.26765179862315036"
      ]
     },
     "execution_count": 25,
     "metadata": {},
     "output_type": "execute_result"
    }
   ],
   "source": [
    "1 - stats.norm().cdf(z)"
   ]
  },
  {
   "cell_type": "code",
   "execution_count": 23,
   "id": "aboriginal-colony",
   "metadata": {},
   "outputs": [
    {
     "data": {
      "text/plain": [
       "30.492471479307444"
      ]
     },
     "execution_count": 23,
     "metadata": {},
     "output_type": "execute_result"
    }
   ],
   "source": [
    "\n",
    "norm.ppf(z)"
   ]
  },
  {
   "cell_type": "markdown",
   "id": "german-concert",
   "metadata": {},
   "source": [
    "# Assessment 0 Practice"
   ]
  },
  {
   "cell_type": "code",
   "execution_count": 27,
   "id": "chinese-hunger",
   "metadata": {},
   "outputs": [],
   "source": [
    "def fizz_buzz():\n",
    "    '''Returns the numbers from 1 to 100 into list. But for\n",
    "    multiples of three append \"Fizz\" instead of the number and for the multiples\n",
    "    of five append \"Buzz\". For numbers which are multiples of both three and five\n",
    "    append \"FizzBuzz\".\n",
    "\n",
    "    The first five elements of the output list are:\n",
    "        lst = [1, 2, \"Fizz\", 4, \"Buzz\", ....]\n",
    "\n",
    "    Parameters\n",
    "    ----------\n",
    "    None\n",
    "\n",
    "    Returns\n",
    "    -------\n",
    "    list\n",
    "    '''\n",
    "    return ['FizzBuzz' if n % 3 == 0 and n % 5 == 0 else 'Fizz' if n % 3 == 0 else 'Buzz' if n % 5 == 0 else \\\n",
    "            n for n in range(1,100+1)]\n",
    "    \n",
    "# fizz_buzz()         "
   ]
  },
  {
   "cell_type": "code",
   "execution_count": 29,
   "id": "involved-assist",
   "metadata": {},
   "outputs": [],
   "source": [
    "def count_characters(string):\n",
    "    '''\n",
    "    Return a dictionary which contains\n",
    "    a count of the number of times each character appears in the string.\n",
    "    Characters which with a count of 0 should not be included in the\n",
    "    output dictionary.\n",
    "\n",
    "    FOR FULL POINTS DON'T USE IMPORTS.\n",
    "\n",
    "    Parameters\n",
    "    ----------\n",
    "    string: str\n",
    "\n",
    "    Returns\n",
    "    -------\n",
    "    dict\n",
    "        A dictionary with counts of each character in string\n",
    "    '''\n",
    "    \n",
    "    count_d = {}\n",
    "    \n",
    "    for char in string:\n",
    "        if char not in count_d:\n",
    "            count_d[char] = 0\n",
    "        count_d[char] += 1\n",
    "    \n",
    "    return count_d\n",
    "\n",
    "\n",
    "# count_characters('return a dictionary which contains')     \n",
    "    "
   ]
  },
  {
   "cell_type": "code",
   "execution_count": 33,
   "id": "governing-refrigerator",
   "metadata": {},
   "outputs": [],
   "source": [
    "def merge_dictionaries(d1, d2):\n",
    "    '''Returns a new dictionary containing all the keys from d1 and d2 with\n",
    "    their associated values. If a key is in both dictionaries, the new value is\n",
    "    the sum of the two values from d1 and d2.\n",
    "\n",
    "    FOR FULL POINTS DON'T USE IMPORTS AND MAXIMUM ONE LOOP.\n",
    "\n",
    "    Parameters\n",
    "    ----------\n",
    "    d1, d2: dictionary, dictionary\n",
    "\n",
    "    Returns\n",
    "    -------\n",
    "    dictionary\n",
    "    '''\n",
    "    merge_d = d1.copy()\n",
    "    \n",
    "    for k, v in d2.items():\n",
    "        print(k,v)\n",
    "        if k not in merge_d:\n",
    "            merge_d[k] = v\n",
    "        else:\n",
    "            merge_d[k] += v\n",
    "    return merge_d\n",
    "\n",
    "d1 = {'a':3,'b':4,'c':0}\n",
    "d2 = {'a':7,'d':4}\n",
    "\n",
    "# merge_dictionaries(d1, d2)"
   ]
  },
  {
   "cell_type": "code",
   "execution_count": 34,
   "id": "political-pizza",
   "metadata": {},
   "outputs": [],
   "source": [
    "def cookie_jar(a, b):\n",
    "    '''\n",
    "    There are two jars of cookies.\n",
    "    Each has chocolate and peanut butter cookies.\n",
    "    Input 'a' is the fraction of cookies in Jar A which are chocolate.\n",
    "    Input 'b' is the fraction of cookies in Jar B which are chocolate.\n",
    "    A jar is chosen at random and a cookie is drawn.\n",
    "    The cookie is chocolate.\n",
    "    Return the probability that the cookie came from Jar A.\n",
    "\n",
    "    Parameters\n",
    "    ----------\n",
    "    a: float\n",
    "        Probability of drawing a chocolate cooking from Jar A\n",
    "    b: float\n",
    "        Probability of drawing a chocolate cooking from Jar B\n",
    "\n",
    "    Returns\n",
    "    -------\n",
    "    float\n",
    "        Conditional probability that cookie was drawn from Jar A given\n",
    "        that a chocolate cookie was drawn.    \n",
    "    '''\n",
    "    return a*0.5 / (a*0.5 + b*0.5)"
   ]
  },
  {
   "cell_type": "code",
   "execution_count": 41,
   "id": "unexpected-ending",
   "metadata": {},
   "outputs": [],
   "source": [
    "def boolean_indexing(arr, minimum):\n",
    "    '''Return an array of only the elements of \"arr\" that are greater than\n",
    "    or equal to \"minimum\".\n",
    "\n",
    "    FOR FULL POINTS DON'T USE LOOPS OR LIST COMPREHENSIONS.\n",
    "\n",
    "    Parameters\n",
    "    ----------\n",
    "    arr: NumPy array  \n",
    "    minimum: int\n",
    "\n",
    "    Returns\n",
    "    -------\n",
    "    NumPy array\n",
    "        Of elements of arr that are >= minimum\n",
    "\n",
    "    >>>boolean_indexing(np.array([[3, 4, 5], [6, 7, 8]]), 7)\n",
    "    array([7, 8])\n",
    "    '''\n",
    "    return arr[arr >= minimum]"
   ]
  },
  {
   "cell_type": "code",
   "execution_count": 42,
   "id": "abstract-english",
   "metadata": {},
   "outputs": [
    {
     "data": {
      "text/plain": [
       "array([7, 8])"
      ]
     },
     "execution_count": 42,
     "metadata": {},
     "output_type": "execute_result"
    }
   ],
   "source": [
    "boolean_indexing(np.array([[3, 4, 5], [6, 7, 8]]) , 7)"
   ]
  },
  {
   "cell_type": "code",
   "execution_count": 65,
   "id": "curious-miller",
   "metadata": {},
   "outputs": [],
   "source": [
    "def size_of_multiply(A, B):\n",
    "    '''If matrices A (dimensions m x n) and B (dimensions p x q) can be\n",
    "    multiplied (AB), returns the shape of the result of multiplying them.\n",
    "    Function DOES NOT perform the multiplication. If A and B cannot be\n",
    "    multiplied, returns None. (Use the shape function.)\n",
    "\n",
    "    DO NOT PERFORM ANY MATRIX MULTIPLICATION IN YOUR FUNCTION.\n",
    "\n",
    "    Parameters\n",
    "    ----------\n",
    "    A, B: NumPy array, NumPy array\n",
    "\n",
    "    Returns\n",
    "    -------\n",
    "    (int, int) or None  \n",
    "    '''\n",
    "    m, n = A.shape \n",
    "    p, q = B.shape \n",
    "    return (m, q) if n == p else None"
   ]
  },
  {
   "cell_type": "code",
   "execution_count": 66,
   "id": "grand-crawford",
   "metadata": {},
   "outputs": [],
   "source": [
    "A = np.array([[3, 4, 5], [6, 7, 8]])\n",
    "B = np.zeros(shape=(3,4))\n",
    "size_of_multiply(A, A)"
   ]
  },
  {
   "cell_type": "code",
   "execution_count": 67,
   "id": "expressed-anger",
   "metadata": {},
   "outputs": [],
   "source": [
    "def data_frame_work(df, colA, colB, colC):\n",
    "    '''\n",
    "    Insert a column (colC) into the dataframe that is the sum of\n",
    "    colA and colB. Assume that df contains columns colA and colB and\n",
    "    that these are numeric.\n",
    "\n",
    "    Parameters\n",
    "    ----------\n",
    "    df: Pandas DataFrame\n",
    "    colA, colB, colC: str, str, str\n",
    "    '''\n",
    "    df[colC] = df.colA + df.colB\n",
    "    return df"
   ]
  },
  {
   "cell_type": "code",
   "execution_count": 68,
   "id": "beneficial-recipe",
   "metadata": {},
   "outputs": [
    {
     "data": {
      "text/plain": [
       "0.6"
      ]
     },
     "execution_count": 68,
     "metadata": {},
     "output_type": "execute_result"
    }
   ],
   "source": [
    "np.mean([1,1,0,1,0])"
   ]
  },
  {
   "cell_type": "code",
   "execution_count": 71,
   "id": "southeast-marking",
   "metadata": {},
   "outputs": [],
   "source": [
    "def factorial(n):\n",
    "    prod = 1 \n",
    "    for i in range(2,n+1):\n",
    "        prod *= i\n",
    "    return prod\n",
    "\n",
    "def combinations(n, k):\n",
    "    return factorial(n)/(factorial(n-k) * factorial(k))"
   ]
  },
  {
   "cell_type": "code",
   "execution_count": 72,
   "id": "cellular-raise",
   "metadata": {},
   "outputs": [
    {
     "data": {
      "text/plain": [
       "0.3125"
      ]
     },
     "execution_count": 72,
     "metadata": {},
     "output_type": "execute_result"
    }
   ],
   "source": [
    "combinations(5,3)/2**5"
   ]
  },
  {
   "cell_type": "code",
   "execution_count": 73,
   "id": "quiet-italy",
   "metadata": {},
   "outputs": [
    {
     "data": {
      "text/plain": [
       "array([[14],\n",
       "       [10]])"
      ]
     },
     "execution_count": 73,
     "metadata": {},
     "output_type": "execute_result"
    }
   ],
   "source": [
    "X = np.array([[2,4], [1,3]])\n",
    "y = np.array([[1],[3]])\n",
    "np.dot(X,y)"
   ]
  },
  {
   "cell_type": "markdown",
   "id": "tracked-header",
   "metadata": {},
   "source": [
    "# Assessment 1 Practice"
   ]
  },
  {
   "cell_type": "code",
   "execution_count": 78,
   "id": "grateful-sheep",
   "metadata": {},
   "outputs": [],
   "source": [
    "def max_lists(list1, list2):\n",
    "    '''Compares the elements of list1, and list2 (assumed to be the same\n",
    "    length),and returns the maximum value between the two, for each element.\n",
    "\n",
    "    FOR FULL POINTS DON'T USE IMPORTS.\n",
    "\n",
    "    Parameters\n",
    "    ----------\n",
    "    list1, list2: list, list\n",
    "        (Of the same length)\n",
    "\n",
    "    Returns\n",
    "    -------\n",
    "    list\n",
    "    '''\n",
    "    return [max(list1[i],list2[i]) for i in range(len(list1))]\n",
    "    "
   ]
  },
  {
   "cell_type": "code",
   "execution_count": 80,
   "id": "tamil-clearing",
   "metadata": {},
   "outputs": [
    {
     "name": "stdout",
     "output_type": "stream",
     "text": [
      "1 5\n",
      "2 4\n",
      "3 2\n",
      "5 1\n"
     ]
    }
   ],
   "source": [
    "list1 = [1,2,3,5]\n",
    "list2 = [5,4,2,1]\n",
    "\n",
    "for a,b in zip(list1,list2):\n",
    "    print(a,b)\n"
   ]
  },
  {
   "cell_type": "code",
   "execution_count": 84,
   "id": "meaningful-evanescence",
   "metadata": {},
   "outputs": [
    {
     "data": {
      "text/plain": [
       "{2: {'a', 'c'}, 4: {'b'}}"
      ]
     },
     "execution_count": 84,
     "metadata": {},
     "output_type": "execute_result"
    }
   ],
   "source": [
    "def invert_dictionary(d):\n",
    "    '''\n",
    "    Given a dictionary d, return a new dictionary with d's values\n",
    "    as keys and the value for a given key being\n",
    "    the set of d's keys which shared the same value.\n",
    "\n",
    "    Parameters\n",
    "    ----------\n",
    "    d: dict\n",
    "\n",
    "    Returns\n",
    "    -------\n",
    "    dict\n",
    "        A dictionary of sets of input keys indexing the same input values\n",
    "        indexed by the input values.\n",
    "\n",
    "\n",
    "    >>>invert_dictionary({'a': 2, 'b': 4, 'c': 2})\n",
    "    {2: {'a', 'c'}, 4: {'b'}}\n",
    "    '''\n",
    "    inverted_d = dict()\n",
    "    for k, v in d.items():\n",
    "        if v not in inverted_d:\n",
    "            inverted_d[v] = set()\n",
    "        inverted_d[v].add(k)\n",
    "    return inverted_d\n",
    "\n",
    "invert_dictionary({'a': 2, 'b': 4, 'c': 2})"
   ]
  },
  {
   "cell_type": "code",
   "execution_count": 165,
   "id": "victorian-times",
   "metadata": {},
   "outputs": [],
   "source": [
    "def matrix_multiplication(A, B):\n",
    "    '''Return the matrix which is the product of matrix A and matrix B\n",
    "    where A and B will be (a) integer valued (b) square matrices\n",
    "    (c) of size n-by-n (d) encoded as lists of lists,  e.g.\n",
    "    A = [[2, 3, 4], [6, 4, 2], [-1, 2, 0]] corresponds to the matrix\n",
    "    | 2  3  4 |\n",
    "    | 6  4  2 |\n",
    "    |-1  2  0 |\n",
    "\n",
    "    YOU MAY NOT USE NUMPY. Write your solution in straight python.\n",
    "\n",
    "    Parameters\n",
    "    ----------\n",
    "    a, b: list of lists of integers, list of lists integers\n",
    "        All inner/outer lists are of length n, so as to construct square\n",
    "        matrices.\n",
    "\n",
    "    Returns\n",
    "    -------\n",
    "    list of lists of integers\n",
    "        The product of a matrix multiplication operation.\n",
    "    \n",
    "    [[sum(a*b for a,b in zip(A_row,B_col)) for B_col in zip(*B)] for A_row in A]\n",
    "        \n",
    "    '''\n",
    "    mat_mul = []\n",
    "    for a_row in A:\n",
    "        temp = []\n",
    "        mat_mul.append(temp)\n",
    "        for b_col in zip(*B):\n",
    "            temp.append(sum([a*b for a,b in zip(a_row,b_col)]))\n",
    "\n",
    "\n",
    "    return mat_mul"
   ]
  },
  {
   "cell_type": "code",
   "execution_count": 166,
   "id": "northern-compression",
   "metadata": {},
   "outputs": [
    {
     "data": {
      "text/plain": [
       "[[100, 71, 30], [47, 40, 26], [47, 40, 26]]"
      ]
     },
     "execution_count": 166,
     "metadata": {},
     "output_type": "execute_result"
    }
   ],
   "source": [
    "A = [[1,3,8], [2,4,1],[2,4,1]] \n",
    "B = [[1,5,8], [9,6,2],[9,6,2]] \n",
    "\n",
    "mat_mul = []\n",
    "for a_row in A:\n",
    "    temp = []\n",
    "    mat_mul.append(temp)\n",
    "    for b_col in zip(*B):\n",
    "        temp.append(sum([a*b for a,b in zip(a_row,b_col)]))\n",
    "\n",
    "mat_mul"
   ]
  },
  {
   "cell_type": "code",
   "execution_count": 167,
   "id": "optimum-terrorism",
   "metadata": {},
   "outputs": [
    {
     "data": {
      "text/plain": [
       "[[100, 71, 30], [47, 40, 26], [47, 40, 26]]"
      ]
     },
     "execution_count": 167,
     "metadata": {},
     "output_type": "execute_result"
    }
   ],
   "source": [
    "matrix_multiplication(A, B)"
   ]
  },
  {
   "cell_type": "code",
   "execution_count": 168,
   "id": "destroyed-collins",
   "metadata": {},
   "outputs": [
    {
     "data": {
      "text/plain": [
       "34"
      ]
     },
     "execution_count": 168,
     "metadata": {},
     "output_type": "execute_result"
    }
   ],
   "source": [
    "a_row = [1, 3,6]\n",
    "b_col = (1,9,1)\n",
    "\n",
    "sum_ = sum([a*b for a,b in zip(a_row,b_col)])\n",
    "# for a,b in zip(a_row,b_col):\n",
    "#     sum_ += a*b\n",
    "\n",
    "sum_"
   ]
  },
  {
   "cell_type": "code",
   "execution_count": 169,
   "id": "amended-plaza",
   "metadata": {},
   "outputs": [
    {
     "data": {
      "text/plain": [
       "[[18, 26, 14], [34, 38, 32], [10, 5, 0]]"
      ]
     },
     "execution_count": 169,
     "metadata": {},
     "output_type": "execute_result"
    }
   ],
   "source": [
    "D = [[2, 3, 4], [6, 4, 2], [-1, 2, 0]]\n",
    "matrix_multiplication(D, D)"
   ]
  },
  {
   "cell_type": "code",
   "execution_count": 182,
   "id": "commercial-scotland",
   "metadata": {},
   "outputs": [],
   "source": [
    "def reverse_index(arr, finRow, finCol):\n",
    "    '''\n",
    "    Reverse the row order of \"arr\" (i.e. so the top row is on the bottom)\n",
    "    and return the sub-matrix from coordinate [0, 0] up to\n",
    "    (but not including) [finRow, finCol].\n",
    "\n",
    "    Hint: this can use two steps of slicing, which can be combined into\n",
    "    a one-liner.\n",
    "\n",
    "    FOR FULL POINTS DON'T USE LOOPS OR LIST COMPREHENSIONS.\n",
    "\n",
    "    Parameters\n",
    "    ----------\n",
    "    arr: NumPy array\n",
    "    finRow, finCol: int, int\n",
    "\n",
    "\n",
    "    Returns\n",
    "    -------\n",
    "    NumPy array    \n",
    "      Of an \"upside down\" subset of arr\n",
    "\n",
    "    >>>arr = np.array([[ -4,  -3,  11],\n",
    "                       [ 14,   2, -11],\n",
    "                       [-17,  10,   3]])\n",
    "    >>>reverse_index(arr, 2, 2)\n",
    "    array([[-17, 10],\n",
    "           [ 14,  2]])\n",
    "    '''\n",
    "    return arr[::-1][:finRow,:finCol]"
   ]
  },
  {
   "cell_type": "code",
   "execution_count": 183,
   "id": "liable-parish",
   "metadata": {},
   "outputs": [
    {
     "data": {
      "text/plain": [
       "array([[-17,  10],\n",
       "       [ 14,   2]])"
      ]
     },
     "execution_count": 183,
     "metadata": {},
     "output_type": "execute_result"
    }
   ],
   "source": [
    "arr = np.array([[ -4,  -3,  11],\n",
    "                       [ 14,   2, -11],\n",
    "                       [-17,  10,   3]])\n",
    "arr[::-1][:2,:2]\n",
    "reverse_index(arr, 2, 2)"
   ]
  },
  {
   "cell_type": "code",
   "execution_count": 187,
   "id": "pacific-title",
   "metadata": {},
   "outputs": [],
   "source": [
    "def array_work(rows, cols, scalar, matrixA):\n",
    "    '''\n",
    "    Create matrix of size (rows, cols) with elements initialized to the\n",
    "    scalar value. Right multiply that matrix with the passed matrixA\n",
    "    (i.e. AB, not BA).  Return the result of the multiplication.  You\n",
    "    needn't check for matrix compatibility, but you can accomplish this in\n",
    "    a single line.\n",
    "\n",
    "    Parameters\n",
    "    ----------\n",
    "    rows, cols: int, int\n",
    "        Size of matrix to be created\n",
    "    scalar: int\n",
    "        Value of each element of new matrix\n",
    "    matrixA:\n",
    "\n",
    "    Returns\n",
    "    -------\n",
    "    NumPy array\n",
    "        Result of matrix product of row-by-col matrix of \"scalar\"'s times\n",
    "        matrixA.\n",
    "\n",
    "    E.g., array_work(2, 3, 5, [[3, 4], [5, 6], [7, 8]])\n",
    "           [[3, 4],      [[5, 5, 5],\n",
    "            [5, 6],   *   [5, 5, 5]]\n",
    "            [7, 8]]\n",
    "    '''\n",
    "    matrixB = np.full(shape=(rows,cols), fill_value=scalar)\n",
    "    return np.dot(matrixA, matrixB)"
   ]
  },
  {
   "cell_type": "code",
   "execution_count": 186,
   "id": "colonial-howard",
   "metadata": {},
   "outputs": [
    {
     "data": {
      "text/plain": [
       "array([[9, 9]])"
      ]
     },
     "execution_count": 186,
     "metadata": {},
     "output_type": "execute_result"
    }
   ],
   "source": [
    "np.full(shape=(1,2),fill_value=9)"
   ]
  },
  {
   "cell_type": "code",
   "execution_count": 188,
   "id": "english-business",
   "metadata": {},
   "outputs": [
    {
     "data": {
      "text/plain": [
       "array([[35, 35, 35],\n",
       "       [55, 55, 55],\n",
       "       [75, 75, 75]])"
      ]
     },
     "execution_count": 188,
     "metadata": {},
     "output_type": "execute_result"
    }
   ],
   "source": [
    "array_work(2, 3, 5, [[3, 4], [5, 6], [7, 8]])"
   ]
  },
  {
   "cell_type": "code",
   "execution_count": 189,
   "id": "hidden-contest",
   "metadata": {},
   "outputs": [
    {
     "name": "stdout",
     "output_type": "stream",
     "text": [
      "Neighborhood,City,State,med_2011,med_2014\r\n",
      "Northeast Dallas,Dallas,TX,825.0,985.0\r\n",
      "Paradise,Las Vegas,NV,900.0,1100.0\r\n",
      "Maryvale,Phoenix,AZ,795.0,850.0\r\n",
      "Upper West Side,New York,NY,2795.0,3300.0\r\n"
     ]
    }
   ],
   "source": [
    "!head -5 /Users/mekdiyilma/Downloads/rent.csv"
   ]
  },
  {
   "cell_type": "code",
   "execution_count": 192,
   "id": "detected-stevens",
   "metadata": {},
   "outputs": [
    {
     "data": {
      "text/html": [
       "<div>\n",
       "<style scoped>\n",
       "    .dataframe tbody tr th:only-of-type {\n",
       "        vertical-align: middle;\n",
       "    }\n",
       "\n",
       "    .dataframe tbody tr th {\n",
       "        vertical-align: top;\n",
       "    }\n",
       "\n",
       "    .dataframe thead th {\n",
       "        text-align: right;\n",
       "    }\n",
       "</style>\n",
       "<table border=\"1\" class=\"dataframe\">\n",
       "  <thead>\n",
       "    <tr style=\"text-align: right;\">\n",
       "      <th></th>\n",
       "      <th>Neighborhood</th>\n",
       "      <th>City</th>\n",
       "      <th>State</th>\n",
       "      <th>med_2011</th>\n",
       "      <th>med_2014</th>\n",
       "    </tr>\n",
       "  </thead>\n",
       "  <tbody>\n",
       "    <tr>\n",
       "      <th>0</th>\n",
       "      <td>Northeast Dallas</td>\n",
       "      <td>Dallas</td>\n",
       "      <td>TX</td>\n",
       "      <td>825.0</td>\n",
       "      <td>985.0</td>\n",
       "    </tr>\n",
       "    <tr>\n",
       "      <th>1</th>\n",
       "      <td>Paradise</td>\n",
       "      <td>Las Vegas</td>\n",
       "      <td>NV</td>\n",
       "      <td>900.0</td>\n",
       "      <td>1100.0</td>\n",
       "    </tr>\n",
       "    <tr>\n",
       "      <th>2</th>\n",
       "      <td>Maryvale</td>\n",
       "      <td>Phoenix</td>\n",
       "      <td>AZ</td>\n",
       "      <td>795.0</td>\n",
       "      <td>850.0</td>\n",
       "    </tr>\n",
       "    <tr>\n",
       "      <th>3</th>\n",
       "      <td>Upper West Side</td>\n",
       "      <td>New York</td>\n",
       "      <td>NY</td>\n",
       "      <td>2795.0</td>\n",
       "      <td>3300.0</td>\n",
       "    </tr>\n",
       "    <tr>\n",
       "      <th>4</th>\n",
       "      <td>South Los Angeles</td>\n",
       "      <td>Los Angeles</td>\n",
       "      <td>CA</td>\n",
       "      <td>1150.0</td>\n",
       "      <td>1400.0</td>\n",
       "    </tr>\n",
       "  </tbody>\n",
       "</table>\n",
       "</div>"
      ],
      "text/plain": [
       "        Neighborhood         City State  med_2011  med_2014\n",
       "0   Northeast Dallas       Dallas    TX     825.0     985.0\n",
       "1           Paradise    Las Vegas    NV     900.0    1100.0\n",
       "2           Maryvale      Phoenix    AZ     795.0     850.0\n",
       "3    Upper West Side     New York    NY    2795.0    3300.0\n",
       "4  South Los Angeles  Los Angeles    CA    1150.0    1400.0"
      ]
     },
     "execution_count": 192,
     "metadata": {},
     "output_type": "execute_result"
    }
   ],
   "source": [
    "rent_df = pd.read_csv('/Users/mekdiyilma/Downloads/rent.csv')\n",
    "rent_df.head()"
   ]
  },
  {
   "cell_type": "code",
   "execution_count": 194,
   "id": "scenic-scotland",
   "metadata": {},
   "outputs": [],
   "source": [
    "def pandas_add_increase_column(df):\n",
    "    '''Adds a column to the DataFrame called 'Increase' which contains the\n",
    "    amount that the median rent increased by from 2011 to 2014.\n",
    "\n",
    "    Parameters\n",
    "    ----------\n",
    "    df: Pandas DataFrame\n",
    "\n",
    "    Returns\n",
    "    -------\n",
    "    None\n",
    "    '''\n",
    "    df['Increase'] = df.med_2014 - df.med_2011\n",
    "    return df.head()\n",
    "    "
   ]
  },
  {
   "cell_type": "code",
   "execution_count": 195,
   "id": "vocal-exclusion",
   "metadata": {},
   "outputs": [
    {
     "data": {
      "text/html": [
       "<div>\n",
       "<style scoped>\n",
       "    .dataframe tbody tr th:only-of-type {\n",
       "        vertical-align: middle;\n",
       "    }\n",
       "\n",
       "    .dataframe tbody tr th {\n",
       "        vertical-align: top;\n",
       "    }\n",
       "\n",
       "    .dataframe thead th {\n",
       "        text-align: right;\n",
       "    }\n",
       "</style>\n",
       "<table border=\"1\" class=\"dataframe\">\n",
       "  <thead>\n",
       "    <tr style=\"text-align: right;\">\n",
       "      <th></th>\n",
       "      <th>Neighborhood</th>\n",
       "      <th>City</th>\n",
       "      <th>State</th>\n",
       "      <th>med_2011</th>\n",
       "      <th>med_2014</th>\n",
       "      <th>Increase</th>\n",
       "    </tr>\n",
       "  </thead>\n",
       "  <tbody>\n",
       "    <tr>\n",
       "      <th>0</th>\n",
       "      <td>Northeast Dallas</td>\n",
       "      <td>Dallas</td>\n",
       "      <td>TX</td>\n",
       "      <td>825.0</td>\n",
       "      <td>985.0</td>\n",
       "      <td>160.0</td>\n",
       "    </tr>\n",
       "    <tr>\n",
       "      <th>1</th>\n",
       "      <td>Paradise</td>\n",
       "      <td>Las Vegas</td>\n",
       "      <td>NV</td>\n",
       "      <td>900.0</td>\n",
       "      <td>1100.0</td>\n",
       "      <td>200.0</td>\n",
       "    </tr>\n",
       "    <tr>\n",
       "      <th>2</th>\n",
       "      <td>Maryvale</td>\n",
       "      <td>Phoenix</td>\n",
       "      <td>AZ</td>\n",
       "      <td>795.0</td>\n",
       "      <td>850.0</td>\n",
       "      <td>55.0</td>\n",
       "    </tr>\n",
       "    <tr>\n",
       "      <th>3</th>\n",
       "      <td>Upper West Side</td>\n",
       "      <td>New York</td>\n",
       "      <td>NY</td>\n",
       "      <td>2795.0</td>\n",
       "      <td>3300.0</td>\n",
       "      <td>505.0</td>\n",
       "    </tr>\n",
       "    <tr>\n",
       "      <th>4</th>\n",
       "      <td>South Los Angeles</td>\n",
       "      <td>Los Angeles</td>\n",
       "      <td>CA</td>\n",
       "      <td>1150.0</td>\n",
       "      <td>1400.0</td>\n",
       "      <td>250.0</td>\n",
       "    </tr>\n",
       "  </tbody>\n",
       "</table>\n",
       "</div>"
      ],
      "text/plain": [
       "        Neighborhood         City State  med_2011  med_2014  Increase\n",
       "0   Northeast Dallas       Dallas    TX     825.0     985.0     160.0\n",
       "1           Paradise    Las Vegas    NV     900.0    1100.0     200.0\n",
       "2           Maryvale      Phoenix    AZ     795.0     850.0      55.0\n",
       "3    Upper West Side     New York    NY    2795.0    3300.0     505.0\n",
       "4  South Los Angeles  Los Angeles    CA    1150.0    1400.0     250.0"
      ]
     },
     "execution_count": 195,
     "metadata": {},
     "output_type": "execute_result"
    }
   ],
   "source": [
    "pandas_add_increase_column(rent_df)"
   ]
  },
  {
   "cell_type": "code",
   "execution_count": 207,
   "id": "valid-science",
   "metadata": {},
   "outputs": [],
   "source": [
    "def pandas_max_rent(df):\n",
    "    '''Returns a new pandas DataFrame that contains every city and the highest\n",
    "    median rent from that city for 2011 and 2014.\n",
    "\n",
    "    Note that city names are not unique so the state is tracked as well.\n",
    "    For example, Portland, ME and Portland, OR are recognized as different.\n",
    "\n",
    "    Parameters\n",
    "    ----------\n",
    "    df: Pandas DataFrame\n",
    "\n",
    "    Returns\n",
    "    -------\n",
    "    Pandas DataFrame:\n",
    "        Containing the columns: City, State, med_2011, med_2014\n",
    "    '''\n",
    "    return df.groupby(['City','State']).max()[['med_2011','med_2014']].head()"
   ]
  },
  {
   "cell_type": "code",
   "execution_count": 209,
   "id": "terminal-stranger",
   "metadata": {
    "scrolled": true
   },
   "outputs": [
    {
     "data": {
      "text/html": [
       "<div>\n",
       "<style scoped>\n",
       "    .dataframe tbody tr th:only-of-type {\n",
       "        vertical-align: middle;\n",
       "    }\n",
       "\n",
       "    .dataframe tbody tr th {\n",
       "        vertical-align: top;\n",
       "    }\n",
       "\n",
       "    .dataframe thead th {\n",
       "        text-align: right;\n",
       "    }\n",
       "</style>\n",
       "<table border=\"1\" class=\"dataframe\">\n",
       "  <thead>\n",
       "    <tr style=\"text-align: right;\">\n",
       "      <th></th>\n",
       "      <th></th>\n",
       "      <th>med_2011</th>\n",
       "      <th>med_2014</th>\n",
       "    </tr>\n",
       "    <tr>\n",
       "      <th>City</th>\n",
       "      <th>State</th>\n",
       "      <th></th>\n",
       "      <th></th>\n",
       "    </tr>\n",
       "  </thead>\n",
       "  <tbody>\n",
       "    <tr>\n",
       "      <th>Akron</th>\n",
       "      <th>OH</th>\n",
       "      <td>690.0</td>\n",
       "      <td>725.0</td>\n",
       "    </tr>\n",
       "    <tr>\n",
       "      <th>Albany</th>\n",
       "      <th>NY</th>\n",
       "      <td>NaN</td>\n",
       "      <td>952.0</td>\n",
       "    </tr>\n",
       "    <tr>\n",
       "      <th>Albuquerque</th>\n",
       "      <th>NM</th>\n",
       "      <td>1099.0</td>\n",
       "      <td>1150.0</td>\n",
       "    </tr>\n",
       "    <tr>\n",
       "      <th>Alexandria</th>\n",
       "      <th>VA</th>\n",
       "      <td>2155.0</td>\n",
       "      <td>2250.0</td>\n",
       "    </tr>\n",
       "    <tr>\n",
       "      <th>Amherst</th>\n",
       "      <th>MA</th>\n",
       "      <td>NaN</td>\n",
       "      <td>NaN</td>\n",
       "    </tr>\n",
       "    <tr>\n",
       "      <th>...</th>\n",
       "      <th>...</th>\n",
       "      <td>...</td>\n",
       "      <td>...</td>\n",
       "    </tr>\n",
       "    <tr>\n",
       "      <th>Westhampton Beach</th>\n",
       "      <th>NY</th>\n",
       "      <td>65000.0</td>\n",
       "      <td>53900.0</td>\n",
       "    </tr>\n",
       "    <tr>\n",
       "      <th>Weymouth</th>\n",
       "      <th>MA</th>\n",
       "      <td>1124.0</td>\n",
       "      <td>1415.0</td>\n",
       "    </tr>\n",
       "    <tr>\n",
       "      <th>Wichita</th>\n",
       "      <th>KS</th>\n",
       "      <td>550.0</td>\n",
       "      <td>925.0</td>\n",
       "    </tr>\n",
       "    <tr>\n",
       "      <th>Wynnewood</th>\n",
       "      <th>PA</th>\n",
       "      <td>NaN</td>\n",
       "      <td>NaN</td>\n",
       "    </tr>\n",
       "    <tr>\n",
       "      <th>Youngstown</th>\n",
       "      <th>OH</th>\n",
       "      <td>NaN</td>\n",
       "      <td>500.0</td>\n",
       "    </tr>\n",
       "  </tbody>\n",
       "</table>\n",
       "<p>177 rows × 2 columns</p>\n",
       "</div>"
      ],
      "text/plain": [
       "                         med_2011  med_2014\n",
       "City              State                    \n",
       "Akron             OH        690.0     725.0\n",
       "Albany            NY          NaN     952.0\n",
       "Albuquerque       NM       1099.0    1150.0\n",
       "Alexandria        VA       2155.0    2250.0\n",
       "Amherst           MA          NaN       NaN\n",
       "...                           ...       ...\n",
       "Westhampton Beach NY      65000.0   53900.0\n",
       "Weymouth          MA       1124.0    1415.0\n",
       "Wichita           KS        550.0     925.0\n",
       "Wynnewood         PA          NaN       NaN\n",
       "Youngstown        OH          NaN     500.0\n",
       "\n",
       "[177 rows x 2 columns]"
      ]
     },
     "execution_count": 209,
     "metadata": {},
     "output_type": "execute_result"
    }
   ],
   "source": [
    "rent_df.groupby(['City','State']).aggregate(max)[['med_2011','med_2014']]"
   ]
  },
  {
   "cell_type": "code",
   "execution_count": 342,
   "id": "sublime-birmingham",
   "metadata": {},
   "outputs": [
    {
     "data": {
      "text/html": [
       "<div>\n",
       "<style scoped>\n",
       "    .dataframe tbody tr th:only-of-type {\n",
       "        vertical-align: middle;\n",
       "    }\n",
       "\n",
       "    .dataframe tbody tr th {\n",
       "        vertical-align: top;\n",
       "    }\n",
       "\n",
       "    .dataframe thead th {\n",
       "        text-align: right;\n",
       "    }\n",
       "</style>\n",
       "<table border=\"1\" class=\"dataframe\">\n",
       "  <thead>\n",
       "    <tr style=\"text-align: right;\">\n",
       "      <th></th>\n",
       "      <th></th>\n",
       "      <th>Neighborhood</th>\n",
       "      <th>med_2011</th>\n",
       "      <th>med_2014</th>\n",
       "      <th>Increase</th>\n",
       "    </tr>\n",
       "    <tr>\n",
       "      <th>City</th>\n",
       "      <th>State</th>\n",
       "      <th></th>\n",
       "      <th></th>\n",
       "      <th></th>\n",
       "      <th></th>\n",
       "    </tr>\n",
       "  </thead>\n",
       "  <tbody>\n",
       "    <tr>\n",
       "      <th>Akron</th>\n",
       "      <th>OH</th>\n",
       "      <td>West Akron</td>\n",
       "      <td>690.0</td>\n",
       "      <td>725.0</td>\n",
       "      <td>20.0</td>\n",
       "    </tr>\n",
       "    <tr>\n",
       "      <th>Albany</th>\n",
       "      <th>NY</th>\n",
       "      <td>West Hill</td>\n",
       "      <td>NaN</td>\n",
       "      <td>952.0</td>\n",
       "      <td>NaN</td>\n",
       "    </tr>\n",
       "    <tr>\n",
       "      <th>Albuquerque</th>\n",
       "      <th>NM</th>\n",
       "      <td>Westgate Hts</td>\n",
       "      <td>1099.0</td>\n",
       "      <td>1150.0</td>\n",
       "      <td>305.0</td>\n",
       "    </tr>\n",
       "    <tr>\n",
       "      <th>Alexandria</th>\n",
       "      <th>VA</th>\n",
       "      <td>Taylor Run</td>\n",
       "      <td>2155.0</td>\n",
       "      <td>2250.0</td>\n",
       "      <td>805.0</td>\n",
       "    </tr>\n",
       "    <tr>\n",
       "      <th>Amherst</th>\n",
       "      <th>MA</th>\n",
       "      <td>South Amherst</td>\n",
       "      <td>NaN</td>\n",
       "      <td>NaN</td>\n",
       "      <td>NaN</td>\n",
       "    </tr>\n",
       "    <tr>\n",
       "      <th>...</th>\n",
       "      <th>...</th>\n",
       "      <td>...</td>\n",
       "      <td>...</td>\n",
       "      <td>...</td>\n",
       "      <td>...</td>\n",
       "    </tr>\n",
       "    <tr>\n",
       "      <th>Westhampton Beach</th>\n",
       "      <th>NY</th>\n",
       "      <td>Westhampton Dunes</td>\n",
       "      <td>65000.0</td>\n",
       "      <td>53900.0</td>\n",
       "      <td>-11100.0</td>\n",
       "    </tr>\n",
       "    <tr>\n",
       "      <th>Weymouth</th>\n",
       "      <th>MA</th>\n",
       "      <td>South Weymouth</td>\n",
       "      <td>1124.0</td>\n",
       "      <td>1415.0</td>\n",
       "      <td>291.0</td>\n",
       "    </tr>\n",
       "    <tr>\n",
       "      <th>Wichita</th>\n",
       "      <th>KS</th>\n",
       "      <td>Sunnyside</td>\n",
       "      <td>550.0</td>\n",
       "      <td>925.0</td>\n",
       "      <td>375.0</td>\n",
       "    </tr>\n",
       "    <tr>\n",
       "      <th>Wynnewood</th>\n",
       "      <th>PA</th>\n",
       "      <td>Penn Wynne</td>\n",
       "      <td>NaN</td>\n",
       "      <td>NaN</td>\n",
       "      <td>NaN</td>\n",
       "    </tr>\n",
       "    <tr>\n",
       "      <th>Youngstown</th>\n",
       "      <th>OH</th>\n",
       "      <td>North Heights</td>\n",
       "      <td>NaN</td>\n",
       "      <td>500.0</td>\n",
       "      <td>NaN</td>\n",
       "    </tr>\n",
       "  </tbody>\n",
       "</table>\n",
       "<p>177 rows × 4 columns</p>\n",
       "</div>"
      ],
      "text/plain": [
       "                              Neighborhood  med_2011  med_2014  Increase\n",
       "City              State                                                 \n",
       "Akron             OH            West Akron     690.0     725.0      20.0\n",
       "Albany            NY             West Hill       NaN     952.0       NaN\n",
       "Albuquerque       NM          Westgate Hts    1099.0    1150.0     305.0\n",
       "Alexandria        VA            Taylor Run    2155.0    2250.0     805.0\n",
       "Amherst           MA         South Amherst       NaN       NaN       NaN\n",
       "...                                    ...       ...       ...       ...\n",
       "Westhampton Beach NY     Westhampton Dunes   65000.0   53900.0  -11100.0\n",
       "Weymouth          MA        South Weymouth    1124.0    1415.0     291.0\n",
       "Wichita           KS             Sunnyside     550.0     925.0     375.0\n",
       "Wynnewood         PA            Penn Wynne       NaN       NaN       NaN\n",
       "Youngstown        OH         North Heights       NaN     500.0       NaN\n",
       "\n",
       "[177 rows x 4 columns]"
      ]
     },
     "execution_count": 342,
     "metadata": {},
     "output_type": "execute_result"
    }
   ],
   "source": [
    "rent_df.groupby(['City','State']).aggregate(max)"
   ]
  },
  {
   "cell_type": "code",
   "execution_count": 208,
   "id": "union-corps",
   "metadata": {},
   "outputs": [
    {
     "data": {
      "text/html": [
       "<div>\n",
       "<style scoped>\n",
       "    .dataframe tbody tr th:only-of-type {\n",
       "        vertical-align: middle;\n",
       "    }\n",
       "\n",
       "    .dataframe tbody tr th {\n",
       "        vertical-align: top;\n",
       "    }\n",
       "\n",
       "    .dataframe thead th {\n",
       "        text-align: right;\n",
       "    }\n",
       "</style>\n",
       "<table border=\"1\" class=\"dataframe\">\n",
       "  <thead>\n",
       "    <tr style=\"text-align: right;\">\n",
       "      <th></th>\n",
       "      <th></th>\n",
       "      <th>med_2011</th>\n",
       "      <th>med_2014</th>\n",
       "    </tr>\n",
       "    <tr>\n",
       "      <th>City</th>\n",
       "      <th>State</th>\n",
       "      <th></th>\n",
       "      <th></th>\n",
       "    </tr>\n",
       "  </thead>\n",
       "  <tbody>\n",
       "    <tr>\n",
       "      <th>Akron</th>\n",
       "      <th>OH</th>\n",
       "      <td>690.0</td>\n",
       "      <td>725.0</td>\n",
       "    </tr>\n",
       "    <tr>\n",
       "      <th>Albany</th>\n",
       "      <th>NY</th>\n",
       "      <td>NaN</td>\n",
       "      <td>952.0</td>\n",
       "    </tr>\n",
       "    <tr>\n",
       "      <th>Albuquerque</th>\n",
       "      <th>NM</th>\n",
       "      <td>1099.0</td>\n",
       "      <td>1150.0</td>\n",
       "    </tr>\n",
       "    <tr>\n",
       "      <th>Alexandria</th>\n",
       "      <th>VA</th>\n",
       "      <td>2155.0</td>\n",
       "      <td>2250.0</td>\n",
       "    </tr>\n",
       "    <tr>\n",
       "      <th>Amherst</th>\n",
       "      <th>MA</th>\n",
       "      <td>NaN</td>\n",
       "      <td>NaN</td>\n",
       "    </tr>\n",
       "  </tbody>\n",
       "</table>\n",
       "</div>"
      ],
      "text/plain": [
       "                   med_2011  med_2014\n",
       "City        State                    \n",
       "Akron       OH        690.0     725.0\n",
       "Albany      NY          NaN     952.0\n",
       "Albuquerque NM       1099.0    1150.0\n",
       "Alexandria  VA       2155.0    2250.0\n",
       "Amherst     MA          NaN       NaN"
      ]
     },
     "execution_count": 208,
     "metadata": {},
     "output_type": "execute_result"
    }
   ],
   "source": [
    "pandas_max_rent(rent_df)"
   ]
  },
  {
   "cell_type": "markdown",
   "id": "structural-march",
   "metadata": {},
   "source": [
    "# Assessment 02 Practice"
   ]
  },
  {
   "cell_type": "code",
   "execution_count": 217,
   "id": "regional-shoot",
   "metadata": {},
   "outputs": [],
   "source": [
    "def roll_the_dice(n_simulations = 1000):\n",
    "    '''Two unbiased, six sided, dice are thrown one time and the sum of the\n",
    "    faces is observed (so if you rolled a 3 and a 1, the sum is 4). A\n",
    "    simulation estimates probability that the total score is an even number\n",
    "    or a number greater than 7.  This is an estimated probability, based on\n",
    "    rolling the two dice n_simulations times.\n",
    "\n",
    "    FOR FULL POINTS, THE FUNCTION MUST PERFORM A SIMULATION.\n",
    "\n",
    "    Parameters\n",
    "    ----------\n",
    "    n_simulations: float\n",
    "        Number of rolls of the dice\n",
    "\n",
    "    Returns\n",
    "    -------\n",
    "    float\n",
    "    '''\n",
    "    sample_space = [i+j for j in range(1,6+1) for i in range(1,6+1)]\n",
    "\n",
    "    simulation_result = []\n",
    "    for _ in range(10):\n",
    "        roll_sum = np.random.choice(sample_space)\n",
    "        if roll_sum % 2 == 0 or roll_sum > 7:\n",
    "            simulation_result.append(1)\n",
    "        else:\n",
    "            simulation_result.append(0)\n",
    "    \n",
    "    return sum(simulation_result)/len(simulation_result)\n"
   ]
  },
  {
   "cell_type": "code",
   "execution_count": 219,
   "id": "jewish-emperor",
   "metadata": {},
   "outputs": [
    {
     "data": {
      "text/plain": [
       "0.7"
      ]
     },
     "execution_count": 219,
     "metadata": {},
     "output_type": "execute_result"
    }
   ],
   "source": [
    "roll_the_dice()"
   ]
  },
  {
   "cell_type": "code",
   "execution_count": 240,
   "id": "amateur-signal",
   "metadata": {},
   "outputs": [],
   "source": [
    "def only_positive(arr):\n",
    "    '''Return a numpy array containing only the rows from arr where all\n",
    "    the values in that row are positive.\n",
    "\n",
    "    FOR FULL POINTS USE NUMPY METHODS AND NO LOOPS OR LIST COMPREHENSIONS.\n",
    "\n",
    "    Parameters\n",
    "    ----------\n",
    "    arr: Numpy Array (2-dimensional)\n",
    "\n",
    "    Returns\n",
    "    -------\n",
    "    NumPy Array (2-dimensional)\n",
    "\n",
    "    Example\n",
    "    =======\n",
    "    arr = np.array([\n",
    "        [1, -1, 2],\n",
    "        [3, 4, 2],\n",
    "        [-8, 4, -4]\n",
    "        ])\n",
    "    \n",
    "    only_positive(arr) returns:\n",
    "    np.array([[3, 4, 2]])\n",
    "    '''\n",
    "    return arr[(arr>0).all(axis=1)]"
   ]
  },
  {
   "cell_type": "code",
   "execution_count": 239,
   "id": "practical-bookmark",
   "metadata": {},
   "outputs": [
    {
     "data": {
      "text/plain": [
       "array([[3, 4, 2]])"
      ]
     },
     "execution_count": 239,
     "metadata": {},
     "output_type": "execute_result"
    }
   ],
   "source": [
    "arr = np.array([\n",
    "        [1, -1, 2],\n",
    "        [3, 4, 2],\n",
    "        [-8, 4, -4]\n",
    "        ])\n",
    "arr[(arr>0).all(axis=1)]"
   ]
  },
  {
   "cell_type": "code",
   "execution_count": 244,
   "id": "permanent-excitement",
   "metadata": {},
   "outputs": [
    {
     "data": {
      "text/plain": [
       "array([[3, 4, 2]])"
      ]
     },
     "execution_count": 244,
     "metadata": {},
     "output_type": "execute_result"
    }
   ],
   "source": [
    "arr[np.all(arr>0, axis=1)]"
   ]
  },
  {
   "cell_type": "code",
   "execution_count": 246,
   "id": "juvenile-traffic",
   "metadata": {},
   "outputs": [
    {
     "data": {
      "text/html": [
       "<div>\n",
       "<style scoped>\n",
       "    .dataframe tbody tr th:only-of-type {\n",
       "        vertical-align: middle;\n",
       "    }\n",
       "\n",
       "    .dataframe tbody tr th {\n",
       "        vertical-align: top;\n",
       "    }\n",
       "\n",
       "    .dataframe thead th {\n",
       "        text-align: right;\n",
       "    }\n",
       "</style>\n",
       "<table border=\"1\" class=\"dataframe\">\n",
       "  <thead>\n",
       "    <tr style=\"text-align: right;\">\n",
       "      <th></th>\n",
       "      <th>name</th>\n",
       "      <th>address</th>\n",
       "      <th>Website</th>\n",
       "      <th>Type</th>\n",
       "      <th>Size</th>\n",
       "    </tr>\n",
       "  </thead>\n",
       "  <tbody>\n",
       "    <tr>\n",
       "      <th>0</th>\n",
       "      <td>A T Still University of Health Sciences</td>\n",
       "      <td>800 W Jefferson, Kirksville, Missouri 63501</td>\n",
       "      <td>WWW.ATSU.EDU</td>\n",
       "      <td>4-year, Private not-for-profit</td>\n",
       "      <td>3480.0</td>\n",
       "    </tr>\n",
       "    <tr>\n",
       "      <th>1</th>\n",
       "      <td>Abilene Christian University</td>\n",
       "      <td>1600 Campus Court, Abilene, Texas 79699</td>\n",
       "      <td>www.acu.edu</td>\n",
       "      <td>4-year, Private not-for-profit</td>\n",
       "      <td>4669.0</td>\n",
       "    </tr>\n",
       "    <tr>\n",
       "      <th>2</th>\n",
       "      <td>Abraham Baldwin Agricultural College</td>\n",
       "      <td>2802 Moore Hwy, Tifton, Georgia 31793-2601</td>\n",
       "      <td>www.abac.edu</td>\n",
       "      <td>4-year, primarily associate's, Public</td>\n",
       "      <td>3600.0</td>\n",
       "    </tr>\n",
       "    <tr>\n",
       "      <th>3</th>\n",
       "      <td>Academy College</td>\n",
       "      <td>1101 E. 78th Street, Suite 100, Minneapolis, M...</td>\n",
       "      <td>www.academycollege.edu</td>\n",
       "      <td>4-year, primarily associate's, Private for-profit</td>\n",
       "      <td>165.0</td>\n",
       "    </tr>\n",
       "    <tr>\n",
       "      <th>4</th>\n",
       "      <td>Academy for Five Element Acupuncture</td>\n",
       "      <td>305 SE 2nd Ave, Gainesville, Florida 32601</td>\n",
       "      <td>www.acupuncturist.edu</td>\n",
       "      <td>4-year, Private not-for-profit</td>\n",
       "      <td>51.0</td>\n",
       "    </tr>\n",
       "  </tbody>\n",
       "</table>\n",
       "</div>"
      ],
      "text/plain": [
       "                                      name  \\\n",
       "0  A T Still University of Health Sciences   \n",
       "1             Abilene Christian University   \n",
       "2     Abraham Baldwin Agricultural College   \n",
       "3                          Academy College   \n",
       "4     Academy for Five Element Acupuncture   \n",
       "\n",
       "                                             address                 Website  \\\n",
       "0        800 W Jefferson, Kirksville, Missouri 63501            WWW.ATSU.EDU   \n",
       "1            1600 Campus Court, Abilene, Texas 79699             www.acu.edu   \n",
       "2         2802 Moore Hwy, Tifton, Georgia 31793-2601            www.abac.edu   \n",
       "3  1101 E. 78th Street, Suite 100, Minneapolis, M...  www.academycollege.edu   \n",
       "4         305 SE 2nd Ave, Gainesville, Florida 32601   www.acupuncturist.edu   \n",
       "\n",
       "                                                Type    Size  \n",
       "0                     4-year, Private not-for-profit  3480.0  \n",
       "1                     4-year, Private not-for-profit  4669.0  \n",
       "2              4-year, primarily associate's, Public  3600.0  \n",
       "3  4-year, primarily associate's, Private for-profit   165.0  \n",
       "4                     4-year, Private not-for-profit    51.0  "
      ]
     },
     "execution_count": 246,
     "metadata": {},
     "output_type": "execute_result"
    }
   ],
   "source": [
    "universities_df = pd.read_csv('/Users/mekdiyilma/Downloads/universities.csv')\n",
    "universities_df.head()"
   ]
  },
  {
   "cell_type": "code",
   "execution_count": 252,
   "id": "intense-wings",
   "metadata": {},
   "outputs": [],
   "source": [
    "def pandas_query(df):\n",
    "    '''Returns a DataFrame containing the average size of each university\n",
    "    type ordered by average size in ascending order.\n",
    "\n",
    "    Function assumes the input DataFrame contains these columns:\n",
    "        name, address, Website, Type, Size\n",
    "\n",
    "    Parameters\n",
    "    ----------\n",
    "    df: Pandas DataFrame\n",
    "\n",
    "    Returns\n",
    "    -------\n",
    "    Pandas DataFrame\n",
    "    '''\n",
    "    return df.groupby('Type').mean().sort_values(by='Size',ascending=True)"
   ]
  },
  {
   "cell_type": "code",
   "execution_count": 251,
   "id": "limiting-patrol",
   "metadata": {},
   "outputs": [
    {
     "data": {
      "text/html": [
       "<div>\n",
       "<style scoped>\n",
       "    .dataframe tbody tr th:only-of-type {\n",
       "        vertical-align: middle;\n",
       "    }\n",
       "\n",
       "    .dataframe tbody tr th {\n",
       "        vertical-align: top;\n",
       "    }\n",
       "\n",
       "    .dataframe thead th {\n",
       "        text-align: right;\n",
       "    }\n",
       "</style>\n",
       "<table border=\"1\" class=\"dataframe\">\n",
       "  <thead>\n",
       "    <tr style=\"text-align: right;\">\n",
       "      <th></th>\n",
       "      <th>Size</th>\n",
       "    </tr>\n",
       "    <tr>\n",
       "      <th>Type</th>\n",
       "      <th></th>\n",
       "    </tr>\n",
       "  </thead>\n",
       "  <tbody>\n",
       "    <tr>\n",
       "      <th>4-year, primarily associate's, Private for-profit</th>\n",
       "      <td>934.380597</td>\n",
       "    </tr>\n",
       "    <tr>\n",
       "      <th>4-year, primarily associate's, Private not-for-profit</th>\n",
       "      <td>1129.413793</td>\n",
       "    </tr>\n",
       "    <tr>\n",
       "      <th>4-year, Private not-for-profit</th>\n",
       "      <td>2399.885696</td>\n",
       "    </tr>\n",
       "    <tr>\n",
       "      <th>4-year, Private for-profit</th>\n",
       "      <td>3504.501859</td>\n",
       "    </tr>\n",
       "    <tr>\n",
       "      <th>4-year, primarily associate's, Public</th>\n",
       "      <td>6889.366197</td>\n",
       "    </tr>\n",
       "    <tr>\n",
       "      <th>4-year, Public</th>\n",
       "      <td>11478.913765</td>\n",
       "    </tr>\n",
       "  </tbody>\n",
       "</table>\n",
       "</div>"
      ],
      "text/plain": [
       "                                                            Size\n",
       "Type                                                            \n",
       "4-year, primarily associate's, Private for-profit     934.380597\n",
       "4-year, primarily associate's, Private not-for-...   1129.413793\n",
       "4-year, Private not-for-profit                       2399.885696\n",
       "4-year, Private for-profit                           3504.501859\n",
       "4-year, primarily associate's, Public                6889.366197\n",
       "4-year, Public                                      11478.913765"
      ]
     },
     "execution_count": 251,
     "metadata": {},
     "output_type": "execute_result"
    }
   ],
   "source": [
    "universities_df.groupby('Type').mean().sort_values(by='Size',ascending=True)"
   ]
  },
  {
   "cell_type": "code",
   "execution_count": null,
   "id": "aquatic-zealand",
   "metadata": {},
   "outputs": [],
   "source": []
  },
  {
   "cell_type": "code",
   "execution_count": 271,
   "id": "organized-greene",
   "metadata": {},
   "outputs": [
    {
     "data": {
      "text/html": [
       "<div>\n",
       "<style scoped>\n",
       "    .dataframe tbody tr th:only-of-type {\n",
       "        vertical-align: middle;\n",
       "    }\n",
       "\n",
       "    .dataframe tbody tr th {\n",
       "        vertical-align: top;\n",
       "    }\n",
       "\n",
       "    .dataframe thead th {\n",
       "        text-align: right;\n",
       "    }\n",
       "</style>\n",
       "<table border=\"1\" class=\"dataframe\">\n",
       "  <thead>\n",
       "    <tr style=\"text-align: right;\">\n",
       "      <th></th>\n",
       "      <th>name</th>\n",
       "      <th>address</th>\n",
       "      <th>Website</th>\n",
       "      <th>Type</th>\n",
       "      <th>Size</th>\n",
       "    </tr>\n",
       "  </thead>\n",
       "  <tbody>\n",
       "    <tr>\n",
       "      <th>1</th>\n",
       "      <td>Abilene Christian University</td>\n",
       "      <td>1600 Campus Court, Abilene, Texas 79699</td>\n",
       "      <td>www.acu.edu</td>\n",
       "      <td>4-year, Private not-for-profit</td>\n",
       "      <td>4669.0</td>\n",
       "    </tr>\n",
       "    <tr>\n",
       "      <th>4</th>\n",
       "      <td>Academy for Five Element Acupuncture</td>\n",
       "      <td>305 SE 2nd Ave, Gainesville, Florida 32601</td>\n",
       "      <td>www.acupuncturist.edu</td>\n",
       "      <td>4-year, Private not-for-profit</td>\n",
       "      <td>51.0</td>\n",
       "    </tr>\n",
       "    <tr>\n",
       "      <th>5</th>\n",
       "      <td>Academy of Art University</td>\n",
       "      <td>79 New Montgomery, San Francisco, California 9...</td>\n",
       "      <td>www.academyart.edu</td>\n",
       "      <td>4-year, Private for-profit</td>\n",
       "      <td>13181.0</td>\n",
       "    </tr>\n",
       "  </tbody>\n",
       "</table>\n",
       "</div>"
      ],
      "text/plain": [
       "                                   name  \\\n",
       "1          Abilene Christian University   \n",
       "4  Academy for Five Element Acupuncture   \n",
       "5             Academy of Art University   \n",
       "\n",
       "                                             address                Website  \\\n",
       "1            1600 Campus Court, Abilene, Texas 79699            www.acu.edu   \n",
       "4         305 SE 2nd Ave, Gainesville, Florida 32601  www.acupuncturist.edu   \n",
       "5  79 New Montgomery, San Francisco, California 9...     www.academyart.edu   \n",
       "\n",
       "                             Type     Size  \n",
       "1  4-year, Private not-for-profit   4669.0  \n",
       "4  4-year, Private not-for-profit     51.0  \n",
       "5      4-year, Private for-profit  13181.0  "
      ]
     },
     "execution_count": 271,
     "metadata": {},
     "output_type": "execute_result"
    }
   ],
   "source": [
    "universities_df.loc[[1,4,5]]"
   ]
  },
  {
   "cell_type": "code",
   "execution_count": 275,
   "id": "foreign-republican",
   "metadata": {},
   "outputs": [],
   "source": [
    "def return_loans_by_id(df):\n",
    "    '''\n",
    "    Takes a df and returns a df with only the requested loans.\n",
    "    \n",
    "    The dataframe’s index has been set to be the loan IDs (a string). \n",
    "    Your coworker asks you to retrieve all data for loans with the IDs '7484', '4423', and '9910'.\n",
    "\n",
    "    Write the code to extract these loans by their ID in a function called return_loans_by_id.\n",
    "\n",
    "    Parameters\n",
    "    ==========\n",
    "    df: Pandas DataFrame\n",
    "\n",
    "    Returns\n",
    "    =======\n",
    "    Pandas DataFrame\n",
    "    '''\n",
    "    df.loc[['7484', '4423', '9910'],:]"
   ]
  },
  {
   "cell_type": "code",
   "execution_count": 274,
   "id": "yellow-benjamin",
   "metadata": {},
   "outputs": [],
   "source": [
    "def return_loans(df):\n",
    "    '''\n",
    "    Takes a df and returns a df with only the requested loans. Another coworker tells you he has a \n",
    "    great memory and thinks that these loans are stored at the 0th, 1st, and 4th indices of the dataframe. \n",
    "    Use the correct pandas method to retrieve the requested rows from the dataframe.\n",
    "\n",
    "    Parameters\n",
    "    ==========\n",
    "    df: Pandas DataFrame\n",
    "\n",
    "    Returns\n",
    "    =======\n",
    "    Pandas DataFrame\n",
    "    '''\n",
    "    df.iloc[[0,1,4],:]"
   ]
  },
  {
   "cell_type": "code",
   "execution_count": 277,
   "id": "prepared-trailer",
   "metadata": {},
   "outputs": [
    {
     "data": {
      "text/plain": [
       "0.16728975359999998"
      ]
     },
     "execution_count": 277,
     "metadata": {},
     "output_type": "execute_result"
    }
   ],
   "source": [
    "1 - stats.binom(n=10,p=0.6).cdf(7)"
   ]
  },
  {
   "cell_type": "code",
   "execution_count": 278,
   "id": "close-butler",
   "metadata": {},
   "outputs": [
    {
     "data": {
      "text/plain": [
       "0.4"
      ]
     },
     "execution_count": 278,
     "metadata": {},
     "output_type": "execute_result"
    }
   ],
   "source": [
    "0.1/(0.1+0.15)"
   ]
  },
  {
   "cell_type": "code",
   "execution_count": 281,
   "id": "ranking-cleanup",
   "metadata": {},
   "outputs": [
    {
     "data": {
      "text/plain": [
       "0.375"
      ]
     },
     "execution_count": 281,
     "metadata": {},
     "output_type": "execute_result"
    }
   ],
   "source": [
    "stats.uniform(0, 4).cdf(2) - stats.uniform(0, 4).cdf(1) +\\\n",
    "stats.uniform(0, 4).cdf(4) - stats.uniform(0, 4).cdf(3.5)"
   ]
  },
  {
   "cell_type": "markdown",
   "id": "strange-madonna",
   "metadata": {},
   "source": [
    "# Assessment Review 3"
   ]
  },
  {
   "cell_type": "code",
   "execution_count": 283,
   "id": "primary-basket",
   "metadata": {},
   "outputs": [
    {
     "data": {
      "text/plain": [
       "0.9823182711198428"
      ]
     },
     "execution_count": 283,
     "metadata": {},
     "output_type": "execute_result"
    }
   ],
   "source": [
    "(0.25*0.4)/((0.25*0.4)+(0.003*0.6))"
   ]
  },
  {
   "cell_type": "code",
   "execution_count": 285,
   "id": "hourly-resource",
   "metadata": {},
   "outputs": [
    {
     "data": {
      "text/plain": [
       "31.0"
      ]
     },
     "execution_count": 285,
     "metadata": {},
     "output_type": "execute_result"
    }
   ],
   "source": [
    "sample_ages = [32, 34, 29, 29, 22, 39, 38, 37, 38, 36, 30, 26, 22, 22]\n",
    "np.mean(sample_ages)"
   ]
  },
  {
   "cell_type": "markdown",
   "id": "devoted-machine",
   "metadata": {},
   "source": [
    "Ho: $\\mu$ = 30\n",
    "\n",
    "Ha: $\\mu$ > 30\n",
    "\n",
    "$\\alpha$ = 0.05 "
   ]
  },
  {
   "cell_type": "code",
   "execution_count": 286,
   "id": "earned-checklist",
   "metadata": {},
   "outputs": [
    {
     "data": {
      "text/plain": [
       "0.6199304198780666"
      ]
     },
     "execution_count": 286,
     "metadata": {},
     "output_type": "execute_result"
    }
   ],
   "source": [
    "mu = 30\n",
    "x_bar = np.mean(sample_ages)\n",
    "se = np.sqrt(np.var(sample_ages)/len(sample_ages))\n",
    "z = (x_bar - mu)/se\n",
    "z"
   ]
  },
  {
   "cell_type": "code",
   "execution_count": 291,
   "id": "alternative-tobago",
   "metadata": {},
   "outputs": [
    {
     "data": {
      "text/plain": [
       "0.26765179862315036"
      ]
     },
     "execution_count": 291,
     "metadata": {},
     "output_type": "execute_result"
    }
   ],
   "source": [
    "1 - stats.norm(mu,se).cdf(x_bar)"
   ]
  },
  {
   "cell_type": "code",
   "execution_count": 292,
   "id": "current-signature",
   "metadata": {},
   "outputs": [
    {
     "data": {
      "text/plain": [
       "0.26765179862315036"
      ]
     },
     "execution_count": 292,
     "metadata": {},
     "output_type": "execute_result"
    }
   ],
   "source": [
    "1 - stats.norm().cdf(z)"
   ]
  },
  {
   "cell_type": "markdown",
   "id": "normal-tooth",
   "metadata": {},
   "source": [
    "Fail to reject Null"
   ]
  },
  {
   "cell_type": "code",
   "execution_count": 295,
   "id": "retained-vermont",
   "metadata": {},
   "outputs": [
    {
     "data": {
      "text/plain": [
       "Ttest_1sampResult(statistic=0.5973799001456603, pvalue=0.5605155888171379)"
      ]
     },
     "execution_count": 295,
     "metadata": {},
     "output_type": "execute_result"
    }
   ],
   "source": [
    "stats.ttest_1samp(sample_ages, 30)"
   ]
  },
  {
   "cell_type": "code",
   "execution_count": 296,
   "id": "several-skiing",
   "metadata": {},
   "outputs": [],
   "source": [
    "sample_space = [3, 4, 5, 7, 8, 10, 12, 13, 14, 15, 16, 18, 19, 21, 22, 23, 24, 25, 26, 31, 42, 60, 69, 86, 108, 256]"
   ]
  },
  {
   "cell_type": "code",
   "execution_count": null,
   "id": "touched-determination",
   "metadata": {},
   "outputs": [],
   "source": []
  },
  {
   "cell_type": "code",
   "execution_count": 306,
   "id": "composed-spray",
   "metadata": {},
   "outputs": [
    {
     "data": {
      "text/plain": [
       "(16.49937235251466, 55.577550724408425)"
      ]
     },
     "execution_count": 306,
     "metadata": {},
     "output_type": "execute_result"
    }
   ],
   "source": [
    "mean = np.mean(sample_space)\n",
    "var = np.var(sample_space)\n",
    "se = np.sqrt(var/len(sample_space))\n",
    "\n",
    "alpha = stats.norm(0,se).ppf(0.5-(.95/2))\n",
    "mean + alpha, mean - alpha"
   ]
  },
  {
   "cell_type": "code",
   "execution_count": 320,
   "id": "therapeutic-substitute",
   "metadata": {},
   "outputs": [
    {
     "data": {
      "text/plain": [
       "(16.49937235251465, 55.577550724408425)"
      ]
     },
     "execution_count": 320,
     "metadata": {},
     "output_type": "execute_result"
    }
   ],
   "source": [
    "mean = np.mean(sample_space)\n",
    "std = np.std(sample_space)\n",
    "se = std/np.sqrt(len(sample_space))\n",
    "\n",
    "low, high = stats.norm(mean,se).ppf([0.025,0.975])\n",
    "low, high"
   ]
  },
  {
   "cell_type": "code",
   "execution_count": 321,
   "id": "acting-wisconsin",
   "metadata": {},
   "outputs": [
    {
     "data": {
      "text/plain": [
       "array([19.72788462, 57.96923077])"
      ]
     },
     "execution_count": 321,
     "metadata": {},
     "output_type": "execute_result"
    }
   ],
   "source": [
    "bootstrap_sample_means = [np.mean(np.random.choice(sample_space, len(sample_space),True)) for _ in range(1000)]\n",
    "np.percentile(bootstrap_sample_means, [2.5,97.5])"
   ]
  },
  {
   "cell_type": "code",
   "execution_count": 322,
   "id": "prompt-soldier",
   "metadata": {},
   "outputs": [
    {
     "data": {
      "text/plain": [
       "(16.49937235251465, 55.577550724408425)"
      ]
     },
     "execution_count": 322,
     "metadata": {},
     "output_type": "execute_result"
    }
   ],
   "source": [
    "nums = [3, 4, 5, 7, 8, 10, 12, 13, 14, 15, 16, 18, 19, 21, 22, 23, 24, 25, 26, 31, 42, 60, 69, 86, 108, 256]\n",
    "\n",
    "mean = np.mean(nums)\n",
    "\n",
    "sigma = np.std(nums)\n",
    "\n",
    "stand_error = sigma/np.sqrt(len(nums))\n",
    "\n",
    "dist = stats.norm(mean, stand_error)\n",
    "\n",
    "low = dist.ppf(0.025) #or take 2 standard errros below the mean\n",
    "\n",
    "high = dist.ppf(0.975) #or take 2 standard errros above the mean\n",
    "\n",
    "low, high"
   ]
  },
  {
   "cell_type": "code",
   "execution_count": 323,
   "id": "incorporate-indianapolis",
   "metadata": {},
   "outputs": [
    {
     "data": {
      "text/plain": [
       "(19.324326923076924, 58.056730769230754)"
      ]
     },
     "execution_count": 323,
     "metadata": {},
     "output_type": "execute_result"
    }
   ],
   "source": [
    "means = [np.mean(np.random.choice(nums, size = len(nums))) for _ in range(1000)]\n",
    "\n",
    "low = np.percentile(means, 2.25)\n",
    "\n",
    "high = np.percentile(means, 97.5)\n",
    "\n",
    "low, high"
   ]
  },
  {
   "cell_type": "markdown",
   "id": "appropriate-moses",
   "metadata": {},
   "source": [
    "## Assessment 2 Review"
   ]
  },
  {
   "cell_type": "code",
   "execution_count": 325,
   "id": "floral-catalyst",
   "metadata": {},
   "outputs": [
    {
     "data": {
      "text/plain": [
       "0.3711630648201266"
      ]
     },
     "execution_count": 325,
     "metadata": {},
     "output_type": "execute_result"
    }
   ],
   "source": [
    "lmbda = 4\n",
    "k = 5\n",
    "1 - stats.poisson(mu=lmbda).cdf(k-1)"
   ]
  },
  {
   "cell_type": "markdown",
   "id": "victorian-boutique",
   "metadata": {},
   "source": [
    "# Extra"
   ]
  },
  {
   "cell_type": "code",
   "execution_count": 326,
   "id": "recreational-movement",
   "metadata": {},
   "outputs": [
    {
     "data": {
      "text/html": [
       "<div>\n",
       "<style scoped>\n",
       "    .dataframe tbody tr th:only-of-type {\n",
       "        vertical-align: middle;\n",
       "    }\n",
       "\n",
       "    .dataframe tbody tr th {\n",
       "        vertical-align: top;\n",
       "    }\n",
       "\n",
       "    .dataframe thead th {\n",
       "        text-align: right;\n",
       "    }\n",
       "</style>\n",
       "<table border=\"1\" class=\"dataframe\">\n",
       "  <thead>\n",
       "    <tr style=\"text-align: right;\">\n",
       "      <th></th>\n",
       "      <th>name</th>\n",
       "      <th>address</th>\n",
       "      <th>Website</th>\n",
       "      <th>Type</th>\n",
       "      <th>Size</th>\n",
       "    </tr>\n",
       "  </thead>\n",
       "  <tbody>\n",
       "    <tr>\n",
       "      <th>0</th>\n",
       "      <td>A T Still University of Health Sciences</td>\n",
       "      <td>800 W Jefferson, Kirksville, Missouri 63501</td>\n",
       "      <td>WWW.ATSU.EDU</td>\n",
       "      <td>4-year, Private not-for-profit</td>\n",
       "      <td>3480.0</td>\n",
       "    </tr>\n",
       "    <tr>\n",
       "      <th>1</th>\n",
       "      <td>Abilene Christian University</td>\n",
       "      <td>1600 Campus Court, Abilene, Texas 79699</td>\n",
       "      <td>www.acu.edu</td>\n",
       "      <td>4-year, Private not-for-profit</td>\n",
       "      <td>4669.0</td>\n",
       "    </tr>\n",
       "    <tr>\n",
       "      <th>2</th>\n",
       "      <td>Abraham Baldwin Agricultural College</td>\n",
       "      <td>2802 Moore Hwy, Tifton, Georgia 31793-2601</td>\n",
       "      <td>www.abac.edu</td>\n",
       "      <td>4-year, primarily associate's, Public</td>\n",
       "      <td>3600.0</td>\n",
       "    </tr>\n",
       "    <tr>\n",
       "      <th>3</th>\n",
       "      <td>Academy College</td>\n",
       "      <td>1101 E. 78th Street, Suite 100, Minneapolis, M...</td>\n",
       "      <td>www.academycollege.edu</td>\n",
       "      <td>4-year, primarily associate's, Private for-profit</td>\n",
       "      <td>165.0</td>\n",
       "    </tr>\n",
       "    <tr>\n",
       "      <th>4</th>\n",
       "      <td>Academy for Five Element Acupuncture</td>\n",
       "      <td>305 SE 2nd Ave, Gainesville, Florida 32601</td>\n",
       "      <td>www.acupuncturist.edu</td>\n",
       "      <td>4-year, Private not-for-profit</td>\n",
       "      <td>51.0</td>\n",
       "    </tr>\n",
       "  </tbody>\n",
       "</table>\n",
       "</div>"
      ],
      "text/plain": [
       "                                      name  \\\n",
       "0  A T Still University of Health Sciences   \n",
       "1             Abilene Christian University   \n",
       "2     Abraham Baldwin Agricultural College   \n",
       "3                          Academy College   \n",
       "4     Academy for Five Element Acupuncture   \n",
       "\n",
       "                                             address                 Website  \\\n",
       "0        800 W Jefferson, Kirksville, Missouri 63501            WWW.ATSU.EDU   \n",
       "1            1600 Campus Court, Abilene, Texas 79699             www.acu.edu   \n",
       "2         2802 Moore Hwy, Tifton, Georgia 31793-2601            www.abac.edu   \n",
       "3  1101 E. 78th Street, Suite 100, Minneapolis, M...  www.academycollege.edu   \n",
       "4         305 SE 2nd Ave, Gainesville, Florida 32601   www.acupuncturist.edu   \n",
       "\n",
       "                                                Type    Size  \n",
       "0                     4-year, Private not-for-profit  3480.0  \n",
       "1                     4-year, Private not-for-profit  4669.0  \n",
       "2              4-year, primarily associate's, Public  3600.0  \n",
       "3  4-year, primarily associate's, Private for-profit   165.0  \n",
       "4                     4-year, Private not-for-profit    51.0  "
      ]
     },
     "execution_count": 326,
     "metadata": {},
     "output_type": "execute_result"
    }
   ],
   "source": [
    "universities_df.head(5)"
   ]
  },
  {
   "cell_type": "code",
   "execution_count": 328,
   "id": "organic-masters",
   "metadata": {},
   "outputs": [
    {
     "data": {
      "text/html": [
       "<div>\n",
       "<style scoped>\n",
       "    .dataframe tbody tr th:only-of-type {\n",
       "        vertical-align: middle;\n",
       "    }\n",
       "\n",
       "    .dataframe tbody tr th {\n",
       "        vertical-align: top;\n",
       "    }\n",
       "\n",
       "    .dataframe thead th {\n",
       "        text-align: right;\n",
       "    }\n",
       "</style>\n",
       "<table border=\"1\" class=\"dataframe\">\n",
       "  <thead>\n",
       "    <tr style=\"text-align: right;\">\n",
       "      <th></th>\n",
       "      <th>name</th>\n",
       "      <th>address</th>\n",
       "      <th>Website</th>\n",
       "      <th>Type</th>\n",
       "      <th>Size</th>\n",
       "    </tr>\n",
       "  </thead>\n",
       "  <tbody>\n",
       "  </tbody>\n",
       "</table>\n",
       "</div>"
      ],
      "text/plain": [
       "Empty DataFrame\n",
       "Columns: [name, address, Website, Type, Size]\n",
       "Index: []"
      ]
     },
     "execution_count": 328,
     "metadata": {},
     "output_type": "execute_result"
    }
   ],
   "source": [
    "universities_df.head(7)[4:0]"
   ]
  },
  {
   "cell_type": "code",
   "execution_count": 343,
   "id": "integrated-vitamin",
   "metadata": {},
   "outputs": [
    {
     "ename": "SyntaxError",
     "evalue": "invalid syntax (<ipython-input-343-a503013cc872>, line 1)",
     "output_type": "error",
     "traceback": [
      "\u001b[0;36m  File \u001b[0;32m\"<ipython-input-343-a503013cc872>\"\u001b[0;36m, line \u001b[0;32m1\u001b[0m\n\u001b[0;31m    SELECT Type, avg(Size) As avg_size\u001b[0m\n\u001b[0m              ^\u001b[0m\n\u001b[0;31mSyntaxError\u001b[0m\u001b[0;31m:\u001b[0m invalid syntax\n"
     ]
    }
   ],
   "source": [
    "SELECT Type, avg(Size) As avg_size\n",
    "FROM universities\n",
    "GROUP BY Type\n",
    "ORDER BY 2 ASC;"
   ]
  },
  {
   "cell_type": "code",
   "execution_count": null,
   "id": "jewish-slovenia",
   "metadata": {},
   "outputs": [],
   "source": [
    "SELECT State, count(*)\n",
    "FROM farmersmarkets\n",
    "GROUP BY State\n",
    "HAVING WIC = Y\n",
    "OR WICcash = Y;"
   ]
  }
 ],
 "metadata": {
  "kernelspec": {
   "display_name": "Python 3",
   "language": "python",
   "name": "python3"
  },
  "language_info": {
   "codemirror_mode": {
    "name": "ipython",
    "version": 3
   },
   "file_extension": ".py",
   "mimetype": "text/x-python",
   "name": "python",
   "nbconvert_exporter": "python",
   "pygments_lexer": "ipython3",
   "version": "3.7.7"
  }
 },
 "nbformat": 4,
 "nbformat_minor": 5
}
