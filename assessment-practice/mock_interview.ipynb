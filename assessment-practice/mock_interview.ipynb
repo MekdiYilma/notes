{
 "cells": [
  {
   "cell_type": "code",
   "execution_count": 16,
   "id": "round-occasion",
   "metadata": {},
   "outputs": [],
   "source": [
    "import numpy as np\n",
    "import pandas as pd\n",
    "from scipy import stats "
   ]
  },
  {
   "cell_type": "code",
   "execution_count": 29,
   "id": "directed-summer",
   "metadata": {},
   "outputs": [
    {
     "name": "stdout",
     "output_type": "stream",
     "text": [
      "1\n",
      "13\n",
      "34\n"
     ]
    }
   ],
   "source": [
    "\n",
    "# Your previous Plain Text content is preserved below:\n",
    "# \n",
    "# Return the nth number in the Fibonacci sequence. \n",
    "# \n",
    "# The Fibonacci numbers are the numbers in the following integer sequence:\n",
    "# 0, 1, 1, 2, 3, 5, 8, 13, 21, 34, 55, 89, 144 ...\n",
    "# \n",
    "# #Example\n",
    "# fibonacci(3) = 1\n",
    "# fibonacci(5) = 3\n",
    "\n",
    "\n",
    "# 1 2 3 4 \n",
    "# 1: 0 \n",
    "# 2: 1\n",
    "# first = 21\n",
    "# second = 34\n",
    "# 0 + 1   \n",
    "\n",
    "def fibonacci(n):\n",
    "    first = 0\n",
    "    second = 1\n",
    "    fibonacci_ = 0\n",
    "    \n",
    "    if n == 0:\n",
    "        fibonacci_ = None\n",
    "    elif n == 1:\n",
    "        fibonacci_ = first\n",
    "    elif n == 2:\n",
    "        fibonacci_ = second\n",
    "    \n",
    "    for idx in range(3, n+1): \n",
    "        if idx % 2 == 1:\n",
    "            first = first + second\n",
    "            fibonacci_ = first \n",
    "        else: \n",
    "            second = first + second\n",
    "            fibonacci_ = second\n",
    "\n",
    "    return fibonacci_\n",
    "\n",
    "print(fibonacci(3))\n",
    "print(fibonacci(8) )\n",
    "print(fibonacci(10))"
   ]
  },
  {
   "cell_type": "code",
   "execution_count": null,
   "id": "forward-frontier",
   "metadata": {},
   "outputs": [],
   "source": []
  },
  {
   "cell_type": "code",
   "execution_count": null,
   "id": "worth-mechanism",
   "metadata": {},
   "outputs": [],
   "source": []
  },
  {
   "cell_type": "code",
   "execution_count": null,
   "id": "artistic-consent",
   "metadata": {},
   "outputs": [],
   "source": []
  },
  {
   "cell_type": "code",
   "execution_count": null,
   "id": "outside-playlist",
   "metadata": {},
   "outputs": [],
   "source": []
  },
  {
   "cell_type": "code",
   "execution_count": null,
   "id": "actual-mother",
   "metadata": {},
   "outputs": [],
   "source": []
  },
  {
   "cell_type": "code",
   "execution_count": null,
   "id": "visible-patio",
   "metadata": {},
   "outputs": [],
   "source": []
  },
  {
   "cell_type": "code",
   "execution_count": null,
   "id": "organic-fraction",
   "metadata": {},
   "outputs": [],
   "source": []
  },
  {
   "cell_type": "code",
   "execution_count": null,
   "id": "indonesian-biotechnology",
   "metadata": {},
   "outputs": [],
   "source": []
  },
  {
   "cell_type": "code",
   "execution_count": null,
   "id": "available-platform",
   "metadata": {},
   "outputs": [],
   "source": []
  },
  {
   "cell_type": "code",
   "execution_count": null,
   "id": "military-charter",
   "metadata": {},
   "outputs": [],
   "source": []
  },
  {
   "cell_type": "code",
   "execution_count": null,
   "id": "convinced-means",
   "metadata": {},
   "outputs": [],
   "source": []
  },
  {
   "cell_type": "code",
   "execution_count": 50,
   "id": "developmental-blues",
   "metadata": {},
   "outputs": [
    {
     "name": "stdout",
     "output_type": "stream",
     "text": [
      "3\n"
     ]
    }
   ],
   "source": [
    "def fib(n):\n",
    "    if(n <= 1):\n",
    "        return 0;\n",
    "    if(n == 2):\n",
    "        return 1;\n",
    "    return fib(n-1) + fib(n-2)\n",
    "\n",
    "print(fib(5))"
   ]
  },
  {
   "cell_type": "code",
   "execution_count": null,
   "id": "transsexual-interview",
   "metadata": {},
   "outputs": [],
   "source": []
  },
  {
   "cell_type": "code",
   "execution_count": null,
   "id": "young-silver",
   "metadata": {},
   "outputs": [],
   "source": []
  }
 ],
 "metadata": {
  "kernelspec": {
   "display_name": "Python 3",
   "language": "python",
   "name": "python3"
  },
  "language_info": {
   "codemirror_mode": {
    "name": "ipython",
    "version": 3
   },
   "file_extension": ".py",
   "mimetype": "text/x-python",
   "name": "python",
   "nbconvert_exporter": "python",
   "pygments_lexer": "ipython3",
   "version": "3.7.7"
  }
 },
 "nbformat": 4,
 "nbformat_minor": 5
}
