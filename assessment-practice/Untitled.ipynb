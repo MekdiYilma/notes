{
 "cells": [
  {
   "cell_type": "code",
   "execution_count": 14,
   "metadata": {},
   "outputs": [],
   "source": [
    "from sklearn.linear_model import LinearRegression\n",
    "import numpy as np\n",
    "\n",
    "def linear_regression(X_train, y_train, X_test, y_test):\n",
    "    '''\n",
    "    Fit a linear regression model with X_train and y_train using\n",
    "    scikit-learn, and return the beta coefficients. Then calculate and\n",
    "    return the R^2 value using X_test and y_test.\n",
    "\n",
    "    Parameters\n",
    "    ----------\n",
    "    X_train: NumPy Array (size: N x P)\n",
    "    y_train: NumPy Array (size: N x 1)\n",
    "    X_test: NumPy Array (size: M x P)\n",
    "    y_test: NumPy Array (size: M x 1)\n",
    "\n",
    "    Returns\n",
    "    -------\n",
    "    tuple of floats, float\n",
    "        The tuple contains the beta coefficients of the fit model, and the\n",
    "        remaining float is the R^2 value of the test data using that model.\n",
    "\n",
    "    Note\n",
    "    ----\n",
    "    The R^2 statistic, also known as the coefficient of determination, is a\n",
    "    popular measure of fit for a linear regression model.  If you need a\n",
    "    refresher, this wikipedia page should help:\n",
    "    https://en.wikipedia.org/wiki/Coefficient_of_determination\n",
    "    '''\n",
    "    reg = LinearRegression().fit(X_train, y_train)\n",
    "    y_pred = reg.predict(X_test)\n",
    "    rss = np.sum((y_test - y_pred)**2)\n",
    "    tss = np.sum((y_test - np.mean(y_test))**2)\n",
    "    r2 = 1 - (rss/tss)\n",
    "    return reg.coef_, reg.score(X_train,y_train)\n",
    "    "
   ]
  },
  {
   "cell_type": "code",
   "execution_count": 15,
   "metadata": {},
   "outputs": [
    {
     "name": "stderr",
     "output_type": "stream",
     "text": [
      "/opt/anaconda3/lib/python3.7/site-packages/ipykernel_launcher.py:34: RuntimeWarning: divide by zero encountered in double_scalars\n"
     ]
    },
    {
     "data": {
      "text/plain": [
       "(array([1., 2.]), 1.0)"
      ]
     },
     "execution_count": 15,
     "metadata": {},
     "output_type": "execute_result"
    }
   ],
   "source": [
    "X = np.array([[1, 1], [1, 2], [2, 2], [2, 3]])\n",
    "y = np.dot(X, np.array([1, 2])) + 3\n",
    "\n",
    "linear_regression(X, y,  np.array([[3, 5]]), [16.])"
   ]
  },
  {
   "cell_type": "code",
   "execution_count": 1,
   "metadata": {},
   "outputs": [],
   "source": [
    "from tensorflow import keras"
   ]
  },
  {
   "cell_type": "code",
   "execution_count": null,
   "metadata": {},
   "outputs": [],
   "source": []
  }
 ],
 "metadata": {
  "kernelspec": {
   "display_name": "Python 3",
   "language": "python",
   "name": "python3"
  },
  "language_info": {
   "codemirror_mode": {
    "name": "ipython",
    "version": 3
   },
   "file_extension": ".py",
   "mimetype": "text/x-python",
   "name": "python",
   "nbconvert_exporter": "python",
   "pygments_lexer": "ipython3",
   "version": "3.5.2"
  }
 },
 "nbformat": 4,
 "nbformat_minor": 5
}
