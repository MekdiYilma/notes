{
 "cells": [
  {
   "cell_type": "code",
   "execution_count": 1,
   "metadata": {},
   "outputs": [],
   "source": [
    "import numpy as np\n",
    "import pandas as pd\n",
    "from scipy import stats\n",
    "import matplotlib.pyplot as plt\n",
    "\n",
    "plt.style.use('ggplot')"
   ]
  },
  {
   "cell_type": "code",
   "execution_count": null,
   "metadata": {},
   "outputs": [],
   "source": [
    "def roll_the_dice(n_simulations = 1000):\n",
    "    '''Two unbiased, six sided, dice are thrown one time and the sum of the\n",
    "    faces is observed (so if you rolled a 3 and a 1, the sum is 4). A\n",
    "    simulation estimates probability that the total score is an even number\n",
    "    or a number greater than 7.  This is an estimated probability, based on\n",
    "    rolling the two dice n_simulations times.\n",
    "\n",
    "    FOR FULL POINTS, THE FUNCTION MUST PERFORM A SIMULATION.\n",
    "\n",
    "    Parameters\n",
    "    ----------\n",
    "    n_simulations: float\n",
    "        Number of rolls of the dice\n",
    "\n",
    "    Returns\n",
    "    -------\n",
    "    float\n",
    "    '''\n",
    "    pass"
   ]
  },
  {
   "cell_type": "code",
   "execution_count": 62,
   "metadata": {},
   "outputs": [
    {
     "data": {
      "text/plain": [
       "0.6"
      ]
     },
     "execution_count": 62,
     "metadata": {},
     "output_type": "execute_result"
    }
   ],
   "source": [
    "result = []\n",
    "\n",
    "for _ in range(10):\n",
    "    sum_ = np.random.randint(1,6) + np.random.randint(1,6)\n",
    "    if sum_ % 2 == 0 or sum_ > 7:\n",
    "        result.append(0)\n",
    "    else:\n",
    "        result.append(1)\n",
    "\n",
    "sum(result)/len(result)"
   ]
  },
  {
   "cell_type": "code",
   "execution_count": 76,
   "metadata": {},
   "outputs": [
    {
     "data": {
      "text/plain": [
       "4"
      ]
     },
     "execution_count": 76,
     "metadata": {},
     "output_type": "execute_result"
    }
   ],
   "source": [
    "np.random.randint(1,6)"
   ]
  },
  {
   "cell_type": "code",
   "execution_count": null,
   "metadata": {},
   "outputs": [],
   "source": [
    "[0 if sum_ % 2 == 0 or sum_ > 7 else 1 ]"
   ]
  },
  {
   "cell_type": "code",
   "execution_count": 60,
   "metadata": {},
   "outputs": [
    {
     "data": {
      "text/plain": [
       "36"
      ]
     },
     "execution_count": 60,
     "metadata": {},
     "output_type": "execute_result"
    }
   ],
   "source": [
    "sample_space = np.array([i+j for i in range(1,6+1) for j in range(1,6+1)])\n",
    "# for n in range(10):\n",
    "#     sum_ = np.random.choice(sample_space, 1)\n",
    "#     print(sum_)\n",
    "unique, counts = np.unique(sample_space, return_counts=True)\n",
    "d = dict(zip(unique, counts))\n",
    "\n",
    "va = []\n",
    "for k, v in d.items():\n",
    "    va.append(v)\n"
   ]
  },
  {
   "cell_type": "code",
   "execution_count": 87,
   "metadata": {},
   "outputs": [
    {
     "data": {
      "text/plain": [
       "71.42857142857143"
      ]
     },
     "execution_count": 87,
     "metadata": {},
     "output_type": "execute_result"
    }
   ],
   "source": [
    "import numpy as np\n",
    "assessment_scores = np.array([\n",
    "    [20,40],\n",
    "    [40,60],\n",
    "    [35,50],\n",
    "    [50,50],\n",
    "    [22, 26],\n",
    "    [44, 38],\n",
    "    [44, 52]\n",
    "])\n",
    "\n",
    "def return_percentage_greater_than_80(arr):\n",
    "  '''\n",
    "  Return the percentage of the rows in arr where the sum of the two values is greater than 80. \n",
    "  *You should use numpy to do this.* \n",
    "\n",
    "  Parameters\n",
    "  ==========\n",
    "  arr: 2 dimensional numpy array\n",
    "\n",
    "  Returns\n",
    "  ======\n",
    "  percentage: float\n",
    "  '''\n",
    "  return sum(arr.sum(axis=1) > 80) / len(arr) * 100\n",
    "return_percentage_greater_than_80(assessment_scores) "
   ]
  },
  {
   "cell_type": "code",
   "execution_count": 85,
   "metadata": {},
   "outputs": [
    {
     "data": {
      "text/plain": [
       "array([False,  True,  True,  True, False,  True,  True])"
      ]
     },
     "execution_count": 85,
     "metadata": {},
     "output_type": "execute_result"
    }
   ],
   "source": [
    "assessment_scores = np.array([\n",
    "    [20,40],\n",
    "    [40,60],\n",
    "    [35,50],\n",
    "    [50,50],\n",
    "    [22, 26],\n",
    "    [44, 38],\n",
    "    [44, 52]\n",
    "])\n",
    "\n",
    "np.sum(assessment_scores, axis=1) > 80"
   ]
  },
  {
   "cell_type": "code",
   "execution_count": 23,
   "metadata": {},
   "outputs": [
    {
     "data": {
      "text/plain": [
       "0.7142857142857143"
      ]
     },
     "execution_count": 23,
     "metadata": {},
     "output_type": "execute_result"
    }
   ],
   "source": [
    "return_percentage_greater_than_80(assessment_scores)"
   ]
  },
  {
   "cell_type": "code",
   "execution_count": null,
   "metadata": {},
   "outputs": [],
   "source": [
    "def only_positive(arr):\n",
    "    '''Return a numpy array containing only the rows from arr where all\n",
    "    the values in that row are positive.\n",
    "\n",
    "    FOR FULL POINTS USE NUMPY METHODS AND NO LOOPS OR LIST COMPREHENSIONS.\n",
    "\n",
    "    Parameters\n",
    "    ----------\n",
    "    arr: Numpy Array (2-dimensional)\n",
    "\n",
    "    Returns\n",
    "    -------\n",
    "    NumPy Array (2-dimensional)\n",
    "\n",
    "    Example\n",
    "    =======\n",
    "    arr = np.array([\n",
    "        [1, -1, 2],\n",
    "        [3, 4, 2],\n",
    "        [-8, 4, -4]\n",
    "        ])\n",
    "    \n",
    "    only_positive(arr) returns:\n",
    "    np.array([[3, 4, 2]])\n",
    "    '''\n",
    "    pass"
   ]
  },
  {
   "cell_type": "code",
   "execution_count": 33,
   "metadata": {},
   "outputs": [
    {
     "data": {
      "text/plain": [
       "array([[3, 4, 2]])"
      ]
     },
     "execution_count": 33,
     "metadata": {},
     "output_type": "execute_result"
    }
   ],
   "source": [
    "arr = np.array([\n",
    "        [1, -1, 2],\n",
    "        [3, 4, 2],\n",
    "        [-8, 4, -4]\n",
    "        ])\n",
    "arr[np.all(arr>0, axis=1)]"
   ]
  },
  {
   "cell_type": "code",
   "execution_count": 35,
   "metadata": {},
   "outputs": [],
   "source": [
    "import pandas\n",
    "df = pandas.read_csv(\"https://s3-us-west-2.amazonaws.com/learn-assets.galvanize.com/gSchool/ds-curriculum/sql-block/universities.csv\")\n",
    "\n",
    "def pandas_query(df):\n",
    "    '''Returns a DataFrame containing the average size of each university\n",
    "    type ordered by average size in ascending order.\n",
    "\n",
    "    Function assumes the input DataFrame contains these columns:\n",
    "        name, address, Website, Type, Size\n",
    "\n",
    "    Parameters\n",
    "    ----------\n",
    "    df: Pandas DataFrame\n",
    "\n",
    "    Returns\n",
    "    -------\n",
    "    Pandas DataFrame\n",
    "    '''\n",
    "    pass"
   ]
  },
  {
   "cell_type": "code",
   "execution_count": 36,
   "metadata": {},
   "outputs": [
    {
     "name": "stdout",
     "output_type": "stream",
     "text": [
      "assessment_2.ipynb  universities.csv\r\n"
     ]
    }
   ],
   "source": [
    "ls"
   ]
  },
  {
   "cell_type": "code",
   "execution_count": 37,
   "metadata": {},
   "outputs": [
    {
     "data": {
      "text/html": [
       "<div>\n",
       "<style scoped>\n",
       "    .dataframe tbody tr th:only-of-type {\n",
       "        vertical-align: middle;\n",
       "    }\n",
       "\n",
       "    .dataframe tbody tr th {\n",
       "        vertical-align: top;\n",
       "    }\n",
       "\n",
       "    .dataframe thead th {\n",
       "        text-align: right;\n",
       "    }\n",
       "</style>\n",
       "<table border=\"1\" class=\"dataframe\">\n",
       "  <thead>\n",
       "    <tr style=\"text-align: right;\">\n",
       "      <th></th>\n",
       "      <th>name</th>\n",
       "      <th>address</th>\n",
       "      <th>Website</th>\n",
       "      <th>Type</th>\n",
       "      <th>Size</th>\n",
       "    </tr>\n",
       "  </thead>\n",
       "  <tbody>\n",
       "    <tr>\n",
       "      <th>0</th>\n",
       "      <td>A T Still University of Health Sciences</td>\n",
       "      <td>800 W Jefferson, Kirksville, Missouri 63501</td>\n",
       "      <td>WWW.ATSU.EDU</td>\n",
       "      <td>4-year, Private not-for-profit</td>\n",
       "      <td>3480.0</td>\n",
       "    </tr>\n",
       "    <tr>\n",
       "      <th>1</th>\n",
       "      <td>Abilene Christian University</td>\n",
       "      <td>1600 Campus Court, Abilene, Texas 79699</td>\n",
       "      <td>www.acu.edu</td>\n",
       "      <td>4-year, Private not-for-profit</td>\n",
       "      <td>4669.0</td>\n",
       "    </tr>\n",
       "    <tr>\n",
       "      <th>2</th>\n",
       "      <td>Abraham Baldwin Agricultural College</td>\n",
       "      <td>2802 Moore Hwy, Tifton, Georgia 31793-2601</td>\n",
       "      <td>www.abac.edu</td>\n",
       "      <td>4-year, primarily associate's, Public</td>\n",
       "      <td>3600.0</td>\n",
       "    </tr>\n",
       "    <tr>\n",
       "      <th>3</th>\n",
       "      <td>Academy College</td>\n",
       "      <td>1101 E. 78th Street, Suite 100, Minneapolis, M...</td>\n",
       "      <td>www.academycollege.edu</td>\n",
       "      <td>4-year, primarily associate's, Private for-profit</td>\n",
       "      <td>165.0</td>\n",
       "    </tr>\n",
       "    <tr>\n",
       "      <th>4</th>\n",
       "      <td>Academy for Five Element Acupuncture</td>\n",
       "      <td>305 SE 2nd Ave, Gainesville, Florida 32601</td>\n",
       "      <td>www.acupuncturist.edu</td>\n",
       "      <td>4-year, Private not-for-profit</td>\n",
       "      <td>51.0</td>\n",
       "    </tr>\n",
       "  </tbody>\n",
       "</table>\n",
       "</div>"
      ],
      "text/plain": [
       "                                      name  \\\n",
       "0  A T Still University of Health Sciences   \n",
       "1             Abilene Christian University   \n",
       "2     Abraham Baldwin Agricultural College   \n",
       "3                          Academy College   \n",
       "4     Academy for Five Element Acupuncture   \n",
       "\n",
       "                                             address                 Website  \\\n",
       "0        800 W Jefferson, Kirksville, Missouri 63501            WWW.ATSU.EDU   \n",
       "1            1600 Campus Court, Abilene, Texas 79699             www.acu.edu   \n",
       "2         2802 Moore Hwy, Tifton, Georgia 31793-2601            www.abac.edu   \n",
       "3  1101 E. 78th Street, Suite 100, Minneapolis, M...  www.academycollege.edu   \n",
       "4         305 SE 2nd Ave, Gainesville, Florida 32601   www.acupuncturist.edu   \n",
       "\n",
       "                                                Type    Size  \n",
       "0                     4-year, Private not-for-profit  3480.0  \n",
       "1                     4-year, Private not-for-profit  4669.0  \n",
       "2              4-year, primarily associate's, Public  3600.0  \n",
       "3  4-year, primarily associate's, Private for-profit   165.0  \n",
       "4                     4-year, Private not-for-profit    51.0  "
      ]
     },
     "execution_count": 37,
     "metadata": {},
     "output_type": "execute_result"
    }
   ],
   "source": [
    "universities = pd.read_csv('universities.csv')\n",
    "universities.head()"
   ]
  },
  {
   "cell_type": "code",
   "execution_count": 44,
   "metadata": {},
   "outputs": [
    {
     "data": {
      "text/html": [
       "<div>\n",
       "<style scoped>\n",
       "    .dataframe tbody tr th:only-of-type {\n",
       "        vertical-align: middle;\n",
       "    }\n",
       "\n",
       "    .dataframe tbody tr th {\n",
       "        vertical-align: top;\n",
       "    }\n",
       "\n",
       "    .dataframe thead th {\n",
       "        text-align: right;\n",
       "    }\n",
       "</style>\n",
       "<table border=\"1\" class=\"dataframe\">\n",
       "  <thead>\n",
       "    <tr style=\"text-align: right;\">\n",
       "      <th></th>\n",
       "      <th>Size</th>\n",
       "    </tr>\n",
       "    <tr>\n",
       "      <th>name</th>\n",
       "      <th></th>\n",
       "    </tr>\n",
       "  </thead>\n",
       "  <tbody>\n",
       "    <tr>\n",
       "      <th>UPMC Presbyterian Shadyside Dietetic Internship</th>\n",
       "      <td>4.0</td>\n",
       "    </tr>\n",
       "    <tr>\n",
       "      <th>Ingalls Memorial Hospital Dietetic Internship</th>\n",
       "      <td>7.0</td>\n",
       "    </tr>\n",
       "    <tr>\n",
       "      <th>Lester E Cox Medical Center-School of Medical Technology</th>\n",
       "      <td>7.0</td>\n",
       "    </tr>\n",
       "    <tr>\n",
       "      <th>Yeshiva Toras Chaim Talmudical Seminary</th>\n",
       "      <td>7.0</td>\n",
       "    </tr>\n",
       "    <tr>\n",
       "      <th>St. Basil College</th>\n",
       "      <td>9.0</td>\n",
       "    </tr>\n",
       "    <tr>\n",
       "      <th>...</th>\n",
       "      <td>...</td>\n",
       "    </tr>\n",
       "    <tr>\n",
       "      <th>Washington State University-Spokane</th>\n",
       "      <td>NaN</td>\n",
       "    </tr>\n",
       "    <tr>\n",
       "      <th>Washington State University-Tri Cities</th>\n",
       "      <td>NaN</td>\n",
       "    </tr>\n",
       "    <tr>\n",
       "      <th>Washington State University-Vancouver</th>\n",
       "      <td>NaN</td>\n",
       "    </tr>\n",
       "    <tr>\n",
       "      <th>Western Seminary-Sacramento</th>\n",
       "      <td>NaN</td>\n",
       "    </tr>\n",
       "    <tr>\n",
       "      <th>Western Seminary-San Jose</th>\n",
       "      <td>NaN</td>\n",
       "    </tr>\n",
       "  </tbody>\n",
       "</table>\n",
       "<p>2830 rows × 1 columns</p>\n",
       "</div>"
      ],
      "text/plain": [
       "                                                    Size\n",
       "name                                                    \n",
       "UPMC Presbyterian Shadyside Dietetic Internship      4.0\n",
       "Ingalls Memorial Hospital Dietetic Internship        7.0\n",
       "Lester E Cox Medical Center-School of Medical T...   7.0\n",
       "Yeshiva Toras Chaim Talmudical Seminary              7.0\n",
       "St. Basil College                                    9.0\n",
       "...                                                  ...\n",
       "Washington State University-Spokane                  NaN\n",
       "Washington State University-Tri Cities               NaN\n",
       "Washington State University-Vancouver                NaN\n",
       "Western Seminary-Sacramento                          NaN\n",
       "Western Seminary-San Jose                            NaN\n",
       "\n",
       "[2830 rows x 1 columns]"
      ]
     },
     "execution_count": 44,
     "metadata": {},
     "output_type": "execute_result"
    }
   ],
   "source": [
    "universities.groupby('name').mean().sort_values(by='Size', ascending=True)"
   ]
  },
  {
   "cell_type": "code",
   "execution_count": 45,
   "metadata": {},
   "outputs": [],
   "source": [
    "import pandas as pd\n",
    "\n",
    "def return_loans_by_id(df):\n",
    "    '''\n",
    "    Takes a df and returns a df with only the requested loans.\n",
    "\n",
    "    Parameters\n",
    "    ==========\n",
    "    df: Pandas DataFrame\n",
    "\n",
    "    Returns\n",
    "    =======\n",
    "    Pandas DataFrame\n",
    "    '''\n",
    "    pass"
   ]
  },
  {
   "cell_type": "code",
   "execution_count": 46,
   "metadata": {},
   "outputs": [],
   "source": [
    "import pandas as pd\n",
    "\n",
    "def return_loans(df):\n",
    "    '''\n",
    "    Takes a df and returns a df with only the requested loans.\n",
    "\n",
    "    Parameters\n",
    "    ==========\n",
    "    df: Pandas DataFrame\n",
    "\n",
    "    Returns\n",
    "    =======\n",
    "    Pandas DataFrame\n",
    "    '''\n",
    "    pass"
   ]
  },
  {
   "cell_type": "code",
   "execution_count": 47,
   "metadata": {},
   "outputs": [
    {
     "data": {
      "text/plain": [
       "0.16728975359999998"
      ]
     },
     "execution_count": 47,
     "metadata": {},
     "output_type": "execute_result"
    }
   ],
   "source": [
    "n = 10\n",
    "p = 0.6\n",
    "k = 8\n",
    "1 - stats.binom(n,p).cdf(k-1)"
   ]
  },
  {
   "cell_type": "code",
   "execution_count": 50,
   "metadata": {},
   "outputs": [
    {
     "data": {
      "text/plain": [
       "0.375"
      ]
     },
     "execution_count": 50,
     "metadata": {},
     "output_type": "execute_result"
    }
   ],
   "source": [
    "a = 0\n",
    "b = 4\n",
    "\n",
    "stats.uniform(a, b).cdf(2) - stats.uniform(a, b).cdf(1) + stats.uniform(a, b).cdf(4) - stats.uniform(a, b).cdf(3.5)"
   ]
  },
  {
   "cell_type": "code",
   "execution_count": null,
   "metadata": {},
   "outputs": [],
   "source": []
  },
  {
   "cell_type": "code",
   "execution_count": null,
   "metadata": {},
   "outputs": [],
   "source": []
  }
 ],
 "metadata": {
  "kernelspec": {
   "display_name": "Python 3",
   "language": "python",
   "name": "python3"
  },
  "language_info": {
   "codemirror_mode": {
    "name": "ipython",
    "version": 3
   },
   "file_extension": ".py",
   "mimetype": "text/x-python",
   "name": "python",
   "nbconvert_exporter": "python",
   "pygments_lexer": "ipython3",
   "version": "3.7.7"
  }
 },
 "nbformat": 4,
 "nbformat_minor": 4
}
