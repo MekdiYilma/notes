{
 "cells": [
  {
   "cell_type": "code",
   "execution_count": 1,
   "id": "everyday-broadcast",
   "metadata": {},
   "outputs": [],
   "source": [
    "import numpy as np\n",
    "import pandas as pd\n",
    "from scipy import stats"
   ]
  },
  {
   "cell_type": "code",
   "execution_count": 7,
   "id": "blind-provider",
   "metadata": {},
   "outputs": [],
   "source": [
    "def divisible_by(arr, int1, int2):\n",
    "    '''Returns an array of the integers in arr that are divisible without\n",
    "    remainder by both int1 and int2.\n",
    "\n",
    "    Parameters\n",
    "    ----------\n",
    "    arr: NumPy array\n",
    "    int1, int2: int, int\n",
    "\n",
    "    Returns\n",
    "    -------\n",
    "    NumPy array\n",
    "\n",
    "    >>>divisible_by(np.array([0, 24, 3, 12, 18, 17]), 3, 4)\n",
    "    np.array([0, 24, 12])\n",
    "    '''\n",
    "    return arr[(arr % int1 == 0) & (arr % int2 == 0)]"
   ]
  },
  {
   "cell_type": "code",
   "execution_count": 6,
   "id": "surgical-wright",
   "metadata": {},
   "outputs": [
    {
     "data": {
      "text/plain": [
       "array([ 0, 24, 12])"
      ]
     },
     "execution_count": 6,
     "metadata": {},
     "output_type": "execute_result"
    }
   ],
   "source": [
    "arr = np.array([0, 24, 3, 12, 18, 17])\n",
    "arr[(arr % 2 == 0) & (arr % 12 == 0)]"
   ]
  },
  {
   "cell_type": "code",
   "execution_count": 8,
   "id": "going-performance",
   "metadata": {},
   "outputs": [
    {
     "data": {
      "text/plain": [
       "array([ 0, 24, 12])"
      ]
     },
     "execution_count": 8,
     "metadata": {},
     "output_type": "execute_result"
    }
   ],
   "source": [
    "divisible_by(arr, 3, 4)"
   ]
  },
  {
   "cell_type": "code",
   "execution_count": 13,
   "id": "deadly-sheep",
   "metadata": {},
   "outputs": [],
   "source": [
    "def calculate_t_test(sample1, sample2, type_I_error_rate):\n",
    "    '''Evaluates whether the two samples come from a population with the same\n",
    "    population mean.  Returns a tuple containing the p-value for\n",
    "    the pair of samples and True or False depending if the p-value is\n",
    "    considered significant at the provided Type I Error Rate (i.e. false\n",
    "    positive rate, i.e. alpha).\n",
    "    You may use imports for this question.\n",
    "    \n",
    "    Parameters\n",
    "    ----------\n",
    "    sample1, sample2: NumPy array, NumPy array\n",
    "    type_I_error rate: float\n",
    "    \n",
    "    Returns\n",
    "    -------\n",
    "    float, boolean\n",
    "    '''\n",
    "    _, p_val = stats.ttest_ind(sample1, sample2)\n",
    "    if p_val > type_I_error_rate:\n",
    "        conc = False\n",
    "    else:\n",
    "        conc = True\n",
    "    return p_val, conc"
   ]
  },
  {
   "cell_type": "code",
   "execution_count": 12,
   "id": "complete-vacation",
   "metadata": {},
   "outputs": [
    {
     "data": {
      "text/plain": [
       "Ttest_indResult(statistic=-0.4041154526136133, pvalue=0.6894327668886298)"
      ]
     },
     "execution_count": 12,
     "metadata": {},
     "output_type": "execute_result"
    }
   ],
   "source": [
    "sample1 = [32, 34, 29, 29, 22, 39, 38, 37, 38, 36, 30, 26, 22, 22]\n",
    "sample2 = [32, 34, 30, 29, 29, 39, 30, 37, 45, 36, 22, 29, 30, 25]\n",
    "\n",
    "stats.ttest_ind(sample1, sample2)"
   ]
  },
  {
   "cell_type": "code",
   "execution_count": 14,
   "id": "united-permission",
   "metadata": {},
   "outputs": [
    {
     "ename": "SyntaxError",
     "evalue": "invalid syntax (<ipython-input-14-542eaee1c1e4>, line 1)",
     "output_type": "error",
     "traceback": [
      "\u001b[0;36m  File \u001b[0;32m\"<ipython-input-14-542eaee1c1e4>\"\u001b[0;36m, line \u001b[0;32m1\u001b[0m\n\u001b[0;31m    SELECT *\u001b[0m\n\u001b[0m            ^\u001b[0m\n\u001b[0;31mSyntaxError\u001b[0m\u001b[0;31m:\u001b[0m invalid syntax\n"
     ]
    }
   ],
   "source": [
    "SELECT *\n",
    "FROM\n",
    "-- JOIN\n",
    "-- ON\n",
    "-- WHERE\n",
    "-- GROUP BY\n",
    "-- HAVING\n",
    "-- ORDER BY\n",
    "-- LIMIT\n",
    ";"
   ]
  },
  {
   "cell_type": "code",
   "execution_count": 15,
   "id": "acting-advancement",
   "metadata": {},
   "outputs": [
    {
     "data": {
      "text/plain": [
       "0.2"
      ]
     },
     "execution_count": 15,
     "metadata": {},
     "output_type": "execute_result"
    }
   ],
   "source": [
    "0.5*(0.05) + 0.25*(0.5) + 0.25*(.2)"
   ]
  },
  {
   "cell_type": "code",
   "execution_count": 16,
   "id": "viral-green",
   "metadata": {},
   "outputs": [
    {
     "data": {
      "text/plain": [
       "0.025"
      ]
     },
     "execution_count": 16,
     "metadata": {},
     "output_type": "execute_result"
    }
   ],
   "source": [
    "0.5*(0.05)"
   ]
  },
  {
   "cell_type": "code",
   "execution_count": 17,
   "id": "accurate-timothy",
   "metadata": {},
   "outputs": [
    {
     "data": {
      "text/plain": [
       "0.125"
      ]
     },
     "execution_count": 17,
     "metadata": {},
     "output_type": "execute_result"
    }
   ],
   "source": [
    "0.025/0.2"
   ]
  },
  {
   "cell_type": "code",
   "execution_count": null,
   "id": "breathing-hobby",
   "metadata": {},
   "outputs": [],
   "source": []
  }
 ],
 "metadata": {
  "kernelspec": {
   "display_name": "Python 3",
   "language": "python",
   "name": "python3"
  },
  "language_info": {
   "codemirror_mode": {
    "name": "ipython",
    "version": 3
   },
   "file_extension": ".py",
   "mimetype": "text/x-python",
   "name": "python",
   "nbconvert_exporter": "python",
   "pygments_lexer": "ipython3",
   "version": "3.7.7"
  }
 },
 "nbformat": 4,
 "nbformat_minor": 5
}
