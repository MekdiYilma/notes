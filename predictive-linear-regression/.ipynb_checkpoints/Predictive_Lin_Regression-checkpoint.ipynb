{
 "cells": [
  {
   "cell_type": "code",
   "execution_count": null,
   "metadata": {},
   "outputs": [],
   "source": [
    "import pandas as pd\n",
    "from pandas.plotting import scatter_matrix\n",
    "import numpy as np\n",
    "\n",
    "from glm.glm import GLM\n",
    "from glm.families import Gaussian, Bernoulli, Poisson, Gamma\n",
    "\n",
    "\n",
    "import statsmodels.formula.api as smf\n",
    "from helper_functions import linear_model_summary\n",
    "\n",
    "\n",
    "%matplotlib inline\n",
    "import matplotlib.pyplot as plt\n",
    "\n",
    "plt.style.use('fivethirtyeight')"
   ]
  },
  {
   "cell_type": "markdown",
   "metadata": {},
   "source": [
    "# Predictive Linear Regression \n",
    "\n",
    "Based on Dan Rupp's Lecture\n",
    "\n",
    "### The task of predicting quantities: in story form\n",
    "\n",
    "Let's start a business: **we estimate the fuel economy of cars.** People describe a car and pay us money, and we tell them the fuel economy (in miles per gallon) of their car.\n",
    "\n",
    "* The first customer comes in, and says, \"This is a very competitive field. Why should we pay you?\"\n",
    "* You say, \"We are very good at what we do.\"\n",
    "* They say, \"Your competitor says the same thing. Do you have evidence?\"\n",
    "\n",
    "Note two things.\n",
    "1. **You are competing against other models.**\n",
    "2. **Your model will be evaluated quantitatively.**\n",
    "\n",
    "So you say: \"We have analyzed all of our competitors's predictions. All their predictions have some error; the mean of their predictive errors is 5 mpg. We can do better.\"\n",
    "\n",
    "* Them: \"Ah, interesting. Prove it.\"\n",
    "* You: \"Describe a car.\"\n",
    "* Them: \"A 2020 hybrid Ford F250\"\n",
    "* You: \"Can't predict - that **that car isn't in our records**\"\n",
    "* Them: \"What good is that?\"\n",
    "* You: \"If you ask about an old car, we can predict it perfectly.\"\n",
    "* Them: \"And...why would we pay for that?\"\n",
    "* You: \"I don't know, but we are perfect.\"\n",
    "* Them: \"We'll go to your competitor instead.\"\n",
    "\n",
    "\n",
    "3. **The only performance that matters is predictive performance on unseen examples.**\n"
   ]
  },
  {
   "cell_type": "markdown",
   "metadata": {},
   "source": [
    "### Practical Examples of Linear Regression \n",
    "\n",
    "#### Based on the speed of your vehicle, how many feet do you need to move to come to a complete stop?\n",
    "<img class =“right” src=\"images/speed_stopping_distance.png\" style=\"width:400px;height:300px;\">\n",
    "\n",
    "#### How does advertising dollars spent effect a companies profits?\n",
    "<img class=\"left\" src=\"images/Marketing_v_sales.gif\" style=\"width:400px;height:300px;\">\n",
    "\n",
    "\n",
    "\n",
    "\n",
    "What are the X-axis and Y-axis?   \n",
    "\n",
    "What does the line represent?   "
   ]
  },
  {
   "cell_type": "markdown",
   "metadata": {},
   "source": [
    "### A linear regression:\n",
    " - Is a linear combination of coefficents and attributes.  Each coefficent represents a linear relationship between the feature and the target.\n",
    " \n",
    " For stopping distance:\n",
    " $$\n",
    " \\hat{y_i} = -10 + (18 \\times distance)\n",
    " $$\n",
    " \n",
    " For Advertising:\n",
    " $$\n",
    " \\hat{y_i} = 110 + (2 \\times add\\_dollars)\n",
    " $$"
   ]
  },
  {
   "cell_type": "code",
   "execution_count": null,
   "metadata": {},
   "outputs": [],
   "source": []
  },
  {
   "cell_type": "code",
   "execution_count": null,
   "metadata": {},
   "outputs": [],
   "source": []
  },
  {
   "cell_type": "markdown",
   "metadata": {},
   "source": [
    "<img src=\"images/Linear_Regression_coefficients.png\"> <!-- style=\"width:800px;height:400px;\"> -->"
   ]
  },
  {
   "cell_type": "markdown",
   "metadata": {},
   "source": [
    "### Terminology:   \n",
    "\n",
    "- **Dependent Variable** (dependent, target, $y$) - The value you are trying to predict or investigate.   \n",
    "- **Independent Variable** (values, features, $X$) - The data you are using to try to predict the target.\n",
    "    - Single observations of the independent variable/variables are denoted with the lower case $x$\n",
    "- **Fitting a Model** - For linear regression this is finding the line that best fits the training data.    \n",
    "- **Training Data** - Observations used to train a model (linear regression).   \n",
    "- **Prediction**  ( $\\hat{y}$  ) - An estimation of the target"
   ]
  },
  {
   "cell_type": "markdown",
   "metadata": {},
   "source": [
    "# Linear Regression\n",
    "\n",
    "<p>\n",
    "Models can be used for many purposes.  For the majority of the course, we focus on using models as predictive tools.  In those cases, getting the correct answer is more important than the information that the model avails to us, and as such, we are able to use models of increasing complexity (at the cost of transparency).  \n",
    "</p>\n",
    "\n",
    "<h2>An Initial Relationship.</h2>\n",
    "<p>\n",
    "We may intuitively know that smaller cars get better gas milage. Much less intuitive is the size of the effect, and how much this effect describes the difference in gas milage from car to car.\n",
    "</p>"
   ]
  },
  {
   "cell_type": "markdown",
   "metadata": {},
   "source": [
    "## Loading and Inspecting the Data"
   ]
  },
  {
   "cell_type": "markdown",
   "metadata": {},
   "source": [
    "For our example we will use a dataset dataset about various specimens of single species of insect collected across two continents.  The data was acquired from this question on CrossValidated, a statistics/data science question and answer site:\n",
    "\n",
    "[Multiple regression, full and restricted model](http://stats.stackexchange.com/q/267034/74500)\n",
    "\n",
    "We chose this dataset because it is small enough to be accessible, but has some interesting features for us to discover!\n",
    "\n",
    "We will be interested in explaining how the insects wing span varies, as influenced by the other measurements in our dataset."
   ]
  },
  {
   "cell_type": "markdown",
   "metadata": {},
   "source": [
    "We'd like to load the `insects` data into python.  Our first step is to take a quick look at the raw data."
   ]
  },
  {
   "cell_type": "code",
   "execution_count": null,
   "metadata": {},
   "outputs": [],
   "source": [
    "plt.style.use('ggplot')"
   ]
  },
  {
   "cell_type": "code",
   "execution_count": null,
   "metadata": {
    "scrolled": true
   },
   "outputs": [],
   "source": [
    "!head ./data/insects.csv"
   ]
  },
  {
   "cell_type": "markdown",
   "metadata": {},
   "source": [
    "It looks like there are four columns in our dataset:\n",
    "\n",
    "```\n",
    "continent, latitude, wingsize, and sex\n",
    "```\n",
    "\n",
    "Each data element is separated from the next by a tab character, so although it has the `.csv` extension, it is not comma separated."
   ]
  },
  {
   "cell_type": "code",
   "execution_count": null,
   "metadata": {},
   "outputs": [],
   "source": [
    "insects = pd.read_csv('./data/insects.csv', sep='\\t')\n",
    "insects.head()"
   ]
  },
  {
   "cell_type": "code",
   "execution_count": null,
   "metadata": {},
   "outputs": [],
   "source": [
    "insects.tail()"
   ]
  },
  {
   "cell_type": "markdown",
   "metadata": {},
   "source": [
    "We've got our four columns `continent, latitude, wingsize, and sex`.  \n",
    "\n",
    "We can see some short descriptions of their qualities using `info`:"
   ]
  },
  {
   "cell_type": "code",
   "execution_count": null,
   "metadata": {},
   "outputs": [],
   "source": [
    "insects.info()"
   ]
  },
  {
   "cell_type": "markdown",
   "metadata": {},
   "source": [
    "## Looking at the Data"
   ]
  },
  {
   "cell_type": "markdown",
   "metadata": {},
   "source": [
    "We can get a first feel for how the quantities in our data are spread out using some histograms."
   ]
  },
  {
   "cell_type": "code",
   "execution_count": null,
   "metadata": {},
   "outputs": [],
   "source": [
    "column_names = {\n",
    "    \"continent\": \"Continent\",\n",
    "    \"latitude\": \"Latitude\",\n",
    "    \"wingsize\": \"Wing Span\",\n",
    "    \"sex\": \"Sex\"\n",
    "}\n",
    "\n",
    "fig, axs = plt.subplots(2, 2, figsize=(10, 6))\n",
    "for ax, (column, name) in zip(axs.flatten(), column_names.items()):\n",
    "    ax.hist(insects[column])\n",
    "    ax.set_title(name)\n",
    "\n",
    "fig.tight_layout()"
   ]
  },
  {
   "cell_type": "markdown",
   "metadata": {},
   "source": [
    "**Discussion:** What have you learned form the data from these histograms?  How do they help you describe the data?"
   ]
  },
  {
   "cell_type": "markdown",
   "metadata": {},
   "source": [
    "Some observations:\n",
    "\n",
    "  - `continent` and `sex` take only two values.  There are two continents represented in the data, labeled zero and one, and there are two sexes (probably Male and Female), also labeled zero and one.\n",
    "  \n",
    "These zero/one columns are called **binary** or **indicator variables**, they measure a specific yes/no condition.\n",
    "\n",
    "  - The values of `wingspan` cluster into two distinct groups.  This is very interesting, and worthy of investigation."
   ]
  },
  {
   "cell_type": "markdown",
   "metadata": {},
   "source": [
    "## Scatterplots"
   ]
  },
  {
   "cell_type": "markdown",
   "metadata": {},
   "source": [
    "Histograms are useful, but limited, as they do not reveal anything about the *relationships between the columns in our data*.  To rectify this we turn to uncountably the most effective and flexible visualization, the **scatterplot**."
   ]
  },
  {
   "cell_type": "markdown",
   "metadata": {},
   "source": [
    "A good first step is to use `pandas.plotting.scatter_matrix` to get a global view of our data."
   ]
  },
  {
   "cell_type": "code",
   "execution_count": null,
   "metadata": {},
   "outputs": [],
   "source": [
    "scatter_matrix(insects, figsize=(8, 8), s=100)\n",
    "plt.show()"
   ]
  },
  {
   "cell_type": "markdown",
   "metadata": {},
   "source": [
    "The `latitude` vs. `wingsize` scatterplot looks interesting, so let's take a close look at that."
   ]
  },
  {
   "cell_type": "code",
   "execution_count": null,
   "metadata": {},
   "outputs": [],
   "source": [
    "fig, ax = plt.subplots(figsize=(8, 5))\n",
    "\n",
    "ax.scatter(insects.latitude, insects.wingsize, s=40)\n",
    "ax.set_xlabel(\"Latitude\")\n",
    "ax.set_ylabel(\"Wing Size\")\n",
    "ax.set_title(\"Insect Wing Sizes at Various Latitudes\")"
   ]
  },
  {
   "cell_type": "markdown",
   "metadata": {},
   "source": [
    "**Discussion:** What patterns do you see in the scatterplot.  Can you form any hypothesis about the data?"
   ]
  },
  {
   "cell_type": "markdown",
   "metadata": {},
   "source": [
    "Here are some thoughts:\n",
    "    \n",
    "  - The most prominent feature of this data is the two bands.  There seem to be two very well defined elongated clusters of data, with the average wingsize in one cluster much greater than in the other.\n",
    "  - Within each cluster there is noticeable tendency for wingsize first decrease, and then increase as latitude varies."
   ]
  },
  {
   "cell_type": "markdown",
   "metadata": {},
   "source": [
    "## Linear Regression"
   ]
  },
  {
   "cell_type": "markdown",
   "metadata": {},
   "source": [
    "This leads to a few questions we may wish to answer with the data.\n",
    "\n",
    "  1. Are the two clusters associated with one of the other two variables in the dataset, `continent` or `sex?`\n",
    "  2. Can we somehow summarize the way that `wingsize` varies with `latitude`?\n",
    "  \n",
    "Let's answer each of these questions."
   ]
  },
  {
   "cell_type": "markdown",
   "metadata": {},
   "source": [
    "### Are The Two Clusters Associated With Either Continent or Sex?"
   ]
  },
  {
   "cell_type": "markdown",
   "metadata": {},
   "source": [
    "We can discover if the two clusters in the data are associated with either `continent` or `sex` through a well chosen visualization.  Let's make the same scatterplot from before, but color each point either red or blue, according to the value of `continent` or `sex`."
   ]
  },
  {
   "cell_type": "code",
   "execution_count": null,
   "metadata": {},
   "outputs": [],
   "source": [
    "fig, ax = plt.subplots(figsize=(8, 5))\n",
    "\n",
    "continent_boolean = insects.continent.astype(bool)\n",
    "ax.scatter(insects.latitude[continent_boolean], \n",
    "           insects.wingsize[continent_boolean], \n",
    "           s=40, c=\"red\", label=\"Continent 1\")\n",
    "ax.scatter(insects.latitude[~continent_boolean], \n",
    "           insects.wingsize[~continent_boolean],\n",
    "           s=40, c=\"blue\", label=\"Continent 0\")\n",
    "ax.set_xlabel(\"Latitude\")\n",
    "ax.set_ylabel(\"Wing Size\")\n",
    "ax.set_title(\"Are The Two Clusters Associated With Continent?\")\n",
    "ax.legend()"
   ]
  },
  {
   "cell_type": "markdown",
   "metadata": {},
   "source": [
    "The values of continent seem scattered randomly across the two clusters, so it does **not** seem like continent is associated with the clusters."
   ]
  },
  {
   "cell_type": "code",
   "execution_count": null,
   "metadata": {},
   "outputs": [],
   "source": [
    "fig, ax = plt.subplots(figsize=(8, 5))\n",
    "\n",
    "def make_insects_scatter_plot(ax):\n",
    "    sex_boolean = insects.sex.astype(bool)\n",
    "    ax.scatter(insects.latitude[sex_boolean], \n",
    "               insects.wingsize[sex_boolean],\n",
    "               s=40, c=\"red\", label=\"Male\")\n",
    "    ax.scatter(insects.latitude[~sex_boolean], \n",
    "               insects.wingsize[~sex_boolean],\n",
    "               s=40, c=\"blue\", label=\"Female\")\n",
    "    ax.set_xlabel(\"Latitude\")\n",
    "    ax.set_ylabel(\"Wing Size\")\n",
    "    ax.set_title(\"Insect Wing Sizes at Various Latitudes\")\n",
    "    ax.legend()\n",
    "    \n",
    "make_insects_scatter_plot(ax)"
   ]
  },
  {
   "cell_type": "markdown",
   "metadata": {},
   "source": [
    "Consider the visual from our last lecture on Cross Validation. Notice we always come back to buisness understanding and data understanding. If you first build a model without basic eda and statistical investigations we likely miss concepts like this. \n",
    "\n",
    "<img src=\"images/800px-CRISP-DM_Process_Diagram.png\" alt=\"Drawing\" style=\"width: 400px;\"/>"
   ]
  },
  {
   "cell_type": "markdown",
   "metadata": {},
   "source": [
    "There we go!\n",
    "\n",
    "This is pretty definitive, the cluster of the larger insects are all female, and the cluster of smaller insects are all male.  This seems like enough evidence to conclude that the sex of the insect causes the data to cluster into two groups.\n",
    "\n",
    "**Note:** how little technology we needed to make this point convincingly.  It is *very important* to explore your data and use it to *ask and then answer* question like this.  Many data scientists reach immediately for their most powerful tools, which often leaves them with little to say when asked simple questions."
   ]
  },
  {
   "cell_type": "markdown",
   "metadata": {},
   "source": [
    "### Is An Increasing Latitude Associated With an Increasing Wing Size?"
   ]
  },
  {
   "cell_type": "markdown",
   "metadata": {},
   "source": [
    "This question is a little more sophisticated, and we need some new technology to answer it.\n",
    "\n",
    "The idea is to create an equation:\n",
    "\n",
    "$$ \\text{Wing Span} \\approx a + b \\times \\text{Latitude} $$\n",
    "\n",
    "Then we can look at the number $b$, which tells us how we should expect `wingspan` to change as `latitude` changes.  If we find that $b > 0$, that's evidence that an increasing latitude is associated with an increasing wingspan.\n",
    "\n",
    "So we can use Linear Regression"
   ]
  },
  {
   "cell_type": "code",
   "execution_count": null,
   "metadata": {},
   "outputs": [],
   "source": [
    "import statsmodels.api as sm\n"
   ]
  },
  {
   "cell_type": "markdown",
   "metadata": {},
   "source": [
    "Please note that we are adding the constant here so we get an intercept term."
   ]
  },
  {
   "cell_type": "code",
   "execution_count": null,
   "metadata": {},
   "outputs": [],
   "source": [
    "X = sm.add_constant(insects['latitude'])\n",
    "y = insects['wingsize']"
   ]
  },
  {
   "cell_type": "code",
   "execution_count": null,
   "metadata": {},
   "outputs": [],
   "source": [
    "X.head()"
   ]
  },
  {
   "cell_type": "code",
   "execution_count": null,
   "metadata": {},
   "outputs": [],
   "source": [
    "model = sm.OLS(y, X)\n",
    "results = model.fit()\n",
    "results.summary()"
   ]
  },
  {
   "cell_type": "code",
   "execution_count": null,
   "metadata": {},
   "outputs": [],
   "source": []
  },
  {
   "cell_type": "markdown",
   "metadata": {},
   "source": [
    "The linear regression has attempted to estimate the equation we are after, and it has returned:\n",
    "\n",
    "$$ \\text{Wing Span} \\approx 765.20 + 2.54 \\times \\text{Latitude} $$\n",
    "\n",
    "So we can expect an on average increase of $2.54$ wingspan for every increase in one latitude."
   ]
  },
  {
   "cell_type": "markdown",
   "metadata": {},
   "source": [
    "The numbers estimated in linear regression are called **parameter estimates** or **coefficient estimates** and are usually denoted with the Greek letter $\\beta$:\n",
    "\n",
    "$$y \\approx \\beta_0 + \\beta_1 x $$\n",
    "\n",
    "The parameter estimate with no associated variable is usually called the **intercept**:\n",
    "\n",
    "$$ \\text{Wing Span} \\approx \\underbrace{765.20}_{\\text{Intercept}} + \\underbrace{2.54}_{\\text{Parameter Estiamte}} \\times \\text{Latitude} $$\n"
   ]
  },
  {
   "cell_type": "markdown",
   "metadata": {},
   "source": [
    "#### As the Equation of a Line"
   ]
  },
  {
   "cell_type": "markdown",
   "metadata": {},
   "source": [
    "One way we can visualize this is to look at the regression as returning to us the equation for a line.  This line is the **best summary of the data** (under the assumption that a line is a reasonable way to summarize the data)."
   ]
  },
  {
   "cell_type": "code",
   "execution_count": null,
   "metadata": {},
   "outputs": [],
   "source": [
    "#This is from a old library to do lin regression.  Do not worry about it.\n",
    "linear_model = GLM(family=Gaussian())\n",
    "linear_model.fit(insects, formula='wingsize ~ latitude')\n",
    "\n",
    "\n",
    "fig, ax = plt.subplots(figsize=(8, 5))\n",
    "\n",
    "make_insects_scatter_plot(ax)\n",
    "\n",
    "# Make a line graph of the predictions.\n",
    "def make_insects_model_line(ax, label=\"Linear Regression\"):\n",
    "    x = np.linspace(30, 60, num=250)\n",
    "    ax.plot(x, linear_model.coef_[0] + linear_model.coef_[1] * x,\n",
    "           linewidth=2, c=\"black\", label=label)\n",
    "    ax.set_xlim(30, 60)\n",
    "\n",
    "make_insects_model_line(ax)"
   ]
  },
  {
   "cell_type": "markdown",
   "metadata": {},
   "source": [
    "**Discussion:** Does this model have any issues?  If so, what are they?"
   ]
  },
  {
   "cell_type": "markdown",
   "metadata": {},
   "source": [
    "This plot shows two serious flaws in our model:\n",
    "\n",
    "  - It has no knowledge of the sex of the insect, so the fit line attempts to bisect the two clusters of data.\n",
    "  - It cannot account for the curvature in the data points.  The model attempts to fit a line to data that does not have a linear shape."
   ]
  },
  {
   "cell_type": "markdown",
   "metadata": {},
   "source": [
    "## Accounting for the Sex of the Insect: Binary Predictors"
   ]
  },
  {
   "cell_type": "markdown",
   "metadata": {},
   "source": [
    "It would much better to take account of the sex of the index and fit two lines, we make one line of prediction of the wing size given the latitude for males, and another for females.\n",
    "\n",
    "The easiest way to do this is to modify our equation:\n",
    "\n",
    "$$ \\text{Wing Span} \\approx a + b \\times \\text{Latitude} + c \\times \\text{Sex} $$\n",
    "\n",
    "There is now another term: if the insect is male we *add $c$* to the prediction, otherwise we add nothing.\n"
   ]
  },
  {
   "cell_type": "markdown",
   "metadata": {},
   "source": [
    "\n"
   ]
  },
  {
   "cell_type": "code",
   "execution_count": null,
   "metadata": {},
   "outputs": [],
   "source": [
    "X = sm.add_constant(insects[['latitude','sex']])\n",
    "y = insects['wingsize']\n",
    "\n",
    "model = sm.OLS(y, X)\n",
    "results = model.fit()\n",
    "results.summary()"
   ]
  },
  {
   "cell_type": "markdown",
   "metadata": {},
   "source": [
    "A couple of points are important:\n",
    "\n",
    "- We now have an estimate for the number $c$ of $-88.03$.  This means, that on average, being male costs an insect about $-88.03$ in wingspan.\n",
    "- The parameter estimates for the `Intercept` and for `latitude` **have changed**.  This is a very common situation.  When we fit a model with multiple variables, the model accounts for both how the variables are related to $y$, **and** how they are related to **each other**.\n",
    "\n",
    "The predictions from this model now depend on whether an insect is male or female, meaning that we can draw one line for males, and one line for females."
   ]
  },
  {
   "cell_type": "markdown",
   "metadata": {},
   "source": [
    "$$\n",
    "\\text{Wing Span} \\approx 948.25 + -0.41 \\times \\text{Latitude} + -88.03 \\times \\text{Sex}\n",
    "$$\n",
    "<br/>\n",
    "<br/>\n",
    "<br/>\n",
    "The calculation for female:\n",
    "$$\n",
    "\\text{Wing Span} \\approx 948.25 + -0.41 \\times \\text{Latitude} + -88.03 \\times 0\n",
    "$$\n",
    "or:\n",
    "$$\n",
    "\\text{Wing Span} \\approx 948.25 + -0.41 \\times \\text{Latitude}\n",
    "$$\n",
    "<br/>\n",
    "<br/>\n",
    "<br/>\n",
    "<br/>\n",
    "For male:\n",
    "$$\n",
    "\\text{Wing Span} \\approx 948.25 + -0.41 \\times \\text{Latitude} + -88.03 \\times 1\n",
    "$$\n",
    "or:\n",
    "$$\n",
    "\\text{Wing Span} \\approx 948.25 + -0.41 \\times \\text{Latitude}+ -88.03 \n",
    "$$"
   ]
  },
  {
   "cell_type": "markdown",
   "metadata": {},
   "source": [
    "## This is important when thinking about inferential regression\n",
    "- The better the model in inferential regression the better the coefficients "
   ]
  },
  {
   "cell_type": "code",
   "execution_count": null,
   "metadata": {},
   "outputs": [],
   "source": [
    "\n",
    "insects_model_with_sex = GLM(family=Gaussian())\n",
    "insects_model_with_sex.fit(insects, formula='wingsize ~ latitude + sex')\n",
    "\n",
    "fig, ax = plt.subplots(figsize=(8, 5))\n",
    "\n",
    "make_insects_scatter_plot(ax)\n",
    "\n",
    "def make_insects_model_lines(ax):\n",
    "    x = np.linspace(30, 60, num=250)\n",
    "    ax.plot(x, insects_model_with_sex.coef_[0] \n",
    "                 + insects_model_with_sex.coef_[1] * x,\n",
    "           linewidth=2, c=\"blue\")\n",
    "    ax.plot(x, insects_model_with_sex.coef_[0] \n",
    "                 + insects_model_with_sex.coef_[1] * x + insects_model_with_sex.coef_[2],\n",
    "           linewidth=2, c=\"red\")\n",
    "    ax.set_xlim(30, 60)\n",
    "    ax.set_xlabel(\"Latitude\")\n",
    "    ax.set_ylabel(\"Wing Size\")\n",
    "    ax.set_title(\"Insect Wing Sizes at Various Latitudes\")\n",
    "    ax.legend()\n",
    "    \n",
    "make_insects_model_lines(ax)"
   ]
  },
  {
   "cell_type": "markdown",
   "metadata": {},
   "source": [
    "The model is now fitting much better to the data, but the curvature of the scatterplots is still an issue."
   ]
  },
  {
   "cell_type": "markdown",
   "metadata": {},
   "source": [
    "## Accounting for the Curvature of the Data Points: Transformations"
   ]
  },
  {
   "cell_type": "markdown",
   "metadata": {},
   "source": [
    "We can account for the curvature of the data points by using a *polynomial regression*.  This means that we fit powers of latitude bigger than one:\n",
    "\n",
    "$$ \\text{Wing Span} \\approx a + b \\times \\text{Latitude} + c \\times \\text{Latitude}^2 +  d \\times \\text{Sex} $$"
   ]
  },
  {
   "cell_type": "code",
   "execution_count": null,
   "metadata": {},
   "outputs": [],
   "source": [
    "X = insects[['latitude','sex']]\n",
    "X['latitude**2'] = X['latitude']**2\n",
    "X = sm.add_constant(X)\n",
    "\n",
    "y = insects['wingsize']\n",
    "\n",
    "X.head()"
   ]
  },
  {
   "cell_type": "code",
   "execution_count": null,
   "metadata": {},
   "outputs": [],
   "source": [
    "model = sm.OLS(y, X)\n",
    "results = model.fit()\n",
    "results.summary()"
   ]
  },
  {
   "cell_type": "code",
   "execution_count": null,
   "metadata": {},
   "outputs": [],
   "source": [
    "insects_model_quad = GLM(family=Gaussian())\n",
    "insects_model_quad = linear_model.fit(\n",
    "    insects, \n",
    "    formula='wingsize ~ latitude + I(latitude**2) + sex')\n",
    "\n",
    "fig, ax = plt.subplots(figsize=(8, 5))\n",
    "\n",
    "# Make a scatterplot of the data.\n",
    "make_insects_scatter_plot(ax)\n",
    "\n",
    "def make_insects_model_quadratic(ax):\n",
    "    x = np.linspace(30, 60, num=250)\n",
    "    ax.plot(x, insects_model_quad.coef_[0] \n",
    "                 + insects_model_quad.coef_[1] * x\n",
    "                 + insects_model_quad.coef_[2] * x*x,\n",
    "           linewidth=2, c=\"blue\")\n",
    "    ax.plot(x, insects_model_quad.coef_[0] \n",
    "                 + insects_model_quad.coef_[1] * x\n",
    "                 + insects_model_quad.coef_[2] * x*x\n",
    "                 + insects_model_quad.coef_[3],\n",
    "           linewidth=2, c=\"red\")\n",
    "    ax.set_xlim(30, 60)\n",
    "    ax.set_xlabel(\"Latitude\")\n",
    "    ax.set_ylabel(\"Wing Size\")\n",
    "    ax.set_title(\"Insect Wing Sizes at Various Latitudes\")\n",
    "    ax.legend()\n",
    "    \n",
    "make_insects_model_quadratic(ax)"
   ]
  },
  {
   "cell_type": "markdown",
   "metadata": {},
   "source": [
    "Now we have a good fit to our data."
   ]
  },
  {
   "cell_type": "markdown",
   "metadata": {},
   "source": [
    "**Discussion:** Should we go further and add higher degree terms into the model?  Why or why not?  What would happen if do?"
   ]
  },
  {
   "cell_type": "code",
   "execution_count": null,
   "metadata": {},
   "outputs": [],
   "source": []
  },
  {
   "cell_type": "markdown",
   "metadata": {},
   "source": [
    "## How will adding continent change the model?"
   ]
  },
  {
   "cell_type": "markdown",
   "metadata": {},
   "source": [
    "Now we have four different possible combinations of indicator variables\n",
    "\n",
    "  - `sex == 0 and continent == 0`\n",
    "  - `sex == 1 and continent == 0`\n",
    "  - `sex == 0 and continent == 1`\n",
    "  - `sex == 1 and continent == 1`\n",
    "  \n",
    "Which results in four curves being fit (though the **shape** of the quadratic trend is the same for each, as the parameters associated with latitude are **shared**)."
   ]
  },
  {
   "cell_type": "code",
   "execution_count": null,
   "metadata": {},
   "outputs": [],
   "source": [
    "insects.head()"
   ]
  },
  {
   "cell_type": "code",
   "execution_count": null,
   "metadata": {},
   "outputs": [],
   "source": [
    "insects_model_quad_with_continent = GLM(family=Gaussian())\n",
    "insects_model_quad_with_continent.fit(\n",
    "    insects,\n",
    "    formula='wingsize ~ latitude + I(latitude**2) + sex + continent')\n",
    "insects_model_quad_with_continent.summary()"
   ]
  },
  {
   "cell_type": "code",
   "execution_count": null,
   "metadata": {},
   "outputs": [],
   "source": [
    "fig, ax = plt.subplots(figsize=(8, 5))\n",
    "\n",
    "# Make a scatterplot of the data.\n",
    "make_insects_scatter_plot(ax)\n",
    "\n",
    "def make_insects_model_quadratic_and_continent(ax):\n",
    "    x = np.linspace(30, 60, num=250)\n",
    "    ax.plot(x, insects_model_quad.coef_[0] \n",
    "                 + insects_model_quad_with_continent.coef_[1] * x\n",
    "                 + insects_model_quad_with_continent.coef_[2] * x*x,\n",
    "           linewidth=2, c=\"blue\")\n",
    "    ax.plot(x, insects_model_quad_with_continent.coef_[0] \n",
    "                 + insects_model_quad_with_continent.coef_[1] * x\n",
    "                 + insects_model_quad_with_continent.coef_[2] * x*x\n",
    "                 + insects_model_quad_with_continent.coef_[4],\n",
    "           linewidth=2, c=\"blue\", linestyle=\"--\")\n",
    "    ax.plot(x, insects_model_quad.coef_[0] \n",
    "                 + insects_model_quad_with_continent.coef_[1] * x\n",
    "                 + insects_model_quad_with_continent.coef_[2] * x*x\n",
    "                 + insects_model_quad_with_continent.coef_[3],\n",
    "           linewidth=2, c=\"red\")\n",
    "    ax.plot(x, insects_model_quad.coef_[0] \n",
    "                 + insects_model_quad_with_continent.coef_[1] * x\n",
    "                 + insects_model_quad_with_continent.coef_[2] * x*x\n",
    "                 + insects_model_quad_with_continent.coef_[3]\n",
    "                 + insects_model_quad_with_continent.coef_[4],\n",
    "           linewidth=2, c=\"red\", linestyle=\"--\")\n",
    "    ax.set_xlim(30, 60)\n",
    "    ax.set_xlabel(\"Latitude\")\n",
    "    ax.set_ylabel(\"Wing Size\")\n",
    "    ax.set_title(\"Insect Wing Sizes at Various Latitudes\")\n",
    "    ax.legend()\n",
    "    \n",
    "make_insects_model_quadratic_and_continent(ax)"
   ]
  },
  {
   "cell_type": "markdown",
   "metadata": {},
   "source": [
    "The effect of the `continent` variable is seen here as the difference between the solid and dashed lines.  It's evident from this plot that `continent` is not very useful in describing the `wingsize` of our insects."
   ]
  },
  {
   "cell_type": "code",
   "execution_count": null,
   "metadata": {},
   "outputs": [],
   "source": []
  },
  {
   "cell_type": "code",
   "execution_count": null,
   "metadata": {},
   "outputs": [],
   "source": []
  },
  {
   "cell_type": "markdown",
   "metadata": {},
   "source": [
    "## How about categorical fields that are not binary?\n",
    " - You have a survey with feed back options:\n",
    "   * 1) Poor\n",
    "   * 2) Fair\n",
    "   * 3) Good\n",
    "   * 4) Excellent    \n",
    "<br/>\n",
    "  <br/>      \n",
    " - You have a field with eye color:\n",
    "   * 1) Brown\n",
    "   * 2) Green \n",
    "   * 3) Blue\n",
    "   * 4) Grey\n",
    "   "
   ]
  },
  {
   "cell_type": "markdown",
   "metadata": {},
   "source": [
    "### How may we handle the `origin` field in the cars dataset?"
   ]
  },
  {
   "cell_type": "code",
   "execution_count": null,
   "metadata": {},
   "outputs": [],
   "source": [
    "cars = pd.read_csv('data/cars_multivariate.csv', na_values=['?'])\n",
    "cars = cars[cars.horsepower.notnull()]\n",
    "cars.head()"
   ]
  },
  {
   "cell_type": "markdown",
   "metadata": {},
   "source": [
    "We can create binary indicators as to if it is of a given origin"
   ]
  },
  {
   "cell_type": "code",
   "execution_count": null,
   "metadata": {},
   "outputs": [],
   "source": [
    "pd.get_dummies(cars['origin'], prefix='origin')"
   ]
  },
  {
   "cell_type": "markdown",
   "metadata": {},
   "source": [
    "Do I need all three indicator columns?"
   ]
  },
  {
   "cell_type": "code",
   "execution_count": null,
   "metadata": {},
   "outputs": [],
   "source": [
    "pd.get_dummies(cars['origin'], prefix='origin', drop_first=True)"
   ]
  },
  {
   "cell_type": "markdown",
   "metadata": {},
   "source": [
    "## Important note. \n",
    "Many times it is useful to look at our 'residuals' after making a model to see what they look like."
   ]
  },
  {
   "cell_type": "code",
   "execution_count": null,
   "metadata": {},
   "outputs": [],
   "source": [
    "# Create a linear regression object\n",
    "X = cars['weight']\n",
    "X = sm.add_constant(X)\n",
    "y = cars['mpg']\n",
    "\n",
    "regressor = sm.OLS(y,X)\n",
    "regressor = regressor.fit()\n",
    "regressor.summary()"
   ]
  },
  {
   "cell_type": "code",
   "execution_count": null,
   "metadata": {},
   "outputs": [],
   "source": [
    "# Plot the line along with the data\n",
    "slope = -.0076\n",
    "intercept = 46.2165\n",
    "ax = cars.plot('weight','mpg',kind='scatter')\n",
    "xx = np.linspace(1000, 5500, 100)\n",
    "ax.plot(xx, xx*slope + intercept, color='red', lw=3)\n",
    "_ = ax.set_xlim([1000,5500])"
   ]
  },
  {
   "cell_type": "markdown",
   "metadata": {},
   "source": [
    "### Many times when modeling the resudals plots will be informative"
   ]
  },
  {
   "cell_type": "code",
   "execution_count": null,
   "metadata": {},
   "outputs": [],
   "source": [
    "X[\"y_hat\"] = regressor.predict(X)\n",
    "X[\"Residuals\"] = y - X[\"y_hat\"]\n",
    "# Plot the line along with the data\n",
    "ax = X.plot('weight','Residuals',kind='scatter')\n",
    "ax.plot(xx, [0]*100, color='red', lw=3)\n",
    "_ = ax.set_xlim([1500,5500])"
   ]
  },
  {
   "cell_type": "code",
   "execution_count": null,
   "metadata": {},
   "outputs": [],
   "source": [
    "X_sq = pd.DataFrame({'weight' : cars['weight'], 'weight_sq' : cars['weight']**2})\n",
    "X_sq = sm.add_constant(X_sq)\n",
    "\n",
    "reg_sq = sm.OLS(y, X_sq).fit()\n",
    "reg_sq.summary()"
   ]
  },
  {
   "cell_type": "code",
   "execution_count": null,
   "metadata": {},
   "outputs": [],
   "source": [
    "# Plot the line along with the data\n",
    "slope = -.0185\n",
    "slope_sq = 1.697e-6\n",
    "intercept = 62.255\n",
    "\n",
    "\n",
    "ax = cars.plot('weight','mpg',kind='scatter')\n",
    "xx = np.linspace(1000, 5500, 100)\n",
    "ax.plot(xx, xx*xx*slope_sq + xx*slope + intercept, color='red', lw=3)\n",
    "_ = ax.set_xlim([1000,5500])"
   ]
  },
  {
   "cell_type": "code",
   "execution_count": null,
   "metadata": {},
   "outputs": [],
   "source": [
    "X_sq[\"y_hat\"] = reg_sq.predict(X_sq)\n",
    "X_sq[\"Residuals\"] = y - X_sq[\"y_hat\"]\n",
    "\n",
    "\n",
    "# Plot the line along with the data\n",
    "ax = X_sq.plot('weight','Residuals',kind='scatter')\n",
    "ax.plot(xx, [0]*100, color='red', lw=3)\n",
    "_ = ax.set_xlim([1500,5500])"
   ]
  },
  {
   "cell_type": "code",
   "execution_count": null,
   "metadata": {},
   "outputs": [],
   "source": [
    "y.shape"
   ]
  },
  {
   "cell_type": "code",
   "execution_count": null,
   "metadata": {},
   "outputs": [],
   "source": [
    "X_sq['Residuals'].shape"
   ]
  },
  {
   "cell_type": "code",
   "execution_count": null,
   "metadata": {},
   "outputs": [],
   "source": [
    "X_sq['y'] = y\n",
    "\n",
    "# Plot the line along with the data\n",
    "ax = X_sq.plot('y_hat','Residuals',kind='scatter')\n",
    "ax.hlines(0,10,45)\n"
   ]
  },
  {
   "cell_type": "code",
   "execution_count": null,
   "metadata": {},
   "outputs": [],
   "source": [
    "# Plot the line along with the data\n",
    "ax = X_sq.plot('y','Residuals',kind='scatter')\n",
    "ax.hlines(0,10,45)\n"
   ]
  },
  {
   "cell_type": "code",
   "execution_count": null,
   "metadata": {},
   "outputs": [],
   "source": []
  }
 ],
 "metadata": {
  "anaconda-cloud": {},
  "kernelspec": {
   "display_name": "Python 3",
   "language": "python",
   "name": "python3"
  },
  "language_info": {
   "codemirror_mode": {
    "name": "ipython",
    "version": 3
   },
   "file_extension": ".py",
   "mimetype": "text/x-python",
   "name": "python",
   "nbconvert_exporter": "python",
   "pygments_lexer": "ipython3",
   "version": "3.7.7"
  }
 },
 "nbformat": 4,
 "nbformat_minor": 4
}
