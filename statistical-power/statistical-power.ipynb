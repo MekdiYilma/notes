{
 "cells": [
  {
   "cell_type": "code",
   "execution_count": null,
   "metadata": {},
   "outputs": [],
   "source": [
    "import pandas as pd\n",
    "import numpy as np\n",
    "from scipy import stats\n",
    "from matplotlib import pyplot as plt"
   ]
  },
  {
   "cell_type": "markdown",
   "metadata": {},
   "source": [
    "## Statistical Power\n",
    "\n",
    "Consider a previous example \n",
    "\n",
    "* $H_0$ : Karen can't correctly guess the weather more than 30% of the time.\n",
    "* $H_a$ : Karen can correctly guess the weather more than 30% of the time.\n",
    "\n",
    "What if $H_0$ is true, but we incorrectly reject it?\n",
    "What if $H_a$ is true, but we incorrectly fail to reject $H_0$?\n",
    "\n",
    "x| H0 is True            | H0 is False\n",
    "-------------|----------------------|------------------\n",
    "**Accept H0**| Correct ($1 - \\alpha$)   | Type II error ($\\beta$)\n",
    "**Reject H0** | Type I error ($\\alpha$) | Correct ($1 - \\beta$)\n",
    "\n",
    "\n",
    "* alpha is the type I error, also known as false positive rate. It's the probability that we incorrectly reject the null hypothesis.\n",
    "\n",
    "* beta is the Type II error, also known as false negative rate. It's the probability that we incorrectly fail to reject the null hypothesis.\n",
    "\n",
    "We *choose* $\\alpha$ - this corresponds to our confidence level.\n",
    "\n",
    "What might affect $\\beta$?\n",
    "\n",
    "<!-- N is the main piece -->"
   ]
  },
  {
   "cell_type": "code",
   "execution_count": null,
   "metadata": {},
   "outputs": [],
   "source": [
    "# set up my subplots\n",
    "fig,axes = plt.subplots(3, figsize = (8, 12))\n",
    "\n",
    "# for each subplot we're going to iterate through and capture the index and the plot object\n",
    "for ax_idx, ax in enumerate(axes):\n",
    "\n",
    "    # Setting up the n and ps for the distributions. \n",
    "    # We want to vary the actual value for Karen's correct guessing rate. (not the sampled value)\n",
    "    n=100\n",
    "    null_proportion = 0.3\n",
    "    karen_proportion = 0.29 + 0.05 * ax_idx\n",
    "\n",
    "    # sampling distribution\n",
    "    # Stating that karen's true guessing rate should be the sample mean\n",
    "    karen_sample_mean = karen_proportion\n",
    "    \n",
    "    # Establish the standard deviation for Karen's guessing rate\n",
    "    karen_sd = np.sqrt(karen_proportion * (1-karen_proportion))\n",
    "    \n",
    "    # This is the standard error for Karen's sample mean.\n",
    "    karen_sample_mean_sd = karen_sd / np.sqrt(n)\n",
    "\n",
    "    # Create a normal distribution for Karen's sample mean. \n",
    "    karen = stats.norm(karen_sample_mean, karen_sample_mean_sd)\n",
    "\n",
    "    # Create sample space of a 100 points between 0.1 and 0.6\n",
    "    support = np.linspace(0, 1, 100)\n",
    "    # Finding the pdf at each of these points.\n",
    "    karen_pdf = karen.pdf(support)\n",
    "\n",
    "    # Finding the number where we reject the null hypothesis.\n",
    "    null_mean = 0.3\n",
    "    null_sd = np.sqrt((null_proportion * (1-null_proportion))/n)\n",
    "    critical_value_dist = stats.norm(0.3, null_sd)\n",
    "    critical_value = critical_value_dist.ppf(0.95)\n",
    "    # find the inddex of the support where it becomes greater than the critical value (threshold)\n",
    "    critical_value_idx = np.argmax(support>critical_value)\n",
    "    \n",
    "    # Plots\n",
    "    ax.plot(support, karen_pdf, color='blue', label='Karen')\n",
    "    # axvline is for a vertical line\n",
    "    ax.axvline(critical_value, label = f'{round(critical_value,2)}')\n",
    "\n",
    "    ax.fill_between(support, karen_pdf, \\\n",
    "                    where = (support >= critical_value), label = 'Power', \\\n",
    "                   color = 'grey')\n",
    "\n",
    "    # legend and title\n",
    "    ax.legend()\n",
    "    ax.set_title(\"Karen's Actual %Correctly Guessing: {:.2f}\".format(karen_proportion))"
   ]
  },
  {
   "cell_type": "markdown",
   "metadata": {},
   "source": [
    "# Effect Size\n",
    "\n",
    "The difference between the mean assumed by the null hypothesis and the **true** mean is the effect size. The larger this is, the more likely we are to draw a sample which meets the threshold required by our $\\alpha$"
   ]
  },
  {
   "cell_type": "markdown",
   "metadata": {},
   "source": [
    "#### With a larger effect size, we can get more power with the same alpha."
   ]
  },
  {
   "cell_type": "code",
   "execution_count": null,
   "metadata": {},
   "outputs": [],
   "source": [
    "\n",
    "fig,axes = plt.subplots(3, figsize = (8, 12))\n",
    "\n",
    "for ax_idx, ax in enumerate(axes):\n",
    "    n=100\n",
    "    karen_proportion = 0.29 + 0.05 * ax_idx\n",
    "\n",
    "    # sampling distribution\n",
    "    karen_sample_mean = karen_proportion\n",
    "    karen_sd = np.sqrt(karen_proportion * (1-karen_proportion))\n",
    "    karen_sample_mean_sd = karen_sd / np.sqrt(n)\n",
    "\n",
    "\n",
    "    karen = stats.norm(karen_sample_mean, karen_sample_mean_sd)\n",
    "    null = stats.norm(0.3, np.sqrt(0.3 * 0.7 / n))\n",
    "    \n",
    "    support = np.linspace(0.1, 0.6, 100)\n",
    "    karen_pdf = karen.pdf(support)\n",
    "    null_pdf = null.pdf(support)\n",
    "    \n",
    "    \n",
    "    critical_value = stats.norm(0.3, np.sqrt((null_proportion * (1-null_proportion))/n)).ppf(0.95)\n",
    "    critical_value_idx = np.argmax(support>critical_value)\n",
    "    \n",
    "    ax.plot(support, karen_pdf, color='blue')\n",
    "    ax.plot(support, null_pdf, color='red')\n",
    "\n",
    "    ax.axvline(critical_value)\n",
    "    ax.fill_between(support, karen_pdf, where = (support >= critical_value), label = 'Power', color = 'grey', alpha = 0.5)\n",
    "    ax.fill_between(support, karen_pdf, where = (support <= critical_value), alpha = 0.5, label = 'beta', color = 'blue')\n",
    "    ax.fill_between(support, null_pdf, where = (support >= critical_value), label = 'alpha', color = 'red', alpha = 0.5)\n",
    "    \n",
    "    point2 = [karen_sample_mean, 8.7]\n",
    "    point1 = [0.3, 8.7]\n",
    "    x_vals = [point1[0], point2[0]]\n",
    "    y_vals = [point1[1], point2[1]]\n",
    "    \n",
    "    ax.plot(x_vals, y_vals, c = 'k', label = 'Effect Size', ls = '--')\n",
    "    ax.legend()\n",
    "    ax.set_title(\"Effect Size: {:.2f}\".format(karen_proportion - 0.3))\n"
   ]
  },
  {
   "cell_type": "markdown",
   "metadata": {},
   "source": [
    "#### With a higher sample size, we get more power."
   ]
  },
  {
   "cell_type": "code",
   "execution_count": null,
   "metadata": {},
   "outputs": [],
   "source": [
    "\n",
    "fig,axes = plt.subplots(3, figsize = (8, 12))\n",
    "\n",
    "for ax_idx, ax in enumerate(axes):\n",
    "    n= 100 * 2 ** ax_idx\n",
    "    karen_proportion = 0.33\n",
    "\n",
    "    # sampling distribution\n",
    "    karen_sample_mean = karen_proportion\n",
    "    karen_sd = np.sqrt(karen_proportion * (1-karen_proportion))\n",
    "    karen_sample_mean_sd = karen_sd / np.sqrt(n)\n",
    "\n",
    "\n",
    "    karen = stats.norm(karen_sample_mean, karen_sample_mean_sd)\n",
    "    null = stats.norm(0.3, np.sqrt(0.3 * 0.7 / n))\n",
    "    \n",
    "    support = np.linspace(0.1, 0.6, 100)\n",
    "    karen_pdf = karen.pdf(support)\n",
    "    null_pdf = null.pdf(support)\n",
    "    \n",
    "    critical_value = stats.norm(0.3, np.sqrt((null_proportion * (1-null_proportion))/n)).ppf(0.95)\n",
    "    critical_value_idx = np.argmax(support>critical_value)\n",
    "    \n",
    "    ax.plot(support, karen_pdf, color='blue')\n",
    "    ax.plot(support, null_pdf, color='red')\n",
    "\n",
    "    ax.axvline(critical_value)\n",
    "    \n",
    "    ax.fill_between(support, karen_pdf, where = (support >= critical_value), label = 'Power', color = 'grey', alpha = 0.5)\n",
    "    ax.fill_between(support, karen_pdf, where = (support <= critical_value), alpha = 0.5, label = 'beta', color = 'blue')\n",
    "    ax.fill_between(support, null_pdf, where = (support >= critical_value), label = 'alpha', color = 'red', alpha = 0.5)\n",
    "    \n",
    "    ax.legend()\n",
    "    ax.set_title(\"Sample Size: {:.2f}\".format(n))\n"
   ]
  },
  {
   "cell_type": "markdown",
   "metadata": {},
   "source": [
    "## Power is a function of sample size, effect size, alpha, and standard deviation\n",
    "\n",
    "$$ n = \\left( \\frac{ \\sigma ( F_{0, 1}^{-1} (1 - \\alpha) - F_{0, 1}^{-1} (\\beta) ) } { \\mu_a - \\mu_0 } \\right)^2 $$\n",
    "\n",
    "\n",
    "\n",
    "\n",
    "$F_{0, 1}^{-1}$ is equivalent to `stats.norm(0,1).ppf()`\n",
    "\n",
    "This is the formula for the sample size needed to achieve a given power $(1 - \\beta)$."
   ]
  },
  {
   "cell_type": "markdown",
   "metadata": {},
   "source": [
    "$\\sigma$ is the standard deviation"
   ]
  },
  {
   "cell_type": "markdown",
   "metadata": {},
   "source": [
    "$\\mu_a - \\mu_0$ is the effect size. (mean under alternative vs mean under null)."
   ]
  },
  {
   "cell_type": "markdown",
   "metadata": {},
   "source": [
    "$\\alpha$ is maximum acceptable false positive rate aka incorrectly rejecting null hypothesis. $\\alpha$"
   ]
  },
  {
   "cell_type": "markdown",
   "metadata": {},
   "source": [
    "$\\beta$ is maximum acceptable fals negative rate, aka incorrectly failing to reject null hypothesis"
   ]
  },
  {
   "cell_type": "markdown",
   "metadata": {},
   "source": [
    "$n$ is the sample size"
   ]
  },
  {
   "cell_type": "code",
   "execution_count": null,
   "metadata": {},
   "outputs": [],
   "source": [
    "# Spend some time coding this up\n",
    "\n",
    "def sample_size_needed_for_power(sigma, alpha, power, effect_size):\n",
    "    standard_normal = stats.norm(0, 1)\n",
    "    beta = 1 - power\n",
    "    numerator = sigma * (standard_normal.ppf(1 - alpha) - standard_normal.ppf(beta))\n",
    "    return int((numerator / effect_size) ** 2)"
   ]
  },
  {
   "cell_type": "markdown",
   "metadata": {},
   "source": [
    "# Power calculation examples"
   ]
  },
  {
   "cell_type": "markdown",
   "metadata": {},
   "source": [
    "### CTR\n",
    "Our current click through rate for our ads is 2%. We'd like to try a new ad and if it's better, we'll put it into production. We want to be able to detect a bump of at least a tenth of a point. We'd like to be 95% confident that the new ad is better than 2%. If the new ad actually is better, we want at least an 80% chance of knowing that. How many impressions do we need?"
   ]
  },
  {
   "cell_type": "markdown",
   "metadata": {},
   "source": [
    "$H_0$:  <br>\n",
    "$H_a$: \n",
    "\n",
    "effect size:\n",
    "\n",
    "alpha: \n",
    "\n",
    "power:  \n",
    "\n",
    "sigma: "
   ]
  },
  {
   "cell_type": "markdown",
   "metadata": {},
   "source": [
    "<!-- sigma = np.sqrt(p*1-p) for proportions since we dont need count -->"
   ]
  },
  {
   "cell_type": "code",
   "execution_count": null,
   "metadata": {},
   "outputs": [],
   "source": [
    "sample_size_needed_for_power(sigma = , alpha = , power, effect_size = ) "
   ]
  },
  {
   "cell_type": "markdown",
   "metadata": {},
   "source": [
    "What can you tell your product manager?"
   ]
  },
  {
   "cell_type": "code",
   "execution_count": null,
   "metadata": {},
   "outputs": [],
   "source": []
  },
  {
   "cell_type": "code",
   "execution_count": null,
   "metadata": {},
   "outputs": [],
   "source": []
  },
  {
   "cell_type": "code",
   "execution_count": null,
   "metadata": {},
   "outputs": [],
   "source": []
  },
  {
   "cell_type": "markdown",
   "metadata": {},
   "source": [
    "### Student Assessment scores\n",
    "At Galvanize, students get on average, 65% on assessments (*this is made up, I have no idea*). A new instructor has been hired, and we want to know if they are adequately teaching their students. The standard deviation for assessment scores is 3 points. We'd like to be able to detect if the average score is 60% or less, with a significance level of 0.01, and a power of 0.9. How many student assessment scores do we need to see to make this determination?"
   ]
  },
  {
   "cell_type": "markdown",
   "metadata": {},
   "source": [
    "\n",
    "$H_0$:  <br>\n",
    "$H_a$: \n",
    "\n",
    "effect size: \n",
    "\n",
    "alpha: \n",
    "\n",
    "power: \n",
    "\n",
    "sigma: "
   ]
  },
  {
   "cell_type": "code",
   "execution_count": null,
   "metadata": {},
   "outputs": [],
   "source": [
    "sample_size_needed_for_power(sigma = , alpha = , power= , effect_size = ) "
   ]
  },
  {
   "cell_type": "markdown",
   "metadata": {},
   "source": [
    "# MURDER MOST FOUL\n",
    "\n",
    "We have a bunch of horror movie characters who have all been convicted of murders.\n",
    "\n",
    "Investigators on average solve 80% of murders.\n",
    "When they use DNA tests, are they better at solving murders?\n",
    "\n",
    "$H_0$: DNA testing does not give us better than 80% solve rate. <br>\n",
    "$H_a$: DNA testing gives us better than 80% solve rate\n",
    "\n",
    "Type I Error:  \n",
    "Type II Error: \n",
    "\n",
    "alpha: \n",
    "\n",
    "beta:  \n",
    "\n",
    "\n",
    "If we assume Type I Error is worse than Type II, what should we set for alpha and beta. \n",
    "\n",
    "If the actual solve rate using DNA testing is at least 85% we want to be able to detect that. \n",
    "\n",
    "Sample size is how many cases we need to look at to determine whether or not DNA evidence is useful. \n",
    "\n",
    "* alpha = \n",
    "* beta = \n",
    "* effect_size = \n",
    "* sigma = \n",
    "\n"
   ]
  },
  {
   "cell_type": "code",
   "execution_count": null,
   "metadata": {},
   "outputs": [],
   "source": [
    "sample_size_needed_for_power(sigma = , alpha = , power= , effect_size = ) "
   ]
  },
  {
   "cell_type": "code",
   "execution_count": null,
   "metadata": {},
   "outputs": [],
   "source": []
  },
  {
   "cell_type": "code",
   "execution_count": null,
   "metadata": {},
   "outputs": [],
   "source": []
  },
  {
   "cell_type": "code",
   "execution_count": null,
   "metadata": {},
   "outputs": [],
   "source": []
  },
  {
   "cell_type": "markdown",
   "metadata": {},
   "source": [
    "### Why is the proportion standard deviation sqrt(pq)?\n",
    "\n",
    "The population is distributed as a Bernoulli distribution. Positive case is '1' and negative case is '0'. Every individual sampled from the population is a sample from a Bernoulli distribution. The standard deviation for the Bernoulli distribution is sqrt(pq). "
   ]
  },
  {
   "cell_type": "code",
   "execution_count": null,
   "metadata": {},
   "outputs": [],
   "source": []
  }
 ],
 "metadata": {
  "kernelspec": {
   "display_name": "Python 3",
   "language": "python",
   "name": "python3"
  },
  "language_info": {
   "codemirror_mode": {
    "name": "ipython",
    "version": 3
   },
   "file_extension": ".py",
   "mimetype": "text/x-python",
   "name": "python",
   "nbconvert_exporter": "python",
   "pygments_lexer": "ipython3",
   "version": "3.8.5"
  }
 },
 "nbformat": 4,
 "nbformat_minor": 4
}
