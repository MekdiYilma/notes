{
 "cells": [
  {
   "cell_type": "markdown",
   "metadata": {},
   "source": [
    "# Jupyter Notebook Intro"
   ]
  },
  {
   "cell_type": "code",
   "execution_count": 2,
   "metadata": {},
   "outputs": [
    {
     "name": "stdout",
     "output_type": "stream",
     "text": [
      "<class 'int'>\n",
      "<class 'float'>\n"
     ]
    }
   ],
   "source": [
    "print(type(7))\n",
    "print(type(7.4))\n"
   ]
  },
  {
   "cell_type": "code",
   "execution_count": 65,
   "metadata": {},
   "outputs": [
    {
     "data": {
      "text/plain": [
       "(3+4j)"
      ]
     },
     "execution_count": 65,
     "metadata": {},
     "output_type": "execute_result"
    }
   ],
   "source": [
    "complex(3,4)"
   ]
  },
  {
   "cell_type": "code",
   "execution_count": 6,
   "metadata": {},
   "outputs": [
    {
     "name": "stdout",
     "output_type": "stream",
     "text": [
      "3\n",
      "3.0\n",
      "3.1\n"
     ]
    }
   ],
   "source": [
    "print(int(3.5))\n",
    "print(float(3))\n",
    "print(str(3.1))"
   ]
  },
  {
   "cell_type": "code",
   "execution_count": 9,
   "metadata": {},
   "outputs": [
    {
     "data": {
      "text/plain": [
       "\"they told me to do this, and I listened. I'll continue..they told me to do this, and I listened. I'll continue..\""
      ]
     },
     "execution_count": 9,
     "metadata": {},
     "output_type": "execute_result"
    }
   ],
   "source": [
    "string = 'they told me to do this, and I listened. I\\'ll continue..'\n",
    "string * 2"
   ]
  },
  {
   "cell_type": "code",
   "execution_count": 10,
   "metadata": {},
   "outputs": [
    {
     "data": {
      "text/plain": [
       "\"they told me to do this, and I listened. I'll continue.. append string\""
      ]
     },
     "execution_count": 10,
     "metadata": {},
     "output_type": "execute_result"
    }
   ],
   "source": [
    "string + ' append string'"
   ]
  },
  {
   "cell_type": "code",
   "execution_count": 20,
   "metadata": {},
   "outputs": [
    {
     "data": {
      "text/plain": [
       "'0-1-2-3-4-5'"
      ]
     },
     "execution_count": 20,
     "metadata": {},
     "output_type": "execute_result"
    }
   ],
   "source": [
    "lst = list(str(i) for i in range(6))\n",
    "\n",
    "'-'.join(lst)"
   ]
  },
  {
   "cell_type": "code",
   "execution_count": 26,
   "metadata": {},
   "outputs": [
    {
     "data": {
      "text/plain": [
       "'Repeating string Repeating string Repeating string '"
      ]
     },
     "execution_count": 26,
     "metadata": {},
     "output_type": "execute_result"
    }
   ],
   "source": [
    "rep_string = 'Repeating string ' * 3 \n",
    "rep_string.strip() #leading and trailing whitespace removed\n",
    "rep_string.strip('g ') #string is immutable, therefore this will probably have to be assigned"
   ]
  },
  {
   "cell_type": "code",
   "execution_count": 32,
   "metadata": {},
   "outputs": [
    {
     "data": {
      "text/plain": [
       "['they',\n",
       " 'told',\n",
       " 'me',\n",
       " 'to',\n",
       " 'do',\n",
       " 'this,',\n",
       " 'and',\n",
       " 'I',\n",
       " 'listened.',\n",
       " \"I'll\",\n",
       " 'continue..']"
      ]
     },
     "execution_count": 32,
     "metadata": {},
     "output_type": "execute_result"
    }
   ],
   "source": [
    "string.capitalize()\n",
    "string.replace(' ','*')\n",
    "string.split(' ')"
   ]
  },
  {
   "cell_type": "code",
   "execution_count": null,
   "metadata": {},
   "outputs": [],
   "source": [
    "string. #then hit tab to see all available methods"
   ]
  },
  {
   "cell_type": "code",
   "execution_count": 33,
   "metadata": {},
   "outputs": [
    {
     "data": {
      "text/plain": [
       "'5'"
      ]
     },
     "execution_count": 33,
     "metadata": {},
     "output_type": "execute_result"
    }
   ],
   "source": [
    "lst.pop()"
   ]
  },
  {
   "cell_type": "code",
   "execution_count": 34,
   "metadata": {},
   "outputs": [
    {
     "data": {
      "text/plain": [
       "['0', '1', '2', '3', '4']"
      ]
     },
     "execution_count": 34,
     "metadata": {},
     "output_type": "execute_result"
    }
   ],
   "source": [
    "lst"
   ]
  },
  {
   "cell_type": "code",
   "execution_count": 35,
   "metadata": {},
   "outputs": [],
   "source": [
    "lst.remove('4')"
   ]
  },
  {
   "cell_type": "code",
   "execution_count": 36,
   "metadata": {},
   "outputs": [
    {
     "data": {
      "text/plain": [
       "['0', '1', '2', '3']"
      ]
     },
     "execution_count": 36,
     "metadata": {},
     "output_type": "execute_result"
    }
   ],
   "source": [
    "lst"
   ]
  },
  {
   "cell_type": "code",
   "execution_count": 39,
   "metadata": {},
   "outputs": [
    {
     "data": {
      "text/plain": [
       "['3', '2', '1', '0']"
      ]
     },
     "execution_count": 39,
     "metadata": {},
     "output_type": "execute_result"
    }
   ],
   "source": [
    "lst.reverse()\n",
    "lst"
   ]
  },
  {
   "cell_type": "code",
   "execution_count": 41,
   "metadata": {},
   "outputs": [
    {
     "data": {
      "text/plain": [
       "['3', 'new', '1', '0']"
      ]
     },
     "execution_count": 41,
     "metadata": {},
     "output_type": "execute_result"
    }
   ],
   "source": [
    "lst[1] = 'new'\n",
    "lst"
   ]
  },
  {
   "cell_type": "code",
   "execution_count": 42,
   "metadata": {},
   "outputs": [
    {
     "data": {
      "text/plain": [
       "tuple"
      ]
     },
     "execution_count": 42,
     "metadata": {},
     "output_type": "execute_result"
    }
   ],
   "source": [
    "# Tuple casting\n",
    "my_first_tuple = tuple([1, 2])\n",
    "my_other_tuple = (1, 2)\n",
    "my_third_tuple = 1, 2, 3\n",
    "type(my_third_tuple)"
   ]
  },
  {
   "cell_type": "code",
   "execution_count": 43,
   "metadata": {},
   "outputs": [
    {
     "name": "stdout",
     "output_type": "stream",
     "text": [
      "Indianapolis\n"
     ]
    }
   ],
   "source": [
    "states_caps = [('Georgia', 'Atlanta'), ('Colorado', 'Denver'), ('Indiana', 'Indianapolis')]\n",
    "\n",
    "search_state = 'Indiana'\n",
    "capital = 'State not found'\n",
    "for state_cap in states_caps:\n",
    "    if state_cap[0] == search_state:\n",
    "        capital = state_cap[1]\n",
    "        break\n",
    "print(capital)"
   ]
  },
  {
   "cell_type": "code",
   "execution_count": 44,
   "metadata": {},
   "outputs": [
    {
     "data": {
      "text/plain": [
       "'Indianapolis'"
      ]
     },
     "execution_count": 44,
     "metadata": {},
     "output_type": "execute_result"
    }
   ],
   "source": [
    "states_caps_dict = {'Georgia': 'Atlanta', 'Colorado': 'Denver', 'Indiana': 'Indianapolis'}\n",
    "states_caps_dict[search_state]"
   ]
  },
  {
   "cell_type": "code",
   "execution_count": 50,
   "metadata": {},
   "outputs": [
    {
     "data": {
      "text/plain": [
       "'State not found'"
      ]
     },
     "execution_count": 50,
     "metadata": {},
     "output_type": "execute_result"
    }
   ],
   "source": [
    "states_caps_dict.get('Washington', 'State not found')"
   ]
  },
  {
   "cell_type": "code",
   "execution_count": 51,
   "metadata": {},
   "outputs": [
    {
     "data": {
      "text/plain": [
       "{1, 2, 3, 5, 6, 7}"
      ]
     },
     "execution_count": 51,
     "metadata": {},
     "output_type": "execute_result"
    }
   ],
   "source": [
    "my_set, my_other_set = {1, 2, 3}, {5, 6, 7}\n",
    "my_set.union(my_other_set)"
   ]
  },
  {
   "cell_type": "code",
   "execution_count": 55,
   "metadata": {},
   "outputs": [
    {
     "data": {
      "text/plain": [
       "{1, 2, 3, 8}"
      ]
     },
     "execution_count": 55,
     "metadata": {},
     "output_type": "execute_result"
    }
   ],
   "source": [
    "my_set.add(8)\n",
    "my_set"
   ]
  },
  {
   "cell_type": "code",
   "execution_count": 57,
   "metadata": {},
   "outputs": [
    {
     "data": {
      "text/plain": [
       "{1, 2, 3, 5, 6, 7, 8}"
      ]
     },
     "execution_count": 57,
     "metadata": {},
     "output_type": "execute_result"
    }
   ],
   "source": [
    "my_set.update(my_other_set)\n",
    "my_set"
   ]
  },
  {
   "cell_type": "code",
   "execution_count": 61,
   "metadata": {},
   "outputs": [
    {
     "data": {
      "text/plain": [
       "{1, 2, 3, 5, 6, 7, 8}"
      ]
     },
     "execution_count": 61,
     "metadata": {},
     "output_type": "execute_result"
    }
   ],
   "source": [
    "my_set.update(my_other_set)\n",
    "my_set"
   ]
  },
  {
   "cell_type": "code",
   "execution_count": 66,
   "metadata": {},
   "outputs": [
    {
     "name": "stdout",
     "output_type": "stream",
     "text": [
      "Name please: Mek\n",
      "Hello, Mek\n"
     ]
    }
   ],
   "source": [
    "\n",
    "x = input('Name please: ')\n",
    "print(\"Hello, \" + x)"
   ]
  },
  {
   "cell_type": "code",
   "execution_count": 67,
   "metadata": {},
   "outputs": [
    {
     "data": {
      "text/plain": [
       "5"
      ]
     },
     "execution_count": 67,
     "metadata": {},
     "output_type": "execute_result"
    }
   ],
   "source": [
    "x =5\n",
    "]"
   ]
  },
  {
   "cell_type": "code",
   "execution_count": null,
   "metadata": {},
   "outputs": [],
   "source": []
  },
  {
   "cell_type": "code",
   "execution_count": null,
   "metadata": {},
   "outputs": [],
   "source": []
  },
  {
   "cell_type": "code",
   "execution_count": null,
   "metadata": {},
   "outputs": [],
   "source": []
  },
  {
   "cell_type": "markdown",
   "metadata": {},
   "source": [
    "### Markdown v. Code cell\n",
    "\n",
    "Markdown is a text-to-HTML conversion tool for web writers. It involves very little \"code\" knowledge and will be utilized throught this course including your case study presentations, capstone ipynb files and README files.\n",
    "\n",
    "#### To convert a code cell into markdown: esc. + 'm'\n",
    "\n",
    "\n",
    "#### Code cell in Jupyter notebook allows one to code in python. To execute code in a cell, use shift + enter\n",
    "\n",
    "\n",
    "** When you learn a new shortcut in JN, share with the group, you will want to practice these shortcuts for quicker and more enjoyable coding experience\""
   ]
  },
  {
   "cell_type": "markdown",
   "metadata": {},
   "source": [
    "# Python Data Types"
   ]
  },
  {
   "cell_type": "markdown",
   "metadata": {},
   "source": [
    "## Lists\n",
    "\n",
    "Python Lists are a flexible container that holds other objects in an ordered arrangment.  **A list is a general purpose, ordered data structure that allows you to change the data it holds (mutable).**"
   ]
  },
  {
   "cell_type": "code",
   "execution_count": 68,
   "metadata": {},
   "outputs": [
    {
     "name": "stdout",
     "output_type": "stream",
     "text": [
      "[\"HitchHiker's Guide\", 'Fluent Python', 'Tensorflow']\n"
     ]
    }
   ],
   "source": [
    "#lists can contain many different types of data... example...\n",
    "my_bag_has = ['lunch', 1.50, True, [\"HitchHiker's Guide\", 'Fluent Python', 'Tensorflow'], 42]\n",
    "#Here we see a str, float, bool, list, and int all in one list called \"my_bag_has\"\n",
    "\n",
    "#grab the \"third\" element in a list (remeber zero indexing)\n",
    "print(my_bag_has[3])"
   ]
  },
  {
   "cell_type": "code",
   "execution_count": 72,
   "metadata": {},
   "outputs": [
    {
     "data": {
      "text/plain": [
       "range(-5, 5)"
      ]
     },
     "execution_count": 72,
     "metadata": {},
     "output_type": "execute_result"
    }
   ],
   "source": [
    "#this is a range object. \n",
    "range_lst = range(-5, 5)\n",
    "type(range_lst)\n",
    "# print(range_lst)\n",
    "#range_lst"
   ]
  },
  {
   "cell_type": "code",
   "execution_count": 70,
   "metadata": {},
   "outputs": [
    {
     "name": "stdout",
     "output_type": "stream",
     "text": [
      "-5\n",
      "-4\n",
      "-3\n",
      "-2\n",
      "-1\n",
      "0\n",
      "1\n",
      "2\n",
      "3\n",
      "4\n"
     ]
    }
   ],
   "source": [
    "#to access information stored in this range object, we can loop through and print what is being stored\n",
    "\n",
    "for i in range_lst:\n",
    "    print(i)"
   ]
  },
  {
   "cell_type": "code",
   "execution_count": 71,
   "metadata": {},
   "outputs": [
    {
     "data": {
      "text/plain": [
       "[-5, -4, -3, -2, -1, 0, 1, 2, 3, 4]"
      ]
     },
     "execution_count": 71,
     "metadata": {},
     "output_type": "execute_result"
    }
   ],
   "source": [
    "#printing with that list will cause some issues... I want to access every value at once...\n",
    "#lets cast it to a list\n",
    "new_lst = list(range_lst)\n",
    "new_lst"
   ]
  },
  {
   "cell_type": "markdown",
   "metadata": {},
   "source": [
    "## Loops, map and list comprehensions\n",
    "\n",
    "Loop: a for loop is a nice and quick way to modify, filter or visualize information stored in a list\n",
    "\n",
    "Map: this is a functional builtin which returns a map object(which is an iterator) of the results after applying the given function to each item of a given iterable (list, tuple etc.)\n",
    "\n",
    "List Comprehension: fast, pythonic way to rewrite a for loop. Takes some practice but is great when you get it"
   ]
  },
  {
   "cell_type": "code",
   "execution_count": 73,
   "metadata": {},
   "outputs": [
    {
     "data": {
      "text/plain": [
       "[10, 9, 8, 7, 6, 5, 4, 3, 2, 1, 0, 1, 2, 3, 4, 5, 6, 7, 8, 9, 10]"
      ]
     },
     "execution_count": 73,
     "metadata": {},
     "output_type": "execute_result"
    }
   ],
   "source": [
    "# return the absolute value of each element in the list a using\n",
    "# 1) a for loop\n",
    "# 2) a functional built-in, map\n",
    "# 3) a list comprehension\n",
    "\n",
    "# using for loop (try to avoid this when possible but important to learn the basic coding concepts)\n",
    "initial_lst = range(-10,11)\n",
    "\n",
    "abs_for_loop = []\n",
    "for elem in initial_lst:\n",
    "    #store the absolute value into list accumulator above \n",
    "    abs_for_loop.append(abs(elem))\n",
    "    \n",
    "    \n",
    "abs_for_loop\n",
    "#we now have the absolute value of every number in the original list"
   ]
  },
  {
   "cell_type": "code",
   "execution_count": 75,
   "metadata": {},
   "outputs": [
    {
     "data": {
      "text/plain": [
       "[10, 9, 8, 7, 6, 5, 4, 3, 2, 1, 0, 1, 2, 3, 4, 5, 6, 7, 8, 9, 10]"
      ]
     },
     "execution_count": 75,
     "metadata": {},
     "output_type": "execute_result"
    }
   ],
   "source": [
    "# with functional builtins (map)\n",
    "#Note the map function takes another function as a parameter and other iterable objects like a list\n",
    "abs_map = map(abs,initial_lst)\n",
    "list(abs_map)"
   ]
  },
  {
   "cell_type": "code",
   "execution_count": 76,
   "metadata": {},
   "outputs": [
    {
     "data": {
      "text/plain": [
       "[10, 9, 8, 7, 6, 5, 4, 3, 2, 1, 0, 1, 2, 3, 4, 5, 6, 7, 8, 9, 10]"
      ]
     },
     "execution_count": 76,
     "metadata": {},
     "output_type": "execute_result"
    }
   ],
   "source": [
    "## using a list comprehension (very Pythonic and fast)\n",
    "abs_lstcomp = [abs(elem) for elem in initial_lst]\n",
    "\n",
    "abs_lstcomp"
   ]
  },
  {
   "cell_type": "markdown",
   "metadata": {},
   "source": [
    "## Lets functionize"
   ]
  },
  {
   "cell_type": "code",
   "execution_count": 79,
   "metadata": {},
   "outputs": [
    {
     "name": "stdout",
     "output_type": "stream",
     "text": [
      "[5, 4, 3, 2, 1, 0, 1, 2, 3, 4, 5]\n",
      "[5, 4, 3, 2, 1, 0, 1, 2, 3, 4, 5]\n",
      "[5, 4, 3, 2, 1, 0, 1, 2, 3, 4, 5]\n"
     ]
    }
   ],
   "source": [
    "# define absolute value functions\n",
    "\n",
    "lst = list(range(-5,6))\n",
    "def abs_using_for(lst):\n",
    "    \"\"\"Returns a list containing the absolute values of all \n",
    "       elements in lst using a for loop.\n",
    "    \"\"\"\n",
    "    abs_lst = []\n",
    "    for i in lst:\n",
    "        abs_lst.append(abs(i))\n",
    "        \n",
    "    return abs_lst\n",
    "    \n",
    "\n",
    "def abs_using_map(lst):\n",
    "    \"\"\"Returns a list containing the absolute values of all \n",
    "       elements in lst using map.\n",
    "    \"\"\"\n",
    "    return list(map(abs,lst))\n",
    "\n",
    "def abs_using_lstcomp(lst):\n",
    "    \"\"\"Returns a list containing the absolute values of all \n",
    "       elements in lst using a list comprehension.\n",
    "    \"\"\"\n",
    "    return [abs(i) for i in lst]\n",
    "\n",
    "print(abs_using_for(lst))\n",
    "print(abs_using_map(lst))\n",
    "print(abs_using_lstcomp(lst))"
   ]
  },
  {
   "cell_type": "markdown",
   "metadata": {},
   "source": [
    "### So which version is best?\n",
    "Code readability is very imporant in Python, and that's one reason why list comprehensions are \"Pythonic.\"\n",
    "Of course, speed matters too.  So which one is fastest?"
   ]
  },
  {
   "cell_type": "code",
   "execution_count": 80,
   "metadata": {},
   "outputs": [],
   "source": [
    "# import the timeit module\n",
    "import timeit\n",
    "number_executions = 1000"
   ]
  },
  {
   "cell_type": "code",
   "execution_count": 81,
   "metadata": {},
   "outputs": [],
   "source": [
    "# define a larger list so there is more to time\n",
    "lst = range(-20000, 20001)"
   ]
  },
  {
   "cell_type": "code",
   "execution_count": 82,
   "metadata": {},
   "outputs": [
    {
     "name": "stdout",
     "output_type": "stream",
     "text": [
      "The for function takes 3.68 seconds for 1000 executions.\n"
     ]
    }
   ],
   "source": [
    "# use globals so lst is defined in the function call\n",
    "time_for = timeit.timeit('abs_using_for(lst)', globals=globals(), number=number_executions) \n",
    "print(\"The for function takes {0:0.2f} seconds for {1} executions.\".format(time_for, number_executions))"
   ]
  },
  {
   "cell_type": "code",
   "execution_count": 83,
   "metadata": {},
   "outputs": [
    {
     "name": "stdout",
     "output_type": "stream",
     "text": [
      "The map function takes 1.39 seconds for 1000 executions.\n"
     ]
    }
   ],
   "source": [
    "time_map = timeit.timeit('abs_using_map(lst)', globals=globals(), number=number_executions) \n",
    "print(\"The map function takes {0:0.2f} seconds for {1} executions.\".format(time_map, number_executions))"
   ]
  },
  {
   "cell_type": "code",
   "execution_count": 84,
   "metadata": {},
   "outputs": [
    {
     "name": "stdout",
     "output_type": "stream",
     "text": [
      "The list comp. takes 2.45 seconds for 1000 executions.\n"
     ]
    }
   ],
   "source": [
    "time_lstcomp = timeit.timeit('abs_using_lstcomp(lst)', globals=globals(), number=number_executions) \n",
    "print(\"The list comp. takes {0:0.2f} seconds for {1} executions.\".format(time_lstcomp, number_executions))"
   ]
  },
  {
   "cell_type": "markdown",
   "metadata": {},
   "source": [
    "**Summary** Functional programming (map, filter, reduce) is often faster, but is not as readable nor as flexible as list comprehensions.  \n",
    "Advice: aim to code in comprehensions (list, dictionary, set) and go functional if speed becomes an issue.  We'll get into Numpy later in the course and its vectorized way of doing computations is *the* fastest way to go."
   ]
  },
  {
   "cell_type": "markdown",
   "metadata": {},
   "source": [
    "## Filtering list comprehensions"
   ]
  },
  {
   "cell_type": "code",
   "execution_count": 85,
   "metadata": {},
   "outputs": [
    {
     "name": "stdout",
     "output_type": "stream",
     "text": [
      "['fee', 'fi', 'foo', 'fum']\n"
     ]
    }
   ],
   "source": [
    "## filter\n",
    "a = ['', 'fee', '', '', '', 'fi', '', '', '', '', 'foo', '', '', '', '', '', 'fum']\n",
    "b = [x for x in a if len(x) > 0]\n",
    "#what will this list comprehension return? \n",
    "print(b)"
   ]
  },
  {
   "cell_type": "markdown",
   "metadata": {},
   "source": [
    "### <font color='gray'>List Comprehension Question</font>\n",
    "Write a list comprehension that squares an item in the list below only if it's an integer."
   ]
  },
  {
   "cell_type": "code",
   "execution_count": 86,
   "metadata": {},
   "outputs": [
    {
     "data": {
      "text/plain": [
       "[49, 25, 0, 16]"
      ]
     },
     "execution_count": 86,
     "metadata": {},
     "output_type": "execute_result"
    }
   ],
   "source": [
    "a_lst = [7, '4', 5, 'a', 0, 4]\n",
    "\n",
    "[num**2 for num in a_lst if type(num) == int]"
   ]
  },
  {
   "cell_type": "markdown",
   "metadata": {},
   "source": [
    "<details><summary>\n",
    "Click here for solution…\n",
    "</summary>\n",
    "`a_sqrd = [elem**2 for elem in a_lst if type(elem) == int]`\n",
    "</details>"
   ]
  },
  {
   "cell_type": "markdown",
   "metadata": {},
   "source": [
    "## Nested list comprehensions\n",
    "You can do them, but do you want to?"
   ]
  },
  {
   "cell_type": "code",
   "execution_count": 87,
   "metadata": {},
   "outputs": [
    {
     "name": "stdout",
     "output_type": "stream",
     "text": [
      "The nested list:\n",
      "[[1, 2, 3], [4, 5, 6], [7, 8]]\n",
      "\n",
      "Flattened:[1, 2, 3, 4, 5, 6, 7, 8]\n"
     ]
    }
   ],
   "source": [
    "nest_lst = [[1,2,3], [4,5,6], [7,8]]\n",
    "print(\"The nested list:\")\n",
    "print(nest_lst)\n",
    "print()\n",
    "\n",
    "\n",
    "# Flatten the list?\n",
    "flat_lst = []\n",
    "for lst in nest_lst:#iterate 3 times\n",
    "    for item in lst: #iterate 3 times three times and two times\n",
    "        flat_lst.append(item)\n",
    "print(f\"Flattened:{flat_lst}\")"
   ]
  },
  {
   "cell_type": "code",
   "execution_count": 88,
   "metadata": {},
   "outputs": [
    {
     "name": "stdout",
     "output_type": "stream",
     "text": [
      "Flattened with list comprenension [1, 2, 3, 4, 5, 6, 7, 8]\n",
      "\n",
      "Do both methods for flattening result in the same list?\n",
      "True\n"
     ]
    }
   ],
   "source": [
    "# What if we use a list comprehension?    \n",
    "flat_lst2 = [item for lst in nest_lst for item in lst]\n",
    "print(f'Flattened with list comprenension {flat_lst2}')\n",
    "\n",
    "print(\"\\nDo both methods for flattening result in the same list?\")\n",
    "print(flat_lst == flat_lst2)"
   ]
  },
  {
   "cell_type": "markdown",
   "metadata": {},
   "source": [
    "## Having fun with Zip\n",
    "Useful way to combine same length iterables."
   ]
  },
  {
   "cell_type": "code",
   "execution_count": 89,
   "metadata": {},
   "outputs": [
    {
     "name": "stdout",
     "output_type": "stream",
     "text": [
      "The lists, separately:\n",
      "[1, 2, 3]\n",
      "['a', 'b', 'c']\n",
      "\n",
      "Zipped together:\n",
      "[(1, 'a'), (2, 'b'), (3, 'c')]\n"
     ]
    }
   ],
   "source": [
    "a1 = [1,2,3]\n",
    "a2 = ['a','b','c']\n",
    "print(\"The lists, separately:\")\n",
    "print(a1)\n",
    "print(a2)\n",
    "\n",
    "print(\"\\nZipped together:\")\n",
    "a1a2 = list(zip(a1,a2))\n",
    "print(a1a2)"
   ]
  },
  {
   "cell_type": "code",
   "execution_count": 90,
   "metadata": {},
   "outputs": [
    {
     "name": "stdout",
     "output_type": "stream",
     "text": [
      "\n",
      "How it's often used:\n",
      "a1: 1, a2: a\n",
      "a1: 2, a2: b\n",
      "a1: 3, a2: c\n"
     ]
    }
   ],
   "source": [
    "print(\"\\nHow it's often used:\")\n",
    "for v1, v2 in zip(a1, a2):\n",
    "    print(f\"a1: {v1}, a2: {v2}\")"
   ]
  },
  {
   "cell_type": "markdown",
   "metadata": {},
   "source": [
    "### Tuples\n",
    "\n",
    "Tuples are a lightweight (meaning relatively small in memory) immutable brother/sister of the `list`. Tuples are immutable, ordered collections.  Similar to lists, tuples are declared by passing an iterable to the `tuple()` constructor, with or without the syntactic parenthesis (this works because Python automatically interprets comma separated things that aren't specifically specified otherwise as tuples).  **If you want an ordered, lightweight data structure to hold unchanging data, use tuples.**"
   ]
  },
  {
   "cell_type": "code",
   "execution_count": 91,
   "metadata": {},
   "outputs": [
    {
     "name": "stdout",
     "output_type": "stream",
     "text": [
      "<class 'tuple'>\n"
     ]
    },
    {
     "data": {
      "text/plain": [
       "(1, 2)"
      ]
     },
     "execution_count": 91,
     "metadata": {},
     "output_type": "execute_result"
    }
   ],
   "source": [
    "#using tuple()\n",
    "my_first_tuple = tuple((1, 2))\n",
    "print(type(my_first_tuple))\n",
    "my_first_tuple"
   ]
  },
  {
   "cell_type": "code",
   "execution_count": 92,
   "metadata": {},
   "outputs": [
    {
     "name": "stdout",
     "output_type": "stream",
     "text": [
      "<class 'tuple'>\n"
     ]
    },
    {
     "data": {
      "text/plain": [
       "(1, 2)"
      ]
     },
     "execution_count": 92,
     "metadata": {},
     "output_type": "execute_result"
    }
   ],
   "source": [
    "# using ( , )\n",
    "\n",
    "my_second_tuple = (1, 2)\n",
    "print(type(my_second_tuple))\n",
    "my_second_tuple"
   ]
  },
  {
   "cell_type": "code",
   "execution_count": 94,
   "metadata": {},
   "outputs": [
    {
     "name": "stdout",
     "output_type": "stream",
     "text": [
      "<class 'tuple'>\n"
     ]
    },
    {
     "data": {
      "text/plain": [
       "(1, 2, 3)"
      ]
     },
     "execution_count": 94,
     "metadata": {},
     "output_type": "execute_result"
    }
   ],
   "source": [
    "# using var = values plural\n",
    "\n",
    "my_third_tuple = 1, 2, 3\n",
    "print(type(my_third_tuple))\n",
    "my_third_tuple"
   ]
  },
  {
   "cell_type": "code",
   "execution_count": 95,
   "metadata": {},
   "outputs": [
    {
     "data": {
      "text/plain": [
       "1"
      ]
     },
     "execution_count": 95,
     "metadata": {},
     "output_type": "execute_result"
    }
   ],
   "source": [
    "# internal functions or methods... not many\n",
    "\n",
    "#return index of the value \n",
    "my_first_tuple.index(2)"
   ]
  },
  {
   "cell_type": "code",
   "execution_count": 96,
   "metadata": {},
   "outputs": [
    {
     "data": {
      "text/plain": [
       "7"
      ]
     },
     "execution_count": 96,
     "metadata": {},
     "output_type": "execute_result"
    }
   ],
   "source": [
    "# count method returns how many times a value occurs in tuple\n",
    "\n",
    "new_tup = 3,4,2,4,5,6,6,2,1,4,6,5,1,5,6,6,6,6,7\n",
    "\n",
    "new_tup.count(6)"
   ]
  },
  {
   "cell_type": "markdown",
   "metadata": {},
   "source": [
    "### <font color='gray'>Tuple Questions</font>\n",
    "\n",
    "1. Make a tuple called `my_tuple` with the values `1` and `\"hello\"` in it. \n",
    "    1. How do you access the `1` in `my_tuple`?\n",
    "    2. How do you access the `\"hello\"` in `my_tuple`?\n",
    "2. Can you change the `\"hello\"` entry in `my_tuple` to `\"hello there\"`? Why or why not?"
   ]
  },
  {
   "cell_type": "code",
   "execution_count": 97,
   "metadata": {},
   "outputs": [
    {
     "name": "stdout",
     "output_type": "stream",
     "text": [
      "(1, 'hello')\n",
      "1\n",
      "hello\n"
     ]
    }
   ],
   "source": [
    "my_tuple = 1, 'hello'\n",
    "print(my_tuple)\n",
    "print(my_tuple[0])\n",
    "print(my_tuple[1])"
   ]
  },
  {
   "cell_type": "markdown",
   "metadata": {},
   "source": [
    "<details><summary>\n",
    "Click here for solution 1.A\n",
    "</summary>\n",
    "`my_tuple = (1, 'hello')`\n",
    "`print(my_tuple[0])`\n",
    "</details>"
   ]
  },
  {
   "cell_type": "code",
   "execution_count": null,
   "metadata": {},
   "outputs": [],
   "source": []
  },
  {
   "cell_type": "markdown",
   "metadata": {},
   "source": [
    "<details><summary>\n",
    "Click here for solution 1.B\n",
    "</summary>\n",
    "`my_tuple = (1, 'hello')`\n",
    "`print(my_tuple[1])`\n",
    "</details>"
   ]
  },
  {
   "cell_type": "code",
   "execution_count": null,
   "metadata": {},
   "outputs": [],
   "source": [
    "# No because of tuple's immutability"
   ]
  },
  {
   "cell_type": "markdown",
   "metadata": {},
   "source": [
    "<details><summary>\n",
    "Click here for solution 2\n",
    "</summary>\n",
    "You can't.  Tuple are immutable (you can't modify them after creation).\n",
    "</details>"
   ]
  },
  {
   "cell_type": "code",
   "execution_count": null,
   "metadata": {},
   "outputs": [],
   "source": []
  },
  {
   "cell_type": "markdown",
   "metadata": {},
   "source": [
    "### Dictionaries\n",
    "\n",
    "So far, the only collections that we have talked about are ordered.  These are great as containers if there is some intrinsic order to the data that we're storing. However, there are plenty of times when we don't care about order, either because it simply doesn't matter or because the data are associated with each other in a different way.  Dictionaries are useful because they link data (the value) to a key for fast look-up.  **When you want to link data or any object to some entity, use a dictionary.**"
   ]
  },
  {
   "cell_type": "code",
   "execution_count": 5,
   "metadata": {},
   "outputs": [
    {
     "data": {
      "text/plain": [
       "{'Georgia': 'Atlanta', 'Colorado': 'Denver', 'Indiana': 'Indianapolis'}"
      ]
     },
     "execution_count": 5,
     "metadata": {},
     "output_type": "execute_result"
    }
   ],
   "source": [
    "# can use dict(*kwargs) but it is more typical to see curly brackets populated\n",
    "# dict(Georgia = 'Atlanta', Colorado= 'Denver', Indiana = 'Indianapolis')\n",
    "states_caps_dict = {'Georgia': 'Atlanta', 'Colorado': 'Denver', 'Indiana': 'Indianapolis'}\n",
    "states_caps_dict"
   ]
  },
  {
   "cell_type": "code",
   "execution_count": 6,
   "metadata": {},
   "outputs": [
    {
     "data": {
      "text/plain": [
       "'Atlanta'"
      ]
     },
     "execution_count": 6,
     "metadata": {},
     "output_type": "execute_result"
    }
   ],
   "source": [
    "#Lets grab the capital of one state\n",
    "states_caps_dict['Georgia']"
   ]
  },
  {
   "cell_type": "code",
   "execution_count": 7,
   "metadata": {},
   "outputs": [
    {
     "ename": "KeyError",
     "evalue": "'Washington'",
     "output_type": "error",
     "traceback": [
      "\u001b[0;31m---------------------------------------------------------------------------\u001b[0m",
      "\u001b[0;31mKeyError\u001b[0m                                  Traceback (most recent call last)",
      "\u001b[0;32m<ipython-input-7-adccdac11996>\u001b[0m in \u001b[0;36m<module>\u001b[0;34m\u001b[0m\n\u001b[1;32m      1\u001b[0m \u001b[0;31m# for a standard dictionary, asking for a key that hasn't been assigned previously\u001b[0m\u001b[0;34m\u001b[0m\u001b[0;34m\u001b[0m\u001b[0;34m\u001b[0m\u001b[0m\n\u001b[0;32m----> 2\u001b[0;31m \u001b[0mstates_caps_dict\u001b[0m\u001b[0;34m[\u001b[0m\u001b[0;34m'Washington'\u001b[0m\u001b[0;34m]\u001b[0m\u001b[0;34m\u001b[0m\u001b[0;34m\u001b[0m\u001b[0m\n\u001b[0m",
      "\u001b[0;31mKeyError\u001b[0m: 'Washington'"
     ]
    }
   ],
   "source": [
    "# for a standard dictionary, asking for a key that hasn't been assigned previously\n",
    "states_caps_dict['Washington']"
   ]
  },
  {
   "cell_type": "code",
   "execution_count": 8,
   "metadata": {},
   "outputs": [
    {
     "data": {
      "text/plain": [
       "'State not found'"
      ]
     },
     "execution_count": 8,
     "metadata": {},
     "output_type": "execute_result"
    }
   ],
   "source": [
    "# .get method allows a default value to be supplied\n",
    "states_caps_dict.get('Washington', 'State not found')"
   ]
  },
  {
   "cell_type": "code",
   "execution_count": 9,
   "metadata": {},
   "outputs": [
    {
     "data": {
      "text/plain": [
       "{'Georgia': 'Atlanta',\n",
       " 'Colorado': 'Denver',\n",
       " 'Indiana': 'Indianapolis',\n",
       " 'Washington': 'Olympia'}"
      ]
     },
     "execution_count": 9,
     "metadata": {},
     "output_type": "execute_result"
    }
   ],
   "source": [
    "# but we could have assigned it:\n",
    "states_caps_dict['Washington'] = 'Olympia'\n",
    "states_caps_dict"
   ]
  },
  {
   "cell_type": "code",
   "execution_count": 10,
   "metadata": {},
   "outputs": [
    {
     "name": "stdout",
     "output_type": "stream",
     "text": [
      "defaultdict(<function <lambda> at 0x7fbd704a0ef0>, {'Georgia': 'Atlanta', 'Colorado': 'Denver', 'Indiana': 'Indianapolis', 'Washington': 'Olympia'})\n"
     ]
    }
   ],
   "source": [
    "# default dictionaries allow a default value to be set\n",
    "from collections import defaultdict\n",
    "states_caps = defaultdict(lambda: 'State not found')\n",
    "states_caps.update(states_caps_dict)\n",
    "print(states_caps)\n",
    "# states_caps['Georgia']\n",
    "# states_caps['Oregon']"
   ]
  },
  {
   "cell_type": "code",
   "execution_count": 12,
   "metadata": {},
   "outputs": [
    {
     "data": {
      "text/plain": [
       "'State not found'"
      ]
     },
     "execution_count": 12,
     "metadata": {},
     "output_type": "execute_result"
    }
   ],
   "source": [
    "states_caps['Cali']"
   ]
  },
  {
   "cell_type": "code",
   "execution_count": null,
   "metadata": {},
   "outputs": [],
   "source": []
  },
  {
   "cell_type": "markdown",
   "metadata": {},
   "source": [
    "### <font color='gray'>Dictionary Questions</font>\n",
    "\n",
    "1. Make a dictionary called `restaurant_types` that has the following associated `key-value` pairs: `('Red Lobster', 'Seafood')`, `('Burger King', 'Fast Food')`, `('Safeway', 'Groceries')`.\n",
    "\n",
    "2. How do you find the resturant type for `'Burger King'`?\n",
    "3. What if you don't know whether or not `'Outback Steakhouse'` is in the `resturant_types` dictionary - how would you go about trying to get it's resturant type and make sure that you won't get an error?"
   ]
  },
  {
   "cell_type": "code",
   "execution_count": 113,
   "metadata": {},
   "outputs": [
    {
     "data": {
      "text/plain": [
       "{'Red Lobster': 'Seafood', 'Burger King': 'Fast Food', 'Safeway': 'Groceries'}"
      ]
     },
     "execution_count": 113,
     "metadata": {},
     "output_type": "execute_result"
    }
   ],
   "source": [
    "restaurant_types = {'Red Lobster': 'Seafood', 'Burger King': 'Fast Food', 'Safeway': 'Groceries'}\n",
    "restaurant_types"
   ]
  },
  {
   "cell_type": "markdown",
   "metadata": {},
   "source": [
    "<details><summary>\n",
    "Click here for solution 1\n",
    "</summary>\n",
    "```\n",
    "restaurant_types = {'Red Lobster': 'Seafood', 'Burger King': 'Fast Food', 'Safeway': 'Groceries'}\n",
    "print(restaurant_types)\n",
    "```\n",
    "</details>"
   ]
  },
  {
   "cell_type": "code",
   "execution_count": 114,
   "metadata": {},
   "outputs": [
    {
     "data": {
      "text/plain": [
       "'Fast Food'"
      ]
     },
     "execution_count": 114,
     "metadata": {},
     "output_type": "execute_result"
    }
   ],
   "source": [
    "restaurant_types['Burger King']"
   ]
  },
  {
   "cell_type": "markdown",
   "metadata": {},
   "source": [
    "<details><summary>\n",
    "Click here for solution 2\n",
    "</summary>\n",
    "```\n",
    "restaurant_types['Burger King']\n",
    "```\n",
    "</details>"
   ]
  },
  {
   "cell_type": "code",
   "execution_count": 115,
   "metadata": {},
   "outputs": [
    {
     "data": {
      "text/plain": [
       "'not found'"
      ]
     },
     "execution_count": 115,
     "metadata": {},
     "output_type": "execute_result"
    }
   ],
   "source": [
    "restaurant_types.get('Outback Steakhouse', 'not found')"
   ]
  },
  {
   "cell_type": "markdown",
   "metadata": {},
   "source": [
    "<details><summary>\n",
    "Click here for solution 3\n",
    "</summary>\n",
    "`restaurant_types.get('Outback Steakhouse', 'Restaurant not in dictionary.')`\n",
    "</details>"
   ]
  },
  {
   "cell_type": "markdown",
   "metadata": {},
   "source": [
    "## Sets\n",
    "\n",
    "A set combines some of the features of both the `list` and the `dictionary`. A set is defined as an unordered, mutable collection of unique items. This means that a `set` is a data structure where you can store items, without caring about their order and knowing that there will be at most one of them in the structure.  Sets use a hash to link each item to membership or not.  **If you are going to check membership in a data structure, use a set.**"
   ]
  },
  {
   "cell_type": "code",
   "execution_count": 116,
   "metadata": {},
   "outputs": [
    {
     "name": "stdout",
     "output_type": "stream",
     "text": [
      "<class 'set'>\n",
      "<class 'set'>\n",
      "<class 'dict'>\n"
     ]
    }
   ],
   "source": [
    "# how to initialize\n",
    "my_set = set([1, 2, 3])\n",
    "my_other_set = {1, 2, 3}\n",
    "my_empty_set = {}  # uh, no.... dict\n",
    "print(type(my_set))\n",
    "print(type(my_other_set))\n",
    "print(type(my_empty_set)) # see?"
   ]
  },
  {
   "cell_type": "code",
   "execution_count": 117,
   "metadata": {},
   "outputs": [
    {
     "name": "stdout",
     "output_type": "stream",
     "text": [
      "<class 'set'>\n"
     ]
    }
   ],
   "source": [
    "empty_set_2 = set()\n",
    "print(type(empty_set_2))"
   ]
  },
  {
   "cell_type": "code",
   "execution_count": 118,
   "metadata": {},
   "outputs": [
    {
     "data": {
      "text/plain": [
       "['__and__',\n",
       " '__class__',\n",
       " '__contains__',\n",
       " '__delattr__',\n",
       " '__dir__',\n",
       " '__doc__',\n",
       " '__eq__',\n",
       " '__format__',\n",
       " '__ge__',\n",
       " '__getattribute__',\n",
       " '__gt__',\n",
       " '__hash__',\n",
       " '__iand__',\n",
       " '__init__',\n",
       " '__init_subclass__',\n",
       " '__ior__',\n",
       " '__isub__',\n",
       " '__iter__',\n",
       " '__ixor__',\n",
       " '__le__',\n",
       " '__len__',\n",
       " '__lt__',\n",
       " '__ne__',\n",
       " '__new__',\n",
       " '__or__',\n",
       " '__rand__',\n",
       " '__reduce__',\n",
       " '__reduce_ex__',\n",
       " '__repr__',\n",
       " '__ror__',\n",
       " '__rsub__',\n",
       " '__rxor__',\n",
       " '__setattr__',\n",
       " '__sizeof__',\n",
       " '__str__',\n",
       " '__sub__',\n",
       " '__subclasshook__',\n",
       " '__xor__',\n",
       " 'add',\n",
       " 'clear',\n",
       " 'copy',\n",
       " 'difference',\n",
       " 'difference_update',\n",
       " 'discard',\n",
       " 'intersection',\n",
       " 'intersection_update',\n",
       " 'isdisjoint',\n",
       " 'issubset',\n",
       " 'issuperset',\n",
       " 'pop',\n",
       " 'remove',\n",
       " 'symmetric_difference',\n",
       " 'symmetric_difference_update',\n",
       " 'union',\n",
       " 'update']"
      ]
     },
     "execution_count": 118,
     "metadata": {},
     "output_type": "execute_result"
    }
   ],
   "source": [
    "dir(empty_set_2)"
   ]
  },
  {
   "cell_type": "code",
   "execution_count": 119,
   "metadata": {},
   "outputs": [
    {
     "data": {
      "text/plain": [
       "{1, 2, 3, 5, 6, 7}"
      ]
     },
     "execution_count": 119,
     "metadata": {},
     "output_type": "execute_result"
    }
   ],
   "source": [
    "my_set = {1, 2, 3}\n",
    "my_other_set = {5, 6, 7}\n",
    "my_set.union(my_other_set)"
   ]
  },
  {
   "cell_type": "code",
   "execution_count": 120,
   "metadata": {},
   "outputs": [
    {
     "data": {
      "text/plain": [
       "{1, 2, 3, 4}"
      ]
     },
     "execution_count": 120,
     "metadata": {},
     "output_type": "execute_result"
    }
   ],
   "source": [
    "my_set.add(4)\n",
    "my_set"
   ]
  },
  {
   "cell_type": "code",
   "execution_count": 121,
   "metadata": {},
   "outputs": [
    {
     "data": {
      "text/plain": [
       "{1, 2, 3, 4, 5, 6, 7}"
      ]
     },
     "execution_count": 121,
     "metadata": {},
     "output_type": "execute_result"
    }
   ],
   "source": [
    "my_set.update(my_other_set)\n",
    "my_set"
   ]
  },
  {
   "cell_type": "code",
   "execution_count": 122,
   "metadata": {},
   "outputs": [
    {
     "data": {
      "text/plain": [
       "{1, 2, 3, 4, 6, 7}"
      ]
     },
     "execution_count": 122,
     "metadata": {},
     "output_type": "execute_result"
    }
   ],
   "source": [
    "my_set.remove(5)\n",
    "my_set"
   ]
  },
  {
   "cell_type": "code",
   "execution_count": 123,
   "metadata": {},
   "outputs": [
    {
     "data": {
      "text/plain": [
       "{6, 7}"
      ]
     },
     "execution_count": 123,
     "metadata": {},
     "output_type": "execute_result"
    }
   ],
   "source": [
    "my_set.intersection(my_other_set)"
   ]
  },
  {
   "cell_type": "code",
   "execution_count": 124,
   "metadata": {},
   "outputs": [
    {
     "data": {
      "text/plain": [
       "{1, 2, 3, 4, 6, 7}"
      ]
     },
     "execution_count": 124,
     "metadata": {},
     "output_type": "execute_result"
    }
   ],
   "source": [
    "my_set.add(6)\n",
    "my_set"
   ]
  },
  {
   "cell_type": "markdown",
   "metadata": {},
   "source": [
    "**Set Questions**\n",
    "\n",
    "1. Make a set called `first_set` with the values 1-10 and another with the values 5-15 called `second_set`.\n",
    "2. Add the value 11 to `first_set`.\n",
    "3. Add the string `'hello'` to `second_set`.\n",
    "4. Using one of the methods discussed above, find what elements `first_set` and `second_set` have in common."
   ]
  },
  {
   "cell_type": "code",
   "execution_count": 125,
   "metadata": {},
   "outputs": [
    {
     "data": {
      "text/plain": [
       "{1, 2, 3, 4, 5, 6, 7, 8, 9, 10}"
      ]
     },
     "execution_count": 125,
     "metadata": {},
     "output_type": "execute_result"
    }
   ],
   "source": [
    "first_set = set()\n",
    "for i in range(1,11):\n",
    "    first_set.add(i)\n",
    "first_set\n"
   ]
  },
  {
   "cell_type": "markdown",
   "metadata": {},
   "source": [
    "<details><summary>\n",
    "Click here for answers\n",
    "</summary>\n",
    "    \n",
    "```first_set = set(range(1,11))```\n",
    "    \n",
    "```second_set = set(range(5,16))```\n",
    "</details>"
   ]
  },
  {
   "cell_type": "code",
   "execution_count": 126,
   "metadata": {},
   "outputs": [
    {
     "data": {
      "text/plain": [
       "{1, 2, 3, 4, 5, 6, 7, 8, 9, 10, 11}"
      ]
     },
     "execution_count": 126,
     "metadata": {},
     "output_type": "execute_result"
    }
   ],
   "source": [
    "first_set.add(11)\n",
    "first_set"
   ]
  },
  {
   "cell_type": "markdown",
   "metadata": {},
   "source": [
    "<details><summary>\n",
    "Click here for answers\n",
    "</summary>\n",
    "    \n",
    "```\n",
    "first_set.add(11)\n",
    "```\n",
    "</details>"
   ]
  },
  {
   "cell_type": "code",
   "execution_count": 130,
   "metadata": {},
   "outputs": [
    {
     "data": {
      "text/plain": [
       "{10, 11, 12, 13, 14, 15, 5, 6, 7, 8, 9, 'hello'}"
      ]
     },
     "execution_count": 130,
     "metadata": {},
     "output_type": "execute_result"
    }
   ],
   "source": [
    "second_set = set(range(5,16))\n",
    "second_set.add('hello')\n",
    "second_set"
   ]
  },
  {
   "cell_type": "markdown",
   "metadata": {},
   "source": [
    "<details><summary>\n",
    "Click here for answers\n",
    "</summary>\n",
    "    \n",
    "```\n",
    "second_set.add('hello')\n",
    "```\n",
    "</details>"
   ]
  },
  {
   "cell_type": "code",
   "execution_count": 132,
   "metadata": {},
   "outputs": [
    {
     "data": {
      "text/plain": [
       "{5, 6, 7, 8, 9, 10, 11}"
      ]
     },
     "execution_count": 132,
     "metadata": {},
     "output_type": "execute_result"
    }
   ],
   "source": [
    "first_set.intersection(second_set)"
   ]
  },
  {
   "cell_type": "markdown",
   "metadata": {},
   "source": [
    "<details><summary>\n",
    "Click here for answers\n",
    "</summary>\n",
    "    \n",
    "```\n",
    "intersection = first_set.intersection(second_set)\n",
    "```\n",
    "</details>\n"
   ]
  },
  {
   "cell_type": "code",
   "execution_count": null,
   "metadata": {},
   "outputs": [],
   "source": []
  }
 ],
 "metadata": {
  "kernelspec": {
   "display_name": "Python 3",
   "language": "python",
   "name": "python3"
  },
  "language_info": {
   "codemirror_mode": {
    "name": "ipython",
    "version": 3
   },
   "file_extension": ".py",
   "mimetype": "text/x-python",
   "name": "python",
   "nbconvert_exporter": "python",
   "pygments_lexer": "ipython3",
   "version": "3.7.7"
  }
 },
 "nbformat": 4,
 "nbformat_minor": 4
}
