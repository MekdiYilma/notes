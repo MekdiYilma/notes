{
 "cells": [
  {
   "cell_type": "markdown",
   "metadata": {},
   "source": [
    "# Jupyter Notebook Intro"
   ]
  },
  {
   "cell_type": "code",
   "execution_count": 2,
   "metadata": {},
   "outputs": [
    {
     "name": "stdout",
     "output_type": "stream",
     "text": [
      "<class 'int'>\n",
      "<class 'float'>\n"
     ]
    }
   ],
   "source": [
    "print(type(7))\n",
    "print(type(7.4))\n"
   ]
  },
  {
   "cell_type": "code",
   "execution_count": 5,
   "metadata": {},
   "outputs": [
    {
     "data": {
      "text/plain": [
       "(3+4j)"
      ]
     },
     "execution_count": 5,
     "metadata": {},
     "output_type": "execute_result"
    }
   ],
   "source": [
    "complex(3,4)"
   ]
  },
  {
   "cell_type": "code",
   "execution_count": 6,
   "metadata": {},
   "outputs": [
    {
     "name": "stdout",
     "output_type": "stream",
     "text": [
      "3\n",
      "3.0\n",
      "3.1\n"
     ]
    }
   ],
   "source": [
    "print(int(3.5))\n",
    "print(float(3))\n",
    "print(str(3.1))"
   ]
  },
  {
   "cell_type": "code",
   "execution_count": 9,
   "metadata": {},
   "outputs": [
    {
     "data": {
      "text/plain": [
       "\"they told me to do this, and I listened. I'll continue..they told me to do this, and I listened. I'll continue..\""
      ]
     },
     "execution_count": 9,
     "metadata": {},
     "output_type": "execute_result"
    }
   ],
   "source": [
    "string = 'they told me to do this, and I listened. I\\'ll continue..'\n",
    "string * 2"
   ]
  },
  {
   "cell_type": "code",
   "execution_count": 10,
   "metadata": {},
   "outputs": [
    {
     "data": {
      "text/plain": [
       "\"they told me to do this, and I listened. I'll continue.. append string\""
      ]
     },
     "execution_count": 10,
     "metadata": {},
     "output_type": "execute_result"
    }
   ],
   "source": [
    "string + ' append string'"
   ]
  },
  {
   "cell_type": "code",
   "execution_count": 20,
   "metadata": {},
   "outputs": [
    {
     "data": {
      "text/plain": [
       "'0-1-2-3-4-5'"
      ]
     },
     "execution_count": 20,
     "metadata": {},
     "output_type": "execute_result"
    }
   ],
   "source": [
    "lst = list(str(i) for i in range(6))\n",
    "\n",
    "'-'.join(lst)"
   ]
  },
  {
   "cell_type": "code",
   "execution_count": 26,
   "metadata": {},
   "outputs": [
    {
     "data": {
      "text/plain": [
       "'Repeating string Repeating string Repeating string '"
      ]
     },
     "execution_count": 26,
     "metadata": {},
     "output_type": "execute_result"
    }
   ],
   "source": [
    "rep_string = 'Repeating string ' * 3 \n",
    "rep_string.strip() #leading and trailing whitespace removed\n",
    "rep_string.strip('g ') #string is immutable, therefore this will probably have to be assigned"
   ]
  },
  {
   "cell_type": "code",
   "execution_count": 32,
   "metadata": {},
   "outputs": [
    {
     "data": {
      "text/plain": [
       "['they',\n",
       " 'told',\n",
       " 'me',\n",
       " 'to',\n",
       " 'do',\n",
       " 'this,',\n",
       " 'and',\n",
       " 'I',\n",
       " 'listened.',\n",
       " \"I'll\",\n",
       " 'continue..']"
      ]
     },
     "execution_count": 32,
     "metadata": {},
     "output_type": "execute_result"
    }
   ],
   "source": [
    "string.capitalize()\n",
    "string.replace(' ','*')\n",
    "string.split(' ')"
   ]
  },
  {
   "cell_type": "code",
   "execution_count": null,
   "metadata": {},
   "outputs": [],
   "source": [
    "string. #then hit tab to see all available methods"
   ]
  },
  {
   "cell_type": "code",
   "execution_count": 33,
   "metadata": {},
   "outputs": [
    {
     "data": {
      "text/plain": [
       "'5'"
      ]
     },
     "execution_count": 33,
     "metadata": {},
     "output_type": "execute_result"
    }
   ],
   "source": [
    "lst.pop()"
   ]
  },
  {
   "cell_type": "code",
   "execution_count": 34,
   "metadata": {},
   "outputs": [
    {
     "data": {
      "text/plain": [
       "['0', '1', '2', '3', '4']"
      ]
     },
     "execution_count": 34,
     "metadata": {},
     "output_type": "execute_result"
    }
   ],
   "source": [
    "lst"
   ]
  },
  {
   "cell_type": "code",
   "execution_count": 35,
   "metadata": {},
   "outputs": [],
   "source": [
    "lst.remove('4')"
   ]
  },
  {
   "cell_type": "code",
   "execution_count": 36,
   "metadata": {},
   "outputs": [
    {
     "data": {
      "text/plain": [
       "['0', '1', '2', '3']"
      ]
     },
     "execution_count": 36,
     "metadata": {},
     "output_type": "execute_result"
    }
   ],
   "source": [
    "lst"
   ]
  },
  {
   "cell_type": "code",
   "execution_count": 39,
   "metadata": {},
   "outputs": [
    {
     "data": {
      "text/plain": [
       "['3', '2', '1', '0']"
      ]
     },
     "execution_count": 39,
     "metadata": {},
     "output_type": "execute_result"
    }
   ],
   "source": [
    "lst.reverse()\n",
    "lst"
   ]
  },
  {
   "cell_type": "code",
   "execution_count": 41,
   "metadata": {},
   "outputs": [
    {
     "data": {
      "text/plain": [
       "['3', 'new', '1', '0']"
      ]
     },
     "execution_count": 41,
     "metadata": {},
     "output_type": "execute_result"
    }
   ],
   "source": [
    "lst[1] = 'new'\n",
    "lst"
   ]
  },
  {
   "cell_type": "code",
   "execution_count": 42,
   "metadata": {},
   "outputs": [
    {
     "data": {
      "text/plain": [
       "tuple"
      ]
     },
     "execution_count": 42,
     "metadata": {},
     "output_type": "execute_result"
    }
   ],
   "source": [
    "# Tuple casting\n",
    "my_first_tuple = tuple([1, 2])\n",
    "my_other_tuple = (1, 2)\n",
    "my_third_tuple = 1, 2, 3\n",
    "type(my_third_tuple)"
   ]
  },
  {
   "cell_type": "code",
   "execution_count": 43,
   "metadata": {},
   "outputs": [
    {
     "name": "stdout",
     "output_type": "stream",
     "text": [
      "Indianapolis\n"
     ]
    }
   ],
   "source": [
    "states_caps = [('Georgia', 'Atlanta'), ('Colorado', 'Denver'), ('Indiana', 'Indianapolis')]\n",
    "\n",
    "search_state = 'Indiana'\n",
    "capital = 'State not found'\n",
    "for state_cap in states_caps:\n",
    "    if state_cap[0] == search_state:\n",
    "        capital = state_cap[1]\n",
    "        break\n",
    "print(capital)"
   ]
  },
  {
   "cell_type": "code",
   "execution_count": 44,
   "metadata": {},
   "outputs": [
    {
     "data": {
      "text/plain": [
       "'Indianapolis'"
      ]
     },
     "execution_count": 44,
     "metadata": {},
     "output_type": "execute_result"
    }
   ],
   "source": [
    "states_caps_dict = {'Georgia': 'Atlanta', 'Colorado': 'Denver', 'Indiana': 'Indianapolis'}\n",
    "states_caps_dict[search_state]"
   ]
  },
  {
   "cell_type": "code",
   "execution_count": 50,
   "metadata": {},
   "outputs": [
    {
     "data": {
      "text/plain": [
       "'State not found'"
      ]
     },
     "execution_count": 50,
     "metadata": {},
     "output_type": "execute_result"
    }
   ],
   "source": [
    "states_caps_dict.get('Washington', 'State not found')"
   ]
  },
  {
   "cell_type": "code",
   "execution_count": 51,
   "metadata": {},
   "outputs": [
    {
     "data": {
      "text/plain": [
       "{1, 2, 3, 5, 6, 7}"
      ]
     },
     "execution_count": 51,
     "metadata": {},
     "output_type": "execute_result"
    }
   ],
   "source": [
    "my_set, my_other_set = {1, 2, 3}, {5, 6, 7}\n",
    "my_set.union(my_other_set)"
   ]
  },
  {
   "cell_type": "code",
   "execution_count": 55,
   "metadata": {},
   "outputs": [
    {
     "data": {
      "text/plain": [
       "{1, 2, 3, 8}"
      ]
     },
     "execution_count": 55,
     "metadata": {},
     "output_type": "execute_result"
    }
   ],
   "source": [
    "my_set.add(8)\n",
    "my_set"
   ]
  },
  {
   "cell_type": "code",
   "execution_count": 57,
   "metadata": {},
   "outputs": [
    {
     "data": {
      "text/plain": [
       "{1, 2, 3, 5, 6, 7, 8}"
      ]
     },
     "execution_count": 57,
     "metadata": {},
     "output_type": "execute_result"
    }
   ],
   "source": [
    "my_set.update(my_other_set)\n",
    "my_set"
   ]
  },
  {
   "cell_type": "code",
   "execution_count": null,
   "metadata": {},
   "outputs": [],
   "source": []
  },
  {
   "cell_type": "code",
   "execution_count": null,
   "metadata": {},
   "outputs": [],
   "source": []
  },
  {
   "cell_type": "code",
   "execution_count": null,
   "metadata": {},
   "outputs": [],
   "source": []
  },
  {
   "cell_type": "code",
   "execution_count": null,
   "metadata": {},
   "outputs": [],
   "source": []
  },
  {
   "cell_type": "code",
   "execution_count": null,
   "metadata": {},
   "outputs": [],
   "source": []
  },
  {
   "cell_type": "code",
   "execution_count": null,
   "metadata": {},
   "outputs": [],
   "source": []
  },
  {
   "cell_type": "markdown",
   "metadata": {},
   "source": [
    "### Markdown v. Code cell\n",
    "\n",
    "Markdown is a text-to-HTML conversion tool for web writers. It involves very little \"code\" knowledge and will be utilized throught this course including your case study presentations, capstone ipynb files and README files.\n",
    "\n",
    "#### To convert a code cell into markdown: esc. + 'm'\n",
    "\n",
    "\n",
    "#### Code cell in Jupyter notebook allows one to code in python. To execute code in a cell, use shift + enter\n",
    "\n",
    "\n",
    "** When you learn a new shortcut in JN, share with the group, you will want to practice these shortcuts for quicker and more enjoyable coding experience\""
   ]
  },
  {
   "cell_type": "markdown",
   "metadata": {},
   "source": [
    "# Python Data Types"
   ]
  },
  {
   "cell_type": "markdown",
   "metadata": {},
   "source": [
    "## Lists\n",
    "\n",
    "Python Lists are a flexible container that holds other objects in an ordered arrangment.  **A list is a general purpose, ordered data structure that allows you to change the data it holds (mutable).**"
   ]
  },
  {
   "cell_type": "code",
   "execution_count": null,
   "metadata": {},
   "outputs": [],
   "source": [
    "#lists can contain many different types of data... example...\n",
    "my_bag_has = ['lunch', 1.50, True, [\"HitchHiker's Guide\", 'Fluent Python', 'Tensorflow'], 42]\n",
    "#Here we see a str, float, bool, list, and int all in one list called \"my_bag_has\"\n",
    "\n",
    "#grab the \"third\" element in a list (remeber zero indexing)\n",
    "print(my_bag_has[3])"
   ]
  },
  {
   "cell_type": "code",
   "execution_count": null,
   "metadata": {},
   "outputs": [],
   "source": [
    "#this is a range object. \n",
    "range_lst = range(-5, 5)\n",
    "type(range_lst)\n",
    "# print(range_lst)\n"
   ]
  },
  {
   "cell_type": "code",
   "execution_count": null,
   "metadata": {},
   "outputs": [],
   "source": [
    "#to access information stored in this range object, we can loop through and print what is being stored\n",
    "\n",
    "for i in range_lst:\n",
    "    print(i)"
   ]
  },
  {
   "cell_type": "code",
   "execution_count": null,
   "metadata": {},
   "outputs": [],
   "source": [
    "#printing with that list will cause some issues... I want to access every value at once...\n",
    "#lets cast it to a list\n",
    "new_lst = list(range_lst)\n",
    "new_lst"
   ]
  },
  {
   "cell_type": "markdown",
   "metadata": {},
   "source": [
    "## Loops, map and list comprehensions\n",
    "\n",
    "Loop: a for loop is a nice and quick way to modify, filter or visualize information stored in a list\n",
    "\n",
    "Map: this is a functional builtin which returns a map object(which is an iterator) of the results after applying the given function to each item of a given iterable (list, tuple etc.)\n",
    "\n",
    "List Comprehension: fast, pythonic way to rewrite a for loop. Takes some practice but is great when you get it"
   ]
  },
  {
   "cell_type": "code",
   "execution_count": null,
   "metadata": {},
   "outputs": [],
   "source": [
    "# return the absolute value of each element in the list a using\n",
    "# 1) a for loop\n",
    "# 2) a functional built-in, map\n",
    "# 3) a list comprehension\n",
    "\n",
    "# using for loop (try to avoid this when possible but important to learn the basic coding concepts)\n",
    "initial_lst = range(-10,11)\n",
    "\n",
    "abs_for_loop = []\n",
    "for elem in initial_lst:\n",
    "    #store the absolute value into list accumulator above \n",
    "    abs_for_loop.append(abs(elem))\n",
    "    \n",
    "    \n",
    "abs_for_loop\n",
    "#we now have the absolute value of every number in the original list"
   ]
  },
  {
   "cell_type": "code",
   "execution_count": null,
   "metadata": {},
   "outputs": [],
   "source": [
    "# with functional builtins (map)\n",
    "#Note the map function takes another function as a parameter and other iterable objects like a list\n",
    "abs_map = map(abs,initial_lst)\n",
    "abs_map"
   ]
  },
  {
   "cell_type": "code",
   "execution_count": null,
   "metadata": {},
   "outputs": [],
   "source": [
    "## using a list comprehension (very Pythonic and fast)\n",
    "abs_lstcomp = [abs(elem) for elem in initial_lst]\n",
    "\n",
    "abs_lstcomp"
   ]
  },
  {
   "cell_type": "markdown",
   "metadata": {},
   "source": [
    "## Lets functionize"
   ]
  },
  {
   "cell_type": "code",
   "execution_count": null,
   "metadata": {},
   "outputs": [],
   "source": [
    "# define absolute value functions\n",
    "\n",
    "def abs_using_for(lst):\n",
    "    \"\"\"Returns a list containing the absolute values of all \n",
    "       elements in lst using a for loop.\n",
    "    \"\"\"\n",
    "    pass\n",
    "    \n",
    "\n",
    "def abs_using_map(lst):\n",
    "    \"\"\"Returns a list containing the absolute values of all \n",
    "       elements in lst using map.\n",
    "    \"\"\"\n",
    "    pass\n",
    "\n",
    "def abs_using_lstcomp(lst):\n",
    "    \"\"\"Returns a list containing the absolute values of all \n",
    "       elements in lst using a list comprehension.\n",
    "    \"\"\"\n",
    "    pass"
   ]
  },
  {
   "cell_type": "markdown",
   "metadata": {},
   "source": [
    "### So which version is best?\n",
    "Code readability is very imporant in Python, and that's one reason why list comprehensions are \"Pythonic.\"\n",
    "Of course, speed matters too.  So which one is fastest?"
   ]
  },
  {
   "cell_type": "code",
   "execution_count": null,
   "metadata": {},
   "outputs": [],
   "source": [
    "# import the timeit module\n",
    "import timeit\n",
    "number_executions = 1000"
   ]
  },
  {
   "cell_type": "code",
   "execution_count": null,
   "metadata": {},
   "outputs": [],
   "source": [
    "# define a larger list so there is more to time\n",
    "lst = range(-20000, 20001)"
   ]
  },
  {
   "cell_type": "code",
   "execution_count": null,
   "metadata": {},
   "outputs": [],
   "source": [
    "# use globals so lst is defined in the function call\n",
    "time_for = timeit.timeit('abs_using_for(lst)', globals=globals(), number=number_executions) \n",
    "print(\"The for function takes {0:0.2f} seconds for {1} executions.\".format(time_for, number_executions))"
   ]
  },
  {
   "cell_type": "code",
   "execution_count": null,
   "metadata": {},
   "outputs": [],
   "source": [
    "time_map = timeit.timeit('abs_using_map(lst)', globals=globals(), number=number_executions) \n",
    "print(\"The map function takes {0:0.2f} seconds for {1} executions.\".format(time_map, number_executions))"
   ]
  },
  {
   "cell_type": "code",
   "execution_count": null,
   "metadata": {},
   "outputs": [],
   "source": [
    "time_lstcomp = timeit.timeit('abs_using_lstcomp(lst)', globals=globals(), number=number_executions) \n",
    "print(\"The list comp. takes {0:0.2f} seconds for {1} executions.\".format(time_lstcomp, number_executions))"
   ]
  },
  {
   "cell_type": "markdown",
   "metadata": {},
   "source": [
    "**Summary** Functional programming (map, filter, reduce) is often faster, but is not as readable nor as flexible as list comprehensions.  \n",
    "Advice: aim to code in comprehensions (list, dictionary, set) and go functional if speed becomes an issue.  We'll get into Numpy later in the course and its vectorized way of doing computations is *the* fastest way to go."
   ]
  },
  {
   "cell_type": "markdown",
   "metadata": {},
   "source": [
    "## Filtering list comprehensions"
   ]
  },
  {
   "cell_type": "code",
   "execution_count": null,
   "metadata": {},
   "outputs": [],
   "source": [
    "## filter\n",
    "a = ['', 'fee', '', '', '', 'fi', '', '', '', '', 'foo', '', '', '', '', '', 'fum']\n",
    "b = [x for x in a if len(x) > 0]\n",
    "#what will this list comprehension return? \n",
    "print(b)"
   ]
  },
  {
   "cell_type": "markdown",
   "metadata": {},
   "source": [
    "### <font color='gray'>List Comprehension Question</font>\n",
    "Write a list comprehension that squares an item in the list below only if it's an integer."
   ]
  },
  {
   "cell_type": "code",
   "execution_count": null,
   "metadata": {},
   "outputs": [],
   "source": [
    "a_lst = [7, '4', 5, 'a', 0, 4]"
   ]
  },
  {
   "cell_type": "markdown",
   "metadata": {},
   "source": [
    "<details><summary>\n",
    "Click here for solution…\n",
    "</summary>\n",
    "`a_sqrd = [elem**2 for elem in a_lst if type(elem) == int]`\n",
    "</details>"
   ]
  },
  {
   "cell_type": "markdown",
   "metadata": {},
   "source": [
    "## Nested list comprehensions\n",
    "You can do them, but do you want to?"
   ]
  },
  {
   "cell_type": "code",
   "execution_count": null,
   "metadata": {},
   "outputs": [],
   "source": [
    "nest_lst = [[1,2,3], [4,5,6], [7,8]]\n",
    "print(\"The nested list:\")\n",
    "print(nest_lst)\n",
    "print()\n",
    "\n",
    "\n",
    "# Flatten the list?\n",
    "flat_lst = []\n",
    "for lst in nest_lst:#iterate 3 times\n",
    "    for item in lst: #iterate 3 times three times and two times\n",
    "        flat_lst.append(item)\n",
    "print(f\"Flattened:{flat_lst}\")"
   ]
  },
  {
   "cell_type": "code",
   "execution_count": null,
   "metadata": {},
   "outputs": [],
   "source": [
    "# What if we use a list comprehension?    \n",
    "flat_lst2 = [item for lst in nest_lst for item in lst]\n",
    "print(f'Flattened with list comprenension {flat_lst2}')\n",
    "\n",
    "print(\"\\nDo both methods for flattening result in the same list?\")\n",
    "print(flat_lst == flat_lst2)"
   ]
  },
  {
   "cell_type": "markdown",
   "metadata": {},
   "source": [
    "## Having fun with Zip\n",
    "Useful way to combine same length iterables."
   ]
  },
  {
   "cell_type": "code",
   "execution_count": null,
   "metadata": {},
   "outputs": [],
   "source": [
    "a1 = [1,2,3]\n",
    "a2 = ['a','b','c']\n",
    "print(\"The lists, separately:\")\n",
    "print(a1)\n",
    "print(a2)\n",
    "\n",
    "print(\"\\nZipped together:\")\n",
    "a1a2 = list(zip(a1,a2))\n",
    "print(a1a2)"
   ]
  },
  {
   "cell_type": "code",
   "execution_count": null,
   "metadata": {},
   "outputs": [],
   "source": [
    "print(\"\\nHow it's often used:\")\n",
    "for v1, v2 in zip(a1, a2):\n",
    "    print(f\"a1: {v1}, a2: {v2}\")"
   ]
  },
  {
   "cell_type": "markdown",
   "metadata": {},
   "source": [
    "### Tuples\n",
    "\n",
    "Tuples are a lightweight (meaning relatively small in memory) immutable brother/sister of the `list`. Tuples are immutable, ordered collections.  Similar to lists, tuples are declared by passing an iterable to the `tuple()` constructor, with or without the syntactic parenthesis (this works because Python automatically interprets comma separated things that aren't specifically specified otherwise as tuples).  **If you want an ordered, lightweight data structure to hold unchanging data, use tuples.**"
   ]
  },
  {
   "cell_type": "code",
   "execution_count": null,
   "metadata": {},
   "outputs": [],
   "source": [
    "#using tuple()\n",
    "my_first_tuple = tuple((1, 2))\n",
    "print(type(my_first_tuple))\n",
    "my_first_tuple"
   ]
  },
  {
   "cell_type": "code",
   "execution_count": null,
   "metadata": {},
   "outputs": [],
   "source": [
    "# using ( , )\n",
    "\n",
    "my_second_tuple = (1, 2)\n",
    "print(type(my_second_tuple))\n",
    "my_second_tuple"
   ]
  },
  {
   "cell_type": "code",
   "execution_count": null,
   "metadata": {},
   "outputs": [],
   "source": [
    "# using var = values plural\n",
    "\n",
    "my_third_tuple = 1, 2\n",
    "print(type(my_third_tuple))\n",
    "my_third_tuple"
   ]
  },
  {
   "cell_type": "code",
   "execution_count": null,
   "metadata": {},
   "outputs": [],
   "source": [
    "# internal functions or methods... not many\n",
    "\n",
    "#return index of the value \n",
    "my_first_tuple.index(2)"
   ]
  },
  {
   "cell_type": "code",
   "execution_count": null,
   "metadata": {},
   "outputs": [],
   "source": [
    "# count method returns how many times a value occurs in tuple\n",
    "\n",
    "new_tup = 3,4,2,4,5,6,6,2,1,4,6,5,1,5,6,6,6,6,7\n",
    "\n",
    "new_tup.count(6)"
   ]
  },
  {
   "cell_type": "markdown",
   "metadata": {},
   "source": [
    "### <font color='gray'>Tuple Questions</font>\n",
    "\n",
    "1. Make a tuple called `my_tuple` with the values `1` and `\"hello\"` in it. \n",
    "    1. How do you access the `1` in `my_tuple`?\n",
    "    2. How do you access the `\"hello\"` in `my_tuple`?\n",
    "2. Can you change the `\"hello\"` entry in `my_tuple` to `\"hello there\"`? Why or why not?"
   ]
  },
  {
   "cell_type": "code",
   "execution_count": null,
   "metadata": {},
   "outputs": [],
   "source": []
  },
  {
   "cell_type": "markdown",
   "metadata": {},
   "source": [
    "<details><summary>\n",
    "Click here for solution 1.A\n",
    "</summary>\n",
    "`my_tuple = (1, 'hello')`\n",
    "`print(my_tuple[0])`\n",
    "</details>"
   ]
  },
  {
   "cell_type": "code",
   "execution_count": null,
   "metadata": {},
   "outputs": [],
   "source": []
  },
  {
   "cell_type": "markdown",
   "metadata": {},
   "source": [
    "<details><summary>\n",
    "Click here for solution 1.B\n",
    "</summary>\n",
    "`my_tuple = (1, 'hello')`\n",
    "`print(my_tuple[1])`\n",
    "</details>"
   ]
  },
  {
   "cell_type": "code",
   "execution_count": null,
   "metadata": {},
   "outputs": [],
   "source": []
  },
  {
   "cell_type": "markdown",
   "metadata": {},
   "source": [
    "<details><summary>\n",
    "Click here for solution 2\n",
    "</summary>\n",
    "You can't.  Tuple are immutable (you can't modify them after creation).\n",
    "</details>"
   ]
  },
  {
   "cell_type": "code",
   "execution_count": null,
   "metadata": {},
   "outputs": [],
   "source": []
  },
  {
   "cell_type": "markdown",
   "metadata": {},
   "source": [
    "### Dictionaries\n",
    "\n",
    "So far, the only collections that we have talked about are ordered.  These are great as containers if there is some intrinsic order to the data that we're storing. However, there are plenty of times when we don't care about order, either because it simply doesn't matter or because the data are associated with each other in a different way.  Dictionaries are useful because they link data (the value) to a key for fast look-up.  **When you want to link data or any object to some entity, use a dictionary.**"
   ]
  },
  {
   "cell_type": "code",
   "execution_count": null,
   "metadata": {},
   "outputs": [],
   "source": [
    "# can use dict(*kwargs) but it is more typical to see curly brackets populated\n",
    "# dict(Georgia = 'Atlanta', Colorado= 'Denver', Indiana = 'Indianapolis')\n",
    "states_caps_dict = {'Georgia': 'Atlanta', 'Colorado': 'Denver', 'Indiana': 'Indianapolis'}\n",
    "states_caps_dict"
   ]
  },
  {
   "cell_type": "code",
   "execution_count": null,
   "metadata": {},
   "outputs": [],
   "source": [
    "#Lets grab the capital of one state\n",
    "states_caps_dict['Georgia']"
   ]
  },
  {
   "cell_type": "code",
   "execution_count": null,
   "metadata": {},
   "outputs": [],
   "source": [
    "# for a standard dictionary, asking for a key that hasn't been assigned previously\n",
    "states_caps_dict['Washington']"
   ]
  },
  {
   "cell_type": "code",
   "execution_count": null,
   "metadata": {},
   "outputs": [],
   "source": [
    "# .get method allows a default value to be supplied\n",
    "states_caps_dict.get('Washington', 'State not found')"
   ]
  },
  {
   "cell_type": "code",
   "execution_count": null,
   "metadata": {},
   "outputs": [],
   "source": [
    "# but we could have assigned it:\n",
    "states_caps_dict['Washington'] = 'Olympia'\n",
    "states_caps_dict"
   ]
  },
  {
   "cell_type": "code",
   "execution_count": null,
   "metadata": {},
   "outputs": [],
   "source": [
    "# default dictionaries allow a default value to be set\n",
    "from collections import defaultdict\n",
    "states_caps = defaultdict(lambda: 'State not found')\n",
    "states_caps.update(states_caps_dict)\n",
    "print(states_caps)\n",
    "# states_caps['Georgia']\n",
    "# states_caps['Oregon']"
   ]
  },
  {
   "cell_type": "markdown",
   "metadata": {},
   "source": [
    "### <font color='gray'>Dictionary Questions</font>\n",
    "\n",
    "1. Make a dictionary called `restaurant_types` that has the following associated `key-value` pairs: `('Red Lobster', 'Seafood')`, `('Burger King', 'Fast Food')`, `('Safeway', 'Groceries')`.\n",
    "\n",
    "2. How do you find the resturant type for `'Burger King'`?\n",
    "3. What if you don't know whether or not `'Outback Steakhouse'` is in the `resturant_types` dictionary - how would you go about trying to get it's resturant type and make sure that you won't get an error?"
   ]
  },
  {
   "cell_type": "code",
   "execution_count": null,
   "metadata": {},
   "outputs": [],
   "source": []
  },
  {
   "cell_type": "markdown",
   "metadata": {},
   "source": [
    "<details><summary>\n",
    "Click here for solution 1\n",
    "</summary>\n",
    "```\n",
    "restaurant_types = {'Red Lobster': 'Seafood', 'Burger King': 'Fast Food', 'Safeway': 'Groceries'}\n",
    "print(restaurant_types)\n",
    "```\n",
    "</details>"
   ]
  },
  {
   "cell_type": "code",
   "execution_count": null,
   "metadata": {},
   "outputs": [],
   "source": []
  },
  {
   "cell_type": "markdown",
   "metadata": {},
   "source": [
    "<details><summary>\n",
    "Click here for solution 2\n",
    "</summary>\n",
    "```\n",
    "restaurant_types['Burger King']\n",
    "```\n",
    "</details>"
   ]
  },
  {
   "cell_type": "code",
   "execution_count": null,
   "metadata": {},
   "outputs": [],
   "source": []
  },
  {
   "cell_type": "markdown",
   "metadata": {},
   "source": [
    "<details><summary>\n",
    "Click here for solution 3\n",
    "</summary>\n",
    "`restaurant_types.get('Outback Steakhouse', 'Restaurant not in dictionary.')`\n",
    "</details>"
   ]
  },
  {
   "cell_type": "markdown",
   "metadata": {},
   "source": [
    "## Sets\n",
    "\n",
    "A set combines some of the features of both the `list` and the `dictionary`. A set is defined as an unordered, mutable collection of unique items. This means that a `set` is a data structure where you can store items, without caring about their order and knowing that there will be at most one of them in the structure.  Sets use a hash to link each item to membership or not.  **If you are going to check membership in a data structure, use a set.**"
   ]
  },
  {
   "cell_type": "code",
   "execution_count": null,
   "metadata": {},
   "outputs": [],
   "source": [
    "# how to initialize\n",
    "my_set = set([1, 2, 3])\n",
    "my_other_set = {1, 2, 3}\n",
    "my_empty_set = {}  # uh, no....\n",
    "print(type(my_set))\n",
    "print(type(my_other_set))\n",
    "print(type(my_empty_set)) # see?"
   ]
  },
  {
   "cell_type": "code",
   "execution_count": null,
   "metadata": {},
   "outputs": [],
   "source": [
    "empty_set_2 = set()\n",
    "print(type(empty_set_2))"
   ]
  },
  {
   "cell_type": "code",
   "execution_count": null,
   "metadata": {},
   "outputs": [],
   "source": [
    "dir(empty_set_2)"
   ]
  },
  {
   "cell_type": "code",
   "execution_count": null,
   "metadata": {},
   "outputs": [],
   "source": [
    "my_set = {1, 2, 3}\n",
    "my_other_set = {5, 6, 7}\n",
    "my_set.union(my_other_set)"
   ]
  },
  {
   "cell_type": "code",
   "execution_count": null,
   "metadata": {},
   "outputs": [],
   "source": [
    "my_set.add(4)\n",
    "my_set"
   ]
  },
  {
   "cell_type": "code",
   "execution_count": null,
   "metadata": {},
   "outputs": [],
   "source": [
    "my_set.update(my_other_set)\n",
    "my_set"
   ]
  },
  {
   "cell_type": "code",
   "execution_count": null,
   "metadata": {},
   "outputs": [],
   "source": [
    "my_set.remove(5)\n",
    "my_set"
   ]
  },
  {
   "cell_type": "code",
   "execution_count": null,
   "metadata": {},
   "outputs": [],
   "source": [
    "my_set.intersection(my_other_set)"
   ]
  },
  {
   "cell_type": "code",
   "execution_count": null,
   "metadata": {},
   "outputs": [],
   "source": [
    "my_set.add(6)\n",
    "my_set"
   ]
  },
  {
   "cell_type": "markdown",
   "metadata": {},
   "source": [
    "**Set Questions**\n",
    "\n",
    "1. Make a set called `first_set` with the values 1-10 and another with the values 5-15 called `second_set`.\n",
    "2. Add the value 11 to `first_set`.\n",
    "3. Add the string `'hello'` to `second_set`.\n",
    "4. Using one of the methods discussed above, find what elements `first_set` and `second_set` have in common."
   ]
  },
  {
   "cell_type": "code",
   "execution_count": null,
   "metadata": {},
   "outputs": [],
   "source": [
    "# 1. "
   ]
  },
  {
   "cell_type": "markdown",
   "metadata": {},
   "source": [
    "<details><summary>\n",
    "Click here for answers\n",
    "</summary>\n",
    "    \n",
    "```first_set = set(range(1,11))```\n",
    "    \n",
    "```second_set = set(range(5,16))```\n",
    "</details>"
   ]
  },
  {
   "cell_type": "code",
   "execution_count": null,
   "metadata": {},
   "outputs": [],
   "source": [
    "#2"
   ]
  },
  {
   "cell_type": "markdown",
   "metadata": {},
   "source": [
    "<details><summary>\n",
    "Click here for answers\n",
    "</summary>\n",
    "    \n",
    "```\n",
    "first_set.add(11)\n",
    "```\n",
    "</details>"
   ]
  },
  {
   "cell_type": "code",
   "execution_count": null,
   "metadata": {},
   "outputs": [],
   "source": [
    "#3"
   ]
  },
  {
   "cell_type": "markdown",
   "metadata": {},
   "source": [
    "<details><summary>\n",
    "Click here for answers\n",
    "</summary>\n",
    "    \n",
    "```\n",
    "second_set.add('hello')\n",
    "```\n",
    "</details>"
   ]
  },
  {
   "cell_type": "code",
   "execution_count": null,
   "metadata": {},
   "outputs": [],
   "source": [
    "#4"
   ]
  },
  {
   "cell_type": "markdown",
   "metadata": {},
   "source": [
    "<details><summary>\n",
    "Click here for answers\n",
    "</summary>\n",
    "    \n",
    "```\n",
    "intersection = first_set.intersection(second_set)\n",
    "```\n",
    "</details>\n"
   ]
  },
  {
   "cell_type": "code",
   "execution_count": null,
   "metadata": {},
   "outputs": [],
   "source": []
  }
 ],
 "metadata": {
  "kernelspec": {
   "display_name": "Python 3",
   "language": "python",
   "name": "python3"
  },
  "language_info": {
   "codemirror_mode": {
    "name": "ipython",
    "version": 3
   },
   "file_extension": ".py",
   "mimetype": "text/x-python",
   "name": "python",
   "nbconvert_exporter": "python",
   "pygments_lexer": "ipython3",
   "version": "3.7.7"
  }
 },
 "nbformat": 4,
 "nbformat_minor": 4
}
